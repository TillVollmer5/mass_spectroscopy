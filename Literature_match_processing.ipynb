{
  "nbformat": 4,
  "nbformat_minor": 0,
  "metadata": {
    "colab": {
      "provenance": [],
      "authorship_tag": "ABX9TyOe9ykqP907DjTVJNb1SRK7",
      "include_colab_link": true
    },
    "kernelspec": {
      "name": "python3",
      "display_name": "Python 3"
    },
    "language_info": {
      "name": "python"
    }
  },
  "cells": [
    {
      "cell_type": "markdown",
      "metadata": {
        "id": "view-in-github",
        "colab_type": "text"
      },
      "source": [
        "<a href=\"https://colab.research.google.com/github/TillVollmer5/mass_spectroscopy/blob/main/Literature_match_processing.ipynb\" target=\"_parent\"><img src=\"https://colab.research.google.com/assets/colab-badge.svg\" alt=\"Open In Colab\"/></a>"
      ]
    },
    {
      "cell_type": "code",
      "execution_count": 205,
      "metadata": {
        "colab": {
          "base_uri": "https://localhost:8080/"
        },
        "id": "El4HujhXt8iR",
        "outputId": "4928b4d6-0ede-4386-aa64-9f7a09918ab8"
      },
      "outputs": [
        {
          "output_type": "stream",
          "name": "stdout",
          "text": [
            "Mounted at /content/drive\n"
          ]
        }
      ],
      "source": [
        "import matplotlib.pyplot as plt\n",
        "import numpy as np\n",
        "from google.colab import drive\n",
        "import pandas as pd\n",
        "import seaborn as sns\n",
        "\n",
        "drive.mount('/content/drive', force_remount = True)"
      ]
    },
    {
      "cell_type": "code",
      "source": [
        "Auto_5_gp_df = pd.read_csv('/content/drive/My Drive/unknown_screening_data/Auto5_PUF_120k_185_TF_corrected.csv')\n",
        "Auto_4_gp_df = pd.read_csv('/content/drive/My Drive/unknown_screening_data/Auto4_PUF_120k_172_TF_corrected.csv')\n",
        "Auto_5_pm_df = pd.read_csv('/content/drive/My Drive/unknown_screening_data/Auto5_PF_120k_183_TF_corrected.csv', error_bad_lines=False)\n",
        "Auto_4_pm_df = pd.read_csv('/content/drive/My Drive/unknown_screening_data/Auto4_PF_120k_179_TF_corrected.csv')\n",
        "QC_df = pd.read_csv('/content/drive/My Drive/unknown_screening_data/QC_PUF4_2_120k_159_TF_corrected.csv')"
      ],
      "metadata": {
        "id": "7Qkn-TIku9Vw",
        "outputId": "b7ec0e3f-4a2f-4b10-f57c-cddebb78ce05",
        "colab": {
          "base_uri": "https://localhost:8080/"
        }
      },
      "execution_count": 206,
      "outputs": [
        {
          "output_type": "stream",
          "name": "stderr",
          "text": [
            "<ipython-input-206-878d1d7399cd>:3: FutureWarning: The error_bad_lines argument has been deprecated and will be removed in a future version. Use on_bad_lines in the future.\n",
            "\n",
            "\n",
            "  Auto_5_pm_df = pd.read_csv('/content/drive/My Drive/unknown_screening_data/Auto5_PF_120k_183_TF_corrected.csv', error_bad_lines=False)\n",
            "Skipping line 121: expected 21 fields, saw 23\n",
            "\n"
          ]
        }
      ]
    },
    {
      "cell_type": "code",
      "source": [
        "Auto_5_gp_df['Ion Type'] = 'gp'\n",
        "Auto_4_gp_df['Ion Type'] = 'gp'\n",
        "Auto_5_pm_df['Ion Type'] = 'gp'\n",
        "Auto_4_pm_df['Ion Type'] = 'gp'\n",
        "Auto_5_gp_df['Sample Name'] = 'Auto_5'\n",
        "Auto_4_gp_df['Sample Name'] = 'Auto_4'\n",
        "Auto_5_pm_df['Sample Name'] = 'Auto_5'\n",
        "Auto_4_pm_df['Sample Name'] = 'Auto_4'"
      ],
      "metadata": {
        "id": "nmaCsOvKvEM7"
      },
      "execution_count": 207,
      "outputs": []
    },
    {
      "cell_type": "code",
      "source": [
        "print(Auto_5_gp_df.columns)"
      ],
      "metadata": {
        "colab": {
          "base_uri": "https://localhost:8080/"
        },
        "id": "52WnQVNg2ylh",
        "outputId": "b5905752-f76f-423a-ba23-2377fbdc1ab9"
      },
      "execution_count": 208,
      "outputs": [
        {
          "output_type": "stream",
          "name": "stdout",
          "text": [
            "Index(['Component Name', 'Retention Time', 'Reference m/z', 'Area', 'Height',\n",
            "       'TIC', 'Formula (mol ion)', 'CAS No.', 'SI', 'RSI', 'HRF Score',\n",
            "       'RHRF Score', 'Total Score', 'Selected Column Type', 'Calculated RI',\n",
            "       'Library RI', 'Delta RI', 'Library Name', 'Library ID Number',\n",
            "       'Sample Name', 'File name', 'Ion Type'],\n",
            "      dtype='object')\n"
          ]
        }
      ]
    },
    {
      "cell_type": "code",
      "source": [
        "print('Auto5_gp:', Auto_5_gp_df.shape)\n",
        "print('Auto4_gp:', Auto_4_gp_df.shape)\n",
        "print('Auto5_pm:', Auto_5_pm_df.shape)\n",
        "print('Auto4_pm:', Auto_4_pm_df.shape)"
      ],
      "metadata": {
        "id": "xTQ-83jUKx5y",
        "outputId": "72af6695-4713-4723-c390-89b6e4bb97ce",
        "colab": {
          "base_uri": "https://localhost:8080/"
        }
      },
      "execution_count": 209,
      "outputs": [
        {
          "output_type": "stream",
          "name": "stdout",
          "text": [
            "Auto5_gp: (259, 22)\n",
            "Auto4_gp: (465, 22)\n",
            "Auto5_pm: (182, 22)\n",
            "Auto4_pm: (197, 22)\n"
          ]
        }
      ]
    },
    {
      "cell_type": "code",
      "source": [
        "def area_ratio(df):\n",
        "    \"\"\"\n",
        "    Calculates ratio of area to the internal standard and saves it in a new column\n",
        "    \"\"\"\n",
        "    benzyl_benzoate_area = df.loc[df['Component Name'] == 'Benzyl Benzoate', 'Area'].values[0]\n",
        "    df['Area Ratio'] = df['Area'] / benzyl_benzoate_area\n",
        "\n",
        "    return df\n",
        "\n",
        "def filter_dataframe(df):\n",
        "    \"\"\"\n",
        "    Removing the results below the probability threshold that is set below\n",
        "    \"\"\"\n",
        "    condition1 = df['RHRF Score'] >= 90\n",
        "    condition2 = df['RSI'] >= 600\n",
        "    condition3 = (df['Total Score'] >= 70) & ~(condition1 & condition2)\n",
        "\n",
        "    filtered_df = df[condition1 & condition2 | condition3]\n",
        "\n",
        "    return filtered_df\n",
        "\n",
        "def rearrange_by_area_ratio(df):\n",
        "    \"\"\"\n",
        "    Rearrearanging the rows in descending fashion from the peak area ratio\n",
        "    \"\"\"\n",
        "    if 'Area Ratio' not in df.columns:\n",
        "        raise ValueError(\"DataFrame must have a 'Area Ratio' column\")\n",
        "\n",
        "    # Sort the DataFrame based on the 'Area Ratio' column in descending order\n",
        "    df_sorted = df.sort_values(by='Area Ratio', ascending=False)\n",
        "\n",
        "    # Reset the index to reflect the new order\n",
        "    df_sorted = df_sorted.reset_index(drop=True)\n",
        "\n",
        "    return df_sorted\n",
        "\n",
        "import pandas as pd\n",
        "\n",
        "def find_common_row(sample_df, ref_df):\n",
        "    result_df = pd.DataFrame(columns=sample_df.columns)\n",
        "\n",
        "    for _, sample_row in sample_df.iterrows():\n",
        "        matching_rows = find_matching_rows(sample_row, ref_df)\n",
        "        if not matching_rows.empty:\n",
        "            best_match = find_best_match(sample_row, matching_rows)\n",
        "            if best_match is not None and sample_row['Area Ratio'] >= (0.05 * best_match['Area Ratio']):\n",
        "                result_df = result_df.append(sample_row, ignore_index=True)\n",
        "\n",
        "    # Ensure that all Component Names in the result_df are present in the DataFrame before returning\n",
        "    result_df = result_df[result_df['Component Name'].isin(ref_df['Component Name'])]\n",
        "\n",
        "    return result_df\n",
        "\n",
        "def qc_correction(sample_df, ref_df):\n",
        "    result_df = sample_df.copy()\n",
        "    matched_component_names = set()\n",
        "\n",
        "    for _, sample_row in sample_df.iterrows():\n",
        "        matching_rows = find_matching_rows(sample_row, ref_df)\n",
        "\n",
        "        if not matching_rows.empty:\n",
        "            best_match = find_best_match(sample_row, matching_rows)\n",
        "\n",
        "            if best_match is not None:\n",
        "                # Modify the condition based on your requirements\n",
        "                if sample_row['Area Ratio'] >= (0.01 * best_match['Area Ratio']):\n",
        "                    matched_component_names.add(best_match['Component Name'])\n",
        "\n",
        "    result_df = result_df[~result_df['Component Name'].isin(matched_component_names)]\n",
        "\n",
        "    return result_df\n",
        "\n",
        "def find_matching_rows(sample_row, ref_df):\n",
        "    matching_rows = ref_df[ref_df['Formula (mol ion)'] == sample_row['Formula (mol ion)']]\n",
        "    return matching_rows\n",
        "\n",
        "def find_best_match(sample_row, matching_rows):\n",
        "    best_match = None\n",
        "    min_diff = float('inf')\n",
        "\n",
        "    for _, ref_row in matching_rows.iterrows():\n",
        "        diff = compare_strings(sample_row['Component Name'], ref_row['Component Name'])\n",
        "        if diff < min_diff:\n",
        "            min_diff = diff\n",
        "            best_match = ref_row\n",
        "\n",
        "    return best_match\n",
        "\n",
        "def compare_strings(str1, str2):\n",
        "    # Implement your string comparison logic here\n",
        "    # For simplicity, let's assume an exact match for now\n",
        "    return 0 if str1 == str2 else 1\n"
      ],
      "metadata": {
        "id": "aXNCOlsO2pDp"
      },
      "execution_count": 210,
      "outputs": []
    },
    {
      "cell_type": "code",
      "source": [
        "Auto_5_gp_df = area_ratio(Auto_5_gp_df)\n",
        "Auto_4_gp_df = area_ratio(Auto_4_gp_df)\n",
        "Auto_5_pm_df = area_ratio(Auto_5_pm_df)\n",
        "Auto_4_pm_df = area_ratio(Auto_4_pm_df)\n",
        "QC_df = area_ratio(QC_df)\n",
        "print(rearrange_by_area_ratio(QC_df))"
      ],
      "metadata": {
        "id": "3sYNl3-e3R_l",
        "outputId": "587412da-6826-4bb6-8c79-ceaff06ea03a",
        "colab": {
          "base_uri": "https://localhost:8080/"
        }
      },
      "execution_count": 211,
      "outputs": [
        {
          "output_type": "stream",
          "name": "stdout",
          "text": [
            "                                        Component Name  Retention Time  \\\n",
            "0                              2,4-Di-tert-butylphenol          13.724   \n",
            "1                                      Benzyl Benzoate          18.606   \n",
            "2                                        Benzothiazole          10.349   \n",
            "3                             Butylated Hydroxytoluene          13.673   \n",
            "4                                        7-Tetradecene          11.249   \n",
            "..                                                 ...             ...   \n",
            "338   Benzamide, N-(aminocarbonyl)-N-(1-thioxoethoxy)-          15.706   \n",
            "339                            p-Methoxyheptanophenone           9.764   \n",
            "340             2H-Pyran, 2-(4-bromobutoxy)tetrahydro-           5.239   \n",
            "341           (E)-4-Hydroxy-2-methyl-pent-2-enoic acid           6.897   \n",
            "342  4H-Cyclopenta[b]thiophene-3-carboxylic acid, 2...          24.900   \n",
            "\n",
            "     Reference m/z        Area     Height        TIC Formula (mol ion)  \\\n",
            "0       191.142929  2209640031  388091698  848675458           C14H22O   \n",
            "1       105.033531  1045399686  186282390  628273357          C14H12O2   \n",
            "2       135.013733   879269818  154827958  273776937            C7H5NS   \n",
            "3       205.158676   380545626   68000112  134939677           C15H24O   \n",
            "4        69.069885   284540957   50649162  455689376            C14H28   \n",
            "..             ...         ...        ...        ...               ...   \n",
            "338     147.065613      267878      51814     134415       C10H10N2O3S   \n",
            "339     135.080475      232092      44536     100451          C14H20O2   \n",
            "340     136.978439      214025      30278     112632         C9H17BrO2   \n",
            "341      87.080498      195881      35582     109949           C6H10O3   \n",
            "342     345.035828      135732      38073     105955        C17H15NO5S   \n",
            "\n",
            "         CAS No.   SI  RSI  ...  Total Score  Selected Column Type  \\\n",
            "0        96-76-4  860  862  ...         95.6                  None   \n",
            "1       120-51-4  817  821  ...         95.6                  None   \n",
            "2        95-16-9  887  888  ...         96.2                  None   \n",
            "3       128-37-0  773  773  ...         95.1                  None   \n",
            "4     10374-74-0  811  823  ...         90.7                  None   \n",
            "..           ...  ...  ...  ...          ...                   ...   \n",
            "338   74764-44-6  552  869  ...         24.9                  None   \n",
            "339   69287-13-4  659  711  ...         70.4                  None   \n",
            "340   31608-22-7  542  587  ...         70.9                  None   \n",
            "341          NaN  523  688  ...         35.0                  None   \n",
            "342  445284-37-7  557  602  ...         53.6                  None   \n",
            "\n",
            "     Calculated RI Library RI  Delta RI  Library Name  Library ID Number  \\\n",
            "0              NaN        NaN       NaN        replib              35608   \n",
            "1              NaN        NaN       NaN        replib              20267   \n",
            "2              NaN        NaN       NaN        replib              27123   \n",
            "3              NaN        NaN       NaN        replib              37130   \n",
            "4              NaN        NaN       NaN        replib               1196   \n",
            "..             ...        ...       ...           ...                ...   \n",
            "338            NaN        NaN       NaN       mainlib              97109   \n",
            "339            NaN        NaN       NaN        replib              27207   \n",
            "340            NaN        NaN       NaN       mainlib              68089   \n",
            "341            NaN        NaN       NaN       mainlib               3868   \n",
            "342            NaN        NaN       NaN       mainlib             173441   \n",
            "\n",
            "            Sample Name                                          File name  \\\n",
            "0    QC_PUF4_2_120k_159  C:\\TraceFinderData\\Projects\\Deconvolution_2\\Da...   \n",
            "1    QC_PUF4_2_120k_159  C:\\TraceFinderData\\Projects\\Deconvolution_2\\Da...   \n",
            "2    QC_PUF4_2_120k_159  C:\\TraceFinderData\\Projects\\Deconvolution_2\\Da...   \n",
            "3    QC_PUF4_2_120k_159  C:\\TraceFinderData\\Projects\\Deconvolution_2\\Da...   \n",
            "4    QC_PUF4_2_120k_159  C:\\TraceFinderData\\Projects\\Deconvolution_2\\Da...   \n",
            "..                  ...                                                ...   \n",
            "338  QC_PUF4_2_120k_159  C:\\TraceFinderData\\Projects\\Deconvolution_2\\Da...   \n",
            "339  QC_PUF4_2_120k_159  C:\\TraceFinderData\\Projects\\Deconvolution_2\\Da...   \n",
            "340  QC_PUF4_2_120k_159  C:\\TraceFinderData\\Projects\\Deconvolution_2\\Da...   \n",
            "341  QC_PUF4_2_120k_159  C:\\TraceFinderData\\Projects\\Deconvolution_2\\Da...   \n",
            "342  QC_PUF4_2_120k_159  C:\\TraceFinderData\\Projects\\Deconvolution_2\\Da...   \n",
            "\n",
            "    Area Ratio  \n",
            "0     2.113680  \n",
            "1     1.000000  \n",
            "2     0.841085  \n",
            "3     0.364019  \n",
            "4     0.272184  \n",
            "..         ...  \n",
            "338   0.000256  \n",
            "339   0.000222  \n",
            "340   0.000205  \n",
            "341   0.000187  \n",
            "342   0.000130  \n",
            "\n",
            "[343 rows x 22 columns]\n"
          ]
        }
      ]
    },
    {
      "cell_type": "code",
      "source": [
        "threshold_value = 0.06 # Set your desired threshold value\n",
        "\n",
        "Auto_5_gp_df_filtered = qc_correction(Auto_5_gp_df, QC_df)\n",
        "Auto_4_gp_df_filtered = qc_correction(Auto_4_gp_df, QC_df)\n",
        "Auto_5_pm_df_filtered = qc_correction(Auto_5_pm_df, QC_df)\n",
        "Auto_4_pm_df_filtered = qc_correction(Auto_4_pm_df, QC_df)\n",
        "print('Auto5_gp:', Auto_5_gp_df_filtered.shape)\n",
        "print('Auto4_gp:', Auto_4_gp_df_filtered.shape)\n",
        "print('Auto5_pm:', Auto_5_pm_df_filtered.shape)\n",
        "print('Auto4_pm:', Auto_4_pm_df_filtered.shape)\n",
        "#Auto_5_gp_df_filtered.to_csv('/content/drive/My Drive/unknown_screening_data/Auto5_PUF_120k_blank_corrected.csv')"
      ],
      "metadata": {
        "colab": {
          "base_uri": "https://localhost:8080/"
        },
        "id": "CDQPO95BxtWw",
        "outputId": "2409d563-15a0-46fa-800f-054aa424516f"
      },
      "execution_count": 212,
      "outputs": [
        {
          "output_type": "stream",
          "name": "stdout",
          "text": [
            "Auto5_gp: (195, 23)\n",
            "Auto4_gp: (362, 23)\n",
            "Auto5_pm: (136, 23)\n",
            "Auto4_pm: (147, 23)\n"
          ]
        }
      ]
    },
    {
      "cell_type": "code",
      "source": [
        "Auto5_gp_comon_df = find_common_row(Auto_5_gp_df, QC_df)\n",
        "Auto4_gp_comon_df = find_common_row(Auto_4_gp_df, QC_df)\n",
        "Auto5_pm_comon_df = find_common_row(Auto_5_pm_df, QC_df)\n",
        "Auto4_pm_comon_df = find_common_row(Auto_4_pm_df, QC_df)\n",
        "print('Auto5_gp:', Auto5_gp_comon_df.shape)\n",
        "print('Auto4_gp:', Auto4_gp_comon_df.shape)\n",
        "print('Auto5_pm:', Auto5_pm_comon_df.shape)\n",
        "print('Auto4_pm:', Auto4_pm_comon_df.shape)\n",
        "#print(rearrange_by_area_ratio(Auto5_gp_comon_df))\n",
        "#Auto5_gp_comon_df.to_csv('/content/drive/My Drive/unknown_screening_data/Auto5_PUF_120k_blank_matches.csv')"
      ],
      "metadata": {
        "colab": {
          "base_uri": "https://localhost:8080/"
        },
        "id": "jaZxQCvo4KpB",
        "outputId": "8240a6df-6f01-4de8-c692-aa85eb8023d7"
      },
      "execution_count": 213,
      "outputs": [
        {
          "output_type": "stream",
          "name": "stderr",
          "text": [
            "<ipython-input-210-30faddb49197>:47: FutureWarning: The frame.append method is deprecated and will be removed from pandas in a future version. Use pandas.concat instead.\n",
            "  result_df = result_df.append(sample_row, ignore_index=True)\n",
            "<ipython-input-210-30faddb49197>:47: FutureWarning: The frame.append method is deprecated and will be removed from pandas in a future version. Use pandas.concat instead.\n",
            "  result_df = result_df.append(sample_row, ignore_index=True)\n",
            "<ipython-input-210-30faddb49197>:47: FutureWarning: The frame.append method is deprecated and will be removed from pandas in a future version. Use pandas.concat instead.\n",
            "  result_df = result_df.append(sample_row, ignore_index=True)\n",
            "<ipython-input-210-30faddb49197>:47: FutureWarning: The frame.append method is deprecated and will be removed from pandas in a future version. Use pandas.concat instead.\n",
            "  result_df = result_df.append(sample_row, ignore_index=True)\n"
          ]
        },
        {
          "output_type": "stream",
          "name": "stdout",
          "text": [
            "Auto5_gp: (64, 23)\n",
            "Auto4_gp: (102, 23)\n",
            "Auto5_pm: (45, 23)\n",
            "Auto4_pm: (50, 23)\n"
          ]
        }
      ]
    },
    {
      "cell_type": "code",
      "source": [
        "Auto5_gp_ordered = rearrange_by_area_ratio(Auto_5_gp_df_filtered)\n",
        "Auto4_gp_ordered = rearrange_by_area_ratio(Auto_4_gp_df_filtered)\n",
        "Auto5_pm_ordered = rearrange_by_area_ratio(Auto_5_pm_df_filtered)\n",
        "Auto4_pm_ordered = rearrange_by_area_ratio(Auto_4_pm_df_filtered)\n",
        "print(Auto5_gp_ordered.head())\n",
        "print(Auto4_gp_ordered.head())\n",
        "print(Auto5_pm_ordered.head())\n",
        "print(Auto4_pm_ordered.head())"
      ],
      "metadata": {
        "id": "naYQoxWzeop-",
        "outputId": "040d2c93-e1f8-400b-d220-1ed2a7d4ab74",
        "colab": {
          "base_uri": "https://localhost:8080/"
        }
      },
      "execution_count": 214,
      "outputs": [
        {
          "output_type": "stream",
          "name": "stdout",
          "text": [
            "                                      Component Name  Retention Time  \\\n",
            "0  Benzenepropanoic acid, 3,5-bis(1,1-dimethyleth...          33.695   \n",
            "1                        Bis(2-ethylhexyl) phthalate          26.756   \n",
            "2            Benzenamine, 4-octyl-N-(4-octylphenyl)-          33.542   \n",
            "3                       2,6-Octadiene, 2,4-dimethyl-          10.704   \n",
            "4                           Benzothiazole, 2-methyl-          11.358   \n",
            "\n",
            "   Reference m/z        Area     Height         TIC Formula (mol ion)  \\\n",
            "0     219.174301  3487699203  201822395  2219112596          C35H62O3   \n",
            "1     149.023331  1021649525  180457900   266915908          C24H38O4   \n",
            "2     322.252838   763432606  119074220   250200421           C28H43N   \n",
            "3      83.085503   519824310   68441127   136144784            C10H18   \n",
            "4     149.029358   446572840   80723631   195606934            C8H7NS   \n",
            "\n",
            "      CAS No.   SI  RSI  ...  Selected Column Type  Calculated RI  Library RI  \\\n",
            "0   2082-79-3  828  835  ...                  None            NaN         NaN   \n",
            "1    117-81-7  788  789  ...                  None            NaN         NaN   \n",
            "2    101-67-7  900  908  ...                  None            NaN         NaN   \n",
            "3  63843-03-8  776  856  ...                  None            NaN         NaN   \n",
            "4    120-75-2  790  824  ...                  None            NaN         NaN   \n",
            "\n",
            "  Delta RI  Library Name  Library ID Number  Sample Name  \\\n",
            "0      NaN        replib               7341       Auto_5   \n",
            "1      NaN        replib              29860       Auto_5   \n",
            "2      NaN       mainlib             289780       Auto_5   \n",
            "3      NaN       mainlib              64824       Auto_5   \n",
            "4      NaN       mainlib             171338       Auto_5   \n",
            "\n",
            "                                           File name  Ion Type Area Ratio  \n",
            "0  C:\\TraceFinderData\\Projects\\Deconvolution_2\\Da...        gp   2.185535  \n",
            "1  C:\\TraceFinderData\\Projects\\Deconvolution_2\\Da...        gp   0.640208  \n",
            "2  C:\\TraceFinderData\\Projects\\Deconvolution_2\\Da...        gp   0.478398  \n",
            "3  C:\\TraceFinderData\\Projects\\Deconvolution_2\\Da...        gp   0.325743  \n",
            "4  C:\\TraceFinderData\\Projects\\Deconvolution_2\\Da...        gp   0.279841  \n",
            "\n",
            "[5 rows x 23 columns]\n",
            "                                      Component Name  Retention Time  \\\n",
            "0  Benzenepropanoic acid, 3,5-bis(1,1-dimethyleth...          33.746   \n",
            "1                            Undecane, 2,3-dimethyl-           9.681   \n",
            "2                                 2,3-Dimethyldecane           8.146   \n",
            "3                                   Diethyl malonate           7.043   \n",
            "4                                           Undecane           6.705   \n",
            "\n",
            "   Reference m/z        Area     Height         TIC Formula (mol ion)  \\\n",
            "0     219.174301  3889070193  232146348  2525112789          C35H62O3   \n",
            "1      43.054134  2441340549  443341930  2357847584            C13H28   \n",
            "2      43.054134  2277692242  405565536  2306911194            C12H26   \n",
            "3     115.039024  2207834663  399647887  1232073982           C7H12O4   \n",
            "4      43.054134  2006314791  319844881  1280736174            C11H24   \n",
            "\n",
            "      CAS No.   SI  RSI  ...  Selected Column Type  Calculated RI  Library RI  \\\n",
            "0   2082-79-3  826  831  ...                  None            NaN         NaN   \n",
            "1  17312-77-5  836  846  ...                  None            NaN         NaN   \n",
            "2  17312-44-6  833  844  ...                  None            NaN         NaN   \n",
            "3    105-53-3  827  838  ...                  None            NaN         NaN   \n",
            "4   1120-21-4  772  821  ...                  None            NaN         NaN   \n",
            "\n",
            "  Delta RI  Library Name  Library ID Number  Sample Name  \\\n",
            "0      NaN        replib               7341       Auto_4   \n",
            "1      NaN       mainlib               8639       Auto_4   \n",
            "2      NaN       mainlib               9817       Auto_4   \n",
            "3      NaN        replib                323       Auto_4   \n",
            "4      NaN        replib               7306       Auto_4   \n",
            "\n",
            "                                           File name  Ion Type Area Ratio  \n",
            "0  C:\\TraceFinderData\\Projects\\Deconvolution_2\\Da...        gp   2.160844  \n",
            "1  C:\\TraceFinderData\\Projects\\Deconvolution_2\\Da...        gp   1.356457  \n",
            "2  C:\\TraceFinderData\\Projects\\Deconvolution_2\\Da...        gp   1.265531  \n",
            "3  C:\\TraceFinderData\\Projects\\Deconvolution_2\\Da...        gp   1.226716  \n",
            "4  C:\\TraceFinderData\\Projects\\Deconvolution_2\\Da...        gp   1.114748  \n",
            "\n",
            "[5 rows x 23 columns]\n",
            "                                      Component Name  Retention Time  \\\n",
            "0      Ethylene glycol - Adipate - Diethylene glycol          17.036   \n",
            "1              2-Ethylhexanal ethylene glycol acetal           5.976   \n",
            "2                                   Diethyl carbitol           6.180   \n",
            "3  1,1,1,3,3,5,5,7,7,9,9,11,11,13,13,15,15,15-oct...          13.806   \n",
            "4                     Orotic Acid, 3TBDMS derivative          31.180   \n",
            "\n",
            "   Reference m/z       Area    Height        TIC Formula (mol ion)  \\\n",
            "0     173.080811  240395007  42086286  138495121          C12H22O7   \n",
            "1      73.064819  132348041  21511570   44213476          C10H20O2   \n",
            "2      59.049175   67564067   9644566   33119593           C8H18O3   \n",
            "3     221.084366   58787086  10039081   47153014       C18H54O7Si8   \n",
            "4     441.291687   56423093   5310285   20143724     C23H46N2O4Si3   \n",
            "\n",
            "       CAS No.   SI  RSI  ...  Selected Column Type  Calculated RI  \\\n",
            "0          NaN  676  689  ...                  None            NaN   \n",
            "1          NaN  811  916  ...                  None            NaN   \n",
            "2     112-36-7  775  789  ...                  None            NaN   \n",
            "3     556-69-4  794  803  ...                  None            NaN   \n",
            "4  959264-61-0  569  608  ...                  None            NaN   \n",
            "\n",
            "   Library RI Delta RI  Library Name  Library ID Number  Sample Name  \\\n",
            "0         NaN      NaN       mainlib             201221       Auto_5   \n",
            "1         NaN      NaN       mainlib              47557       Auto_5   \n",
            "2         NaN      NaN        replib               5070       Auto_5   \n",
            "3         NaN      NaN       mainlib             246307       Auto_5   \n",
            "4         NaN      NaN       mainlib             304020       Auto_5   \n",
            "\n",
            "                                           File name  Ion Type Area Ratio  \n",
            "0  C:\\TraceFinderData\\Projects\\Deconvolution_2\\Da...        gp   1.856596  \n",
            "1  C:\\TraceFinderData\\Projects\\Deconvolution_2\\Da...        gp   1.022138  \n",
            "2  C:\\TraceFinderData\\Projects\\Deconvolution_2\\Da...        gp   0.521804  \n",
            "3  C:\\TraceFinderData\\Projects\\Deconvolution_2\\Da...        gp   0.454019  \n",
            "4  C:\\TraceFinderData\\Projects\\Deconvolution_2\\Da...        gp   0.435761  \n",
            "\n",
            "[5 rows x 23 columns]\n",
            "                                      Component Name  Retention Time  \\\n",
            "0      Ethylene glycol - Adipate - Diethylene glycol          17.037   \n",
            "1  1,1,1,3,3,5,5,7,7,9,9,11,11,13,13,15,15,15-oct...          13.810   \n",
            "2          Phthalic acid, octyl 2-propylpentyl ester          26.760   \n",
            "3                                  Diethyl Phthalate          15.750   \n",
            "4                                      Butyl lactate           8.904   \n",
            "\n",
            "   Reference m/z       Area    Height       TIC Formula (mol ion)   CAS No.  \\\n",
            "0     173.080795  144519651  25324808  81548817          C12H22O7       NaN   \n",
            "1     221.084381   86162474  15054947  73608056       C18H54O7Si8  556-69-4   \n",
            "2     149.023346   77724223  13152911  17349188          C24H38O4       NaN   \n",
            "3     149.023346   42847982   7389445  11519068          C12H14O4   84-66-2   \n",
            "4      45.033535   28718420   2212156   5225323           C7H14O3  138-22-7   \n",
            "\n",
            "      SI    RSI  ...  Selected Column Type  Calculated RI  Library RI  \\\n",
            "0  698.0  700.0  ...                  None            NaN         NaN   \n",
            "1  806.0  816.0  ...                  None            NaN         NaN   \n",
            "2  806.0  806.0  ...                  None            NaN         NaN   \n",
            "3  842.0  850.0  ...                  None            NaN         NaN   \n",
            "4  661.0  824.0  ...                  None            NaN         NaN   \n",
            "\n",
            "  Delta RI  Library Name  Library ID Number  Sample Name  \\\n",
            "0      NaN       mainlib           201221.0       Auto_4   \n",
            "1      NaN       mainlib           246307.0       Auto_4   \n",
            "2      NaN       mainlib           171976.0       Auto_4   \n",
            "3      NaN        replib            29869.0       Auto_4   \n",
            "4      NaN        replib             5034.0       Auto_4   \n",
            "\n",
            "                                           File name  Ion Type Area Ratio  \n",
            "0  C:\\TraceFinderData\\Projects\\Deconvolution_2\\Da...        gp   0.692301  \n",
            "1  C:\\TraceFinderData\\Projects\\Deconvolution_2\\Da...        gp   0.412749  \n",
            "2  C:\\TraceFinderData\\Projects\\Deconvolution_2\\Da...        gp   0.372327  \n",
            "3  C:\\TraceFinderData\\Projects\\Deconvolution_2\\Da...        gp   0.205257  \n",
            "4  C:\\TraceFinderData\\Projects\\Deconvolution_2\\Da...        gp   0.137572  \n",
            "\n",
            "[5 rows x 23 columns]\n"
          ]
        }
      ]
    },
    {
      "cell_type": "code",
      "source": [
        "Autp5_gp_final = filter_dataframe(Auto5_gp_comon_df)\n",
        "Autp4_gp_final = filter_dataframe(Auto4_gp_comon_df)\n",
        "Autp5_pm_final = filter_dataframe(Auto5_pm_comon_df)\n",
        "Autp4_pm_final = filter_dataframe(Auto4_pm_comon_df)\n",
        "print('Auto5_gp:', Autp5_gp_final.shape)\n",
        "print('Auto4_gp:', Autp4_gp_final.shape)\n",
        "print('Auto5_pm:', Autp5_pm_final.shape)\n",
        "print('Auto4_pm:', Autp4_pm_final.shape)\n",
        "Autp5_gp_final.to_csv('/content/drive/My Drive/unknown_screening_data/Auto5_PUF_120k_blank_filtered.csv')\n",
        "Autp4_gp_final.to_csv('/content/drive/My Drive/unknown_screening_data/Auto4_PUF_120k_blank_filtered.csv')\n",
        "Autp5_pm_final.to_csv('/content/drive/My Drive/unknown_screening_data/Auto5_PF_120k_blank_filtered.csv')\n",
        "Autp4_pm_final.to_csv('/content/drive/My Drive/unknown_screening_data/Auto4_PF_120k_blank_filtered.csv')"
      ],
      "metadata": {
        "id": "AevsxFDZ-v2W",
        "outputId": "29a8ab80-d7fd-498b-89e8-7e220b856e36",
        "colab": {
          "base_uri": "https://localhost:8080/"
        }
      },
      "execution_count": 215,
      "outputs": [
        {
          "output_type": "stream",
          "name": "stdout",
          "text": [
            "Auto5_gp: (62, 23)\n",
            "Auto4_gp: (101, 23)\n",
            "Auto5_pm: (43, 23)\n",
            "Auto4_pm: (46, 23)\n"
          ]
        }
      ]
    }
  ]
}