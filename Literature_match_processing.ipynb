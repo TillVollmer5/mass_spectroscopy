{
  "nbformat": 4,
  "nbformat_minor": 0,
  "metadata": {
    "colab": {
      "provenance": [],
      "authorship_tag": "ABX9TyNpBI556UeZeFg1g9iap2OW",
      "include_colab_link": true
    },
    "kernelspec": {
      "name": "python3",
      "display_name": "Python 3"
    },
    "language_info": {
      "name": "python"
    }
  },
  "cells": [
    {
      "cell_type": "markdown",
      "metadata": {
        "id": "view-in-github",
        "colab_type": "text"
      },
      "source": [
        "<a href=\"https://colab.research.google.com/github/TillVollmer5/mass_spectroscopy/blob/main/Literature_match_processing.ipynb\" target=\"_parent\"><img src=\"https://colab.research.google.com/assets/colab-badge.svg\" alt=\"Open In Colab\"/></a>"
      ]
    },
    {
      "cell_type": "code",
      "execution_count": 9,
      "metadata": {
        "colab": {
          "base_uri": "https://localhost:8080/"
        },
        "id": "El4HujhXt8iR",
        "outputId": "38dae5f4-6c86-4604-88f1-73f68ec061d8"
      },
      "outputs": [
        {
          "output_type": "stream",
          "name": "stdout",
          "text": [
            "Mounted at /content/drive\n"
          ]
        }
      ],
      "source": [
        "import matplotlib.pyplot as plt\n",
        "import numpy as np\n",
        "from google.colab import drive\n",
        "import pandas as pd\n",
        "import seaborn as sns\n",
        "\n",
        "drive.mount('/content/drive', force_remount = True)"
      ]
    },
    {
      "cell_type": "code",
      "source": [
        "Auto_5_gp_df = pd.read_csv('/content/drive/My Drive/unknown_screening_data/Auto5_PUF_120k_185_TF_corrected.csv')\n",
        "Auto_4_gp_df = pd.read_csv('/content/drive/My Drive/unknown_screening_data/Auto4_PUF_120k_172_TF_corrected.csv')\n",
        "Auto_5_pm_df = pd.read_csv('/content/drive/My Drive/unknown_screening_data/Auto5_PF_120k_183_TF_corrected.csv', error_bad_lines=False)\n",
        "Auto_4_pm_df = pd.read_csv('/content/drive/My Drive/unknown_screening_data/Auto4_PF_120k_179_TF_corrected.csv')\n",
        "QC_df = pd.read_csv('/content/drive/My Drive/unknown_screening_data/QC_PUF4_2_120k_159_TF_corrected.csv')"
      ],
      "metadata": {
        "id": "7Qkn-TIku9Vw",
        "outputId": "d53bcf13-0a5b-44a1-ee2a-9deccd77c6a6",
        "colab": {
          "base_uri": "https://localhost:8080/"
        }
      },
      "execution_count": 10,
      "outputs": [
        {
          "output_type": "stream",
          "name": "stderr",
          "text": [
            "<ipython-input-10-878d1d7399cd>:3: FutureWarning: The error_bad_lines argument has been deprecated and will be removed in a future version. Use on_bad_lines in the future.\n",
            "\n",
            "\n",
            "  Auto_5_pm_df = pd.read_csv('/content/drive/My Drive/unknown_screening_data/Auto5_PF_120k_183_TF_corrected.csv', error_bad_lines=False)\n",
            "Skipping line 121: expected 21 fields, saw 23\n",
            "\n"
          ]
        }
      ]
    },
    {
      "cell_type": "code",
      "source": [
        "Auto_5_gp_df['Ion Type'] = 'gp'\n",
        "Auto_4_gp_df['Ion Type'] = 'gp'\n",
        "Auto_5_pm_df['Ion Type'] = 'gp'\n",
        "Auto_4_pm_df['Ion Type'] = 'gp'\n",
        "Auto_5_gp_df['Sample Name'] = 'Auto_5'\n",
        "Auto_4_gp_df['Sample Name'] = 'Auto_4'\n",
        "Auto_5_pm_df['Sample Name'] = 'Auto_5'\n",
        "Auto_4_pm_df['Sample Name'] = 'Auto_4'"
      ],
      "metadata": {
        "id": "nmaCsOvKvEM7"
      },
      "execution_count": 11,
      "outputs": []
    },
    {
      "cell_type": "code",
      "source": [
        "print(Auto_5_gp_df.columns)"
      ],
      "metadata": {
        "colab": {
          "base_uri": "https://localhost:8080/"
        },
        "id": "52WnQVNg2ylh",
        "outputId": "9bf12570-c794-40e5-89a9-7372910a2365"
      },
      "execution_count": 12,
      "outputs": [
        {
          "output_type": "stream",
          "name": "stdout",
          "text": [
            "Index(['Component Name', 'Retention Time', 'Reference m/z', 'Area', 'Height',\n",
            "       'TIC', 'Formula (mol ion)', 'CAS No.', 'SI', 'RSI', 'HRF Score',\n",
            "       'RHRF Score', 'Total Score', 'Selected Column Type', 'Calculated RI',\n",
            "       'Library RI', 'Delta RI', 'Library Name', 'Library ID Number',\n",
            "       'Sample Name', 'File name', 'Ion Type'],\n",
            "      dtype='object')\n"
          ]
        }
      ]
    },
    {
      "cell_type": "code",
      "source": [
        "print('Auto5_gp:', Auto_5_gp_df.shape)\n",
        "print('Auto4_gp:', Auto_4_gp_df.shape)\n",
        "print('Auto5_pm:', Auto_5_pm_df.shape)\n",
        "print('Auto4_pm:', Auto_4_pm_df.shape)"
      ],
      "metadata": {
        "id": "xTQ-83jUKx5y",
        "outputId": "9719f822-f29b-4581-bf7f-0da4b816d1d0",
        "colab": {
          "base_uri": "https://localhost:8080/"
        }
      },
      "execution_count": 24,
      "outputs": [
        {
          "output_type": "stream",
          "name": "stdout",
          "text": [
            "Auto5_gp: (259, 23)\n",
            "Auto4_gp: (465, 23)\n",
            "Auto5_pm: (182, 23)\n",
            "Auto4_pm: (197, 23)\n"
          ]
        }
      ]
    },
    {
      "cell_type": "code",
      "source": [
        "def area_ratio(df):\n",
        "    \"\"\"\n",
        "    Calculates ratio of area to the internal standard and saves it in a new column\n",
        "    \"\"\"\n",
        "    benzyl_benzoate_area = df.loc[df['Component Name'] == 'Benzyl Benzoate', 'Area'].values[0]\n",
        "    df['Area Ratio'] = df['Area'] / benzyl_benzoate_area\n",
        "\n",
        "    return df\n",
        "\n",
        "def filter_dataframe(df):\n",
        "    \"\"\"\n",
        "    Removing the results below the probability threshold that is set below\n",
        "    \"\"\"\n",
        "    condition1 = df['RHRF Score'] >= 90\n",
        "    condition2 = df['RSI'] >= 600\n",
        "    condition3 = (df['Total Score'] >= 70) & ~(condition1 & condition2)\n",
        "\n",
        "    filtered_df = df[condition1 & condition2 | condition3]\n",
        "\n",
        "    return filtered_df\n",
        "\n",
        "def rearrange_by_area_ratio(df):\n",
        "    \"\"\"\n",
        "    Rearrearanging the rows in descending fashion from the peak area ratio\n",
        "    \"\"\"\n",
        "    if 'Area Ratio' not in df.columns:\n",
        "        raise ValueError(\"DataFrame must have a 'Area Ratio' column\")\n",
        "\n",
        "    # Sort the DataFrame based on the 'Area Ratio' column in descending order\n",
        "    df_sorted = df.sort_values(by='Area Ratio', ascending=False)\n",
        "\n",
        "    # Reset the index to reflect the new order\n",
        "    df_sorted = df_sorted.reset_index(drop=True)\n",
        "\n",
        "    return df_sorted\n",
        "\n",
        "def qc_correction(sample_df, ref_df, threshold):\n",
        "    \"\"\"\n",
        "    Function removing the rows that are in the blank under the condition given\n",
        "    \"\"\"\n",
        "    result_df = pd.DataFrame(columns=sample_df.columns)\n",
        "    matched_indices = set()\n",
        "\n",
        "    for _, sample_row in sample_df.iterrows():\n",
        "        matching_rows = find_matching_rows(sample_row, ref_df, threshold)\n",
        "        if not matching_rows.empty:\n",
        "            best_match = find_best_match(sample_row, matching_rows)\n",
        "            if best_match is not None and best_match['Area Ratio'] >= 0.05:\n",
        "                matched_indices.add(best_match.name)\n",
        "\n",
        "    result_df = sample_df[~sample_df.index.isin(matched_indices)]\n",
        "    return result_df\n",
        "\n",
        "def find_comon_row(sample_df, ref_df, threshold):\n",
        "    \"\"\"\n",
        "    Function showing what compounds were in the sample and blank that matched\n",
        "    \"\"\"\n",
        "    result_df = pd.DataFrame(columns=sample_df.columns)\n",
        "\n",
        "    for _, sample_row in sample_df.iterrows():\n",
        "        matching_rows = find_matching_rows(sample_row, ref_df, threshold)\n",
        "        if not matching_rows.empty:\n",
        "            best_match = find_best_match(sample_row, matching_rows)\n",
        "            if best_match is not None and best_match['Area Ratio'] >= 0.05:\n",
        "                result_df = result_df.append(sample_row, ignore_index=True)\n",
        "\n",
        "    return result_df\n",
        "\n",
        "def find_matching_rows(sample_row, ref_df, threshold):\n",
        "    \"\"\"\n",
        "    Retention time threshold matching\n",
        "    \"\"\"\n",
        "    matching_rows = ref_df[\n",
        "        (ref_df['Retention Time'] >= sample_row['Retention Time'] - threshold) &\n",
        "        (ref_df['Retention Time'] <= sample_row['Retention Time'] + threshold)\n",
        "    ]\n",
        "    return matching_rows\n",
        "\n",
        "def find_best_match(sample_row, matching_rows):\n",
        "    \"\"\"\n",
        "    Compound comparison for the exclusion parameters\n",
        "    \"\"\"\n",
        "    best_match = None\n",
        "    min_diff = float('inf')\n",
        "\n",
        "    for _, ref_row in matching_rows.iterrows():\n",
        "        diff = compare_strings(sample_row['Formula (mol ion)'], ref_row['Formula (mol ion)'])\n",
        "        if diff < min_diff:\n",
        "            min_diff = diff\n",
        "            best_match = ref_row\n",
        "\n",
        "    return best_match\n",
        "\n",
        "def compare_strings(str1, str2):\n",
        "    # Implement your string comparison logic here\n",
        "    # You can use fuzzy string matching or any other suitable method\n",
        "    # For simplicity, let's assume an exact match for now\n",
        "    return 0 if str1 == str2 else 1"
      ],
      "metadata": {
        "id": "aXNCOlsO2pDp"
      },
      "execution_count": 13,
      "outputs": []
    },
    {
      "cell_type": "code",
      "source": [
        "Auto_5_gp_df = area_ratio(Auto_5_gp_df)\n",
        "Auto_4_gp_df = area_ratio(Auto_4_gp_df)\n",
        "Auto_5_pm_df = area_ratio(Auto_5_pm_df)\n",
        "Auto_4_pm_df = area_ratio(Auto_4_pm_df)\n",
        "QC_df = area_ratio(QC_df)"
      ],
      "metadata": {
        "id": "3sYNl3-e3R_l"
      },
      "execution_count": 14,
      "outputs": []
    },
    {
      "cell_type": "code",
      "source": [
        "threshold_value = 0.05 # Set your desired threshold value\n",
        "\n",
        "Auto_5_gp_df_filtered = qc_correction(Auto_5_gp_df, QC_df, threshold_value)\n",
        "Auto_4_gp_df_filtered = qc_correction(Auto_4_gp_df, QC_df, threshold_value)\n",
        "Auto_5_pm_df_filtered = qc_correction(Auto_5_pm_df, QC_df, threshold_value)\n",
        "Auto_4_pm_df_filtered = qc_correction(Auto_4_pm_df, QC_df, threshold_value)\n",
        "print('Auto5_gp:', Auto_5_gp_df_filtered.shape)\n",
        "print('Auto4_gp:', Auto_4_gp_df_filtered.shape)\n",
        "print('Auto5_pm:', Auto_5_pm_df_filtered.shape)\n",
        "print('Auto4_pm:', Auto_4_pm_df_filtered.shape)\n",
        "#Auto_5_gp_df_filtered.to_csv('/content/drive/My Drive/unknown_screening_data/Auto5_PUF_120k_blank_corrected.csv')"
      ],
      "metadata": {
        "colab": {
          "base_uri": "https://localhost:8080/"
        },
        "id": "CDQPO95BxtWw",
        "outputId": "30f790a5-bab0-496c-8a3c-5ba3315cd6ab"
      },
      "execution_count": 23,
      "outputs": [
        {
          "output_type": "stream",
          "name": "stdout",
          "text": [
            "Auto5_gp: (245, 23)\n",
            "Auto4_gp: (428, 23)\n",
            "Auto5_pm: (175, 23)\n",
            "Auto4_pm: (187, 23)\n"
          ]
        }
      ]
    },
    {
      "cell_type": "code",
      "source": [
        "Auto5_gp_comon_df = find_comon_row(Auto_5_gp_df, QC_df, threshold_value)\n",
        "Auto4_gp_comon_df = find_comon_row(Auto_4_gp_df, QC_df, threshold_value)\n",
        "Auto5_pm_comon_df = find_comon_row(Auto_5_pm_df, QC_df, threshold_value)\n",
        "Auto4_pm_comon_df = find_comon_row(Auto_4_pm_df, QC_df, threshold_value)\n",
        "print('Auto5_gp:', Auto5_gp_comon_df.shape)\n",
        "print('Auto4_gp:', Auto4_gp_comon_df.shape)\n",
        "print('Auto5_pm:', Auto5_pm_comon_df.shape)\n",
        "print('Auto4_pm:', Auto4_pm_comon_df.shape)\n",
        "#Auto5_gp_comon_df.to_csv('/content/drive/My Drive/unknown_screening_data/Auto5_PUF_120k_blank_matches.csv')"
      ],
      "metadata": {
        "colab": {
          "base_uri": "https://localhost:8080/"
        },
        "id": "jaZxQCvo4KpB",
        "outputId": "30c85a46-783a-47db-8078-b95619a8c47c"
      },
      "execution_count": 26,
      "outputs": [
        {
          "output_type": "stream",
          "name": "stderr",
          "text": [
            "<ipython-input-13-e0667a905259>:65: FutureWarning: The frame.append method is deprecated and will be removed from pandas in a future version. Use pandas.concat instead.\n",
            "  result_df = result_df.append(sample_row, ignore_index=True)\n",
            "<ipython-input-13-e0667a905259>:65: FutureWarning: The frame.append method is deprecated and will be removed from pandas in a future version. Use pandas.concat instead.\n",
            "  result_df = result_df.append(sample_row, ignore_index=True)\n",
            "<ipython-input-13-e0667a905259>:65: FutureWarning: The frame.append method is deprecated and will be removed from pandas in a future version. Use pandas.concat instead.\n",
            "  result_df = result_df.append(sample_row, ignore_index=True)\n",
            "<ipython-input-13-e0667a905259>:65: FutureWarning: The frame.append method is deprecated and will be removed from pandas in a future version. Use pandas.concat instead.\n",
            "  result_df = result_df.append(sample_row, ignore_index=True)\n"
          ]
        },
        {
          "output_type": "stream",
          "name": "stdout",
          "text": [
            "Auto5_gp: (37, 23)\n",
            "Auto4_gp: (50, 23)\n",
            "Auto5_pm: (23, 23)\n",
            "Auto4_pm: (27, 23)\n"
          ]
        }
      ]
    },
    {
      "cell_type": "code",
      "source": [
        "Auto5_gp_ordered = rearrange_by_area_ratio(Auto_5_gp_df_filtered)\n",
        "Auto4_gp_ordered = rearrange_by_area_ratio(Auto_4_gp_df_filtered)\n",
        "Auto5_pm_ordered = rearrange_by_area_ratio(Auto_5_pm_df_filtered)\n",
        "Auto4_pm_ordered = rearrange_by_area_ratio(Auto_4_pm_df_filtered)\n",
        "print(Auto5_gp_ordered.head())\n",
        "print(Auto4_gp_ordered.head())\n",
        "print(Auto5_pm_ordered.head())\n",
        "print(Auto4_pm_ordered.head())\n",
        "#Auto5_gp_ordered.to_csv('/content/drive/My Drive/unknown_screening_data/Auto5_PUF_120k_blank_rearranged.csv')"
      ],
      "metadata": {
        "id": "naYQoxWzeop-",
        "outputId": "3efff3d7-2967-42bd-a348-f5dd4628f400",
        "colab": {
          "base_uri": "https://localhost:8080/"
        }
      },
      "execution_count": 28,
      "outputs": [
        {
          "output_type": "stream",
          "name": "stdout",
          "text": [
            "                                      Component Name  Retention Time  \\\n",
            "0                           Butylated Hydroxytoluene          13.668   \n",
            "1  Phenol, 2,4-bis(1,1-dimethylethyl)-, phosphite...          31.184   \n",
            "2                            2,4-Di-tert-butylphenol          13.719   \n",
            "3  Benzenepropanoic acid, 3,5-bis(1,1-dimethyleth...          33.695   \n",
            "4                 Carbonic acid, undecyl vinyl ester          11.236   \n",
            "\n",
            "   Reference m/z         Area      Height          TIC Formula (mol ion)  \\\n",
            "0     205.158646  18178762411  3304219877  10312517507           C15H24O   \n",
            "1     441.291504   7606397204   695700108   2525748710         C42H63O3P   \n",
            "2     191.142838   4936204315   858168495   1174362456           C14H22O   \n",
            "3     219.174301   3487699203   201822395   2219112596          C35H62O3   \n",
            "4      43.054165   1854075664   323340139   2128567954          C14H26O3   \n",
            "\n",
            "      CAS No.   SI  RSI  ...  Selected Column Type  Calculated RI  Library RI  \\\n",
            "0    128-37-0  863  864  ...                  None            NaN         NaN   \n",
            "1  31570-04-4  809  828  ...                  None            NaN         NaN   \n",
            "2     96-76-4  805  807  ...                  None            NaN         NaN   \n",
            "3   2082-79-3  828  835  ...                  None            NaN         NaN   \n",
            "4         NaN  819  830  ...                  None            NaN         NaN   \n",
            "\n",
            "  Delta RI  Library Name  Library ID Number  Sample Name  \\\n",
            "0      NaN        replib              37117       Auto_5   \n",
            "1      NaN       mainlib              32062       Auto_5   \n",
            "2      NaN        replib              35663       Auto_5   \n",
            "3      NaN        replib               7341       Auto_5   \n",
            "4      NaN       mainlib              27859       Auto_5   \n",
            "\n",
            "                                           File name  Ion Type Area Ratio  \n",
            "0  C:\\TraceFinderData\\Projects\\Deconvolution_2\\Da...        gp  11.391559  \n",
            "1  C:\\TraceFinderData\\Projects\\Deconvolution_2\\Da...        gp   4.766481  \n",
            "2  C:\\TraceFinderData\\Projects\\Deconvolution_2\\Da...        gp   3.093228  \n",
            "3  C:\\TraceFinderData\\Projects\\Deconvolution_2\\Da...        gp   2.185535  \n",
            "4  C:\\TraceFinderData\\Projects\\Deconvolution_2\\Da...        gp   1.161840  \n",
            "\n",
            "[5 rows x 23 columns]\n",
            "                                      Component Name  Retention Time  \\\n",
            "0                           Butylated Hydroxytoluene          13.660   \n",
            "1                                      Benzothiazole          10.337   \n",
            "2                                 Triethyl phosphate           7.952   \n",
            "3                            2,4-Di-tert-butylphenol          13.721   \n",
            "4  Phenol, 2,4-bis(1,1-dimethylethyl)-, phosphite...          31.226   \n",
            "\n",
            "   Reference m/z         Area      Height          TIC Formula (mol ion)  \\\n",
            "0     205.158493  18944902593  3443374647  10826426603           C15H24O   \n",
            "1     135.013824  15314123268  2773671641   4845993611            C7H5NS   \n",
            "2      98.984184  10461421857  1887791540   6259529192          C6H15O4P   \n",
            "3     191.142761   8232045141  1461909949   2528374861           C14H22O   \n",
            "4     441.291504   6917518133   644551220   2455292522         C42H63O3P   \n",
            "\n",
            "      CAS No.   SI  RSI  ...  Selected Column Type  Calculated RI  Library RI  \\\n",
            "0    128-37-0  871  871  ...                  None            NaN         NaN   \n",
            "1     95-16-9  892  892  ...                  None            NaN         NaN   \n",
            "2     78-40-0  800  806  ...                  None            NaN         NaN   \n",
            "3     96-76-4  825  828  ...                  None            NaN         NaN   \n",
            "4  31570-04-4  805  826  ...                  None            NaN         NaN   \n",
            "\n",
            "  Delta RI  Library Name  Library ID Number  Sample Name  \\\n",
            "0      NaN        replib              37117       Auto_4   \n",
            "1      NaN        replib              27123       Auto_4   \n",
            "2      NaN        replib              18771       Auto_4   \n",
            "3      NaN        replib              35663       Auto_4   \n",
            "4      NaN       mainlib              32062       Auto_4   \n",
            "\n",
            "                                           File name  Ion Type Area Ratio  \n",
            "0  C:\\TraceFinderData\\Projects\\Deconvolution_2\\Da...        gp  10.526160  \n",
            "1  C:\\TraceFinderData\\Projects\\Deconvolution_2\\Da...        gp   8.508828  \n",
            "2  C:\\TraceFinderData\\Projects\\Deconvolution_2\\Da...        gp   5.812571  \n",
            "3  C:\\TraceFinderData\\Projects\\Deconvolution_2\\Da...        gp   4.573886  \n",
            "4  C:\\TraceFinderData\\Projects\\Deconvolution_2\\Da...        gp   3.843509  \n",
            "\n",
            "[5 rows x 23 columns]\n",
            "                                  Component Name  Retention Time  \\\n",
            "0                       Butylated Hydroxytoluene          13.666   \n",
            "1  Ethylene glycol - Adipate - Diethylene glycol          17.036   \n",
            "2                        2,4-Di-tert-butylphenol          13.719   \n",
            "3          2-Ethylhexanal ethylene glycol acetal           5.976   \n",
            "4                                Benzyl Benzoate          18.599   \n",
            "\n",
            "   Reference m/z       Area    Height        TIC Formula (mol ion)   CAS No.  \\\n",
            "0     205.158707  459381898  80343502  245863849           C15H24O  128-37-0   \n",
            "1     173.080811  240395007  42086286  138495121          C12H22O7       NaN   \n",
            "2     191.142975  133240403  21882100   40125330           C14H22O   96-76-4   \n",
            "3      73.064819  132348041  21511570   44213476          C10H20O2       NaN   \n",
            "4     105.033546  129481621  22099179   82326206          C14H12O2  120-51-4   \n",
            "\n",
            "    SI  RSI  ...  Selected Column Type  Calculated RI  Library RI Delta RI  \\\n",
            "0  842  851  ...                  None            NaN         NaN      NaN   \n",
            "1  676  689  ...                  None            NaN         NaN      NaN   \n",
            "2  787  797  ...                  None            NaN         NaN      NaN   \n",
            "3  811  916  ...                  None            NaN         NaN      NaN   \n",
            "4  766  814  ...                  None            NaN         NaN      NaN   \n",
            "\n",
            "   Library Name  Library ID Number  Sample Name  \\\n",
            "0        replib              37117       Auto_5   \n",
            "1       mainlib             201221       Auto_5   \n",
            "2        replib              35608       Auto_5   \n",
            "3       mainlib              47557       Auto_5   \n",
            "4        replib              20267       Auto_5   \n",
            "\n",
            "                                           File name  Ion Type Area Ratio  \n",
            "0  C:\\TraceFinderData\\Projects\\Deconvolution_2\\Da...        gp   3.547854  \n",
            "1  C:\\TraceFinderData\\Projects\\Deconvolution_2\\Da...        gp   1.856596  \n",
            "2  C:\\TraceFinderData\\Projects\\Deconvolution_2\\Da...        gp   1.029029  \n",
            "3  C:\\TraceFinderData\\Projects\\Deconvolution_2\\Da...        gp   1.022138  \n",
            "4  C:\\TraceFinderData\\Projects\\Deconvolution_2\\Da...        gp   1.000000  \n",
            "\n",
            "[5 rows x 23 columns]\n",
            "                                  Component Name  Retention Time  \\\n",
            "0                             Triethyl phosphate           7.965   \n",
            "1                       Butylated Hydroxytoluene          13.673   \n",
            "2                                Benzyl Benzoate          18.607   \n",
            "3                        2,4-Di-tert-butylphenol          13.725   \n",
            "4  Ethylene glycol - Adipate - Diethylene glycol          17.037   \n",
            "\n",
            "   Reference m/z       Area     Height        TIC Formula (mol ion)   CAS No.  \\\n",
            "0      98.984192  757169913  130037774  442892524          C6H15O4P   78-40-0   \n",
            "1     205.158661  468589373   82967281  254555763           C15H24O  128-37-0   \n",
            "2     105.033554  208752555   36366337  140710538          C14H12O2  120-51-4   \n",
            "3     191.142975  185927845   31367048   54840004           C14H22O   96-76-4   \n",
            "4     173.080795  144519651   25324808   81548817          C12H22O7       NaN   \n",
            "\n",
            "      SI    RSI  ...  Selected Column Type  Calculated RI  Library RI  \\\n",
            "0  791.0  798.0  ...                  None            NaN         NaN   \n",
            "1  851.0  851.0  ...                  None            NaN         NaN   \n",
            "2  714.0  817.0  ...                  None            NaN         NaN   \n",
            "3  810.0  815.0  ...                  None            NaN         NaN   \n",
            "4  698.0  700.0  ...                  None            NaN         NaN   \n",
            "\n",
            "  Delta RI  Library Name  Library ID Number  Sample Name  \\\n",
            "0      NaN        replib            18771.0       Auto_4   \n",
            "1      NaN        replib            37117.0       Auto_4   \n",
            "2      NaN        replib            20267.0       Auto_4   \n",
            "3      NaN        replib            35663.0       Auto_4   \n",
            "4      NaN       mainlib           201221.0       Auto_4   \n",
            "\n",
            "                                           File name  Ion Type Area Ratio  \n",
            "0  C:\\TraceFinderData\\Projects\\Deconvolution_2\\Da...        gp   3.627117  \n",
            "1  C:\\TraceFinderData\\Projects\\Deconvolution_2\\Da...        gp   2.244712  \n",
            "2  C:\\TraceFinderData\\Projects\\Deconvolution_2\\Da...        gp   1.000000  \n",
            "3  C:\\TraceFinderData\\Projects\\Deconvolution_2\\Da...        gp   0.890661  \n",
            "4  C:\\TraceFinderData\\Projects\\Deconvolution_2\\Da...        gp   0.692301  \n",
            "\n",
            "[5 rows x 23 columns]\n"
          ]
        }
      ]
    },
    {
      "cell_type": "code",
      "source": [
        "filtered_df = filter_dataframe(rearranged_df)\n",
        "print(filtered_df)\n",
        "filtered_df.to_csv('/content/drive/My Drive/unknown_screening_data/Auto5_PUF_120k_blank_filtered.csv')"
      ],
      "metadata": {
        "id": "AevsxFDZ-v2W",
        "outputId": "9ae96c36-6f0a-45be-fad8-d9da1625dda4",
        "colab": {
          "base_uri": "https://localhost:8080/"
        }
      },
      "execution_count": null,
      "outputs": [
        {
          "output_type": "stream",
          "name": "stdout",
          "text": [
            "                                        Component Name  Retention Time  \\\n",
            "0                             Butylated Hydroxytoluene          13.668   \n",
            "1    Phenol, 2,4-bis(1,1-dimethylethyl)-, phosphite...          31.184   \n",
            "2                              2,4-Di-tert-butylphenol          13.719   \n",
            "3    Benzenepropanoic acid, 3,5-bis(1,1-dimethyleth...          33.695   \n",
            "4                   Carbonic acid, undecyl vinyl ester          11.236   \n",
            "..                                                 ...             ...   \n",
            "240  Methyl 2-ethyl-1,2,3,4-tetrahydro-.alpha.-(met...          23.218   \n",
            "241                                       Thioxanthene          20.189   \n",
            "242                        Phenanthrene, 3,6-dimethyl-          22.455   \n",
            "243                 cyclohexane, [1,1'-biphenyl]-4-yl-          22.497   \n",
            "244  Glycyl-L-valine, N-dimethylaminomethylene-, me...          24.327   \n",
            "\n",
            "     Reference m/z         Area      Height          TIC Formula (mol ion)  \\\n",
            "0       205.158646  18178762411  3304219877  10312517507           C15H24O   \n",
            "1       441.291504   7606397204   695700108   2525748710         C42H63O3P   \n",
            "2       191.142838   4936204315   858168495   1174362456           C14H22O   \n",
            "3       219.174301   3487699203   201822395   2219112596          C35H62O3   \n",
            "4        43.054165   1854075664   323340139   2128567954          C14H26O3   \n",
            "..             ...          ...         ...          ...               ...   \n",
            "240     199.144028       871847      133941       191868        C20H26N2O4   \n",
            "241     198.049759       679827      119660       375377           C13H10S   \n",
            "242     206.108978       486752       71592       205735            C16H14   \n",
            "243     236.155975       432418       76520       268876            C18H20   \n",
            "244     128.070770       391508       70086       315645        C11H21N3O3   \n",
            "\n",
            "        CAS No.   SI  RSI  ...  Selected Column Type  Calculated RI  \\\n",
            "0      128-37-0  863  864  ...                  None            NaN   \n",
            "1    31570-04-4  809  828  ...                  None            NaN   \n",
            "2       96-76-4  805  807  ...                  None            NaN   \n",
            "3     2082-79-3  828  835  ...                  None            NaN   \n",
            "4           NaN  819  830  ...                  None            NaN   \n",
            "..          ...  ...  ...  ...                   ...            ...   \n",
            "240         NaN  777  857  ...                  None            NaN   \n",
            "241    261-31-4  520  704  ...                  None            NaN   \n",
            "242   1576-67-6  636  636  ...                  None            NaN   \n",
            "243         NaN  604  712  ...                  None            NaN   \n",
            "244         NaN  562  562  ...                  None            NaN   \n",
            "\n",
            "     Library RI Delta RI  Library Name  Library ID Number  Sample Name  \\\n",
            "0           NaN      NaN        replib              37117       Auto_5   \n",
            "1           NaN      NaN       mainlib              32062       Auto_5   \n",
            "2           NaN      NaN        replib              35663       Auto_5   \n",
            "3           NaN      NaN        replib               7341       Auto_5   \n",
            "4           NaN      NaN       mainlib              27859       Auto_5   \n",
            "..          ...      ...           ...                ...          ...   \n",
            "240         NaN      NaN       mainlib             229883       Auto_5   \n",
            "241         NaN      NaN        replib              36380       Auto_5   \n",
            "242         NaN      NaN        replib              37198       Auto_5   \n",
            "243         NaN      NaN       mainlib             255472       Auto_5   \n",
            "244         NaN      NaN       mainlib              67997       Auto_5   \n",
            "\n",
            "                                             File name  Ion Type Area Ratio  \n",
            "0    C:\\TraceFinderData\\Projects\\Deconvolution_2\\Da...        pm  11.391559  \n",
            "1    C:\\TraceFinderData\\Projects\\Deconvolution_2\\Da...        pm   4.766481  \n",
            "2    C:\\TraceFinderData\\Projects\\Deconvolution_2\\Da...        pm   3.093228  \n",
            "3    C:\\TraceFinderData\\Projects\\Deconvolution_2\\Da...        pm   2.185535  \n",
            "4    C:\\TraceFinderData\\Projects\\Deconvolution_2\\Da...        pm   1.161840  \n",
            "..                                                 ...       ...        ...  \n",
            "240  C:\\TraceFinderData\\Projects\\Deconvolution_2\\Da...        pm   0.000546  \n",
            "241  C:\\TraceFinderData\\Projects\\Deconvolution_2\\Da...        pm   0.000426  \n",
            "242  C:\\TraceFinderData\\Projects\\Deconvolution_2\\Da...        pm   0.000305  \n",
            "243  C:\\TraceFinderData\\Projects\\Deconvolution_2\\Da...        pm   0.000271  \n",
            "244  C:\\TraceFinderData\\Projects\\Deconvolution_2\\Da...        pm   0.000245  \n",
            "\n",
            "[207 rows x 23 columns]\n"
          ]
        }
      ]
    },
    {
      "cell_type": "code",
      "source": [],
      "metadata": {
        "id": "RXeMhdc-AyzH"
      },
      "execution_count": null,
      "outputs": []
    }
  ]
}