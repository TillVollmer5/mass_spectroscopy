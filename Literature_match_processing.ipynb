{
  "nbformat": 4,
  "nbformat_minor": 0,
  "metadata": {
    "colab": {
      "provenance": [],
      "authorship_tag": "ABX9TyPdAZbMokeGoHrYV7TR5rWG",
      "include_colab_link": true
    },
    "kernelspec": {
      "name": "python3",
      "display_name": "Python 3"
    },
    "language_info": {
      "name": "python"
    }
  },
  "cells": [
    {
      "cell_type": "markdown",
      "metadata": {
        "id": "view-in-github",
        "colab_type": "text"
      },
      "source": [
        "<a href=\"https://colab.research.google.com/github/TillVollmer5/mass_spectroscopy/blob/main/Literature_match_processing.ipynb\" target=\"_parent\"><img src=\"https://colab.research.google.com/assets/colab-badge.svg\" alt=\"Open In Colab\"/></a>"
      ]
    },
    {
      "cell_type": "code",
      "execution_count": 28,
      "metadata": {
        "colab": {
          "base_uri": "https://localhost:8080/"
        },
        "id": "El4HujhXt8iR",
        "outputId": "be878ede-d549-4e31-a521-d962ae634129"
      },
      "outputs": [
        {
          "output_type": "stream",
          "name": "stdout",
          "text": [
            "Mounted at /content/drive\n"
          ]
        }
      ],
      "source": [
        "import matplotlib.pyplot as plt\n",
        "import numpy as np\n",
        "from google.colab import drive\n",
        "import pandas as pd\n",
        "\n",
        "drive.mount('/content/drive', force_remount = True)"
      ]
    },
    {
      "cell_type": "code",
      "source": [
        "Auto_5_gp_df = pd.read_csv('/content/drive/My Drive/unknown_screening_data/Auto5_PUF_120k_185_TF_new.csv', error_bad_lines=False)\n",
        "#Auto_4_gp_df = pd.read_csv('/content/drive/My Drive/unknown_screening_data/Auto4_PUF_120k_172_TF_new.csv', error_bad_lines=False)\n",
        "Auto_3_gp_df = pd.read_csv('/content/drive/My Drive/unknown_screening_data/Auto3_PUF_120k_167_TF_new.csv', error_bad_lines=False)\n",
        "Auto_2_gp_df = pd.read_csv('/content/drive/My Drive/unknown_screening_data/Auto2_PUF_120k_149_TF_new.csv', error_bad_lines=False)\n",
        "Auto_1_gp_df = pd.read_csv('/content/drive/My Drive/unknown_screening_data/Auto1_PUF_120k_138_TF_new.csv', error_bad_lines=False)\n",
        "\n",
        "Auto_5_pm_df = pd.read_csv('/content/drive/My Drive/unknown_screening_data/Auto5_PF_120k_183_TF_new.csv', error_bad_lines=False)\n",
        "Auto_4_pm_df = pd.read_csv('/content/drive/My Drive/unknown_screening_data/Auto4_PF_120k_179_TF_new.csv', error_bad_lines=False)\n",
        "Auto_3_pm_df = pd.read_csv('/content/drive/My Drive/unknown_screening_data/Auto3_PF_120k_170_TF_new.csv', error_bad_lines=False)\n",
        "Auto_2_pm_df = pd.read_csv('/content/drive/My Drive/unknown_screening_data/Auto2_PF_120k_147_TF_new.csv', error_bad_lines=False)\n",
        "Auto_1_pm_df = pd.read_csv('/content/drive/My Drive/unknown_screening_data/Auto1_PF_120k_125_TF_new.csv', error_bad_lines=False)\n",
        "\n",
        "QC_df = pd.read_csv('/content/drive/My Drive/unknown_screening_data/QC_PUF4_2_120k_159_TF_new.csv')"
      ],
      "metadata": {
        "id": "7Qkn-TIku9Vw",
        "outputId": "d7d539c8-2eec-4f82-febd-408e321da1d2",
        "colab": {
          "base_uri": "https://localhost:8080/"
        }
      },
      "execution_count": 29,
      "outputs": [
        {
          "output_type": "stream",
          "name": "stderr",
          "text": [
            "<ipython-input-29-8b99ec8ca7f3>:1: FutureWarning: The error_bad_lines argument has been deprecated and will be removed in a future version. Use on_bad_lines in the future.\n",
            "\n",
            "\n",
            "  Auto_5_gp_df = pd.read_csv('/content/drive/My Drive/unknown_screening_data/Auto5_PUF_120k_185_TF_new.csv', error_bad_lines=False)\n",
            "<ipython-input-29-8b99ec8ca7f3>:3: FutureWarning: The error_bad_lines argument has been deprecated and will be removed in a future version. Use on_bad_lines in the future.\n",
            "\n",
            "\n",
            "  Auto_3_gp_df = pd.read_csv('/content/drive/My Drive/unknown_screening_data/Auto3_PUF_120k_167_TF_new.csv', error_bad_lines=False)\n",
            "<ipython-input-29-8b99ec8ca7f3>:4: FutureWarning: The error_bad_lines argument has been deprecated and will be removed in a future version. Use on_bad_lines in the future.\n",
            "\n",
            "\n",
            "  Auto_2_gp_df = pd.read_csv('/content/drive/My Drive/unknown_screening_data/Auto2_PUF_120k_149_TF_new.csv', error_bad_lines=False)\n",
            "<ipython-input-29-8b99ec8ca7f3>:5: FutureWarning: The error_bad_lines argument has been deprecated and will be removed in a future version. Use on_bad_lines in the future.\n",
            "\n",
            "\n",
            "  Auto_1_gp_df = pd.read_csv('/content/drive/My Drive/unknown_screening_data/Auto1_PUF_120k_138_TF_new.csv', error_bad_lines=False)\n",
            "<ipython-input-29-8b99ec8ca7f3>:7: FutureWarning: The error_bad_lines argument has been deprecated and will be removed in a future version. Use on_bad_lines in the future.\n",
            "\n",
            "\n",
            "  Auto_5_pm_df = pd.read_csv('/content/drive/My Drive/unknown_screening_data/Auto5_PF_120k_183_TF_new.csv', error_bad_lines=False)\n",
            "Skipping line 157: expected 21 fields, saw 23\n",
            "\n",
            "<ipython-input-29-8b99ec8ca7f3>:8: FutureWarning: The error_bad_lines argument has been deprecated and will be removed in a future version. Use on_bad_lines in the future.\n",
            "\n",
            "\n",
            "  Auto_4_pm_df = pd.read_csv('/content/drive/My Drive/unknown_screening_data/Auto4_PF_120k_179_TF_new.csv', error_bad_lines=False)\n",
            "<ipython-input-29-8b99ec8ca7f3>:9: FutureWarning: The error_bad_lines argument has been deprecated and will be removed in a future version. Use on_bad_lines in the future.\n",
            "\n",
            "\n",
            "  Auto_3_pm_df = pd.read_csv('/content/drive/My Drive/unknown_screening_data/Auto3_PF_120k_170_TF_new.csv', error_bad_lines=False)\n",
            "<ipython-input-29-8b99ec8ca7f3>:10: FutureWarning: The error_bad_lines argument has been deprecated and will be removed in a future version. Use on_bad_lines in the future.\n",
            "\n",
            "\n",
            "  Auto_2_pm_df = pd.read_csv('/content/drive/My Drive/unknown_screening_data/Auto2_PF_120k_147_TF_new.csv', error_bad_lines=False)\n",
            "<ipython-input-29-8b99ec8ca7f3>:11: FutureWarning: The error_bad_lines argument has been deprecated and will be removed in a future version. Use on_bad_lines in the future.\n",
            "\n",
            "\n",
            "  Auto_1_pm_df = pd.read_csv('/content/drive/My Drive/unknown_screening_data/Auto1_PF_120k_125_TF_new.csv', error_bad_lines=False)\n"
          ]
        }
      ]
    },
    {
      "cell_type": "code",
      "source": [
        "Auto_5_gp_df['Ion Type'] = 'gp'\n",
        "#Auto_4_gp_df['Ion Type'] = 'gp'\n",
        "Auto_3_gp_df['Ion Type'] = 'gp'\n",
        "Auto_2_gp_df['Ion Type'] = 'gp'\n",
        "Auto_1_gp_df['Ion Type'] = 'gp'\n",
        "\n",
        "Auto_5_pm_df['Ion Type'] = 'pm'\n",
        "Auto_4_pm_df['Ion Type'] = 'pm'\n",
        "Auto_3_pm_df['Ion Type'] = 'pm'\n",
        "Auto_2_pm_df['Ion Type'] = 'pm'\n",
        "Auto_1_pm_df['Ion Type'] = 'pm'\n",
        "\n",
        "Auto_5_gp_df['Sample Name'] = 'Auto_5'\n",
        "#Auto_4_gp_df['Sample Name'] = 'Auto_4'\n",
        "Auto_3_gp_df['Sample Name'] = 'Auto_3'\n",
        "Auto_2_gp_df['Sample Name'] = 'Auto_2'\n",
        "Auto_1_gp_df['Sample Name'] = 'Auto_1'\n",
        "\n",
        "Auto_5_pm_df['Sample Name'] = 'Auto_5'\n",
        "Auto_4_pm_df['Sample Name'] = 'Auto_4'\n",
        "Auto_3_pm_df['Sample Name'] = 'Auto_3'\n",
        "Auto_2_pm_df['Sample Name'] = 'Auto_2'\n",
        "Auto_1_pm_df['Sample Name'] = 'Auto_1'"
      ],
      "metadata": {
        "id": "nmaCsOvKvEM7"
      },
      "execution_count": 30,
      "outputs": []
    },
    {
      "cell_type": "code",
      "source": [
        "print(Auto_3_gp_df.columns)"
      ],
      "metadata": {
        "colab": {
          "base_uri": "https://localhost:8080/"
        },
        "id": "52WnQVNg2ylh",
        "outputId": "6fa0408d-d3aa-4bc4-905b-e35a2bdba608"
      },
      "execution_count": 31,
      "outputs": [
        {
          "output_type": "stream",
          "name": "stdout",
          "text": [
            "Index(['Component Name', 'Retention Time', 'Reference m/z', 'Area', 'Height',\n",
            "       'TIC', 'Formula (mol ion)', 'CAS No.', 'SI', 'RSI', 'HRF Score',\n",
            "       'RHRF Score', 'Total Score', 'Selected Column Type', 'Calculated RI',\n",
            "       'Library RI', 'Delta RI', 'Library Name', 'Library ID Number',\n",
            "       'Sample Name', 'File name', 'Ion Type'],\n",
            "      dtype='object')\n"
          ]
        }
      ]
    },
    {
      "cell_type": "code",
      "source": [
        "print('Auto5_gp:', Auto_5_gp_df.shape)\n",
        "#print('Auto4_gp:', Auto_4_gp_df.shape)\n",
        "print('Auto5_pm:', Auto_5_pm_df.shape)\n",
        "print('Auto4_pm:', Auto_4_pm_df.shape)"
      ],
      "metadata": {
        "id": "xTQ-83jUKx5y",
        "outputId": "11f3b61f-28bc-49cd-d182-6ffa75817634",
        "colab": {
          "base_uri": "https://localhost:8080/"
        }
      },
      "execution_count": 32,
      "outputs": [
        {
          "output_type": "stream",
          "name": "stdout",
          "text": [
            "Auto5_gp: (583, 22)\n",
            "Auto5_pm: (269, 22)\n",
            "Auto4_pm: (285, 22)\n"
          ]
        }
      ]
    },
    {
      "cell_type": "code",
      "source": [
        "def area_ratio(df):\n",
        "    \"\"\"\n",
        "    Calculates ratio of area to the internal standard and saves it in a new column\n",
        "    \"\"\"\n",
        "    benzyl_benzoate_area = df.loc[df['Component Name'] == 'Benzyl Benzoate', 'Area'].values[0]\n",
        "    df['Area Ratio'] = df['Area'] / benzyl_benzoate_area\n",
        "\n",
        "    return df\n",
        "\n",
        "def filter_dataframe(df):\n",
        "    \"\"\"\n",
        "    Removing the results below the probability threshold that is set below\n",
        "    \"\"\"\n",
        "    condition1 = df['RHRF Score'] >= 90\n",
        "    condition2 = df['RSI'] >= 600\n",
        "    condition3 = (df['Total Score'] >= 70) & ~(condition1 & condition2)\n",
        "\n",
        "    filtered_df = df[condition1 & condition2 | condition3]\n",
        "\n",
        "    return filtered_df\n",
        "\n",
        "def rearrange_by_area_ratio(df):\n",
        "    \"\"\"\n",
        "    Rearrearanging the rows in descending fashion from the peak area ratio\n",
        "    \"\"\"\n",
        "    if 'Area Ratio' not in df.columns:\n",
        "        raise ValueError(\"DataFrame must have a 'Area Ratio' column\")\n",
        "\n",
        "    # Sort the DataFrame based on the 'Area Ratio' column in descending order\n",
        "    df_sorted = df.sort_values(by='Area Ratio', ascending=False)\n",
        "\n",
        "    # Reset the index to reflect the new order\n",
        "    df_sorted = df_sorted.reset_index(drop=True)\n",
        "\n",
        "    return df_sorted\n",
        "\n",
        "import pandas as pd\n",
        "\n",
        "def find_common_row(sample_df, ref_df):\n",
        "    result_df = pd.DataFrame(columns=sample_df.columns)\n",
        "\n",
        "    for _, sample_row in sample_df.iterrows():\n",
        "        matching_rows = find_matching_rows(sample_row, ref_df)\n",
        "        if not matching_rows.empty:\n",
        "            best_match = find_best_match(sample_row, matching_rows)\n",
        "            if best_match is not None and sample_row['Area Ratio'] >= (0.05 * best_match['Area Ratio']):\n",
        "                result_df = result_df.append(sample_row, ignore_index=True)\n",
        "\n",
        "    # Ensure that all Component Names in the result_df are present in the DataFrame before returning\n",
        "    result_df = result_df[result_df['Component Name'].isin(ref_df['Component Name'])]\n",
        "\n",
        "    return result_df\n",
        "\n",
        "def qc_correction(sample_df, ref_df):\n",
        "    result_df = sample_df.copy()\n",
        "    matched_component_names = set()\n",
        "\n",
        "    for _, sample_row in sample_df.iterrows():\n",
        "        matching_rows = find_matching_rows(sample_row, ref_df)\n",
        "\n",
        "        if not matching_rows.empty:\n",
        "            best_match = find_best_match(sample_row, matching_rows)\n",
        "\n",
        "            if best_match is not None:\n",
        "                # Modify the condition based on your requirements\n",
        "                if sample_row['Area Ratio'] >= (0.05 * best_match['Area Ratio']):\n",
        "                    matched_component_names.add(best_match['Component Name'])\n",
        "\n",
        "    result_df = result_df[~result_df['Component Name'].isin(matched_component_names)]\n",
        "\n",
        "    return result_df\n",
        "\n",
        "def find_matching_rows(sample_row, ref_df):\n",
        "    matching_rows = ref_df[ref_df['Formula (mol ion)'] == sample_row['Formula (mol ion)']]\n",
        "    return matching_rows\n",
        "\n",
        "def find_best_match(sample_row, matching_rows):\n",
        "    best_match = None\n",
        "    min_diff = float('inf')\n",
        "\n",
        "    for _, ref_row in matching_rows.iterrows():\n",
        "        diff = compare_strings(sample_row['Component Name'], ref_row['Component Name'])\n",
        "        if diff < min_diff:\n",
        "            min_diff = diff\n",
        "            best_match = ref_row\n",
        "\n",
        "    return best_match\n",
        "\n",
        "def compare_strings(str1, str2):\n",
        "    # Implement your string comparison logic here\n",
        "    # For simplicity, let's assume an exact match for now\n",
        "    return 0 if str1 == str2 else 1\n"
      ],
      "metadata": {
        "id": "aXNCOlsO2pDp"
      },
      "execution_count": 33,
      "outputs": []
    },
    {
      "cell_type": "code",
      "source": [
        "Auto_5_gp_df = area_ratio(Auto_5_gp_df)\n",
        "#Auto_4_gp_df = area_ratio(Auto_4_gp_df)\n",
        "Auto_3_gp_df = area_ratio(Auto_3_gp_df)\n",
        "Auto_2_gp_df = area_ratio(Auto_2_gp_df)\n",
        "Auto_1_gp_df = area_ratio(Auto_1_gp_df)\n",
        "\n",
        "Auto_5_pm_df = area_ratio(Auto_5_pm_df)\n",
        "Auto_4_pm_df = area_ratio(Auto_4_pm_df)\n",
        "Auto_3_pm_df = area_ratio(Auto_3_pm_df)\n",
        "Auto_2_pm_df = area_ratio(Auto_2_pm_df)\n",
        "Auto_1_pm_df = area_ratio(Auto_1_pm_df)\n",
        "\n",
        "QC_df = area_ratio(QC_df)\n",
        "print(rearrange_by_area_ratio(QC_df))"
      ],
      "metadata": {
        "id": "3sYNl3-e3R_l",
        "outputId": "1baadf6d-7a18-4d90-c834-06cc285e2d97",
        "colab": {
          "base_uri": "https://localhost:8080/"
        }
      },
      "execution_count": 34,
      "outputs": [
        {
          "output_type": "stream",
          "name": "stdout",
          "text": [
            "               Component Name  Retention Time  Reference m/z        Area  \\\n",
            "0     2,4-Di-tert-butylphenol          13.724     191.142929  2209640031   \n",
            "1             Benzyl Benzoate          18.606     105.033531  1045399686   \n",
            "2               Benzothiazole          10.349     135.013733   879269818   \n",
            "3    Butylated Hydroxytoluene          13.673     205.158676   380545626   \n",
            "4            Cyclotetradecane          11.249      69.069885   284540957   \n",
            "..                        ...             ...            ...         ...   \n",
            "482               Peak@14.496          14.496     135.044128      190941   \n",
            "483               Peak@13.621          13.621     192.187241      181360   \n",
            "484               Peak@23.279          23.279      85.095688      173998   \n",
            "485               Peak@22.283          22.283      85.095688      152261   \n",
            "486               Peak@24.900          24.900     345.035828      135732   \n",
            "\n",
            "        Height        TIC Formula (mol ion)   CAS No.     SI    RSI  ...  \\\n",
            "0    388091698  851565543           C14H22O   96-76-4  861.0  863.0  ...   \n",
            "1    186282390  628802179          C14H12O2  120-51-4  817.0  821.0  ...   \n",
            "2    154827958  275693209            C7H5NS   95-16-9  884.0  886.0  ...   \n",
            "3     68000112  135262589           C15H24O  128-37-0  773.0  774.0  ...   \n",
            "4     50649162  456433474            C14H28  295-17-0  810.0  826.0  ...   \n",
            "..         ...        ...               ...       ...    ...    ...  ...   \n",
            "482      31915     108916               NaN       NaN    NaN    NaN  ...   \n",
            "483      31811     125195               NaN       NaN    NaN    NaN  ...   \n",
            "484      50009     123836               NaN       NaN    NaN    NaN  ...   \n",
            "485      35340     118609               NaN       NaN    NaN    NaN  ...   \n",
            "486      38073     122183               NaN       NaN    NaN    NaN  ...   \n",
            "\n",
            "     Total Score  Selected Column Type  Calculated RI Library RI  Delta RI  \\\n",
            "0           95.6      StandardNonPolar            NaN     1502.0       NaN   \n",
            "1           95.6      StandardNonPolar            NaN     1731.0       NaN   \n",
            "2           96.0      StandardNonPolar            NaN     1189.0       NaN   \n",
            "3           95.0      StandardNonPolar            NaN     1494.0       NaN   \n",
            "4           90.6      StandardNonPolar            NaN        NaN       NaN   \n",
            "..           ...                   ...            ...        ...       ...   \n",
            "482          NaN      StandardNonPolar            NaN        NaN       NaN   \n",
            "483          NaN      StandardNonPolar            NaN        NaN       NaN   \n",
            "484          NaN      StandardNonPolar            NaN        NaN       NaN   \n",
            "485          NaN      StandardNonPolar            NaN        NaN       NaN   \n",
            "486          NaN      StandardNonPolar            NaN        NaN       NaN   \n",
            "\n",
            "     Library Name  Library ID Number         Sample Name  \\\n",
            "0          replib            35608.0  QC_PUF4_2_120k_159   \n",
            "1          replib            20267.0  QC_PUF4_2_120k_159   \n",
            "2          replib            27123.0  QC_PUF4_2_120k_159   \n",
            "3          replib            37130.0  QC_PUF4_2_120k_159   \n",
            "4          replib             5757.0  QC_PUF4_2_120k_159   \n",
            "..            ...                ...                 ...   \n",
            "482           NaN                NaN  QC_PUF4_2_120k_159   \n",
            "483           NaN                NaN  QC_PUF4_2_120k_159   \n",
            "484           NaN                NaN  QC_PUF4_2_120k_159   \n",
            "485           NaN                NaN  QC_PUF4_2_120k_159   \n",
            "486           NaN                NaN  QC_PUF4_2_120k_159   \n",
            "\n",
            "                                             File name Area Ratio  \n",
            "0    C:\\TraceFinderData\\Projects\\Deconvolution_2\\Da...   2.113680  \n",
            "1    C:\\TraceFinderData\\Projects\\Deconvolution_2\\Da...   1.000000  \n",
            "2    C:\\TraceFinderData\\Projects\\Deconvolution_2\\Da...   0.841085  \n",
            "3    C:\\TraceFinderData\\Projects\\Deconvolution_2\\Da...   0.364019  \n",
            "4    C:\\TraceFinderData\\Projects\\Deconvolution_2\\Da...   0.272184  \n",
            "..                                                 ...        ...  \n",
            "482  C:\\TraceFinderData\\Projects\\Deconvolution_2\\Da...   0.000183  \n",
            "483  C:\\TraceFinderData\\Projects\\Deconvolution_2\\Da...   0.000173  \n",
            "484  C:\\TraceFinderData\\Projects\\Deconvolution_2\\Da...   0.000166  \n",
            "485  C:\\TraceFinderData\\Projects\\Deconvolution_2\\Da...   0.000146  \n",
            "486  C:\\TraceFinderData\\Projects\\Deconvolution_2\\Da...   0.000130  \n",
            "\n",
            "[487 rows x 22 columns]\n"
          ]
        }
      ]
    },
    {
      "cell_type": "code",
      "source": [
        "Auto_5_gp_df_filtered = qc_correction(Auto_5_gp_df, QC_df)\n",
        "#Auto_4_gp_df_filtered = qc_correction(Auto_4_gp_df, QC_df)\n",
        "Auto_3_gp_df_filtered = qc_correction(Auto_3_gp_df, QC_df)\n",
        "Auto_2_gp_df_filtered = qc_correction(Auto_2_gp_df, QC_df)\n",
        "Auto_1_gp_df_filtered = qc_correction(Auto_1_gp_df, QC_df)\n",
        "\n",
        "Auto_5_pm_df_filtered = qc_correction(Auto_5_pm_df, QC_df)\n",
        "Auto_4_pm_df_filtered = qc_correction(Auto_4_pm_df, QC_df)\n",
        "Auto_3_pm_df_filtered = qc_correction(Auto_3_pm_df, QC_df)\n",
        "Auto_2_pm_df_filtered = qc_correction(Auto_2_pm_df, QC_df)\n",
        "Auto_1_pm_df_filtered = qc_correction(Auto_1_pm_df, QC_df)\n",
        "\n",
        "print('Auto5_gp:', Auto_5_gp_df_filtered.shape)\n",
        "#print('Auto4_gp:', Auto_4_gp_df_filtered.shape)\n",
        "print('Auto5_pm:', Auto_5_pm_df_filtered.shape)\n",
        "print('Auto4_pm:', Auto_4_pm_df_filtered.shape)\n",
        "#Auto_5_gp_df_filtered.to_csv('/content/drive/My Drive/unknown_screening_data/Auto5_PUF_120k_blank_corrected.csv')"
      ],
      "metadata": {
        "colab": {
          "base_uri": "https://localhost:8080/"
        },
        "id": "CDQPO95BxtWw",
        "outputId": "59ea90e1-6589-42af-90b1-172d30a33e8f"
      },
      "execution_count": 35,
      "outputs": [
        {
          "output_type": "stream",
          "name": "stdout",
          "text": [
            "Auto5_gp: (504, 23)\n",
            "Auto5_pm: (223, 23)\n",
            "Auto4_pm: (239, 23)\n"
          ]
        }
      ]
    },
    {
      "cell_type": "code",
      "source": [
        "Auto5_gp_comon_df = find_common_row(Auto_5_gp_df, QC_df)\n",
        "#Auto4_gp_comon_df = find_common_row(Auto_4_gp_df, QC_df)\n",
        "Auto3_gp_comon_df = find_common_row(Auto_3_gp_df, QC_df)\n",
        "Auto2_gp_comon_df = find_common_row(Auto_2_gp_df, QC_df)\n",
        "Auto1_gp_comon_df = find_common_row(Auto_1_gp_df, QC_df)\n",
        "\n",
        "\n",
        "Auto5_pm_comon_df = find_common_row(Auto_5_pm_df, QC_df)\n",
        "Auto4_pm_comon_df = find_common_row(Auto_4_pm_df, QC_df)\n",
        "Auto3_pm_comon_df = find_common_row(Auto_3_pm_df, QC_df)\n",
        "Auto2_pm_comon_df = find_common_row(Auto_2_pm_df, QC_df)\n",
        "Auto1_pm_comon_df = find_common_row(Auto_1_pm_df, QC_df)\n",
        "\n",
        "print('Auto5_gp:', Auto5_gp_comon_df.shape)\n",
        "#print('Auto4_gp:', Auto4_gp_comon_df.shape)\n",
        "print('Auto5_pm:', Auto5_pm_comon_df.shape)\n",
        "print('Auto4_pm:', Auto4_pm_comon_df.shape)\n",
        "#print(rearrange_by_area_ratio(Auto5_gp_comon_df))\n",
        "#Auto5_gp_comon_df.to_csv('/content/drive/My Drive/unknown_screening_data/Auto5_PUF_120k_blank_matches.csv')"
      ],
      "metadata": {
        "colab": {
          "base_uri": "https://localhost:8080/"
        },
        "id": "jaZxQCvo4KpB",
        "outputId": "971a91ca-670a-4575-c8a8-0fb9cbef765c"
      },
      "execution_count": 36,
      "outputs": [
        {
          "output_type": "stream",
          "name": "stderr",
          "text": [
            "<ipython-input-33-0f66d439f643>:47: FutureWarning: The frame.append method is deprecated and will be removed from pandas in a future version. Use pandas.concat instead.\n",
            "  result_df = result_df.append(sample_row, ignore_index=True)\n",
            "<ipython-input-33-0f66d439f643>:47: FutureWarning: The frame.append method is deprecated and will be removed from pandas in a future version. Use pandas.concat instead.\n",
            "  result_df = result_df.append(sample_row, ignore_index=True)\n",
            "<ipython-input-33-0f66d439f643>:47: FutureWarning: The frame.append method is deprecated and will be removed from pandas in a future version. Use pandas.concat instead.\n",
            "  result_df = result_df.append(sample_row, ignore_index=True)\n",
            "<ipython-input-33-0f66d439f643>:47: FutureWarning: The frame.append method is deprecated and will be removed from pandas in a future version. Use pandas.concat instead.\n",
            "  result_df = result_df.append(sample_row, ignore_index=True)\n",
            "<ipython-input-33-0f66d439f643>:47: FutureWarning: The frame.append method is deprecated and will be removed from pandas in a future version. Use pandas.concat instead.\n",
            "  result_df = result_df.append(sample_row, ignore_index=True)\n",
            "<ipython-input-33-0f66d439f643>:47: FutureWarning: The frame.append method is deprecated and will be removed from pandas in a future version. Use pandas.concat instead.\n",
            "  result_df = result_df.append(sample_row, ignore_index=True)\n",
            "<ipython-input-33-0f66d439f643>:47: FutureWarning: The frame.append method is deprecated and will be removed from pandas in a future version. Use pandas.concat instead.\n",
            "  result_df = result_df.append(sample_row, ignore_index=True)\n",
            "<ipython-input-33-0f66d439f643>:47: FutureWarning: The frame.append method is deprecated and will be removed from pandas in a future version. Use pandas.concat instead.\n",
            "  result_df = result_df.append(sample_row, ignore_index=True)\n",
            "<ipython-input-33-0f66d439f643>:47: FutureWarning: The frame.append method is deprecated and will be removed from pandas in a future version. Use pandas.concat instead.\n",
            "  result_df = result_df.append(sample_row, ignore_index=True)\n"
          ]
        },
        {
          "output_type": "stream",
          "name": "stdout",
          "text": [
            "Auto5_gp: (79, 23)\n",
            "Auto5_pm: (46, 23)\n",
            "Auto4_pm: (46, 23)\n"
          ]
        }
      ]
    },
    {
      "cell_type": "code",
      "source": [
        "Auto5_gp_ordered = rearrange_by_area_ratio(Auto_5_gp_df_filtered)\n",
        "#Auto4_gp_ordered = rearrange_by_area_ratio(Auto_4_gp_df_filtered)\n",
        "Auto3_gp_ordered = rearrange_by_area_ratio(Auto_3_gp_df_filtered)\n",
        "Auto2_gp_ordered = rearrange_by_area_ratio(Auto_2_gp_df_filtered)\n",
        "Auto1_gp_ordered = rearrange_by_area_ratio(Auto_1_gp_df_filtered)\n",
        "\n",
        "\n",
        "Auto5_pm_ordered = rearrange_by_area_ratio(Auto_5_pm_df_filtered)\n",
        "Auto4_pm_ordered = rearrange_by_area_ratio(Auto_4_pm_df_filtered)\n",
        "Auto3_pm_ordered = rearrange_by_area_ratio(Auto_3_pm_df_filtered)\n",
        "Auto2_pm_ordered = rearrange_by_area_ratio(Auto_2_pm_df_filtered)\n",
        "Auto1_pm_ordered = rearrange_by_area_ratio(Auto_1_pm_df_filtered)\n",
        "print(Auto5_gp_ordered.head())\n",
        "#print(Auto4_gp_ordered.head())\n",
        "print(Auto5_pm_ordered.head())\n",
        "print(Auto4_pm_ordered.head())"
      ],
      "metadata": {
        "id": "naYQoxWzeop-",
        "outputId": "19dcf685-1954-4992-c7c8-eaa717d03662",
        "colab": {
          "base_uri": "https://localhost:8080/"
        }
      },
      "execution_count": 37,
      "outputs": [
        {
          "output_type": "stream",
          "name": "stdout",
          "text": [
            "                                      Component Name  Retention Time  \\\n",
            "0  Benzenepropanoic acid, 3,5-bis(1,1-dimethyleth...          33.695   \n",
            "1              Carbonic acid, tetradecyl vinyl ester           9.683   \n",
            "2                          Octane, 5-ethyl-2-methyl-           6.708   \n",
            "3                 Carbonic acid, decyl undecyl ester          11.236   \n",
            "4  1-(2-Methoxyethoxy)-2-methyl-2-propanol, methy...           5.970   \n",
            "\n",
            "   Reference m/z        Area     Height         TIC Formula (mol ion)  \\\n",
            "0     219.174301  3487699203  201822395  2227097584          C35H62O3   \n",
            "1      43.054165  2929291121  479368820  2731429243          C17H32O3   \n",
            "2      43.054165  1872334548  296600545  1156799972            C11H24   \n",
            "3      43.054165  1854075664  323340139  2471879501          C22H44O3   \n",
            "4      73.064796  1649548412  278284446   507542018           C8H18O3   \n",
            "\n",
            "      CAS No.     SI    RSI  ...  Selected Column Type  Calculated RI  \\\n",
            "0   2082-79-3  824.0  831.0  ...      StandardNonPolar            NaN   \n",
            "1         NaN  831.0  839.0  ...      StandardNonPolar            NaN   \n",
            "2  62016-18-6  735.0  825.0  ...      StandardNonPolar         1091.0   \n",
            "3         NaN  699.0  825.0  ...      StandardNonPolar            NaN   \n",
            "4         NaN  800.0  851.0  ...      StandardNonPolar         1038.0   \n",
            "\n",
            "   Library RI Delta RI  Library Name  Library ID Number  Sample Name  \\\n",
            "0         NaN      NaN        replib             7341.0       Auto_5   \n",
            "1         NaN      NaN       mainlib            29044.0       Auto_5   \n",
            "2         NaN      NaN       mainlib             8687.0       Auto_5   \n",
            "3         NaN      NaN       mainlib            29255.0       Auto_5   \n",
            "4         NaN      NaN       mainlib            47961.0       Auto_5   \n",
            "\n",
            "                                           File name  Ion Type Area Ratio  \n",
            "0  C:\\TraceFinderData\\Projects\\Deconvolution_2\\Da...        gp   2.185535  \n",
            "1  C:\\TraceFinderData\\Projects\\Deconvolution_2\\Da...        gp   1.835614  \n",
            "2  C:\\TraceFinderData\\Projects\\Deconvolution_2\\Da...        gp   1.173282  \n",
            "3  C:\\TraceFinderData\\Projects\\Deconvolution_2\\Da...        gp   1.161840  \n",
            "4  C:\\TraceFinderData\\Projects\\Deconvolution_2\\Da...        gp   1.033675  \n",
            "\n",
            "[5 rows x 23 columns]\n",
            "                                      Component Name  Retention Time  \\\n",
            "0      Ethylene glycol - Adipate - Diethylene glycol          17.036   \n",
            "1  1-(2-Methoxyethoxy)-2-methyl-2-propanol, methy...           5.976   \n",
            "2                                   Diethyl carbitol           6.180   \n",
            "3  1,1,1,3,3,5,5,7,7,9,9,11,11,13,13,15,15,15-oct...          13.806   \n",
            "4                                  Diethyl Phthalate          15.746   \n",
            "\n",
            "   Reference m/z       Area    Height        TIC Formula (mol ion)   CAS No.  \\\n",
            "0     173.080811  240395007  42086286  139071596          C12H22O7       NaN   \n",
            "1      73.064819  132348041  21511570   52551972           C8H18O3       NaN   \n",
            "2      59.049175   67564067   9644566   33149031           C8H18O3  112-36-7   \n",
            "3     221.084366   58787086  10039081   47202689       C18H54O7Si8  556-69-4   \n",
            "4     149.023346   31395409   5330622   11083427          C12H14O4   84-66-2   \n",
            "\n",
            "      SI    RSI  ...  Selected Column Type  Calculated RI  Library RI  \\\n",
            "0  673.0  685.0  ...      StandardNonPolar            NaN         NaN   \n",
            "1  773.0  812.0  ...      StandardNonPolar         1039.0         NaN   \n",
            "2  775.0  789.0  ...      StandardNonPolar         1053.0      1058.0   \n",
            "3  797.0  806.0  ...      StandardNonPolar            NaN         NaN   \n",
            "4  690.0  767.0  ...      StandardNonPolar            NaN      1563.0   \n",
            "\n",
            "  Delta RI  Library Name  Library ID Number  Sample Name  \\\n",
            "0      NaN       mainlib           201221.0       Auto_5   \n",
            "1      NaN       mainlib            47961.0       Auto_5   \n",
            "2      5.0        replib             5070.0       Auto_5   \n",
            "3      NaN       mainlib           246307.0       Auto_5   \n",
            "4      NaN        replib            29869.0       Auto_5   \n",
            "\n",
            "                                           File name  Ion Type Area Ratio  \n",
            "0  C:\\TraceFinderData\\Projects\\Deconvolution_2\\Da...        pm   1.856596  \n",
            "1  C:\\TraceFinderData\\Projects\\Deconvolution_2\\Da...        pm   1.022138  \n",
            "2  C:\\TraceFinderData\\Projects\\Deconvolution_2\\Da...        pm   0.521804  \n",
            "3  C:\\TraceFinderData\\Projects\\Deconvolution_2\\Da...        pm   0.454019  \n",
            "4  C:\\TraceFinderData\\Projects\\Deconvolution_2\\Da...        pm   0.242470  \n",
            "\n",
            "[5 rows x 23 columns]\n",
            "                                      Component Name  Retention Time  \\\n",
            "0      Ethylene glycol - Adipate - Diethylene glycol          17.037   \n",
            "1  1,1,1,3,3,5,5,7,7,9,9,11,11,13,13,15,15,15-oct...          13.810   \n",
            "2                Phthalic acid, octyl 2-pentyl ester          26.760   \n",
            "3  Phthalic acid, ethyl 2-(pentafluorophenoxy)eth...          15.750   \n",
            "4                     1-Butanol, 3-methoxy-, acetate           9.435   \n",
            "\n",
            "   Reference m/z       Area    Height       TIC Formula (mol ion)    CAS No.  \\\n",
            "0     173.080795  144519651  25324808  82247576          C12H22O7        NaN   \n",
            "1     221.084381   86162474  15054947  73771791       C18H54O7Si8   556-69-4   \n",
            "2     149.023346   77724223  13152911  18600324          C21H32O4        NaN   \n",
            "3     149.023346   42847982   7389445  35170257        C18H13F5O5        NaN   \n",
            "4      59.049179   25041367   1589522   3074732           C7H14O3  4435-53-4   \n",
            "\n",
            "      SI    RSI  ...  Selected Column Type  Calculated RI  Library RI  \\\n",
            "0  701.0  703.0  ...      StandardNonPolar            NaN         NaN   \n",
            "1  808.0  819.0  ...      StandardNonPolar            NaN         NaN   \n",
            "2  840.0  852.0  ...      StandardNonPolar            NaN         NaN   \n",
            "3  516.0  633.0  ...      StandardNonPolar            NaN         NaN   \n",
            "4  705.0  750.0  ...      StandardNonPolar            NaN         NaN   \n",
            "\n",
            "  Delta RI  Library Name  Library ID Number  Sample Name  \\\n",
            "0      NaN       mainlib           201221.0       Auto_4   \n",
            "1      NaN       mainlib           246307.0       Auto_4   \n",
            "2      NaN       mainlib           172456.0       Auto_4   \n",
            "3      NaN       mainlib           173122.0       Auto_4   \n",
            "4      NaN       mainlib            34620.0       Auto_4   \n",
            "\n",
            "                                           File name  Ion Type Area Ratio  \n",
            "0  C:\\TraceFinderData\\Projects\\Deconvolution_2\\Da...        pm   0.692301  \n",
            "1  C:\\TraceFinderData\\Projects\\Deconvolution_2\\Da...        pm   0.412749  \n",
            "2  C:\\TraceFinderData\\Projects\\Deconvolution_2\\Da...        pm   0.372327  \n",
            "3  C:\\TraceFinderData\\Projects\\Deconvolution_2\\Da...        pm   0.205257  \n",
            "4  C:\\TraceFinderData\\Projects\\Deconvolution_2\\Da...        pm   0.119957  \n",
            "\n",
            "[5 rows x 23 columns]\n"
          ]
        }
      ]
    },
    {
      "cell_type": "code",
      "source": [
        "Autp5_gp_final = filter_dataframe(Auto_5_gp_df_filtered)\n",
        "#Autp4_gp_final = filter_dataframe(Auto_4_gp_df_filtered)\n",
        "Autp3_gp_final = filter_dataframe(Auto_3_gp_df_filtered)\n",
        "Autp2_gp_final = filter_dataframe(Auto_2_gp_df_filtered)\n",
        "Autp1_gp_final = filter_dataframe(Auto_1_gp_df_filtered)\n",
        "\n",
        "\n",
        "Autp5_pm_final = filter_dataframe(Auto_5_pm_df_filtered)\n",
        "Autp4_pm_final = filter_dataframe(Auto_4_pm_df_filtered)\n",
        "Autp3_pm_final = filter_dataframe(Auto_3_pm_df_filtered)\n",
        "Autp2_pm_final = filter_dataframe(Auto_2_pm_df_filtered)\n",
        "Autp1_pm_final = filter_dataframe(Auto_1_pm_df_filtered)\n",
        "\n",
        "print('Auto5_gp:', Autp5_gp_final.shape)\n",
        "#print('Auto4_gp:', Autp4_gp_final.shape)\n",
        "print('Auto5_pm:', Autp5_pm_final.shape)\n",
        "print('Auto4_pm:', Autp4_pm_final.shape)\n",
        "Autp5_gp_final.to_csv('/content/drive/My Drive/unknown_screening_data/Auto5_PUF_120k_blank_filtered.csv')\n",
        "#Autp4_gp_final.to_csv('/content/drive/My Drive/unknown_screening_data/Auto4_PUF_120k_blank_filtered.csv')\n",
        "Autp3_gp_final.to_csv('/content/drive/My Drive/unknown_screening_data/Auto3_PUF_120k_blank_filtered.csv')\n",
        "Autp2_gp_final.to_csv('/content/drive/My Drive/unknown_screening_data/Auto2_PUF_120k_blank_filtered.csv')\n",
        "Autp1_gp_final.to_csv('/content/drive/My Drive/unknown_screening_data/Auto1_PUF_120k_blank_filtered.csv')\n",
        "\n",
        "Autp5_pm_final.to_csv('/content/drive/My Drive/unknown_screening_data/Auto5_PF_120k_blank_filtered.csv')\n",
        "Autp4_pm_final.to_csv('/content/drive/My Drive/unknown_screening_data/Auto4_PF_120k_blank_filtered.csv')\n",
        "Autp3_pm_final.to_csv('/content/drive/My Drive/unknown_screening_data/Auto3_PF_120k_blank_filtered.csv')\n",
        "Autp2_pm_final.to_csv('/content/drive/My Drive/unknown_screening_data/Auto2_PF_120k_blank_filtered.csv')\n",
        "Autp1_pm_final.to_csv('/content/drive/My Drive/unknown_screening_data/Auto1_PF_120k_blank_filtered.csv')\n"
      ],
      "metadata": {
        "id": "AevsxFDZ-v2W",
        "outputId": "3aeb8053-e813-45a4-ff98-cb49cef3d2b6",
        "colab": {
          "base_uri": "https://localhost:8080/"
        }
      },
      "execution_count": 38,
      "outputs": [
        {
          "output_type": "stream",
          "name": "stdout",
          "text": [
            "Auto5_gp: (258, 23)\n",
            "Auto5_pm: (93, 23)\n",
            "Auto4_pm: (92, 23)\n"
          ]
        }
      ]
    },
    {
      "cell_type": "code",
      "source": [
        "Autp5_gp_final_ordered = rearrange_by_area_ratio(Autp5_gp_final)\n",
        "Autp4_gp_final_ordered = rearrange_by_area_ratio(Autp4_gp_final)\n",
        "Autp5_pm_final_orderde = rearrange_by_area_ratio(Autp5_pm_final)\n",
        "Autp4_pm_final_ordered = rearrange_by_area_ratio(Autp4_pm_final)\n",
        "print(Autp5_gp_final_ordered.head())\n",
        "print(Autp4_gp_final_ordered.head())\n",
        "print(Autp5_pm_final_orderde.head())\n",
        "print(Autp4_pm_final_ordered.head())"
      ],
      "metadata": {
        "id": "LBDk6iKLgjHs"
      },
      "execution_count": null,
      "outputs": []
    }
  ]
}