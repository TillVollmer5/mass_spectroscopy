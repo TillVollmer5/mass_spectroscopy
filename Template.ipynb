{
  "nbformat": 4,
  "nbformat_minor": 0,
  "metadata": {
    "colab": {
      "name": "CodingTask1.ipynb",
      "provenance": [],
      "include_colab_link": true
    },
    "kernelspec": {
      "name": "python3",
      "display_name": "Python 3"
    },
    "language_info": {
      "name": "python"
    }
  },
  "cells": [
    {
      "cell_type": "markdown",
      "metadata": {
        "id": "view-in-github",
        "colab_type": "text"
      },
      "source": [
        "<a href=\"https://colab.research.google.com/github/TillVollmer5/mass_spectroscopy/blob/main/Template.ipynb\" target=\"_parent\"><img src=\"https://colab.research.google.com/assets/colab-badge.svg\" alt=\"Open In Colab\"/></a>"
      ]
    },
    {
      "cell_type": "markdown",
      "source": [
        "#Themplate\n",
        "This file is a template for the following skripts.\n",
        "\n"
      ],
      "metadata": {
        "id": "HlXOz_s2lyh_"
      }
    },
    {
      "cell_type": "code",
      "source": [],
      "metadata": {
        "id": "f0Rraq8-lx2k"
      },
      "execution_count": null,
      "outputs": []
    }
  ]
}