{
  "nbformat": 4,
  "nbformat_minor": 0,
  "metadata": {
    "colab": {
      "name": "CodingTask1.ipynb",
      "provenance": [],
      "include_colab_link": true
    },
    "kernelspec": {
      "name": "python3",
      "display_name": "Python 3"
    },
    "language_info": {
      "name": "python"
    }
  },
  "cells": [
    {
      "cell_type": "markdown",
      "metadata": {
        "id": "view-in-github",
        "colab_type": "text"
      },
      "source": [
        "<a href=\"https://colab.research.google.com/github/TillVollmer5/mass_spectroscopy/blob/main/Conversion_calculation.ipynb\" target=\"_parent\"><img src=\"https://colab.research.google.com/assets/colab-badge.svg\" alt=\"Open In Colab\"/></a>"
      ]
    },
    {
      "cell_type": "markdown",
      "source": [
        "#Conversion Calculation\n",
        "The concentration data obtained from the Concentration_calculation.ipynb is converted according to volume of the air sample. The input files are both a file with the experimental data such as volume, temperature and pressure data (info_*_n.csv)as well as the export file from the Concentration_calculation.ipynb script."
      ],
      "metadata": {
        "id": "HlXOz_s2lyh_"
      }
    },
    {
      "cell_type": "code",
      "source": [
        "import numpy as np\n",
        "from google.colab import drive\n",
        "import glob\n",
        "\n",
        "drive.mount('/content/drive', force_remount = True)\n",
        "\n",
        "sample_nr_low = 3 #needs to be addapted to 1 nr in the series\n",
        "sample_nr_high = 26 #needs to be addapted to the last nr of the series"
      ],
      "metadata": {
        "id": "f0Rraq8-lx2k"
      },
      "execution_count": null,
      "outputs": []
    },
    {
      "cell_type": "markdown",
      "source": [],
      "metadata": {
        "id": "e5U0oQxhIzAK"
      }
    },
    {
      "cell_type": "code",
      "source": [
        "for n in rang(sample_nr_low, sample_nr_high):\n",
        "  files = glob.glob(f'/content/drive/My Drive/conversion_input/info_*{n}.csv')\n",
        "\n",
        "  if not files:\n",
        "    print(f'Files matching pattern Sample Nr. {n} was not found.')\n",
        "    continue\n",
        "\n",
        "  else:\n",
        "    df = pd.read_csv(files, header=2)\n",
        "    volume = df.iloc[0]\n",
        "    temp = df.iloc[1]\n",
        "    pres = df.iloc[2]\n",
        "\n",
        "    vol_s = 'insert formula'\n",
        "\n",
        "    vol_s.to_csv(f'/content/drive/My Drive/conversion_output/vol_s_{n}.csv', header=None)\n",
        "    print(n, vol_s)"
      ],
      "metadata": {
        "id": "ysLOEDGiIyp7"
      },
      "execution_count": null,
      "outputs": []
    }
  ]
}