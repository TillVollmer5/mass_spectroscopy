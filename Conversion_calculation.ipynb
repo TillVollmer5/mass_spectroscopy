{
  "nbformat": 4,
  "nbformat_minor": 0,
  "metadata": {
    "colab": {
      "name": "CodingTask1.ipynb",
      "provenance": [],
      "include_colab_link": true
    },
    "kernelspec": {
      "name": "python3",
      "display_name": "Python 3"
    },
    "language_info": {
      "name": "python"
    }
  },
  "cells": [
    {
      "cell_type": "markdown",
      "metadata": {
        "id": "view-in-github",
        "colab_type": "text"
      },
      "source": [
        "<a href=\"https://colab.research.google.com/github/TillVollmer5/mass_spectroscopy/blob/main/Conversion_calculation.ipynb\" target=\"_parent\"><img src=\"https://colab.research.google.com/assets/colab-badge.svg\" alt=\"Open In Colab\"/></a>"
      ]
    },
    {
      "cell_type": "markdown",
      "source": [
        "#Conversion Calculation\n",
        "The concentration data obtained from the Concentration_calculation.ipynb is converted according to volume of the air sample. The input files are both a file with the experimental data such as volume, temperature and pressure data (info_*_n.csv)as well as the export file from the Concentration_calculation.ipynb script."
      ],
      "metadata": {
        "id": "HlXOz_s2lyh_"
      }
    },
    {
      "cell_type": "code",
      "source": [
        "import numpy as np\n",
        "import pandas as pd\n",
        "from google.colab import drive\n",
        "import glob\n",
        "from datetime import datetime\n",
        "import csv\n",
        "\n",
        "drive.mount('/content/drive', force_remount = True)\n",
        "\n",
        "sample_nr_low = 60 #needs to be addapted to 1 nr in the series\n",
        "sample_nr_high = 61 #needs to be addapted to the last nr of the series"
      ],
      "metadata": {
        "id": "f0Rraq8-lx2k",
        "outputId": "673ebea0-1cc1-4428-80ef-37adb9d77c6c",
        "colab": {
          "base_uri": "https://localhost:8080/"
        }
      },
      "execution_count": 3,
      "outputs": [
        {
          "output_type": "stream",
          "name": "stdout",
          "text": [
            "Mounted at /content/drive\n"
          ]
        }
      ]
    },
    {
      "cell_type": "markdown",
      "source": [
        "The following part calculates the volume of air from the experimental conditions to standard ambient temperature and presure (SATP) which are 298.15 K and 100000 Pa. The imput file is a .csv file, containing a header of two (sample information and desctiption) as well as the data for the sampled volume, pressure and temperature. info_*{n}.csv is used as general name template, where n is the sample number corresponding to the sample number used for the concentration calculation skript (Concentration_calculation.ipynb). All the info files are uploaded to the conversion_input folder, while the resulting file is saved in the conversion_output under the name template V_SATP_{n}.csv"
      ],
      "metadata": {
        "id": "e5U0oQxhIzAK"
      }
    },
    {
      "cell_type": "code",
      "source": [
        "t_SATP = 293.15\n",
        "p_SATP = 100000\n",
        "\n",
        "for n in range(sample_nr_low, sample_nr_high):\n",
        "  files = glob.glob(f'/content/drive/My Drive/conversion_input/info_*{n}.csv')\n",
        "\n",
        "  if not files:\n",
        "    print(f'Files matching pattern Sample Nr. {n} was not found.')\n",
        "    continue\n",
        "\n",
        "  else:\n",
        "    for file in files:\n",
        "      df = pd.read_csv(file, header=1)\n",
        "      #print(df)\n",
        "      V = df.iloc[:, 1]\n",
        "      t = df.iloc[:, 2]\n",
        "      p = df.iloc[:, 3]\n",
        "      #print('Volume:',V)\n",
        "      #print('temp:', t)\n",
        "      #print('Pa:', p)\n",
        "      V_SATP = (p * V * t_SATP) / (t * p_SATP)\n",
        "      print(V_SATP)\n",
        "      V_SATP.to_csv(f'/content/drive/My Drive/conversion_output/V_SATP_{n}.csv', header=None, index=False)\n",
        "      print(n, V_SATP)"
      ],
      "metadata": {
        "id": "ysLOEDGiIyp7",
        "outputId": "b9100652-a227-47fe-bf0a-6c656aacd456",
        "colab": {
          "base_uri": "https://localhost:8080/"
        }
      },
      "execution_count": 4,
      "outputs": [
        {
          "output_type": "stream",
          "name": "stdout",
          "text": [
            "0    1.230929\n",
            "dtype: float64\n",
            "60 0    1.230929\n",
            "dtype: float64\n"
          ]
        }
      ]
    },
    {
      "cell_type": "markdown",
      "source": [
        "To get the final concentration in air, the amount of phthalate is divided by the volume at SATP. this is done for eac file in the defined sample nr. range. All the files from the quantitation script (Concentration_calculation.ipynb) are located in the quantitation export folder, while the output of the previous section is saved in the output folder of this conversion script. The final file file is saved in the conversion export folder under the name Sample_{n}_phthalate_concentration_{current_date}.csv."
      ],
      "metadata": {
        "id": "XGzNTTu6pvim"
      }
    },
    {
      "cell_type": "code",
      "source": [
        "current_date = datetime.today().strftime('%Y-%m-%d')\n",
        "\n",
        "for n in range(sample_nr_low, sample_nr_high):\n",
        "    files = glob.glob(f'/content/drive/My Drive/quantitation_export/Sample_{n}_*.csv')\n",
        "\n",
        "    if not files:\n",
        "        print(f'Files matching pattern Sample Nr. {n} was not found.')\n",
        "        continue\n",
        "\n",
        "    else:\n",
        "      df = pd.read_csv(files[0], header=1, index_col=False)\n",
        "      #print(df)\n",
        "      V_SATP = pd.read_csv(f'/content/drive/My Drive/conversion_output/V_SATP_{n}.csv', header=None, index_col=False)\n",
        "      C = df.iloc[:, 4]\n",
        "      C = C.mul(1000)\n",
        "      Compound_info = df.iloc[:, 0]\n",
        "      print(V_SATP)\n",
        "      C_air = C.div(V_SATP.iloc[0, 0])\n",
        "\n",
        "      #print('Compoundinfo:', Compound_info)\n",
        "      print('C_airvalue', C_air)\n",
        "\n",
        "      output_file = f'/content/drive/My Drive/conversion_export/Sample_{n}_phthalate_concentration_{current_date}.csv'\n",
        "      with open(output_file, 'w', newline='') as csvfile:\n",
        "          writer = csv.writer(csvfile)\n",
        "          header_row1 = ['Sample nr.', n, 'Calculation Date', current_date]\n",
        "          writer.writerow(header_row1)\n",
        "          header_row2 = ['Phthalat:', 'Concentration [ng/m^3]']\n",
        "          writer.writerow(header_row2)\n",
        "\n",
        "          #row_data = [Compound_info, C_air]\n",
        "          #writer.writerow(row_data)\n",
        "          for i in range(len(Compound_info)):\n",
        "            writer.writerow([Compound_info.iloc[i],C_air.iloc[i]])"
      ],
      "metadata": {
        "id": "e3k_AA_IpwWZ",
        "outputId": "6573e59e-48a5-4f22-ea12-d2a5b7e14334",
        "colab": {
          "base_uri": "https://localhost:8080/"
        }
      },
      "execution_count": 5,
      "outputs": [
        {
          "output_type": "stream",
          "name": "stdout",
          "text": [
            "          0\n",
            "0  1.230929\n",
            "C_airvalue 0      5.099105\n",
            "1     19.230727\n",
            "2     64.266961\n",
            "3      1.748522\n",
            "4    108.270355\n",
            "5     -3.309008\n",
            "Name: Concentration [microg/ml], dtype: float64\n"
          ]
        }
      ]
    },
    {
      "cell_type": "code",
      "source": [],
      "metadata": {
        "id": "R2s1UExdhVhh"
      },
      "execution_count": null,
      "outputs": []
    }
  ]
}