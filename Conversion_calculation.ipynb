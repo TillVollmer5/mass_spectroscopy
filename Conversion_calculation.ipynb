{
  "nbformat": 4,
  "nbformat_minor": 0,
  "metadata": {
    "colab": {
      "name": "CodingTask1.ipynb",
      "provenance": [],
      "include_colab_link": true
    },
    "kernelspec": {
      "name": "python3",
      "display_name": "Python 3"
    },
    "language_info": {
      "name": "python"
    }
  },
  "cells": [
    {
      "cell_type": "markdown",
      "metadata": {
        "id": "view-in-github",
        "colab_type": "text"
      },
      "source": [
        "<a href=\"https://colab.research.google.com/github/TillVollmer5/mass_spectroscopy/blob/main/Conversion_calculation.ipynb\" target=\"_parent\"><img src=\"https://colab.research.google.com/assets/colab-badge.svg\" alt=\"Open In Colab\"/></a>"
      ]
    },
    {
      "cell_type": "markdown",
      "source": [
        "#Conversion Calculation\n",
        "The concentration data obtained from the Concentration_calculation.ipynb is converted according to volume of the air sample. The input files are both a file with the experimental data such as volume, temperature and pressure data (info_*_n.csv)as well as the export file from the Concentration_calculation.ipynb script."
      ],
      "metadata": {
        "id": "HlXOz_s2lyh_"
      }
    },
    {
      "cell_type": "code",
      "source": [
        "import numpy as np\n",
        "import pandas as pd\n",
        "from google.colab import drive\n",
        "import glob\n",
        "from datetime import datetime\n",
        "import csv\n",
        "\n",
        "drive.mount('/content/drive', force_remount = True)\n",
        "\n",
        "sample_nr_low = 3 #needs to be addapted to 1 nr in the series\n",
        "sample_nr_high = 26 #needs to be addapted to the last nr of the series"
      ],
      "metadata": {
        "id": "f0Rraq8-lx2k"
      },
      "execution_count": null,
      "outputs": []
    },
    {
      "cell_type": "markdown",
      "source": [],
      "metadata": {
        "id": "e5U0oQxhIzAK"
      }
    },
    {
      "cell_type": "code",
      "source": [
        "t_SATP = 293.15\n",
        "p_SATP = 100000\n",
        "\n",
        "for n in range(sample_nr_low, sample_nr_high):\n",
        "  files = glob.glob(f'/content/drive/My Drive/conversion_input/info_*{n}.csv')\n",
        "\n",
        "  if not files:\n",
        "    print(f'Files matching pattern Sample Nr. {n} was not found.')\n",
        "    continue\n",
        "\n",
        "  else:\n",
        "    df = pd.read_csv(files, header=2)\n",
        "    V = df.iloc[0]\n",
        "    t = df.iloc[1]\n",
        "    p = df.iloc[2]\n",
        "\n",
        "    V_SATP = (p * v * t_SATP) / (t * p_SATP)\n",
        "\n",
        "    V_SATP.to_csv(f'/content/drive/My Drive/conversion_output/V_SATP_{n}.csv', header=None)\n",
        "    print(n, vol_s)"
      ],
      "metadata": {
        "id": "ysLOEDGiIyp7"
      },
      "execution_count": null,
      "outputs": []
    },
    {
      "cell_type": "markdown",
      "source": [],
      "metadata": {
        "id": "XGzNTTu6pvim"
      }
    },
    {
      "cell_type": "code",
      "source": [
        "current_date = datetime.today().strftime('%Y-%m-%d')\n",
        "\n",
        "for n in range(sample_nr_low, sample_nr_high):\n",
        "    files = glob.glob(f'/content/drive/My Drive/quantitation_export/Sample_{n}_*.csv')\n",
        "\n",
        "    if not files:\n",
        "        print(f'Files matching pattern Sample Nr. {n} was not found.')\n",
        "        continue\n",
        "\n",
        "     else:\n",
        "        df = pd.read_csv(files[0], header=2)\n",
        "        V_SATP = pd.read_csv(f'/content/drive/My Drive/conversion_output/V_SATP_{n}.csv', header=None)\n",
        "        C = df.iloc[:, 4]\n",
        "        C = C.mul(1000)\n",
        "        Compound_info = df[:, 0]\n",
        "\n",
        "        C_air = C.div(V_SATP)\n",
        "\n",
        "        output_file = f'/content/drive/My Drive/quantitation_export/Sample_{n}_phthalate_concentration_{current_date}.csv'\n",
        "        with open(output_file, 'w', newline='') as csvfile:\n",
        "            writer = csv.writer(csvfile)\n",
        "            hearer_row1 = ['Sample nr.', n, ',', current_date]\n",
        "            writer.writerow(header_row1)\n",
        "            header_row2 = ['Phthalat:', 'Concentration [ng/m^3]']\n",
        "            writer.writerow(header_row2)\n",
        "            #row_data = [Compound_info, C_air]\n",
        "            #writer.writerow(row_data)\n",
        "            for i in range(len(compound_info)):\n",
        "              writer.writeerow([Compound_info.iloc[i],C_air.iloc[i]])"
      ],
      "metadata": {
        "id": "e3k_AA_IpwWZ"
      },
      "execution_count": null,
      "outputs": []
    }
  ]
}