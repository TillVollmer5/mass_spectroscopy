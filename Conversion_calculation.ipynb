{
  "nbformat": 4,
  "nbformat_minor": 0,
  "metadata": {
    "colab": {
      "name": "CodingTask1.ipynb",
      "provenance": [],
      "include_colab_link": true
    },
    "kernelspec": {
      "name": "python3",
      "display_name": "Python 3"
    },
    "language_info": {
      "name": "python"
    }
  },
  "cells": [
    {
      "cell_type": "markdown",
      "metadata": {
        "id": "view-in-github",
        "colab_type": "text"
      },
      "source": [
        "<a href=\"https://colab.research.google.com/github/TillVollmer5/mass_spectroscopy/blob/main/Conversion_calculation.ipynb\" target=\"_parent\"><img src=\"https://colab.research.google.com/assets/colab-badge.svg\" alt=\"Open In Colab\"/></a>"
      ]
    },
    {
      "cell_type": "markdown",
      "source": [
        "#Conversion Calculation\n",
        "The concentration data obtained from the Concentration_calculation.ipynb is converted according to volume of the air sample. The input files are both a file with the experimental data such as volume, temperature and pressure data (info_*_n.csv)as well as the export file from the Concentration_calculation.ipynb script."
      ],
      "metadata": {
        "id": "HlXOz_s2lyh_"
      }
    },
    {
      "cell_type": "code",
      "source": [
        "import numpy as np\n",
        "import pandas as pd\n",
        "from google.colab import drive\n",
        "import glob\n",
        "from datetime import datetime\n",
        "import csv\n",
        "\n",
        "drive.mount('/content/drive', force_remount = True)\n",
        "\n",
        "sample_nr_low = 123 #needs to be adapted to 1 nr in the series\n",
        "sample_nr_high = 124 #needs to be adapted to the last nr of the series\n",
        "\n",
        "QC_suptraction_nr = 145  #needs to be adapted to the quality control file that should be subtracted."
      ],
      "metadata": {
        "id": "f0Rraq8-lx2k",
        "outputId": "0e475f9b-95e6-4136-eea3-df6070f638af",
        "colab": {
          "base_uri": "https://localhost:8080/"
        }
      },
      "execution_count": 51,
      "outputs": [
        {
          "output_type": "stream",
          "name": "stdout",
          "text": [
            "Mounted at /content/drive\n"
          ]
        }
      ]
    },
    {
      "cell_type": "markdown",
      "source": [
        "The following part calculates the volume of air from the experimental conditions to standard ambient temperature and presure (SATP) which are 298.15 K and 100000 Pa. The imput file is a .csv file, containing a header of two (sample information and desctiption) as well as the data for the sampled volume, pressure and temperature. info_*{n}.csv is used as general name template, where n is the sample number corresponding to the sample number used for the concentration calculation skript (Concentration_calculation.ipynb). All the info files are uploaded to the conversion_input folder, while the resulting file is saved in the conversion_output under the name template V_SATP_{n}.csv"
      ],
      "metadata": {
        "id": "e5U0oQxhIzAK"
      }
    },
    {
      "cell_type": "code",
      "source": [
        "t_SATP = 293.15\n",
        "p_SATP = 100000\n",
        "\n",
        "for n in range(sample_nr_low, sample_nr_high):\n",
        "  files = glob.glob(f'/content/drive/My Drive/conversion_input/info_*{n}.csv')\n",
        "\n",
        "  if not files:\n",
        "    print(f'Files matching pattern Sample Nr. {n} was not found.')\n",
        "    continue\n",
        "\n",
        "  else:\n",
        "    for file in files:\n",
        "      df = pd.read_csv(file, header=1)\n",
        "      print(df)\n",
        "      V = df.iloc[:, 1]\n",
        "      t = df.iloc[:, 2]\n",
        "      p = df.iloc[:, 3]\n",
        "      print('Volume:',V)\n",
        "      print('temp:', t)\n",
        "      print('Pa:', p)\n",
        "      V_SATP = (p * V * t_SATP) / (t * p_SATP)\n",
        "      print(V_SATP)\n",
        "      V_SATP.to_csv(f'/content/drive/My Drive/conversion_output/V_SATP_{n}.csv', header=None, index=False)\n",
        "      print(n, V_SATP)"
      ],
      "metadata": {
        "id": "ysLOEDGiIyp7",
        "outputId": "e05220ae-630e-4e85-b4f5-2084c69810f3",
        "colab": {
          "base_uri": "https://localhost:8080/"
        }
      },
      "execution_count": 54,
      "outputs": [
        {
          "output_type": "stream",
          "name": "stdout",
          "text": [
            "  Unnamed: 0  Volume (m3)  Temperature (K)  Pressure (Pa)  \\\n",
            "0       DATA        1.161           282.65         950600   \n",
            "\n",
            "   Internal standard concentration (ug/ml)  Unnamed: 5  Unnamed: 6  \n",
            "0                                        1         NaN         NaN  \n",
            "Volume: 0    1.161\n",
            "Name: Volume (m3), dtype: float64\n",
            "temp: 0    282.65\n",
            "Name: Temperature (K), dtype: float64\n",
            "Pa: 0    950600\n",
            "Name: Pressure (Pa), dtype: int64\n",
            "0    11.446453\n",
            "dtype: float64\n",
            "123 0    11.446453\n",
            "dtype: float64\n"
          ]
        }
      ]
    },
    {
      "cell_type": "markdown",
      "source": [
        "To get the final concentration in air, the amount of phthalate is divided by the volume at SATP. this is done for eac file in the defined sample nr. range. All the files from the quantitation script (Concentration_calculation.ipynb) are located in the quantitation export folder, while the output of the previous section is saved in the output folder of this conversion script. The final file file is saved in the conversion export folder under the name Sample_{n}_phthalate_concentration_{current_date}.csv."
      ],
      "metadata": {
        "id": "XGzNTTu6pvim"
      }
    },
    {
      "cell_type": "code",
      "source": [
        "current_date = datetime.today().strftime('%Y-%m-%d')\n",
        "\n",
        "for n in range(sample_nr_low, sample_nr_high):\n",
        "    files = glob.glob(f'/content/drive/My Drive/quantitation_export/Sample_{n}_*.csv')\n",
        "\n",
        "    if not files:\n",
        "        print(f'Files matching pattern Sample Nr. {n} was not found.')\n",
        "        continue\n",
        "\n",
        "    else:\n",
        "      df = pd.read_csv(files[0], header=1, index_col=False)\n",
        "      print(df)\n",
        "      V_SATP = pd.read_csv(f'/content/drive/My Drive/conversion_output/V_SATP_{n}.csv', header=None, index_col=False)\n",
        "      C = df.iloc[:, 4]\n",
        "      if QC_suptraction_nr != 0:\n",
        "        QC_file = glob.glob(f'/content/drive/My Drive/quantitation_export/Sample_{QC_suptraction_nr}_*.csv')\n",
        "        QC_subtraction_df = pd.read_csv(QC_file[0], header=1, index_col=False)\n",
        "        print(QC_subtraction_df)\n",
        "        columns_to_subtract = df.columns[1:]\n",
        "        C = df[columns_to_subtract].subtract(QC_subtraction_df[columns_to_subtract], axis='columns')\n",
        "\n",
        "      else:\n",
        "        continue\n",
        "\n",
        "      C = C.mul(1000)\n",
        "      Compound_info = df.iloc[:, 0]\n",
        "      print(V_SATP)\n",
        "      C_air = C.div(V_SATP.iloc[0, 0])\n",
        "\n",
        "      print('Compoundinfo:', Compound_info)\n",
        "      print('C_airvalue', C_air)\n",
        "\n",
        "      output_file = f'/content/drive/My Drive/conversion_export/Sample_{n}_phthalate_concentration_{current_date}.csv'\n",
        "      with open(output_file, 'w', newline='') as csvfile:\n",
        "          writer = csv.writer(csvfile)\n",
        "          header_row1 = ['Sample nr.', n, 'Calculation Date', current_date]\n",
        "          writer.writerow(header_row1)\n",
        "          header_row2 = ['Phthalat:', 'Concentration [ng/m^3]']\n",
        "          writer.writerow(header_row2)\n",
        "          for i in range(len(Compound_info)):\n",
        "            writer.writerow([Compound_info.iloc[i],C_air.iloc[i, 3]])"
      ],
      "metadata": {
        "id": "e3k_AA_IpwWZ",
        "outputId": "fab0377c-63e0-45f3-b41c-29594b414d52",
        "colab": {
          "base_uri": "https://localhost:8080/"
        }
      },
      "execution_count": 62,
      "outputs": [
        {
          "output_type": "stream",
          "name": "stdout",
          "text": [
            "                       Analyte  Intercept     Slope     Value  \\\n",
            "0            Dimethylphthalate   0.001358  0.356679  0.006131   \n",
            "1             Diethylphthalate   0.001323  0.387867  0.088889   \n",
            "2             Dibutylphthalate   0.002397  0.656251  0.212200   \n",
            "3         Benzylbutylphthalate  -0.000574  0.273788  0.009069   \n",
            "4  Bis(2-ethyl-hexyl)phthalate  -0.001668  0.450815  8.751757   \n",
            "5          Di-n-octylphthalate  -0.006264  0.490070  0.002692   \n",
            "\n",
            "   Concentration [microg/ml]  \n",
            "0                   0.003545  \n",
            "1                   0.035800  \n",
            "2                   0.141653  \n",
            "3                   0.001909  \n",
            "4                   3.943756  \n",
            "5                  -0.004945  \n",
            "                       Analyte  Intercept     Slope     Value  \\\n",
            "0            Dimethylphthalate   0.001358  0.356679  0.001950   \n",
            "1             Diethylphthalate   0.001323  0.387867  0.015035   \n",
            "2             Dibutylphthalate   0.002397  0.656251  0.036561   \n",
            "3         Benzylbutylphthalate  -0.000574  0.273788  0.000871   \n",
            "4  Bis(2-ethyl-hexyl)phthalate  -0.001668  0.450815  0.242640   \n",
            "5          Di-n-octylphthalate  -0.006264  0.490070  0.000242   \n",
            "\n",
            "   Concentration [microg/ml]  \n",
            "0                   0.002054  \n",
            "1                   0.007155  \n",
            "2                   0.026390  \n",
            "3                  -0.000336  \n",
            "4                   0.107718  \n",
            "5                  -0.006145  \n",
            "           0\n",
            "0  11.446453\n",
            "Compoundinfo: 0              Dimethylphthalate\n",
            "1               Diethylphthalate\n",
            "2               Dibutylphthalate\n",
            "3           Benzylbutylphthalate\n",
            "4    Bis(2-ethyl-hexyl)phthalate\n",
            "5            Di-n-octylphthalate\n",
            "Name: Analyte, dtype: object\n",
            "C_airvalue    Intercept  Slope       Value  Concentration [microg/ml]\n",
            "0        0.0    0.0    0.365273                   0.130285\n",
            "1        0.0    0.0    6.452118                   2.502562\n",
            "2        0.0    0.0   15.344357                  10.069749\n",
            "3        0.0    0.0    0.716211                   0.196090\n",
            "4        0.0    0.0  743.384600                 335.129003\n",
            "5        0.0    0.0    0.214044                   0.104897\n"
          ]
        }
      ]
    },
    {
      "cell_type": "code",
      "source": [],
      "metadata": {
        "id": "R2s1UExdhVhh"
      },
      "execution_count": 49,
      "outputs": []
    }
  ]
}