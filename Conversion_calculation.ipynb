{
  "nbformat": 4,
  "nbformat_minor": 0,
  "metadata": {
    "colab": {
      "name": "CodingTask1.ipynb",
      "provenance": [],
      "include_colab_link": true
    },
    "kernelspec": {
      "name": "python3",
      "display_name": "Python 3"
    },
    "language_info": {
      "name": "python"
    }
  },
  "cells": [
    {
      "cell_type": "markdown",
      "metadata": {
        "id": "view-in-github",
        "colab_type": "text"
      },
      "source": [
        "<a href=\"https://colab.research.google.com/github/TillVollmer5/mass_spectroscopy/blob/main/Conversion_calculation.ipynb\" target=\"_parent\"><img src=\"https://colab.research.google.com/assets/colab-badge.svg\" alt=\"Open In Colab\"/></a>"
      ]
    },
    {
      "cell_type": "markdown",
      "source": [
        "#Conversion Calculation\n",
        "The concentration data obtained from the Concentration_calculation.ipynb is converted according to volume of the air sample. The input files are both a file with the experimental data such as volume, temperature and pressure data (info_*_n.csv)as well as the export file from the Concentration_calculation.ipynb script."
      ],
      "metadata": {
        "id": "HlXOz_s2lyh_"
      }
    },
    {
      "cell_type": "code",
      "source": [
        "import numpy as np\n",
        "import pandas as pd\n",
        "from google.colab import drive\n",
        "import glob\n",
        "from datetime import datetime\n",
        "import csv\n",
        "\n",
        "drive.mount('/content/drive', force_remount = True)\n",
        "\n",
        "sample_nr_low = 183 #needs to be adapted to 1 nr in the series\n",
        "sample_nr_high = 184 #needs to be adapted to the last nr of the series\n",
        "\n",
        "QC_suptraction_nr = 180  #needs to be adapted to the quality control file that should be subtracted."
      ],
      "metadata": {
        "id": "f0Rraq8-lx2k",
        "outputId": "ec17418a-03bf-4754-baa0-5496252e6c67",
        "colab": {
          "base_uri": "https://localhost:8080/"
        }
      },
      "execution_count": 1,
      "outputs": [
        {
          "output_type": "stream",
          "name": "stdout",
          "text": [
            "Mounted at /content/drive\n"
          ]
        }
      ]
    },
    {
      "cell_type": "markdown",
      "source": [
        "The following part calculates the volume of air from the experimental conditions to standard ambient temperature and presure (SATP) which are 298.15 K and 100000 Pa. The imput file is a .csv file, containing a header of two (sample information and desctiption) as well as the data for the sampled volume, pressure and temperature. info_*{n}.csv is used as general name template, where n is the sample number corresponding to the sample number used for the concentration calculation skript (Concentration_calculation.ipynb). All the info files are uploaded to the conversion_input folder, while the resulting file is saved in the conversion_output under the name template V_SATP_{n}.csv"
      ],
      "metadata": {
        "id": "e5U0oQxhIzAK"
      }
    },
    {
      "cell_type": "code",
      "source": [
        "t_SATP = 293.15\n",
        "p_SATP = 100000\n",
        "\n",
        "for n in range(sample_nr_low, sample_nr_high):\n",
        "  files = glob.glob(f'/content/drive/My Drive/conversion_input/info_*{n}.csv')\n",
        "\n",
        "  if not files:\n",
        "    print(f'Files matching pattern Sample Nr. {n} was not found.')\n",
        "    continue\n",
        "\n",
        "  else:\n",
        "    for file in files:\n",
        "      df = pd.read_csv(file, header=1)\n",
        "      #print(df)\n",
        "      V = df.iloc[:, 1]\n",
        "      t = df.iloc[:, 2]\n",
        "      p = df.iloc[:, 3]\n",
        "      #print('Volume:',V)\n",
        "      #print('temp:', t)\n",
        "      #print('Pa:', p)\n",
        "      V_SATP = (p * V * t_SATP) / (t * p_SATP)\n",
        "      #print(V_SATP)\n",
        "      V_SATP.to_csv(f'/content/drive/My Drive/conversion_output/V_SATP_{n}.csv', header=None, index=False)\n",
        "      print(n, V_SATP)"
      ],
      "metadata": {
        "id": "ysLOEDGiIyp7",
        "outputId": "012163b9-7e83-4b1c-8070-c4f09e0783eb",
        "colab": {
          "base_uri": "https://localhost:8080/"
        }
      },
      "execution_count": 2,
      "outputs": [
        {
          "output_type": "stream",
          "name": "stdout",
          "text": [
            "183 0    1.180159\n",
            "dtype: float64\n"
          ]
        }
      ]
    },
    {
      "cell_type": "markdown",
      "source": [
        "To get the final concentration in air, the amount of phthalate is divided by the volume at SATP. this is done for eac file in the defined sample nr. range. All the files from the quantitation script (Concentration_calculation.ipynb) are located in the quantitation export folder, while the output of the previous section is saved in the output folder of this conversion script. The final file file is saved in the conversion export folder under the name Sample_{n}_phthalate_concentration_{current_date}.csv."
      ],
      "metadata": {
        "id": "XGzNTTu6pvim"
      }
    },
    {
      "cell_type": "code",
      "source": [
        "current_date = datetime.today().strftime('%Y-%m-%d')\n",
        "\n",
        "for n in range(sample_nr_low, sample_nr_high):\n",
        "    files = glob.glob(f'/content/drive/My Drive/quantitation_export/Sample_{n}_*.csv')\n",
        "\n",
        "    if not files:\n",
        "        print(f'Files matching pattern Sample Nr. {n} was not found.')\n",
        "        continue\n",
        "\n",
        "    else:\n",
        "      df = pd.read_csv(files[0], header=1, index_col=False)\n",
        "      print(df)\n",
        "      V_SATP = pd.read_csv(f'/content/drive/My Drive/conversion_output/V_SATP_{n}.csv', header=None, index_col=False)\n",
        "      C = df.iloc[:, 4]\n",
        "      if QC_suptraction_nr != 0:\n",
        "        QC_file = glob.glob(f'/content/drive/My Drive/quantitation_export/Sample_{QC_suptraction_nr}_*.csv')\n",
        "        QC_subtraction_df = pd.read_csv(QC_file[0], header=1, index_col=False)\n",
        "        print(QC_subtraction_df)\n",
        "        columns_to_subtract = df.columns[1:]\n",
        "        C = df[columns_to_subtract].subtract(QC_subtraction_df[columns_to_subtract], axis='columns')\n",
        "\n",
        "      else:\n",
        "        continue\n",
        "\n",
        "      C = C.mul(1000)\n",
        "      Compound_info = df.iloc[:, 0]\n",
        "      print(V_SATP)\n",
        "      C_air = C.div(V_SATP.iloc[0, 0])\n",
        "\n",
        "      print('Compoundinfo:', Compound_info)\n",
        "      print('C_airvalue', C_air)\n",
        "\n",
        "      output_file = f'/content/drive/My Drive/conversion_export/Sample_{n}_phthalate_concentration_{current_date}.csv'\n",
        "      with open(output_file, 'w', newline='') as csvfile:\n",
        "          writer = csv.writer(csvfile)\n",
        "          header_row1 = ['Sample nr.', n, 'Calculation Date', current_date]\n",
        "          writer.writerow(header_row1)\n",
        "          header_row2 = ['Phthalat:', 'Concentration [ng/m^3]']\n",
        "          writer.writerow(header_row2)\n",
        "          for i in range(len(Compound_info)):\n",
        "            writer.writerow([Compound_info.iloc[i],C_air.iloc[i, 3]])"
      ],
      "metadata": {
        "id": "e3k_AA_IpwWZ",
        "outputId": "96524025-827d-4188-8f14-89c431970add",
        "colab": {
          "base_uri": "https://localhost:8080/"
        }
      },
      "execution_count": 3,
      "outputs": [
        {
          "output_type": "stream",
          "name": "stdout",
          "text": [
            "                       Analyte  Intercept     Slope     Value  \\\n",
            "0            Dimethylphthalate   0.001358  0.356679  0.001585   \n",
            "1             Diethylphthalate   0.001323  0.387867  0.039948   \n",
            "2             Dibutylphthalate   0.002397  0.656251  0.022847   \n",
            "3         Benzylbutylphthalate  -0.000574  0.273788  0.000583   \n",
            "4  Bis(2-ethyl-hexyl)phthalate  -0.001668  0.450815  0.021489   \n",
            "5          Di-n-octylphthalate  -0.006264  0.490070  0.000863   \n",
            "\n",
            "   Concentration [microg/ml]  \n",
            "0                   0.001923  \n",
            "1                   0.016818  \n",
            "2                   0.017390  \n",
            "3                  -0.000414  \n",
            "4                   0.008020  \n",
            "5                  -0.005841  \n",
            "                       Analyte  Intercept     Slope     Value  \\\n",
            "0            Dimethylphthalate   0.001358  0.356679  0.000337   \n",
            "1             Diethylphthalate   0.001323  0.387867  0.025984   \n",
            "2             Dibutylphthalate   0.002397  0.656251  0.012242   \n",
            "3         Benzylbutylphthalate  -0.000574  0.273788  0.000715   \n",
            "4  Bis(2-ethyl-hexyl)phthalate  -0.001668  0.450815  0.002077   \n",
            "5          Di-n-octylphthalate  -0.006264  0.490070  0.000255   \n",
            "\n",
            "   Concentration [microg/ml]  \n",
            "0                   0.001478  \n",
            "1                   0.011401  \n",
            "2                   0.010430  \n",
            "3                  -0.000378  \n",
            "4                  -0.000731  \n",
            "5                  -0.006139  \n",
            "          0\n",
            "0  1.180159\n",
            "Compoundinfo: 0              Dimethylphthalate\n",
            "1               Diethylphthalate\n",
            "2               Dibutylphthalate\n",
            "3           Benzylbutylphthalate\n",
            "4    Bis(2-ethyl-hexyl)phthalate\n",
            "5            Di-n-octylphthalate\n",
            "Name: Analyte, dtype: object\n",
            "C_airvalue    Intercept  Slope      Value  Concentration [microg/ml]\n",
            "0        0.0    0.0   1.057598                   0.377223\n",
            "1        0.0    0.0  11.832965                   4.589614\n",
            "2        0.0    0.0   8.986147                   5.897168\n",
            "3        0.0    0.0  -0.111785                  -0.030605\n",
            "4        0.0    0.0  16.448401                   7.415188\n",
            "5        0.0    0.0   0.514686                   0.252232\n"
          ]
        }
      ]
    },
    {
      "cell_type": "code",
      "source": [],
      "metadata": {
        "id": "R2s1UExdhVhh"
      },
      "execution_count": null,
      "outputs": []
    }
  ]
}