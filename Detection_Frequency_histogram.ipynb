{
  "nbformat": 4,
  "nbformat_minor": 0,
  "metadata": {
    "colab": {
      "provenance": [],
      "authorship_tag": "ABX9TyMyJCweKwHtadiu800KyUX1",
      "include_colab_link": true
    },
    "kernelspec": {
      "name": "python3",
      "display_name": "Python 3"
    },
    "language_info": {
      "name": "python"
    }
  },
  "cells": [
    {
      "cell_type": "markdown",
      "metadata": {
        "id": "view-in-github",
        "colab_type": "text"
      },
      "source": [
        "<a href=\"https://colab.research.google.com/github/TillVollmer5/mass_spectroscopy/blob/main/Detection_Frequency_histogram.ipynb\" target=\"_parent\"><img src=\"https://colab.research.google.com/assets/colab-badge.svg\" alt=\"Open In Colab\"/></a>"
      ]
    },
    {
      "cell_type": "code",
      "execution_count": 6,
      "metadata": {
        "colab": {
          "base_uri": "https://localhost:8080/"
        },
        "id": "16PWui5hCnl-",
        "outputId": "c2603074-3016-4ab5-ba1e-c17eab89b502"
      },
      "outputs": [
        {
          "output_type": "stream",
          "name": "stdout",
          "text": [
            "Mounted at /content/drive\n"
          ]
        }
      ],
      "source": [
        "import numpy as np\n",
        "from google.colab import drive\n",
        "import pandas as pd\n",
        "import matplotlib.pyplot as plt\n",
        "\n",
        "drive.mount('/content/drive', force_remount = True)"
      ]
    },
    {
      "cell_type": "code",
      "source": [
        "complete_list_df = pd.read_csv('/content/drive/My Drive/unknown_screening_data/Result_With_Detection_Frequency.csv')\n",
        "print(complete_list_df.head())\n",
        "print(complete_list_df.columns)\n",
        "print(complete_list_df.index)"
      ],
      "metadata": {
        "id": "YBIrJyetB_La",
        "outputId": "c17935d8-0ad8-446d-edd6-afd942d8217e",
        "colab": {
          "base_uri": "https://localhost:8080/"
        }
      },
      "execution_count": 7,
      "outputs": [
        {
          "output_type": "stream",
          "name": "stdout",
          "text": [
            "                                          Unnamed: 0 Formula (mol ion)  \\\n",
            "0                                 3-Methoxyhex-1-ene            C7H14O   \n",
            "1               2-Heptenoic acid, 2-ethylhexyl ester          C15H28O2   \n",
            "2                Acetic acid, 3-ethylpent-3-yl ester           C9H18O2   \n",
            "3  5aH,10aH-4a,9a-Epoxydibenzo[b,e][1,4]dioxin-5a...          C12H18O5   \n",
            "4             Benzene, 1,1'-(1-methylethylidene)bis-            C15H16   \n",
            "\n",
            "   Detection Frequency  Auto_5_gp_df  Auto_4_gp_df  Auto_3_gp_df  \\\n",
            "0                  0.1      0.000000      0.041867           0.0   \n",
            "1                  0.1      0.022782      0.000000           0.0   \n",
            "2                  0.1      0.000000      0.007618           0.0   \n",
            "3                  0.1      0.000000      0.000000           0.0   \n",
            "4                  0.1      0.003640      0.000000           0.0   \n",
            "\n",
            "   Auto_2_gp_df  Auto_1_gp_df  Auto_5_pm_df  Auto_4_pm_df  Auto_3_pm_df  \\\n",
            "0           0.0           0.0           0.0           0.0           0.0   \n",
            "1           0.0           0.0           0.0           0.0           0.0   \n",
            "2           0.0           0.0           0.0           0.0           0.0   \n",
            "3           0.0           0.0           0.0           0.0           0.0   \n",
            "4           0.0           0.0           0.0           0.0           0.0   \n",
            "\n",
            "   Auto_2_pm_df  Auto_1_pm_df  \n",
            "0      0.000000           0.0  \n",
            "1      0.000000           0.0  \n",
            "2      0.000000           0.0  \n",
            "3      0.005396           0.0  \n",
            "4      0.000000           0.0  \n",
            "Index(['Unnamed: 0', 'Formula (mol ion)', 'Detection Frequency',\n",
            "       'Auto_5_gp_df', 'Auto_4_gp_df', 'Auto_3_gp_df', 'Auto_2_gp_df',\n",
            "       'Auto_1_gp_df', 'Auto_5_pm_df', 'Auto_4_pm_df', 'Auto_3_pm_df',\n",
            "       'Auto_2_pm_df', 'Auto_1_pm_df'],\n",
            "      dtype='object')\n",
            "RangeIndex(start=0, stop=591, step=1)\n"
          ]
        }
      ]
    },
    {
      "cell_type": "code",
      "source": [
        "plt.hist(complete_list_df['Detection Frequency'], bins=20, edgecolor='black')\n",
        "\n",
        "# Add labels and title\n",
        "plt.xlabel('Detection frequency')\n",
        "plt.ylabel('Nr. compounds')\n",
        "\n",
        "\n",
        "# Show the plot\n",
        "plt.savefig('/content/drive/My Drive/Result_With_Detection_Frequency_hist.png',  dpi=300)\n",
        "plt.show()"
      ],
      "metadata": {
        "id": "zhhA9orzCOOm",
        "outputId": "6a009a60-6694-469b-bd34-5404442212f7",
        "colab": {
          "base_uri": "https://localhost:8080/",
          "height": 449
        }
      },
      "execution_count": 8,
      "outputs": [
        {
          "output_type": "display_data",
          "data": {
            "text/plain": [
              "<Figure size 640x480 with 1 Axes>"
            ],
            "image/png": "[encoded data removed]"
          },
          "metadata": {}
        }
      ]
    },
    {
      "cell_type": "code",
      "source": [
        "de_filtered_df = pd.read_csv('/content/drive/My Drive/unknown_screening_data/Result_With_Detection_Frequency_complete.csv')\n",
        "print(de_filtered_df.head())\n",
        "print(de_filtered_df.columns)\n",
        "print(de_filtered_df.index)"
      ],
      "metadata": {
        "colab": {
          "base_uri": "https://localhost:8080/"
        },
        "id": "p7ObCpiZCyfb",
        "outputId": "24c6b9cd-a7d7-4804-ab5c-79495b26a5c8"
      },
      "execution_count": 9,
      "outputs": [
        {
          "output_type": "stream",
          "name": "stdout",
          "text": [
            "                                          Unnamed: 0 Formula (mol ion)  \\\n",
            "0               2-Heptenoic acid, 2-ethylhexyl ester          C15H28O2   \n",
            "1  benzamide, N-[2-hydroxy-6-[(methylsulfonyl)oxy...        C22H29NO5S   \n",
            "2                Phthalic acid, octyl 2-pentyl ester          C21H32O4   \n",
            "3     Succinic acid, pentadecyl 3-phenylpropyl ester          C28H46O4   \n",
            "4  Benzoic acid, 3,4-methylenedioxy-, 3-formylphe...          C15H10O5   \n",
            "\n",
            "   Detection Frequency  Auto_5_gp_df  Auto_4_gp_df  Auto_3_gp_df  \\\n",
            "0             0.055556      0.022782           0.0           0.0   \n",
            "1             0.111111      0.000000           0.0           0.0   \n",
            "2             0.055556      0.000000           0.0           0.0   \n",
            "3             0.111111      0.000000           0.0           0.0   \n",
            "4             0.055556      0.000000           0.0           0.0   \n",
            "\n",
            "   Auto_2_gp_df  Auto_1_gp_df  Auto_5_pm_df  Auto_4_pm_df  ...  Auto_2_pm_df  \\\n",
            "0           0.0           0.0           0.0           0.0  ...           0.0   \n",
            "1           0.0           0.0           0.0           0.0  ...           0.0   \n",
            "2           0.0           0.0           0.0           0.0  ...           0.0   \n",
            "3           0.0           0.0           0.0           0.0  ...           0.0   \n",
            "4           0.0           0.0           0.0           0.0  ...           0.0   \n",
            "\n",
            "   Auto_1_pm_df  Zafira_2_gp_df  Zafira_1_gp_df  Zafira_2_pm_df  \\\n",
            "0           0.0             0.0        0.000000             0.0   \n",
            "1           0.0             0.0        0.000000             0.0   \n",
            "2           0.0             0.0        0.000000             0.0   \n",
            "3           0.0             0.0        0.000000             0.0   \n",
            "4           0.0             0.0        0.013434             0.0   \n",
            "\n",
            "   Zafira_1_pm_df  U181_60k_df  U181_120k_df  U166_df  U164_df  \n",
            "0        0.000000     0.000000      0.000000      0.0      0.0  \n",
            "1        0.000000     0.008502      0.008502      0.0      0.0  \n",
            "2        1.132798     0.000000      0.000000      0.0      0.0  \n",
            "3        0.000000     0.003633      0.003633      0.0      0.0  \n",
            "4        0.000000     0.000000      0.000000      0.0      0.0  \n",
            "\n",
            "[5 rows x 21 columns]\n",
            "Index(['Unnamed: 0', 'Formula (mol ion)', 'Detection Frequency',\n",
            "       'Auto_5_gp_df', 'Auto_4_gp_df', 'Auto_3_gp_df', 'Auto_2_gp_df',\n",
            "       'Auto_1_gp_df', 'Auto_5_pm_df', 'Auto_4_pm_df', 'Auto_3_pm_df',\n",
            "       'Auto_2_pm_df', 'Auto_1_pm_df', 'Zafira_2_gp_df', 'Zafira_1_gp_df',\n",
            "       'Zafira_2_pm_df', 'Zafira_1_pm_df', 'U181_60k_df', 'U181_120k_df',\n",
            "       'U166_df', 'U164_df'],\n",
            "      dtype='object')\n",
            "RangeIndex(start=0, stop=1139, step=1)\n"
          ]
        }
      ]
    },
    {
      "cell_type": "code",
      "source": [
        "plt.hist(de_filtered_df['Detection Frequency'], bins=20, edgecolor='black')\n",
        "\n",
        "# Add labels and title\n",
        "plt.xlabel('Detection frequency')\n",
        "plt.ylabel('Nr. compounds')\n",
        "\n",
        "# Show the plot\n",
        "plt.savefig('/content/drive/My Drive/Result_With_Detection_Frequency_hist.png',  dpi=300)\n",
        "plt.show()"
      ],
      "metadata": {
        "colab": {
          "base_uri": "https://localhost:8080/",
          "height": 449
        },
        "id": "ngJwUzlCC6o3",
        "outputId": "22f6c617-b6f4-449f-ee6e-aa352910f9e2"
      },
      "execution_count": 10,
      "outputs": [
        {
          "output_type": "display_data",
          "data": {
            "text/plain": [
              "<Figure size 640x480 with 1 Axes>"
            ],
            "image/png": "[encoded data removed]"
          },
          "metadata": {}
        }
      ]
    },
    {
      "cell_type": "code",
      "source": [],
      "metadata": {
        "id": "mmqbPkWrDnnS"
      },
      "execution_count": 10,
      "outputs": []
    }
  ]
}