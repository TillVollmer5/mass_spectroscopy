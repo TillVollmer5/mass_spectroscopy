{
  "nbformat": 4,
  "nbformat_minor": 0,
  "metadata": {
    "colab": {
      "provenance": [],
      "authorship_tag": "ABX9TyPJiUWbqwVhiOtjN03KA3yg",
      "include_colab_link": true
    },
    "kernelspec": {
      "name": "python3",
      "display_name": "Python 3"
    },
    "language_info": {
      "name": "python"
    }
  },
  "cells": [
    {
      "cell_type": "markdown",
      "metadata": {
        "id": "view-in-github",
        "colab_type": "text"
      },
      "source": [
        "<a href=\"https://colab.research.google.com/github/TillVollmer5/mass_spectroscopy/blob/main/Detection_Frequency_histogram.ipynb\" target=\"_parent\"><img src=\"https://colab.research.google.com/assets/colab-badge.svg\" alt=\"Open In Colab\"/></a>"
      ]
    },
    {
      "cell_type": "code",
      "execution_count": 1,
      "metadata": {
        "colab": {
          "base_uri": "https://localhost:8080/"
        },
        "id": "16PWui5hCnl-",
        "outputId": "23bd9cb8-ad50-4dc4-e07f-a6496fd84f43"
      },
      "outputs": [
        {
          "output_type": "stream",
          "name": "stdout",
          "text": [
            "Mounted at /content/drive\n"
          ]
        }
      ],
      "source": [
        "import numpy as np\n",
        "from google.colab import drive\n",
        "import pandas as pd\n",
        "import matplotlib.pyplot as plt\n",
        "\n",
        "drive.mount('/content/drive', force_remount = True)"
      ]
    },
    {
      "cell_type": "code",
      "source": [
        "de_filtered_df = pd.read_csv('/content/drive/My Drive/unknown_screening_data/Filtered_Result_With_Detection_Frequency_02.csv')\n",
        "print(de_filtered_df.head())\n",
        "print(de_filtered_df.columns)\n",
        "print(de_filtered_df.index)"
      ],
      "metadata": {
        "colab": {
          "base_uri": "https://localhost:8080/"
        },
        "id": "p7ObCpiZCyfb",
        "outputId": "8425c177-bb1d-413b-c708-69e83a67340e"
      },
      "execution_count": 2,
      "outputs": [
        {
          "output_type": "stream",
          "name": "stdout",
          "text": [
            "                                          Unnamed: 0 Formula (mol ion)  \\\n",
            "0  1,2-Benzenediol, O-(4-ethylbenzoyl)-O'-proparg...          C19H16O5   \n",
            "1              3,4-Methylenedioxyphenyl vinyl ketone           C10H8O3   \n",
            "2                           Naphthalene, 1-isocyano-            C11H7N   \n",
            "3  Oxamide, N-(3-methoxypropyl)-N'-cycloheptylide...        C13H23N3O3   \n",
            "4                                  Heptane, 4-azido-           C7H15N3   \n",
            "\n",
            "   Detection Frequency  Auto_5_gp_df  Auto_4_gp_df  Auto_3_gp_df  \\\n",
            "0             0.250000      0.000000      0.000000      0.007362   \n",
            "1             0.333333      0.162008      0.073237      0.120008   \n",
            "2             0.250000      0.007738      0.000000      0.000000   \n",
            "3             0.500000      0.002009      0.000000      0.000000   \n",
            "4             0.250000      0.000000      0.000000      0.422010   \n",
            "\n",
            "   Auto_2_gp_df  Auto_1_gp_df  Zafira_2_gp_df  Zafira_1_gp_df  Auto_5_pm_df  \\\n",
            "0      0.000000      0.000000        0.006410        0.018978           0.0   \n",
            "1      0.000000      0.166970        0.000000        0.000000           0.0   \n",
            "2      0.002257      0.000000        0.000000        0.006027           0.0   \n",
            "3      0.007262      0.010147        0.003568        0.001734           0.0   \n",
            "4      0.833329      0.000000        0.000000        0.016616           0.0   \n",
            "\n",
            "   Auto_4_pm_df  Auto_3_pm_df  Auto_2_pm_df  Auto_1_pm_df  \n",
            "0      0.000000           0.0           0.0           0.0  \n",
            "1      0.000000           0.0           0.0           0.0  \n",
            "2      0.000000           0.0           0.0           0.0  \n",
            "3      0.015799           0.0           0.0           0.0  \n",
            "4      0.000000           0.0           0.0           0.0  \n",
            "Index(['Unnamed: 0', 'Formula (mol ion)', 'Detection Frequency',\n",
            "       'Auto_5_gp_df', 'Auto_4_gp_df', 'Auto_3_gp_df', 'Auto_2_gp_df',\n",
            "       'Auto_1_gp_df', 'Zafira_2_gp_df', 'Zafira_1_gp_df', 'Auto_5_pm_df',\n",
            "       'Auto_4_pm_df', 'Auto_3_pm_df', 'Auto_2_pm_df', 'Auto_1_pm_df'],\n",
            "      dtype='object')\n",
            "RangeIndex(start=0, stop=198, step=1)\n"
          ]
        }
      ]
    },
    {
      "cell_type": "code",
      "source": [
        "plt.hist(de_filtered_df['Detection Frequency'], bins=10, edgecolor='black')\n",
        "\n",
        "# Add labels and title\n",
        "plt.xlabel('Value')\n",
        "plt.ylabel('Frequency')\n",
        "plt.title('Histogram detection frequency')\n",
        "\n",
        "# Show the plot\n",
        "plt.show()"
      ],
      "metadata": {
        "colab": {
          "base_uri": "https://localhost:8080/",
          "height": 472
        },
        "id": "ngJwUzlCC6o3",
        "outputId": "cd55e671-ab67-4c1d-bf5a-0c1cf084745a"
      },
      "execution_count": 3,
      "outputs": [
        {
          "output_type": "display_data",
          "data": {
            "text/plain": [
              "<Figure size 640x480 with 1 Axes>"
            ],
            "image/png": "[encoded data removed]"
          },
          "metadata": {}
        }
      ]
    },
    {
      "cell_type": "code",
      "source": [],
      "metadata": {
        "id": "mmqbPkWrDnnS"
      },
      "execution_count": null,
      "outputs": []
    }
  ]
}