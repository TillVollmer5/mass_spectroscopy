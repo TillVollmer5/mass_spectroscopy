{
  "nbformat": 4,
  "nbformat_minor": 0,
  "metadata": {
    "colab": {
      "provenance": [],
      "authorship_tag": "ABX9TyPJiUWbqwVhiOtjN03KA3yg",
      "include_colab_link": true
    },
    "kernelspec": {
      "name": "python3",
      "display_name": "Python 3"
    },
    "language_info": {
      "name": "python"
    }
  },
  "cells": [
    {
      "cell_type": "markdown",
      "metadata": {
        "id": "view-in-github",
        "colab_type": "text"
      },
      "source": [
        "<a href=\"https://colab.research.google.com/github/TillVollmer5/mass_spectroscopy/blob/main/Detection_Frequency_histogram.ipynb\" target=\"_parent\"><img src=\"https://colab.research.google.com/assets/colab-badge.svg\" alt=\"Open In Colab\"/></a>"
      ]
    },
    {
      "cell_type": "code",
      "execution_count": 1,
      "metadata": {
        "colab": {
          "base_uri": "https://localhost:8080/"
        },
        "id": "16PWui5hCnl-",
        "outputId": "2ec4e310-2a24-4560-d80c-22c237c59f99"
      },
      "outputs": [
        {
          "output_type": "stream",
          "name": "stdout",
          "text": [
            "Mounted at /content/drive\n"
          ]
        }
      ],
      "source": [
        "import numpy as np\n",
        "from google.colab import drive\n",
        "import pandas as pd\n",
        "import matplotlib.pyplot as plt\n",
        "\n",
        "drive.mount('/content/drive', force_remount = True)"
      ]
    },
    {
      "cell_type": "code",
      "source": [
        "de_filtered_df = pd.read_csv('/content/drive/My Drive/unknown_screening_data/Filtered_Result_With_Detection_Frequency_02.csv')\n",
        "print(de_filtered_df.head())\n",
        "print(de_filtered_df.columns)\n",
        "print(de_filtered_df.index)"
      ],
      "metadata": {
        "colab": {
          "base_uri": "https://localhost:8080/"
        },
        "id": "p7ObCpiZCyfb",
        "outputId": "a0a14db1-3cd5-464e-c731-960eb9283f17"
      },
      "execution_count": 2,
      "outputs": [
        {
          "output_type": "stream",
          "name": "stdout",
          "text": [
            "                                          Unnamed: 0 Formula (mol ion)  \\\n",
            "0             Sulfurous acid, di(2-ethylhexyl) ester         C16H34O3S   \n",
            "1  Piperazine, 1,1'-(1,2-diphenylethane-1,2-diyl)...          C24H34N4   \n",
            "2  1,2-Benzenediol, O-acetoxyacetyl-O'-(4-butylbe...          C21H22O6   \n",
            "3  Benzoic acid, 4-(4-butylcyclohexyl)-, 2,3-dicy...        C27H30N2O3   \n",
            "4          1,2-Benzenediol, O,O'-di(4-butylbenzoyl)-          C28H30O4   \n",
            "\n",
            "   Detection Frequency  Auto_5_gp_df  Auto_4_gp_df  Auto_3_gp_df  \\\n",
            "0             0.214286      0.000000           0.0      0.022836   \n",
            "1             0.214286      0.000000           0.0      0.032296   \n",
            "2             0.285714      0.000000           0.0      0.000000   \n",
            "3             0.285714      0.004778           0.0      0.040192   \n",
            "4             0.214286      0.000000           0.0      0.000000   \n",
            "\n",
            "   Auto_2_gp_df  Auto_1_gp_df  Zafira_2_gp_df  Zafira_1_gp_df  Auto_5_pm_df  \\\n",
            "0      0.000000      0.000000        0.000000        0.007941           0.0   \n",
            "1      0.001003      0.000000        0.000000        0.000000           0.0   \n",
            "2      0.008194      0.011149        0.028779        0.019970           0.0   \n",
            "3      0.000000      0.000000        0.000000        0.010784           0.0   \n",
            "4      0.000000      0.071291        0.005878        0.000000           0.0   \n",
            "\n",
            "   Auto_4_pm_df  Auto_3_pm_df  Auto_2_pm_df  Auto_1_pm_df  Zafira_2_pm_df  \\\n",
            "0           0.0           0.0      0.000000           0.0        0.001372   \n",
            "1           0.0           0.0      0.000000           0.0        0.001593   \n",
            "2           0.0           0.0      0.000000           0.0        0.000000   \n",
            "3           0.0           0.0      0.009149           0.0        0.000000   \n",
            "4           0.0           0.0      0.000000           0.0        0.003140   \n",
            "\n",
            "   Zafira_1_pm_df  \n",
            "0             0.0  \n",
            "1             0.0  \n",
            "2             0.0  \n",
            "3             0.0  \n",
            "4             0.0  \n",
            "Index(['Unnamed: 0', 'Formula (mol ion)', 'Detection Frequency',\n",
            "       'Auto_5_gp_df', 'Auto_4_gp_df', 'Auto_3_gp_df', 'Auto_2_gp_df',\n",
            "       'Auto_1_gp_df', 'Zafira_2_gp_df', 'Zafira_1_gp_df', 'Auto_5_pm_df',\n",
            "       'Auto_4_pm_df', 'Auto_3_pm_df', 'Auto_2_pm_df', 'Auto_1_pm_df',\n",
            "       'Zafira_2_pm_df', 'Zafira_1_pm_df'],\n",
            "      dtype='object')\n",
            "RangeIndex(start=0, stop=248, step=1)\n"
          ]
        }
      ]
    },
    {
      "cell_type": "code",
      "source": [
        "plt.hist(de_filtered_df['Detection Frequency'], bins=10, edgecolor='black')\n",
        "\n",
        "# Add labels and title\n",
        "plt.xlabel('Value')\n",
        "plt.ylabel('Frequency')\n",
        "plt.title('Histogram detection frequency')\n",
        "\n",
        "# Show the plot\n",
        "plt.show()"
      ],
      "metadata": {
        "colab": {
          "base_uri": "https://localhost:8080/",
          "height": 472
        },
        "id": "ngJwUzlCC6o3",
        "outputId": "89cefd19-471f-40aa-835d-534979bf975e"
      },
      "execution_count": 7,
      "outputs": [
        {
          "output_type": "display_data",
          "data": {
            "text/plain": [
              "<Figure size 640x480 with 1 Axes>"
            ],
            "image/png": "[encoded data removed]"
          },
          "metadata": {}
        }
      ]
    },
    {
      "cell_type": "code",
      "source": [],
      "metadata": {
        "id": "mmqbPkWrDnnS"
      },
      "execution_count": 3,
      "outputs": []
    }
  ]
}