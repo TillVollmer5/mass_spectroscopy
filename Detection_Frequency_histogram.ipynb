{
  "nbformat": 4,
  "nbformat_minor": 0,
  "metadata": {
    "colab": {
      "provenance": [],
      "authorship_tag": "ABX9TyPJiUWbqwVhiOtjN03KA3yg",
      "include_colab_link": true
    },
    "kernelspec": {
      "name": "python3",
      "display_name": "Python 3"
    },
    "language_info": {
      "name": "python"
    }
  },
  "cells": [
    {
      "cell_type": "markdown",
      "metadata": {
        "id": "view-in-github",
        "colab_type": "text"
      },
      "source": [
        "<a href=\"https://colab.research.google.com/github/TillVollmer5/mass_spectroscopy/blob/main/Detection_Frequency_histogram.ipynb\" target=\"_parent\"><img src=\"https://colab.research.google.com/assets/colab-badge.svg\" alt=\"Open In Colab\"/></a>"
      ]
    },
    {
      "cell_type": "code",
      "execution_count": 1,
      "metadata": {
        "colab": {
          "base_uri": "https://localhost:8080/"
        },
        "id": "16PWui5hCnl-",
        "outputId": "73f12247-1e29-46c2-a274-e2631f86896a"
      },
      "outputs": [
        {
          "output_type": "stream",
          "name": "stdout",
          "text": [
            "Mounted at /content/drive\n"
          ]
        }
      ],
      "source": [
        "import numpy as np\n",
        "from google.colab import drive\n",
        "import pandas as pd\n",
        "import matplotlib.pyplot as plt\n",
        "\n",
        "drive.mount('/content/drive', force_remount = True)"
      ]
    },
    {
      "cell_type": "code",
      "source": [
        "de_filtered_df = pd.read_csv('/content/drive/My Drive/unknown_screening_data/Filtered_Result_With_Detection_Frequency_02.csv')\n",
        "print(de_filtered_df.head())\n",
        "print(de_filtered_df.columns)\n",
        "print(de_filtered_df.index)"
      ],
      "metadata": {
        "colab": {
          "base_uri": "https://localhost:8080/"
        },
        "id": "p7ObCpiZCyfb",
        "outputId": "6280ab3c-bc24-43d3-ccc0-d0da10be68bc"
      },
      "execution_count": 2,
      "outputs": [
        {
          "output_type": "stream",
          "name": "stdout",
          "text": [
            "                                          Unnamed: 0 Formula (mol ion)  \\\n",
            "0  4H-Cyclopenta[b]thiophene-3-carboxylic acid, 2...        C17H15NO5S   \n",
            "1                   N-Arachidoyl-5-hydroxytryptamine        C30H50N2O2   \n",
            "2  9-(3-Chlorobenzyl)-9-hydroxy-3,6,10,10-tetrame...         C25H25ClO   \n",
            "3  Propanoic acid, 2,3,3,3-tetrafluoro-2-methoxy-...      C10H6ClF4NO5   \n",
            "4           Butanenitrile, 2,3-bis(benzoyloxyimino)-        C18H13N3O4   \n",
            "\n",
            "   Detection Frequency  Auto_5_gp_df  Auto_4_gp_df  Auto_3_gp_df  \\\n",
            "0                  0.2           0.0      0.000000      0.000000   \n",
            "1                  0.3           0.0      0.038737      0.002214   \n",
            "2                  0.2           0.0      0.000000      0.074779   \n",
            "3                  0.2           0.0      0.000000      0.000000   \n",
            "4                  0.2           0.0      0.000000      0.011650   \n",
            "\n",
            "   Auto_2_gp_df  Auto_1_gp_df  Auto_5_pm_df  Auto_4_pm_df  Auto_3_pm_df  \\\n",
            "0      0.000000      0.000000           0.0           0.0      0.012104   \n",
            "1      0.004981      0.000000           0.0           0.0      0.000000   \n",
            "2      0.000000      0.197502           0.0           0.0      0.000000   \n",
            "3      0.000000      0.040515           0.0           0.0      0.000000   \n",
            "4      0.000000      0.000000           0.0           0.0      0.000000   \n",
            "\n",
            "   Auto_2_pm_df  Auto_1_pm_df  \n",
            "0      0.004242           0.0  \n",
            "1      0.000000           0.0  \n",
            "2      0.000000           0.0  \n",
            "3      0.004283           0.0  \n",
            "4      0.007541           0.0  \n",
            "Index(['Unnamed: 0', 'Formula (mol ion)', 'Detection Frequency',\n",
            "       'Auto_5_gp_df', 'Auto_4_gp_df', 'Auto_3_gp_df', 'Auto_2_gp_df',\n",
            "       'Auto_1_gp_df', 'Auto_5_pm_df', 'Auto_4_pm_df', 'Auto_3_pm_df',\n",
            "       'Auto_2_pm_df', 'Auto_1_pm_df'],\n",
            "      dtype='object')\n",
            "RangeIndex(start=0, stop=382, step=1)\n"
          ]
        }
      ]
    },
    {
      "cell_type": "code",
      "source": [
        "plt.hist(de_filtered_df['Detection Frequency'], bins=10, edgecolor='black')\n",
        "\n",
        "# Add labels and title\n",
        "plt.xlabel('Value')\n",
        "plt.ylabel('Frequency')\n",
        "plt.title('Histogram detection frequency')\n",
        "\n",
        "# Show the plot\n",
        "plt.show()"
      ],
      "metadata": {
        "colab": {
          "base_uri": "https://localhost:8080/",
          "height": 472
        },
        "id": "ngJwUzlCC6o3",
        "outputId": "5f04c407-fee6-456e-c966-c07542bc6620"
      },
      "execution_count": 3,
      "outputs": [
        {
          "output_type": "display_data",
          "data": {
            "text/plain": [
              "<Figure size 640x480 with 1 Axes>"
            ],
            "image/png": "[encoded data removed]"
          },
          "metadata": {}
        }
      ]
    },
    {
      "cell_type": "code",
      "source": [],
      "metadata": {
        "id": "mmqbPkWrDnnS"
      },
      "execution_count": null,
      "outputs": []
    }
  ]
}