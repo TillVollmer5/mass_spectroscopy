{
  "nbformat": 4,
  "nbformat_minor": 0,
  "metadata": {
    "colab": {
      "provenance": [],
      "authorship_tag": "ABX9TyO/ZR5vH+BIRmOeKbzWVHHV",
      "include_colab_link": true
    },
    "kernelspec": {
      "name": "python3",
      "display_name": "Python 3"
    },
    "language_info": {
      "name": "python"
    }
  },
  "cells": [
    {
      "cell_type": "markdown",
      "metadata": {
        "id": "view-in-github",
        "colab_type": "text"
      },
      "source": [
        "<a href=\"https://colab.research.google.com/github/TillVollmer5/mass_spectroscopy/blob/main/Detection_Frequency_histogram.ipynb\" target=\"_parent\"><img src=\"https://colab.research.google.com/assets/colab-badge.svg\" alt=\"Open In Colab\"/></a>"
      ]
    },
    {
      "cell_type": "code",
      "execution_count": 11,
      "metadata": {
        "colab": {
          "base_uri": "https://localhost:8080/"
        },
        "id": "16PWui5hCnl-",
        "outputId": "3ad7fd18-02f5-453c-ea85-446fdea12673"
      },
      "outputs": [
        {
          "output_type": "stream",
          "name": "stdout",
          "text": [
            "Mounted at /content/drive\n"
          ]
        }
      ],
      "source": [
        "import numpy as np\n",
        "from google.colab import drive\n",
        "import pandas as pd\n",
        "import matplotlib.pyplot as plt\n",
        "\n",
        "drive.mount('/content/drive', force_remount = True)"
      ]
    },
    {
      "cell_type": "code",
      "source": [
        "complete_list_df = pd.read_csv('/content/drive/My Drive/unknown_screening_data/Result_With_Detection_Frequency.csv')\n",
        "print(complete_list_df.head())\n",
        "print(complete_list_df.columns)\n",
        "print(complete_list_df.index)"
      ],
      "metadata": {
        "id": "YBIrJyetB_La",
        "outputId": "f0003936-10e0-4893-be96-fd92631040db",
        "colab": {
          "base_uri": "https://localhost:8080/"
        }
      },
      "execution_count": 12,
      "outputs": [
        {
          "output_type": "stream",
          "name": "stdout",
          "text": [
            "                                          Unnamed: 0 Formula (mol ion)  \\\n",
            "0                                 3-Methoxyhex-1-ene            C7H14O   \n",
            "1               2-Heptenoic acid, 2-ethylhexyl ester          C15H28O2   \n",
            "2                Acetic acid, 3-ethylpent-3-yl ester           C9H18O2   \n",
            "3  5aH,10aH-4a,9a-Epoxydibenzo[b,e][1,4]dioxin-5a...          C12H18O5   \n",
            "4             Benzene, 1,1'-(1-methylethylidene)bis-            C15H16   \n",
            "\n",
            "   Detection Frequency  Auto_5_gp_df  Auto_4_gp_df  Auto_3_gp_df  \\\n",
            "0                  0.1      0.000000      0.041867           0.0   \n",
            "1                  0.1      0.022782      0.000000           0.0   \n",
            "2                  0.1      0.000000      0.007618           0.0   \n",
            "3                  0.1      0.000000      0.000000           0.0   \n",
            "4                  0.1      0.003640      0.000000           0.0   \n",
            "\n",
            "   Auto_2_gp_df  Auto_1_gp_df  Auto_5_pm_df  Auto_4_pm_df  Auto_3_pm_df  \\\n",
            "0           0.0           0.0           0.0           0.0           0.0   \n",
            "1           0.0           0.0           0.0           0.0           0.0   \n",
            "2           0.0           0.0           0.0           0.0           0.0   \n",
            "3           0.0           0.0           0.0           0.0           0.0   \n",
            "4           0.0           0.0           0.0           0.0           0.0   \n",
            "\n",
            "   Auto_2_pm_df  Auto_1_pm_df  \n",
            "0      0.000000           0.0  \n",
            "1      0.000000           0.0  \n",
            "2      0.000000           0.0  \n",
            "3      0.005396           0.0  \n",
            "4      0.000000           0.0  \n",
            "Index(['Unnamed: 0', 'Formula (mol ion)', 'Detection Frequency',\n",
            "       'Auto_5_gp_df', 'Auto_4_gp_df', 'Auto_3_gp_df', 'Auto_2_gp_df',\n",
            "       'Auto_1_gp_df', 'Auto_5_pm_df', 'Auto_4_pm_df', 'Auto_3_pm_df',\n",
            "       'Auto_2_pm_df', 'Auto_1_pm_df'],\n",
            "      dtype='object')\n",
            "RangeIndex(start=0, stop=591, step=1)\n"
          ]
        }
      ]
    },
    {
      "cell_type": "code",
      "source": [
        "plt.hist(complete_list_df['Detection Frequency'], bins=20, edgecolor='black')\n",
        "\n",
        "# Add labels and title\n",
        "plt.xlabel('Detection frequency')\n",
        "plt.ylabel('Nr. compound')\n",
        "plt.savefig('/content/drive/My Drive/Detection_frequency_hist_car.png', dpi=300)\n",
        "\n",
        "# Show the plot\n",
        "plt.show()"
      ],
      "metadata": {
        "id": "zhhA9orzCOOm",
        "outputId": "dc0e4980-3fe6-45e5-a482-778dc199ffc5",
        "colab": {
          "base_uri": "https://localhost:8080/",
          "height": 449
        }
      },
      "execution_count": 13,
      "outputs": [
        {
          "output_type": "display_data",
          "data": {
            "text/plain": [
              "<Figure size 640x480 with 1 Axes>"
            ],
            "image/png": "[encoded data removed]"
          },
          "metadata": {}
        }
      ]
    },
    {
      "cell_type": "code",
      "source": [
        "de_filtered_df = pd.read_csv('/content/drive/My Drive/unknown_screening_data/Result_With_Detection_Frequency_complete.csv')\n",
        "print(de_filtered_df.head())\n",
        "print(de_filtered_df.columns)\n",
        "print(de_filtered_df.index)"
      ],
      "metadata": {
        "colab": {
          "base_uri": "https://localhost:8080/"
        },
        "id": "p7ObCpiZCyfb",
        "outputId": "45d6099d-899e-412d-b411-932e6cfa91c1"
      },
      "execution_count": 14,
      "outputs": [
        {
          "output_type": "stream",
          "name": "stdout",
          "text": [
            "                                          Unnamed: 0 Formula (mol ion)  \\\n",
            "0               2-Heptenoic acid, 2-ethylhexyl ester          C15H28O2   \n",
            "1  benzamide, N-[2-hydroxy-6-[(methylsulfonyl)oxy...        C22H29NO5S   \n",
            "2                Phthalic acid, octyl 2-pentyl ester          C21H32O4   \n",
            "3     Succinic acid, pentadecyl 3-phenylpropyl ester          C28H46O4   \n",
            "4  Benzoic acid, 3,4-methylenedioxy-, 3-formylphe...          C15H10O5   \n",
            "\n",
            "   Detection Frequency  Auto_5_gp_df  Auto_4_gp_df  Auto_3_gp_df  \\\n",
            "0             0.055556      0.022782           0.0           0.0   \n",
            "1             0.111111      0.000000           0.0           0.0   \n",
            "2             0.055556      0.000000           0.0           0.0   \n",
            "3             0.111111      0.000000           0.0           0.0   \n",
            "4             0.055556      0.000000           0.0           0.0   \n",
            "\n",
            "   Auto_2_gp_df  Auto_1_gp_df  Auto_5_pm_df  Auto_4_pm_df  ...  Auto_2_pm_df  \\\n",
            "0           0.0           0.0           0.0           0.0  ...           0.0   \n",
            "1           0.0           0.0           0.0           0.0  ...           0.0   \n",
            "2           0.0           0.0           0.0           0.0  ...           0.0   \n",
            "3           0.0           0.0           0.0           0.0  ...           0.0   \n",
            "4           0.0           0.0           0.0           0.0  ...           0.0   \n",
            "\n",
            "   Auto_1_pm_df  Zafira_2_gp_df  Zafira_1_gp_df  Zafira_2_pm_df  \\\n",
            "0           0.0             0.0        0.000000             0.0   \n",
            "1           0.0             0.0        0.000000             0.0   \n",
            "2           0.0             0.0        0.000000             0.0   \n",
            "3           0.0             0.0        0.000000             0.0   \n",
            "4           0.0             0.0        0.013434             0.0   \n",
            "\n",
            "   Zafira_1_pm_df  U181_60k_df  U181_120k_df  U166_df  U164_df  \n",
            "0        0.000000     0.000000      0.000000      0.0      0.0  \n",
            "1        0.000000     0.008502      0.008502      0.0      0.0  \n",
            "2        1.132798     0.000000      0.000000      0.0      0.0  \n",
            "3        0.000000     0.003633      0.003633      0.0      0.0  \n",
            "4        0.000000     0.000000      0.000000      0.0      0.0  \n",
            "\n",
            "[5 rows x 21 columns]\n",
            "Index(['Unnamed: 0', 'Formula (mol ion)', 'Detection Frequency',\n",
            "       'Auto_5_gp_df', 'Auto_4_gp_df', 'Auto_3_gp_df', 'Auto_2_gp_df',\n",
            "       'Auto_1_gp_df', 'Auto_5_pm_df', 'Auto_4_pm_df', 'Auto_3_pm_df',\n",
            "       'Auto_2_pm_df', 'Auto_1_pm_df', 'Zafira_2_gp_df', 'Zafira_1_gp_df',\n",
            "       'Zafira_2_pm_df', 'Zafira_1_pm_df', 'U181_60k_df', 'U181_120k_df',\n",
            "       'U166_df', 'U164_df'],\n",
            "      dtype='object')\n",
            "RangeIndex(start=0, stop=1139, step=1)\n"
          ]
        }
      ]
    },
    {
      "cell_type": "code",
      "source": [
        "plt.hist(de_filtered_df['Detection Frequency'], bins=20, edgecolor='black')\n",
        "\n",
        "# Add labels and title\n",
        "plt.xlabel('Detection frequency')\n",
        "plt.ylabel('Nr. compound')\n",
        "\n",
        "plt.savefig('/content/drive/My Drive/Detection_frequency_hist_all.png', dpi=300)\n",
        "# Show the plot\n",
        "plt.show()"
      ],
      "metadata": {
        "colab": {
          "base_uri": "https://localhost:8080/",
          "height": 449
        },
        "id": "ngJwUzlCC6o3",
        "outputId": "8bf140f8-ee37-405c-ce28-c9e8898df098"
      },
      "execution_count": 15,
      "outputs": [
        {
          "output_type": "display_data",
          "data": {
            "text/plain": [
              "<Figure size 640x480 with 1 Axes>"
            ],
            "image/png": "[encoded data removed]"
          },
          "metadata": {}
        }
      ]
    },
    {
      "cell_type": "code",
      "source": [],
      "metadata": {
        "id": "mmqbPkWrDnnS"
      },
      "execution_count": 15,
      "outputs": []
    }
  ]
}