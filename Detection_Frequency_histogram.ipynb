{
  "nbformat": 4,
  "nbformat_minor": 0,
  "metadata": {
    "colab": {
      "provenance": [],
      "authorship_tag": "ABX9TyPJiUWbqwVhiOtjN03KA3yg",
      "include_colab_link": true
    },
    "kernelspec": {
      "name": "python3",
      "display_name": "Python 3"
    },
    "language_info": {
      "name": "python"
    }
  },
  "cells": [
    {
      "cell_type": "markdown",
      "metadata": {
        "id": "view-in-github",
        "colab_type": "text"
      },
      "source": [
        "<a href=\"https://colab.research.google.com/github/TillVollmer5/mass_spectroscopy/blob/main/Detection_Frequency_histogram.ipynb\" target=\"_parent\"><img src=\"https://colab.research.google.com/assets/colab-badge.svg\" alt=\"Open In Colab\"/></a>"
      ]
    },
    {
      "cell_type": "code",
      "execution_count": 1,
      "metadata": {
        "colab": {
          "base_uri": "https://localhost:8080/"
        },
        "id": "16PWui5hCnl-",
        "outputId": "ff915a63-9d91-48f9-9906-4e3b1c8845e2"
      },
      "outputs": [
        {
          "output_type": "stream",
          "name": "stdout",
          "text": [
            "Mounted at /content/drive\n"
          ]
        }
      ],
      "source": [
        "import numpy as np\n",
        "from google.colab import drive\n",
        "import pandas as pd\n",
        "import matplotlib.pyplot as plt\n",
        "\n",
        "drive.mount('/content/drive', force_remount = True)"
      ]
    },
    {
      "cell_type": "code",
      "source": [
        "de_filtered_df = pd.read_csv('/content/drive/My Drive/unknown_screening_data/Filtered_Result_With_Detection_Frequency_02.csv')\n",
        "print(de_filtered_df.head())\n",
        "print(de_filtered_df.columns)\n",
        "print(de_filtered_df.index)"
      ],
      "metadata": {
        "colab": {
          "base_uri": "https://localhost:8080/"
        },
        "id": "p7ObCpiZCyfb",
        "outputId": "1adb668d-b2b2-4076-cf0b-cb0d1fcdb39f"
      },
      "execution_count": 2,
      "outputs": [
        {
          "output_type": "stream",
          "name": "stdout",
          "text": [
            "  Formula (mol ion)  Detection Frequency  Auto_5_gp_df  Auto_4_gp_df  \\\n",
            "0       C22H28FN3O3             0.222222      0.004845      0.000000   \n",
            "1      C22H66O9Si10             0.222222      0.000000      0.000000   \n",
            "2          C14H31BO             0.222222      0.000000      0.000000   \n",
            "3          C28H22O2             0.222222      0.000000      0.012009   \n",
            "4        C17H32N2O4             0.611111      0.085946      0.114625   \n",
            "\n",
            "   Auto_3_gp_df  Auto_2_gp_df  Auto_1_gp_df  Zafira_2_gp_df  Zafira_1_gp_df  \\\n",
            "0      0.028002      0.000000      0.006337        0.000000        0.007643   \n",
            "1      0.000000      0.000000      0.000000        0.000000        0.000000   \n",
            "2      0.000000      0.028514      0.000000        0.014033        0.004184   \n",
            "3      0.008015      0.005853      0.000000        0.000000        0.000000   \n",
            "4      0.076645      0.098047      0.433479        0.229846        0.434780   \n",
            "\n",
            "   Auto_5_pm_df  Auto_4_pm_df  Auto_3_pm_df  Auto_2_pm_df  Auto_1_pm_df  \\\n",
            "0      0.000000           0.0           0.0           0.0           0.0   \n",
            "1      0.000000           0.0           0.0           0.0           0.0   \n",
            "2      0.019657           0.0           0.0           0.0           0.0   \n",
            "3      0.000000           0.0           0.0           0.0           0.0   \n",
            "4      0.000000           0.0           0.0           0.0           0.0   \n",
            "\n",
            "   Zafira_2_pm_df  Zafira_1_pm_df  U181_60k_df  U181_120k_df   U166_df  \\\n",
            "0             0.0             0.0     0.000000      0.000000  0.000000   \n",
            "1             0.0             0.0     0.004662      0.007262  0.003463   \n",
            "2             0.0             0.0     0.000000      0.000000  0.000000   \n",
            "3             0.0             0.0     0.000000      0.009663  0.000000   \n",
            "4             0.0             0.0     0.051165      0.016209  0.009643   \n",
            "\n",
            "    U164_df  \n",
            "0  0.000000  \n",
            "1  0.017657  \n",
            "2  0.000000  \n",
            "3  0.000000  \n",
            "4  0.041017  \n",
            "Index(['Formula (mol ion)', 'Detection Frequency', 'Auto_5_gp_df',\n",
            "       'Auto_4_gp_df', 'Auto_3_gp_df', 'Auto_2_gp_df', 'Auto_1_gp_df',\n",
            "       'Zafira_2_gp_df', 'Zafira_1_gp_df', 'Auto_5_pm_df', 'Auto_4_pm_df',\n",
            "       'Auto_3_pm_df', 'Auto_2_pm_df', 'Auto_1_pm_df', 'Zafira_2_pm_df',\n",
            "       'Zafira_1_pm_df', 'U181_60k_df', 'U181_120k_df', 'U166_df', 'U164_df'],\n",
            "      dtype='object')\n",
            "RangeIndex(start=0, stop=223, step=1)\n"
          ]
        }
      ]
    },
    {
      "cell_type": "code",
      "source": [
        "plt.hist(de_filtered_df['Detection Frequency'], bins=10, edgecolor='black')\n",
        "\n",
        "# Add labels and title\n",
        "plt.xlabel('Value')\n",
        "plt.ylabel('Frequency')\n",
        "plt.title('Histogram detection frequency')\n",
        "\n",
        "# Show the plot\n",
        "plt.show()"
      ],
      "metadata": {
        "colab": {
          "base_uri": "https://localhost:8080/",
          "height": 472
        },
        "id": "ngJwUzlCC6o3",
        "outputId": "8da929ea-722a-4546-ba71-ac4e96a8f2a5"
      },
      "execution_count": 5,
      "outputs": [
        {
          "output_type": "display_data",
          "data": {
            "text/plain": [
              "<Figure size 640x480 with 1 Axes>"
            ],
            "image/png": "[encoded data removed]"
          },
          "metadata": {}
        }
      ]
    },
    {
      "cell_type": "code",
      "source": [],
      "metadata": {
        "id": "mmqbPkWrDnnS"
      },
      "execution_count": 3,
      "outputs": []
    }
  ]
}