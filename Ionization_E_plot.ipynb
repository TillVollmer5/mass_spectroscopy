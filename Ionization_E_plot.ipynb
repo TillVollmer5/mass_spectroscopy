{
  "nbformat": 4,
  "nbformat_minor": 0,
  "metadata": {
    "colab": {
      "name": "CodingTask1.ipynb",
      "provenance": [],
      "include_colab_link": true
    },
    "kernelspec": {
      "name": "python3",
      "display_name": "Python 3"
    },
    "language_info": {
      "name": "python"
    }
  },
  "cells": [
    {
      "cell_type": "markdown",
      "metadata": {
        "id": "view-in-github",
        "colab_type": "text"
      },
      "source": [
        "<a href=\"https://colab.research.google.com/github/TillVollmer5/mass_spectroscopy/blob/main/Ionization_E_plot.ipynb\" target=\"_parent\"><img src=\"https://colab.research.google.com/assets/colab-badge.svg\" alt=\"Open In Colab\"/></a>"
      ]
    },
    {
      "cell_type": "markdown",
      "source": [
        "This notebook serves to further investigate the effects of increasing ionization energy at a constant phthalate concentration on the total peak area of the analytes in the total ion current chromatogram.\n",
        "\n",
        "*Input:* The the peak list files (classic structure, header = 6, by thermofisher) are uploaded to the directory titeled *Ionization_E_plot*, it is of key importance that the title of the files follows the format: *Mix_4ug_ml_i_xxeV_pl.csv*\n",
        "Any changes to filename, path or other changes that might impact the file significantly need to be comented extensively."
      ],
      "metadata": {
        "id": "81-pAx1wohFg"
      }
    },
    {
      "cell_type": "markdown",
      "source": [
        "The following code serves to import the librarys and mount the google drive."
      ],
      "metadata": {
        "id": "jRwA-owyqS57"
      }
    },
    {
      "cell_type": "code",
      "source": [
        "import numpy as np\n",
        "from google.colab import drive\n",
        "import glob\n",
        "import pandas as pd\n",
        "import matplotlib.pyplot as plt\n",
        "\n",
        "# Mount Google Drive\n",
        "drive.mount('/content/drive', force_remount = True)\n",
        "\n",
        "# Set path to the folder containing the CSV files\n",
        "path = '/content/drive/My Drive/Ionization_E_plot'\n",
        "\n",
        "# Get a list of all CSV files in the folder\n",
        "files = glob.glob(path + '/Mix_4ug*.csv')"
      ],
      "metadata": {
        "id": "f0Rraq8-lx2k",
        "outputId": "9392e118-baf7-4ac8-bf1d-33f9a094c9b2",
        "colab": {
          "base_uri": "https://localhost:8080/"
        }
      },
      "execution_count": null,
      "outputs": [
        {
          "output_type": "stream",
          "name": "stdout",
          "text": [
            "Mounted at /content/drive\n"
          ]
        }
      ]
    },
    {
      "cell_type": "markdown",
      "source": [
        "The following code loops over all the files in the working direcory and filters out the signals of the phthalates with *mask1* and *mask2*. These parameters might need to be adjusted to ensure that only the 6 phthalates are copied into the output files (*Mix_4ug_ml_i_xxeV_pl_filtered.csv*) which are stored in the google drive/working directory."
      ],
      "metadata": {
        "id": "cgkvku7FqbnM"
      }
    },
    {
      "cell_type": "code",
      "source": [
        "# Loop over the CSV files and load the data into NumPy arrays\n",
        "for file in files:\n",
        "    # Load the CSV file into a pandas DataFrame\n",
        "    df = pd.read_csv(file, header = 6)\n",
        "\n",
        "    # Find rows with values larger than 2 and smaller than 10 in the first column\n",
        "    mask1 = (df.iloc[:, 4] > 2) & (df.iloc[:, 4] < 10)\n",
        "    # Exclude rows below a value of 3 in the second column\n",
        "    mask2 = (df.iloc[:, 0] >= 5)\n",
        "    #combine masks\n",
        "    mask= mask1 & mask2\n",
        "    filtered_df = df[mask]\n",
        "\n",
        "    # Save the filtered rows to a new CSV file\n",
        "    filtered_file = file.replace('.csv', '_filtered.csv')\n",
        "    filtered_df.to_csv(filtered_file, index=False)\n",
        "\n",
        "    # Print the number of rows saved to the new file\n",
        "    print(f\"Saved {len(filtered_df)} rows to {filtered_file}\")"
      ],
      "metadata": {
        "id": "c_qZNJudYwGv",
        "outputId": "01a3cb31-9865-4fb6-c681-df3c4c6ee32d",
        "colab": {
          "base_uri": "https://localhost:8080/"
        }
      },
      "execution_count": null,
      "outputs": [
        {
          "output_type": "stream",
          "name": "stdout",
          "text": [
            "Saved 6 rows to /content/drive/My Drive/Ionization_E_plot/Mix_4ug_ml_2_40eV_pl_filtered.csv\n",
            "Saved 6 rows to /content/drive/My Drive/Ionization_E_plot/Mix_4ug_ml_2_70eV_pl_filtered.csv\n",
            "Saved 6 rows to /content/drive/My Drive/Ionization_E_plot/Mix_4ug_ml_2_16eV_pl_filtered.csv\n",
            "Saved 6 rows to /content/drive/My Drive/Ionization_E_plot/Mix_4ug_ml_1_70eV_pl_filtered.csv\n",
            "Saved 6 rows to /content/drive/My Drive/Ionization_E_plot/Mix_4ug_ml_1_40eV_pl_filtered.csv\n",
            "Saved 6 rows to /content/drive/My Drive/Ionization_E_plot/Mix_4ug_ml_1_16eV_pl_filtered.csv\n"
          ]
        }
      ]
    },
    {
      "cell_type": "markdown",
      "source": [
        "The following code compines 16 eV filtere files to an mean value file titeled: *Mix_4ug_ml_16eV_mean.csv*\n",
        "which is saved in the working google drive folder. Unfortunately these values are currently not representative, as the code seems to have an error."
      ],
      "metadata": {
        "id": "W2h6mLGbhlBn"
      }
    },
    {
      "cell_type": "code",
      "source": [
        "# Get a list of all files with the specified pattern\n",
        "all_files = sorted(glob.glob(path + \"/Mix_4ug_ml_*_16eV_pl_filtered.csv\"))\n",
        "\n",
        "# Initialize an empty list to store the dataframes\n",
        "dataframes = []\n",
        "\n",
        "# Loop through all files and append each dataframe to the list\n",
        "for filename in all_files:\n",
        "    df = pd.read_csv(filename, header=None)\n",
        "    dataframes.append(df)\n",
        "\n",
        "# Concatenate all dataframes along the 3rd dimension (axis=2)\n",
        "combined_df = pd.concat(dataframes, axis=1)\n",
        "\n",
        "# Calculate the mean of each datapoint across all files (axis=2)\n",
        "mean_df = combined_df.mean(axis=1)\n",
        "\n",
        "# Save the mean dataframe to a new file\n",
        "mean_df.to_csv('/content/drive/My Drive/Ionization_E_plot/Mix_4ug_ml_16eV_mean.csv', header=None, index=None)"
      ],
      "metadata": {
        "id": "tuEuxzpAcHxl",
        "outputId": "f3059547-677d-437a-8430-e1e5699e2465",
        "colab": {
          "base_uri": "https://localhost:8080/"
        }
      },
      "execution_count": null,
      "outputs": [
        {
          "output_type": "stream",
          "name": "stderr",
          "text": [
            "<ipython-input-17-7c6e8a7b43b8>:16: FutureWarning: Dropping of nuisance columns in DataFrame reductions (with 'numeric_only=None') is deprecated; in a future version this will raise TypeError.  Select only valid columns before calling the reduction.\n",
            "  mean_df = combined_df.mean(axis=1)\n"
          ]
        }
      ]
    },
    {
      "cell_type": "markdown",
      "source": [
        "The following code compines 40 eV filtere files to an mean value file titeled: *Mix_4ug_ml_40eV_mean.csv*\n",
        "which is saved in the working google drive folder. Unfortunately these values are currently not representative, as the code seems to have an error."
      ],
      "metadata": {
        "id": "VixXSJYHiU2E"
      }
    },
    {
      "cell_type": "code",
      "source": [
        "# Get a list of all files with the specified pattern\n",
        "all_files = sorted(glob.glob(path + \"/Mix_4ug_ml_*_40eV_pl_filtered.csv\"))\n",
        "\n",
        "# Initialize an empty list to store the dataframes\n",
        "dataframes = []\n",
        "\n",
        "# Loop through all files and append each dataframe to the list\n",
        "for filename in all_files:\n",
        "    df = pd.read_csv(filename, header=None)\n",
        "    dataframes.append(df)\n",
        "\n",
        "# Concatenate all dataframes along the 3rd dimension (axis=2)\n",
        "combined_df = pd.concat(dataframes, axis=1)\n",
        "\n",
        "# Calculate the mean of each datapoint across all files (axis=2)\n",
        "mean_df = combined_df.mean(axis=1)\n",
        "\n",
        "# Save the mean dataframe to a new file\n",
        "mean_df.to_csv('/content/drive/My Drive/Ionization_E_plot/Mix_4ug_ml_40eV_mean.csv', header=None, index=None)"
      ],
      "metadata": {
        "id": "QUTuBz-2iY-t"
      },
      "execution_count": null,
      "outputs": []
    },
    {
      "cell_type": "markdown",
      "source": [
        "The following code compines 70 eV filtere files to an mean value file titeled: *Mix_4ug_ml_70eV_mean.csv*\n",
        "which is saved in the working google drive folder. Unfortunately these values are currently not representative, as the code seems to have an error."
      ],
      "metadata": {
        "id": "RMRaBXFPilNJ"
      }
    },
    {
      "cell_type": "code",
      "source": [
        "# Get a list of all files with the specified pattern\n",
        "all_files = sorted(glob.glob(path + \"/Mix_4ug_ml_*_70eV_pl_filtered.csv\"))\n",
        "\n",
        "# Initialize an empty list to store the dataframes\n",
        "dataframes = []\n",
        "\n",
        "# Loop through all files and append each dataframe to the list\n",
        "for filename in all_files:\n",
        "    df = pd.read_csv(filename, header=None)\n",
        "    dataframes.append(df)\n",
        "\n",
        "# Concatenate all dataframes along the 3rd dimension (axis=2)\n",
        "combined_df = pd.concat(dataframes, axis=1)\n",
        "\n",
        "# Calculate the mean of each datapoint across all files (axis=2)\n",
        "mean_df = combined_df.mean(axis=1)\n",
        "\n",
        "# Save the mean dataframe to a new file\n",
        "mean_df.to_csv('/content/drive/My Drive/Ionization_E_plot/Mix_4ug_ml_70eV_mean.csv', header=None, index=None)"
      ],
      "metadata": {
        "id": "S2ry9V-Oiwzg",
        "outputId": "a3e54a8e-ff06-4a08-d2d4-f9bf48a0110f",
        "colab": {
          "base_uri": "https://localhost:8080/"
        }
      },
      "execution_count": null,
      "outputs": [
        {
          "output_type": "stream",
          "name": "stderr",
          "text": [
            "<ipython-input-19-3a4c8592effc>:16: FutureWarning: Dropping of nuisance columns in DataFrame reductions (with 'numeric_only=None') is deprecated; in a future version this will raise TypeError.  Select only valid columns before calling the reduction.\n",
            "  mean_df = combined_df.mean(axis=1)\n"
          ]
        }
      ]
    },
    {
      "cell_type": "markdown",
      "source": [
        "The following code takes the mean files and creates an xy-plot to visualize the summarized data."
      ],
      "metadata": {
        "id": "CJ7u0iaNnQEd"
      }
    },
    {
      "cell_type": "code",
      "source": [
        "# Get a list of all filtered CSV files in the folder\n",
        "files = glob.glob(path + '/Mix_4ug_*_mean.csv')\n",
        "\n",
        "# Create an empty list to store the data and file names\n",
        "data = []\n",
        "names = []\n",
        "\n",
        "# Loop over the filtered CSV files and load the data into NumPy arrays\n",
        "for file in files:\n",
        "  # Load the CSV file into a pandas DataFrame\n",
        "  df = pd.read_csv(file)\n",
        "\n",
        "  # Add the data and file name to the lists\n",
        "  data.append(df.iloc[:, 0])\n",
        "  names.append(file.split('/')[-1].split('.')[0])\n",
        "\n",
        "# Plot the data as a scatter plot\n",
        "plt.figure(figsize=(10, 6))\n",
        "for i in range(len(data)):\n",
        "  plt.scatter([names[i]] * len(data[i]), data[i], label=names[i])\n",
        "\n",
        "# Set the x-axis label and rotate the labels\n",
        "plt.xlabel('Dependence of the area with the increase of ionization energy')\n",
        "plt.xticks(rotation=90)\n",
        "\n",
        "# Set the y-axis\n",
        "plt.ylabel('Data (6th Column)')\n",
        "\n",
        "# Add a legend and show the plot\n",
        "plt.legend()\n",
        "plt.show()"
      ],
      "metadata": {
        "id": "yHbHioJWZqXb",
        "outputId": "47026324-71ad-4069-9f7a-f6ceea683863",
        "colab": {
          "base_uri": "https://localhost:8080/",
          "height": 714
        }
      },
      "execution_count": null,
      "outputs": [
        {
          "output_type": "display_data",
          "data": {
            "text/plain": [
              "<Figure size 1000x600 with 1 Axes>"
            ],
            "image/png": "[encoded data removed]"
          },
          "metadata": {}
        }
      ]
    },
    {
      "cell_type": "code",
      "source": [],
      "metadata": {
        "id": "JnD9qJcxelV-"
      },
      "execution_count": null,
      "outputs": []
    }
  ]
}