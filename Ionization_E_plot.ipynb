{
  "nbformat": 4,
  "nbformat_minor": 0,
  "metadata": {
    "colab": {
      "name": "CodingTask1.ipynb",
      "provenance": [],
      "include_colab_link": true
    },
    "kernelspec": {
      "name": "python3",
      "display_name": "Python 3"
    },
    "language_info": {
      "name": "python"
    }
  },
  "cells": [
    {
      "cell_type": "markdown",
      "metadata": {
        "id": "view-in-github",
        "colab_type": "text"
      },
      "source": [
        "<a href=\"https://colab.research.google.com/github/TillVollmer5/mass_spectroscopy/blob/main/Ionization_E_plot.ipynb\" target=\"_parent\"><img src=\"https://colab.research.google.com/assets/colab-badge.svg\" alt=\"Open In Colab\"/></a>"
      ]
    },
    {
      "cell_type": "markdown",
      "source": [
        "This notebook serves to further investigate the effects of increasing ionization energy at a constant phthalate concentration on the total peak area of the analytes in the total ion current chromatogram.\n",
        "\n",
        "*Input:* The the peak list files (classic structure, header = 6, by thermofisher) are uploaded to the directory titeled *Ionization_E_plot*, it is of key importance that the title of the files follows the format: *Mix_4ug_ml_i_xxeV_pl.csv*\n",
        "Any changes to filename, path or other changes that might impact the file significantly need to be comented extensively."
      ],
      "metadata": {
        "id": "81-pAx1wohFg"
      }
    },
    {
      "cell_type": "markdown",
      "source": [
        "The following code serves to import the librarys and mount the google drive."
      ],
      "metadata": {
        "id": "jRwA-owyqS57"
      }
    },
    {
      "cell_type": "code",
      "source": [
        "import numpy as np\n",
        "from google.colab import drive\n",
        "import glob\n",
        "import pandas as pd\n",
        "import matplotlib.pyplot as plt\n",
        "\n",
        "# Mount Google Drive\n",
        "drive.mount('/content/drive', force_remount = True)\n",
        "\n",
        "# Set path to the folder containing the CSV files\n",
        "path = '/content/drive/My Drive/Ionization_E_plot'\n",
        "\n",
        "# Get a list of all CSV files in the folder\n",
        "files = glob.glob(path + '/Mix_4ug*.csv')"
      ],
      "metadata": {
        "id": "f0Rraq8-lx2k",
        "outputId": "dfe02fcc-c2ef-435e-df36-42fff31fa08b",
        "colab": {
          "base_uri": "https://localhost:8080/"
        }
      },
      "execution_count": 1,
      "outputs": [
        {
          "output_type": "stream",
          "name": "stdout",
          "text": [
            "Mounted at /content/drive\n"
          ]
        }
      ]
    },
    {
      "cell_type": "markdown",
      "source": [
        "The following code loops over all the files in the working direcory and filters out the signals of the phthalates with *mask1* and *mask2*. These parameters might need to be adjusted to ensure that only the 6 phthalates are copied into the output files (*Mix_4ug_ml_i_xxeV_pl_filtered.csv*) which are stored in the google drive/working directory."
      ],
      "metadata": {
        "id": "cgkvku7FqbnM"
      }
    },
    {
      "cell_type": "code",
      "source": [
        "# Loop over the CSV files and load the data into NumPy arrays\n",
        "for file in files:\n",
        "    # Load the CSV file into a pandas DataFrame\n",
        "    df = pd.read_csv(file, header = 7)\n",
        "\n",
        "    # Find rows with values larger than 2 and smaller than 10 in the first column\n",
        "    mask1 = (df.iloc[:, 4] > 2) & (df.iloc[:, 4] < 10)\n",
        "    # Exclude rows below a value of 3 in the second column\n",
        "    mask2 = (df.iloc[:, 0] >= 6)\n",
        "    #combine masks\n",
        "    mask= mask1 & mask2\n",
        "    filtered_df = df[mask]\n",
        "    \n",
        "    # Save the filtered rows to a new CSV file\n",
        "    filtered_file = file.replace('.csv', '_filtered.csv')\n",
        "    filtered_df.to_csv(filtered_file, index=False)\n",
        "\n",
        "    # Print the number of rows saved to the new file\n",
        "    print(f\"Saved {len(filtered_df)} rows to {filtered_file}\")"
      ],
      "metadata": {
        "id": "c_qZNJudYwGv",
        "outputId": "b41a4b78-829d-4947-ed5d-99dac1e5dbc1",
        "colab": {
          "base_uri": "https://localhost:8080/"
        }
      },
      "execution_count": 19,
      "outputs": [
        {
          "output_type": "stream",
          "name": "stdout",
          "text": [
            "Saved 6 rows to /content/drive/My Drive/Ionization_E_plot/Mix_4ug_ml_2_16eV_pl_filtered.csv\n",
            "Saved 6 rows to /content/drive/My Drive/Ionization_E_plot/Mix_4ug_ml_2_40eV_pl_filtered.csv\n",
            "Saved 6 rows to /content/drive/My Drive/Ionization_E_plot/Mix_4ug_ml_2_70eV_pl_filtered.csv\n",
            "Saved 6 rows to /content/drive/My Drive/Ionization_E_plot/Mix_4ug_ml_1_16eV_pl_filtered.csv\n",
            "Saved 6 rows to /content/drive/My Drive/Ionization_E_plot/Mix_4ug_ml_1_40eV_pl_filtered.csv\n",
            "Saved 6 rows to /content/drive/My Drive/Ionization_E_plot/Mix_4ug_ml_1_70eV_pl_filtered.csv\n"
          ]
        }
      ]
    },
    {
      "cell_type": "markdown",
      "source": [
        "The following code compines 16 eV filtere files to an mean value file titeled: *Mix_4ug_ml_16eV_mean.csv*\n",
        "which is saved in the working google drive folder. Unfortunately these values are currently not representative, as the code seems to have an error."
      ],
      "metadata": {
        "id": "W2h6mLGbhlBn"
      }
    },
    {
      "cell_type": "code",
      "source": [
        "# Get a list of all files with the specified pattern\n",
        "all_files = sorted(glob.glob(path + \"/Mix_4ug_ml_*_16eV_pl_filtered.csv\"))\n",
        "\n",
        "# Initialize an empty list to store the dataframes\n",
        "dataframes = []\n",
        "\n",
        "# Loop through all files and append each dataframe to the list\n",
        "for filename in all_files:\n",
        "    df = pd.read_csv(filename, header=None)\n",
        "    dataframes.append(df)\n",
        "\n",
        "print(dataframes)\n",
        "# Concatenate all dataframes along the 3rd dimension (axis=2)\n",
        "combined_df = pd.concat(dataframes, axis=1)\n",
        "\n",
        "print('.............................')\n",
        "print(combined_df)\n",
        "# Calculate the mean of each datapoint across all files (axis=2)\n",
        "mean_df = combined_df.mean(axis=1)\n",
        "print(mean_df)\n",
        "# Save the mean dataframe to a new file\n",
        "mean_df.to_csv('/content/drive/My Drive/Ionization_E_plot/Mix_4ug_ml_16eV_mean.csv', header=None, index=None)"
      ],
      "metadata": {
        "id": "tuEuxzpAcHxl",
        "outputId": "0e0313ce-746c-45f7-d7f7-8c5f4a268e4b",
        "colab": {
          "base_uri": "https://localhost:8080/"
        }
      },
      "execution_count": 21,
      "outputs": [
        {
          "output_type": "stream",
          "name": "stdout",
          "text": [
            "[       0      1      2             3     4             5     6\n",
            "0   0.13   0.11   0.92  9.685421e+07  0.05  3.619721e+06  0.01\n",
            "1   6.22   6.14   6.52  4.021189e+09  2.07  2.565825e+09  5.32\n",
            "2   7.75   7.63   7.85  4.440476e+09  2.28  2.447983e+09  5.08\n",
            "3  13.34  13.12  13.65  6.170831e+09  3.17  2.495549e+09  5.17\n",
            "4  18.65  18.55  18.88  6.266202e+09  3.22  3.336026e+09  6.92\n",
            "5  20.43  20.37  20.75  6.633049e+09  3.41  3.560301e+09  7.38\n",
            "6  22.02  21.81  22.35  7.116444e+09  3.66  3.933659e+09  8.16,        0      1      2             3      4             5      6\n",
            "0   1.86   1.29   1.98  9.823041e+10  37.80  1.038661e+10  13.12\n",
            "1   6.21   6.13   6.51  5.414277e+09   2.08  3.720488e+09   4.70\n",
            "2   7.74   7.62   7.84  6.569123e+09   2.53  3.669896e+09   4.63\n",
            "3  13.34  13.12  13.63  9.138311e+09   3.52  3.995123e+09   5.04\n",
            "4  18.65  18.55  18.88  8.717659e+09   3.35  4.464954e+09   5.64\n",
            "5  20.44  20.37  20.76  1.089233e+10   4.19  6.412097e+09   8.10\n",
            "6  22.02  21.94  22.48  1.080989e+10   4.16  6.034295e+09   7.62]\n",
            ".............................\n",
            "       0      1      2             3     4             5     6      0      1  \\\n",
            "0   0.13   0.11   0.92  9.685421e+07  0.05  3.619721e+06  0.01   1.86   1.29   \n",
            "1   6.22   6.14   6.52  4.021189e+09  2.07  2.565825e+09  5.32   6.21   6.13   \n",
            "2   7.75   7.63   7.85  4.440476e+09  2.28  2.447983e+09  5.08   7.74   7.62   \n",
            "3  13.34  13.12  13.65  6.170831e+09  3.17  2.495549e+09  5.17  13.34  13.12   \n",
            "4  18.65  18.55  18.88  6.266202e+09  3.22  3.336026e+09  6.92  18.65  18.55   \n",
            "5  20.43  20.37  20.75  6.633049e+09  3.41  3.560301e+09  7.38  20.44  20.37   \n",
            "6  22.02  21.81  22.35  7.116444e+09  3.66  3.933659e+09  8.16  22.02  21.94   \n",
            "\n",
            "       2             3      4             5      6  \n",
            "0   1.98  9.823041e+10  37.80  1.038661e+10  13.12  \n",
            "1   6.51  5.414277e+09   2.08  3.720488e+09   4.70  \n",
            "2   7.84  6.569123e+09   2.53  3.669896e+09   4.63  \n",
            "3  13.63  9.138311e+09   3.52  3.995123e+09   5.04  \n",
            "4  18.88  8.717659e+09   3.35  4.464954e+09   5.64  \n",
            "5  20.76  1.089233e+10   4.19  6.412097e+09   8.10  \n",
            "6  22.48  1.080989e+10   4.16  6.034295e+09   7.62  \n",
            "0    7.765535e+09\n",
            "1    1.122984e+09\n",
            "2    1.223391e+09\n",
            "3    1.557130e+09\n",
            "4    1.627489e+09\n",
            "5    1.964127e+09\n",
            "6    1.992449e+09\n",
            "dtype: float64\n"
          ]
        }
      ]
    },
    {
      "cell_type": "markdown",
      "source": [
        "The following code compines 40 eV filtere files to an mean value file titeled: *Mix_4ug_ml_40eV_mean.csv*\n",
        "which is saved in the working google drive folder. Unfortunately these values are currently not representative, as the code seems to have an error."
      ],
      "metadata": {
        "id": "VixXSJYHiU2E"
      }
    },
    {
      "cell_type": "code",
      "source": [
        "# Get a list of all files with the specified pattern\n",
        "all_files = sorted(glob.glob(path + \"/Mix_4ug_ml_*_40eV_pl_filtered.csv\"))\n",
        "\n",
        "# Initialize an empty list to store the dataframes\n",
        "dataframes = []\n",
        "\n",
        "# Loop through all files and append each dataframe to the list\n",
        "for filename in all_files:\n",
        "    df = pd.read_csv(filename, header=None)\n",
        "    dataframes.append(df)\n",
        "\n",
        "# Concatenate all dataframes along the 3rd dimension (axis=2)\n",
        "combined_df = pd.concat(dataframes, axis=1)\n",
        "\n",
        "# Calculate the mean of each datapoint across all files (axis=2)\n",
        "mean_df = combined_df.mean(axis=1)\n",
        "\n",
        "# Save the mean dataframe to a new file\n",
        "mean_df.to_csv('/content/drive/My Drive/Ionization_E_plot/Mix_4ug_ml_40eV_mean.csv', header=None, index=None)"
      ],
      "metadata": {
        "id": "QUTuBz-2iY-t"
      },
      "execution_count": null,
      "outputs": []
    },
    {
      "cell_type": "markdown",
      "source": [
        "The following code compines 70 eV filtere files to an mean value file titeled: *Mix_4ug_ml_70eV_mean.csv*\n",
        "which is saved in the working google drive folder. Unfortunately these values are currently not representative, as the code seems to have an error."
      ],
      "metadata": {
        "id": "RMRaBXFPilNJ"
      }
    },
    {
      "cell_type": "code",
      "source": [
        "# Get a list of all files with the specified pattern\n",
        "all_files = sorted(glob.glob(path + \"/Mix_4ug_ml_*_70eV_pl_filtered.csv\"))\n",
        "\n",
        "# Initialize an empty list to store the dataframes\n",
        "dataframes = []\n",
        "\n",
        "# Loop through all files and append each dataframe to the list\n",
        "for filename in all_files:\n",
        "    df = pd.read_csv(filename, header=None)\n",
        "    dataframes.append(df)\n",
        "\n",
        "# Concatenate all dataframes along the 3rd dimension (axis=2)\n",
        "combined_df = pd.concat(dataframes, axis=1)\n",
        "\n",
        "# Calculate the mean of each datapoint across all files (axis=2)\n",
        "mean_df = combined_df.mean(axis=1)\n",
        "\n",
        "# Save the mean dataframe to a new file\n",
        "mean_df.to_csv('/content/drive/My Drive/Ionization_E_plot/Mix_4ug_ml_70eV_mean.csv', header=None, index=None)"
      ],
      "metadata": {
        "id": "S2ry9V-Oiwzg",
        "outputId": "a3e54a8e-ff06-4a08-d2d4-f9bf48a0110f",
        "colab": {
          "base_uri": "https://localhost:8080/"
        }
      },
      "execution_count": null,
      "outputs": [
        {
          "output_type": "stream",
          "name": "stderr",
          "text": [
            "<ipython-input-19-3a4c8592effc>:16: FutureWarning: Dropping of nuisance columns in DataFrame reductions (with 'numeric_only=None') is deprecated; in a future version this will raise TypeError.  Select only valid columns before calling the reduction.\n",
            "  mean_df = combined_df.mean(axis=1)\n"
          ]
        }
      ]
    },
    {
      "cell_type": "markdown",
      "source": [
        "The following scripd calculates the standard deviation of the 16 eV which is saved in the working directory on the google drive with the change of _mean.csv to _std.csv."
      ],
      "metadata": {
        "id": "ZhxKVpi5u0Ee"
      }
    },
    {
      "cell_type": "code",
      "source": [
        "# Get a list of all files with the specified pattern\n",
        "all_files = sorted(glob.glob(path + \"/Mix_4ug_ml_*_16eV_pl_filtered.csv\"))\n",
        "\n",
        "# Initialize an empty list to store the dataframes\n",
        "dataframes = []\n",
        "\n",
        "# Loop through all files and append each dataframe to the list\n",
        "for filename in all_files:\n",
        "    df = pd.read_csv(filename, header=None)\n",
        "    dataframes.append(df)\n",
        "\n",
        "# Concatenate all dataframes along the 3rd dimension (axis=2)\n",
        "combined_df = pd.concat(dataframes, axis=1)\n",
        "\n",
        "# Calculate the standard deviation of each datapoint across all files (axis=1)\n",
        "std_df = combined_df.std(axis=1)\n",
        "\n",
        "# Save the standard deviation dataframe to a new file\n",
        "std_df.to_csv('/content/drive/My Drive/Ionization_E_plot/Mix_4ug_ml_16eV_std.csv', header=None, index=None)"
      ],
      "metadata": {
        "id": "fArbqrv_uGSJ",
        "outputId": "5e7bd622-78c4-4e85-e848-932bf05d6f01",
        "colab": {
          "base_uri": "https://localhost:8080/"
        }
      },
      "execution_count": null,
      "outputs": [
        {
          "output_type": "stream",
          "name": "stderr",
          "text": [
            "<ipython-input-27-2fa8ea559d66>:16: FutureWarning: Dropping of nuisance columns in DataFrame reductions (with 'numeric_only=None') is deprecated; in a future version this will raise TypeError.  Select only valid columns before calling the reduction.\n",
            "  std_df = combined_df.std(axis=1)\n"
          ]
        }
      ]
    },
    {
      "cell_type": "markdown",
      "source": [
        "The following scripd calculates the standard deviation of the 40 eV which is saved in the working directory on the google drive with the change of _mean.csv to _std.csv."
      ],
      "metadata": {
        "id": "DxqEwssnvLro"
      }
    },
    {
      "cell_type": "code",
      "source": [
        "# Get a list of all files with the specified pattern\n",
        "all_files = sorted(glob.glob(path + \"/Mix_4ug_ml_*_40eV_pl_filtered.csv\"))\n",
        "\n",
        "# Initialize an empty list to store the dataframes\n",
        "dataframes = []\n",
        "\n",
        "# Loop through all files and append each dataframe to the list\n",
        "for filename in all_files:\n",
        "    df = pd.read_csv(filename, header=None)\n",
        "    dataframes.append(df)\n",
        "\n",
        "# Concatenate all dataframes along the 3rd dimension (axis=2)\n",
        "combined_df = pd.concat(dataframes, axis=1)\n",
        "\n",
        "# Calculate the standard deviation of each datapoint across all files (axis=1)\n",
        "std_df = combined_df.std(axis=1)\n",
        "\n",
        "# Save the standard deviation dataframe to a new file\n",
        "std_df.to_csv('/content/drive/My Drive/Ionization_E_plot/Mix_4ug_ml_40eV_std.csv', header=None, index=None)"
      ],
      "metadata": {
        "id": "-5Tyx8IXvSud"
      },
      "execution_count": null,
      "outputs": []
    },
    {
      "cell_type": "markdown",
      "source": [
        "The following scripd calculates the standard deviation of the 70 eV which is saved in the working directory on the google drive with the change of _mean.csv to _std.csv."
      ],
      "metadata": {
        "id": "SyYK_HQJvWm5"
      }
    },
    {
      "cell_type": "code",
      "source": [
        "# Get a list of all files with the specified pattern\n",
        "all_files = sorted(glob.glob(path + \"/Mix_4ug_ml_*_70eV_pl_filtered.csv\"))\n",
        "\n",
        "# Initialize an empty list to store the dataframes\n",
        "dataframes = []\n",
        "\n",
        "# Loop through all files and append each dataframe to the list\n",
        "for filename in all_files:\n",
        "    df = pd.read_csv(filename, header=None)\n",
        "    dataframes.append(df)\n",
        "\n",
        "# Concatenate all dataframes along the 3rd dimension (axis=2)\n",
        "combined_df = pd.concat(dataframes, axis=1)\n",
        "\n",
        "# Calculate the standard deviation of each datapoint across all files (axis=1)\n",
        "std_df = combined_df.std(axis=1)\n",
        "\n",
        "# Save the standard deviation dataframe to a new file\n",
        "std_df.to_csv('/content/drive/My Drive/Ionization_E_plot/Mix_4ug_ml_70eV_std.csv', header=None, index=None)"
      ],
      "metadata": {
        "id": "NOkAcIvkvcBh",
        "outputId": "dc63f528-b3ca-4d3c-8c29-ddd72251873f",
        "colab": {
          "base_uri": "https://localhost:8080/"
        }
      },
      "execution_count": null,
      "outputs": [
        {
          "output_type": "stream",
          "name": "stderr",
          "text": [
            "<ipython-input-29-7bb606e8db46>:16: FutureWarning: Dropping of nuisance columns in DataFrame reductions (with 'numeric_only=None') is deprecated; in a future version this will raise TypeError.  Select only valid columns before calling the reduction.\n",
            "  std_df = combined_df.std(axis=1)\n"
          ]
        }
      ]
    },
    {
      "cell_type": "markdown",
      "source": [
        "The following code takes the mean files and creates an xy-plot to visualize the summarized data."
      ],
      "metadata": {
        "id": "CJ7u0iaNnQEd"
      }
    },
    {
      "cell_type": "code",
      "source": [
        "# Get a list of all filtered CSV files in the folder\n",
        "files = glob.glob(path + '/Mix_4ug_*_mean.csv')\n",
        "\n",
        "# Create an empty list to store the data and file names\n",
        "data = []\n",
        "names = []\n",
        "\n",
        "# Loop over the filtered CSV files and load the data into NumPy arrays\n",
        "for file in files:\n",
        "  # Load the CSV file into a pandas DataFrame\n",
        "  df = pd.read_csv(file)\n",
        "\n",
        "  # Add the data and file name to the lists\n",
        "  data.append(df.iloc[:, 0])\n",
        "  names.append(file.split('/')[-1].split('.')[0])\n",
        "\n",
        "# Plot the data as a scatter plot\n",
        "plt.figure(figsize=(10, 6))\n",
        "for i in range(len(data)):\n",
        "  plt.scatter([names[i]] * len(data[i]), data[i], label=names[i])\n",
        "\n",
        "# Set the x-axis label and rotate the labels\n",
        "plt.xlabel('Dependence of the area with the increase of ionization energy')\n",
        "plt.xticks(rotation=90)\n",
        "\n",
        "# Set the y-axis\n",
        "plt.ylabel('Data (6th Column)')\n",
        "\n",
        "# Add a legend and show the plot\n",
        "plt.legend()\n",
        "plt.show()"
      ],
      "metadata": {
        "id": "yHbHioJWZqXb",
        "outputId": "47026324-71ad-4069-9f7a-f6ceea683863",
        "colab": {
          "base_uri": "https://localhost:8080/",
          "height": 714
        }
      },
      "execution_count": null,
      "outputs": [
        {
          "output_type": "display_data",
          "data": {
            "text/plain": [
              "<Figure size 1000x600 with 1 Axes>"
            ],
            "image/png": "[encoded data removed]"
          },
          "metadata": {}
        }
      ]
    },
    {
      "cell_type": "markdown",
      "source": [
        "The following code plots the data and implements the error bars, correlating to the standard deviation of each datapoint. As with the plot before, it seems to contain major errors due to false imputs from the mean and std file. This needs to be debugged and changed accordingly."
      ],
      "metadata": {
        "id": "5_tQq6lNwhXO"
      }
    },
    {
      "cell_type": "code",
      "source": [
        "# Get a list of all filtered CSV files in the folder\n",
        "files = glob.glob(path + '/Mix_4ug_*_mean.csv')\n",
        "\n",
        "# Create an empty list to store the data, file names, and standard deviation values\n",
        "data = []\n",
        "names = []\n",
        "std_devs = []\n",
        "\n",
        "# Loop over the filtered CSV files and load the data into NumPy arrays\n",
        "for file in files:\n",
        "    # Load the CSV file into a pandas DataFrame\n",
        "    df = pd.read_csv(file)\n",
        "\n",
        "    # Add the data and file name to the lists\n",
        "    data.append(df.iloc[:, 0])\n",
        "    names.append(file.split('/')[-1].split('.')[0])\n",
        "\n",
        "    # Load the standard deviation CSV file into a pandas DataFrame\n",
        "    std_file = file.replace('_mean.csv', '_std.csv')\n",
        "    std_df = pd.read_csv(std_file)\n",
        "\n",
        "    # Add the standard deviation values to the list\n",
        "    std_devs.append(std_df.iloc[:, 0])\n",
        "\n",
        "# Plot the data as a scatter plot with error bars\n",
        "plt.figure(figsize=(10, 6))\n",
        "for i in range(len(data)):\n",
        "    plt.errorbar([names[i]] * len(data[i]), data[i], yerr=std_devs[i],\n",
        "                 fmt='o', capsize=3, label=names[i])\n",
        "\n",
        "# Set the x-axis label and rotate the labels\n",
        "plt.xlabel('Dependence of the area with the increase of ionization energy')\n",
        "plt.xticks(rotation=90)\n",
        "\n",
        "# Set the y-axis\n",
        "plt.ylabel('Data (6th Column)')\n",
        "\n",
        "# Add a legend and show the plot\n",
        "plt.legend()\n",
        "plt.show()\n"
      ],
      "metadata": {
        "id": "JnD9qJcxelV-",
        "outputId": "63b5a31b-f6d4-4c18-d3c8-0ce9d65babb0",
        "colab": {
          "base_uri": "https://localhost:8080/",
          "height": 714
        }
      },
      "execution_count": null,
      "outputs": [
        {
          "output_type": "display_data",
          "data": {
            "text/plain": [
              "<Figure size 1000x600 with 1 Axes>"
            ],
            "image/png": "[encoded data removed]"
          },
          "metadata": {}
        }
      ]
    },
    {
      "cell_type": "code",
      "source": [],
      "metadata": {
        "id": "C9D08jWnweWG"
      },
      "execution_count": null,
      "outputs": []
    }
  ]
}