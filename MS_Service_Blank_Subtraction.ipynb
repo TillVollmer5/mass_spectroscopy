{
  "nbformat": 4,
  "nbformat_minor": 0,
  "metadata": {
    "colab": {
      "provenance": [],
      "authorship_tag": "ABX9TyPm9JZYr0+n6SNfdmhN7ciT",
      "include_colab_link": true
    },
    "kernelspec": {
      "name": "python3",
      "display_name": "Python 3"
    },
    "language_info": {
      "name": "python"
    }
  },
  "cells": [
    {
      "cell_type": "markdown",
      "metadata": {
        "id": "view-in-github",
        "colab_type": "text"
      },
      "source": [
        "<a href=\"https://colab.research.google.com/github/TillVollmer5/mass_spectroscopy/blob/main/MS_Service_Blank_Subtraction.ipynb\" target=\"_parent\"><img src=\"https://colab.research.google.com/assets/colab-badge.svg\" alt=\"Open In Colab\"/></a>"
      ]
    },
    {
      "cell_type": "code",
      "execution_count": 29,
      "metadata": {
        "colab": {
          "base_uri": "https://localhost:8080/"
        },
        "id": "MrhfiWvXAA0c",
        "outputId": "c5c155b2-f790-4eef-ea51-8e5cca716999"
      },
      "outputs": [
        {
          "output_type": "stream",
          "name": "stdout",
          "text": [
            "Mounted at /content/drive\n"
          ]
        }
      ],
      "source": [
        "import matplotlib.pyplot as plt\n",
        "import numpy as np\n",
        "from google.colab import drive\n",
        "import pandas as pd\n",
        "\n",
        "drive.mount('/content/drive', force_remount = True)"
      ]
    },
    {
      "cell_type": "code",
      "source": [
        "#Blank_EtOAc = pd.read_csv('/content/drive/My Drive/Reusser_alkene_screening/EtOAC.csv', error_bad_lines=False)\n",
        "DCM = pd.read_csv('/content/drive/My Drive/Reusser_alkene_screening/DCM_new.csv', error_bad_lines=False)\n",
        "ER_0789a_n = pd.read_csv('/content/drive/My Drive/Reusser_alkene_screening/ER_0789a_n.csv', error_bad_lines=False)\n",
        "ER_0788a_n = pd.read_csv('/content/drive/My Drive/Reusser_alkene_screening/ER_0788a_n.csv', error_bad_lines=False)\n",
        "ER_0788b_n = pd.read_csv('/content/drive/My Drive/Reusser_alkene_screening/ER_0788b_n.csv', error_bad_lines=False)\n",
        "ER_0787a_n = pd.read_csv('/content/drive/My Drive/Reusser_alkene_screening/ER_0787a_n.csv', error_bad_lines=False)\n",
        "ER_0787b_n = pd.read_csv('/content/drive/My Drive/Reusser_alkene_screening/ER_0787a_n.csv', error_bad_lines=False)"
      ],
      "metadata": {
        "colab": {
          "base_uri": "https://localhost:8080/"
        },
        "id": "6b6yRL0aAGas",
        "outputId": "8eeeff29-ff55-4fc8-b87a-d0a2b32b2d5f"
      },
      "execution_count": 30,
      "outputs": [
        {
          "output_type": "stream",
          "name": "stderr",
          "text": [
            "<ipython-input-30-e554afb64508>:2: FutureWarning: The error_bad_lines argument has been deprecated and will be removed in a future version. Use on_bad_lines in the future.\n",
            "\n",
            "\n",
            "  DCM = pd.read_csv('/content/drive/My Drive/Reusser_alkene_screening/DCM_new.csv', error_bad_lines=False)\n",
            "<ipython-input-30-e554afb64508>:3: FutureWarning: The error_bad_lines argument has been deprecated and will be removed in a future version. Use on_bad_lines in the future.\n",
            "\n",
            "\n",
            "  ER_0789a_n = pd.read_csv('/content/drive/My Drive/Reusser_alkene_screening/ER_0789a_n.csv', error_bad_lines=False)\n",
            "<ipython-input-30-e554afb64508>:4: FutureWarning: The error_bad_lines argument has been deprecated and will be removed in a future version. Use on_bad_lines in the future.\n",
            "\n",
            "\n",
            "  ER_0788a_n = pd.read_csv('/content/drive/My Drive/Reusser_alkene_screening/ER_0788a_n.csv', error_bad_lines=False)\n",
            "<ipython-input-30-e554afb64508>:5: FutureWarning: The error_bad_lines argument has been deprecated and will be removed in a future version. Use on_bad_lines in the future.\n",
            "\n",
            "\n",
            "  ER_0788b_n = pd.read_csv('/content/drive/My Drive/Reusser_alkene_screening/ER_0788b_n.csv', error_bad_lines=False)\n",
            "<ipython-input-30-e554afb64508>:6: FutureWarning: The error_bad_lines argument has been deprecated and will be removed in a future version. Use on_bad_lines in the future.\n",
            "\n",
            "\n",
            "  ER_0787a_n = pd.read_csv('/content/drive/My Drive/Reusser_alkene_screening/ER_0787a_n.csv', error_bad_lines=False)\n",
            "<ipython-input-30-e554afb64508>:7: FutureWarning: The error_bad_lines argument has been deprecated and will be removed in a future version. Use on_bad_lines in the future.\n",
            "\n",
            "\n",
            "  ER_0787b_n = pd.read_csv('/content/drive/My Drive/Reusser_alkene_screening/ER_0787a_n.csv', error_bad_lines=False)\n"
          ]
        }
      ]
    },
    {
      "cell_type": "code",
      "source": [
        "#Blank_EtOAc.fillna(0, inplace=True)\n",
        "DCM.fillna(0, inplace=True)\n",
        "ER_0789a_n.fillna(0, inplace=True)\n",
        "ER_0788a_n.fillna(0, inplace=True)\n",
        "ER_0788b_n.fillna(0, inplace=True)\n",
        "ER_0787a_n.fillna(0, inplace=True)\n",
        "ER_0787b_n.fillna(0, inplace=True)"
      ],
      "metadata": {
        "id": "54v3t11VBdxQ"
      },
      "execution_count": 31,
      "outputs": []
    },
    {
      "cell_type": "code",
      "source": [
        "#print(Blank_EtOAc.shape)\n",
        "print(DCM.shape)\n",
        "print(ER_0789a_n.shape)\n",
        "print(ER_0788a_n.shape)\n",
        "print(ER_0788b_n.shape)\n",
        "print(ER_0787a_n.shape)\n",
        "print(ER_0787b_n.shape)"
      ],
      "metadata": {
        "colab": {
          "base_uri": "https://localhost:8080/"
        },
        "id": "fBK2MVZwCB4W",
        "outputId": "54b7650a-7e16-4e51-fcde-4fb1d7615166"
      },
      "execution_count": 32,
      "outputs": [
        {
          "output_type": "stream",
          "name": "stdout",
          "text": [
            "(53, 21)\n",
            "(166, 21)\n",
            "(164, 21)\n",
            "(183, 21)\n",
            "(102, 21)\n",
            "(102, 21)\n"
          ]
        }
      ]
    },
    {
      "cell_type": "code",
      "source": [
        "def combine_df(df1, df2):\n",
        "    combined_df = pd.concat([df1, df2], ignore_index=True)\n",
        "    return combined_df\n",
        "\n",
        "def exclusion_list(sample_df, blank_df, retention_time_threshold=1):\n",
        "    sample_df_copy = sample_df.copy()\n",
        "    blank_df_copy = blank_df.copy()\n",
        "\n",
        "    exclusion_list = []\n",
        "\n",
        "    for index_sample, row_sample in sample_df_copy.iterrows():\n",
        "        for index_blank, row_blank in blank_df_copy.iterrows():\n",
        "            if row_sample[\"Formula (mol ion)\"] == row_blank[\"Formula (mol ion)\"]:\n",
        "                if abs(row_sample[\"Retention Time\"] - row_blank[\"Retention Time\"]) > retention_time_threshold:\n",
        "                    exclusion_list.append(index_sample)\n",
        "                    break\n",
        "\n",
        "    return exclusion_list\n",
        "\n",
        "def remove_rows(df, exclusion_list):\n",
        "    df_copy = df.copy()\n",
        "\n",
        "    df_copy = df_copy.drop(exclusion_list)\n",
        "\n",
        "    return df_copy\n",
        "\n",
        "def filter_df(df):\n",
        "    rows_to_remove = []\n",
        "\n",
        "    for index, row in df.iterrows():\n",
        "        if row['HRF Score'] < 85 or row['SI'] < 600:\n",
        "            rows_to_remove.append(index)\n",
        "\n",
        "    filtered_df = df.drop(rows_to_remove)\n",
        "\n",
        "    return filtered_df\n",
        "\n",
        "def rm_no_RI(df):\n",
        "    rows_to_remove = []\n",
        "\n",
        "    for index, row in df.iterrows():\n",
        "        if row['Library RI'] == 0 or row['Calculated RI'] == 0:\n",
        "            rows_to_remove.append(index)\n",
        "\n",
        "    filtered_df = df.drop(rows_to_remove)\n",
        "\n",
        "    return filtered_df"
      ],
      "metadata": {
        "id": "3oD59S6VDRTL"
      },
      "execution_count": 33,
      "outputs": []
    },
    {
      "cell_type": "code",
      "source": [
        "#Blank_data_df = combine_df(Blank_EtOAc, Blank_DCM)\n",
        "\n",
        "ER_0789a_n_el = exclusion_list(ER_0789a_n, DCM)\n",
        "ER_0789a_n_rr= remove_rows(ER_0789a_n, ER_0789a_n_el)\n",
        "\n",
        "ER_0788a_n_el = exclusion_list(ER_0788a_n, DCM)\n",
        "ER_0788a_n_rr = remove_rows(ER_0788a_n, ER_0788a_n_el)\n",
        "\n",
        "ER_0788b_n_el = exclusion_list(ER_0788b_n, DCM)\n",
        "ER_0788b_n_rr = remove_rows(ER_0788b_n, ER_0788b_n_el)\n",
        "\n",
        "ER_0787a_n_el = exclusion_list(ER_0787a_n, DCM)\n",
        "ER_0787a_n_rr = remove_rows(ER_0787a_n, ER_0787a_n_el)\n",
        "\n",
        "ER_0787b_n_el = exclusion_list(ER_0787b_n, DCM)\n",
        "ER_0787b_n_rr = remove_rows(ER_0787b_n, ER_0787b_n_el)"
      ],
      "metadata": {
        "id": "dR4DPKkTGryd"
      },
      "execution_count": 34,
      "outputs": []
    },
    {
      "cell_type": "code",
      "source": [
        "print(ER_0789a_n_rr.shape)\n",
        "print(ER_0788a_n_rr.shape)\n",
        "print(ER_0788b_n_rr.shape)\n",
        "print(ER_0787a_n_rr.shape)\n",
        "print(ER_0787b_n_rr.shape)"
      ],
      "metadata": {
        "colab": {
          "base_uri": "https://localhost:8080/"
        },
        "id": "Hl0HPMVmHTQp",
        "outputId": "170471d8-8346-45a2-dcc4-5da6b33d709d"
      },
      "execution_count": 35,
      "outputs": [
        {
          "output_type": "stream",
          "name": "stdout",
          "text": [
            "(71, 21)\n",
            "(71, 21)\n",
            "(81, 21)\n",
            "(57, 21)\n",
            "(57, 21)\n"
          ]
        }
      ]
    },
    {
      "cell_type": "code",
      "source": [
        "ER_0789a_n_filtered = filter_df(ER_0789a_n_rr)\n",
        "ER_0788a_n_filtered = filter_df(ER_0788a_n_rr)\n",
        "ER_0788b_n_filtered = filter_df(ER_0788b_n_rr)\n",
        "ER_0787a_n_filtered = filter_df(ER_0787a_n_rr)\n",
        "ER_0787b_n_filtered = filter_df(ER_0787b_n_rr)"
      ],
      "metadata": {
        "id": "6B6wdEc1JlMs"
      },
      "execution_count": 36,
      "outputs": []
    },
    {
      "cell_type": "code",
      "source": [
        "print(ER_0789a_n_filtered.shape)\n",
        "print(ER_0788a_n_filtered.shape)\n",
        "print(ER_0788b_n_filtered.shape)\n",
        "print(ER_0787a_n_filtered.shape)\n",
        "print(ER_0787b_n_filtered.shape)"
      ],
      "metadata": {
        "id": "jtOT6Ku1K1IO",
        "outputId": "343604e2-fd72-4ebd-f146-b673baad3360",
        "colab": {
          "base_uri": "https://localhost:8080/"
        }
      },
      "execution_count": 37,
      "outputs": [
        {
          "output_type": "stream",
          "name": "stdout",
          "text": [
            "(42, 21)\n",
            "(38, 21)\n",
            "(50, 21)\n",
            "(38, 21)\n",
            "(38, 21)\n"
          ]
        }
      ]
    },
    {
      "cell_type": "code",
      "source": [
        "ER_0789a_n_filtered.to_csv('/content/drive/My Drive/Reusser_alkene_screening/ER_0789a_n_filtered.csv')\n",
        "ER_0788a_n_filtered.to_csv('/content/drive/My Drive/Reusser_alkene_screening/ER_0788a_n_filtered.csv')\n",
        "ER_0788b_n_filtered.to_csv('/content/drive/My Drive/Reusser_alkene_screening/ER_0788b_n_filtered.csv')\n",
        "ER_0787a_n_filtered.to_csv('/content/drive/My Drive/Reusser_alkene_screening/ER_0787a_n_filtered.csv')\n",
        "ER_0787b_n_filtered.to_csv('/content/drive/My Drive/Reusser_alkene_screening/ER_0787b_n_filtered.csv')"
      ],
      "metadata": {
        "id": "Bp6ELo5T0Cua"
      },
      "execution_count": 38,
      "outputs": []
    },
    {
      "cell_type": "code",
      "source": [
        "ER_0789a_n_RIR = rm_no_RI(ER_0789a_n_filtered)\n",
        "ER_0788a_n_RIR = rm_no_RI(ER_0788a_n_filtered)\n",
        "ER_0788b_n_RIR = rm_no_RI(ER_0788b_n_filtered)\n",
        "ER_0787a_n_RIR = rm_no_RI(ER_0787a_n_filtered)\n",
        "ER_0787b_n_RIR = rm_no_RI(ER_0787b_n_filtered)"
      ],
      "metadata": {
        "id": "FryeWDzgLGtV"
      },
      "execution_count": 39,
      "outputs": []
    },
    {
      "cell_type": "code",
      "source": [
        "print(ER_0789a_n_RIR.shape)\n",
        "print(ER_0788a_n_RIR.shape)\n",
        "print(ER_0788b_n_RIR.shape)\n",
        "print(ER_0787a_n_RIR.shape)\n",
        "print(ER_0787b_n_RIR.shape)"
      ],
      "metadata": {
        "id": "RApByCpNNgDh",
        "outputId": "4e77840a-b80d-45ec-e1d6-8c38b330782e",
        "colab": {
          "base_uri": "https://localhost:8080/"
        }
      },
      "execution_count": 40,
      "outputs": [
        {
          "output_type": "stream",
          "name": "stdout",
          "text": [
            "(5, 21)\n",
            "(4, 21)\n",
            "(7, 21)\n",
            "(3, 21)\n",
            "(3, 21)\n"
          ]
        }
      ]
    },
    {
      "cell_type": "code",
      "source": [
        "ER_0789a_n_RIR.to_csv('/content/drive/My Drive/Reusser_alkene_screening/ER_0789a_n_RIR.csv')\n",
        "ER_0788a_n_RIR.to_csv('/content/drive/My Drive/Reusser_alkene_screening/ER_0788a_n_RIR.csv')\n",
        "ER_0788b_n_RIR.to_csv('/content/drive/My Drive/Reusser_alkene_screening/ER_0788b_n_RIR.csv')\n",
        "ER_0787a_n_RIR.to_csv('/content/drive/My Drive/Reusser_alkene_screening/ER_0787a_n_RIR.csv')\n",
        "ER_0787b_n_RIR.to_csv('/content/drive/My Drive/Reusser_alkene_screening/ER_0787b_n_RIR.csv')"
      ],
      "metadata": {
        "id": "0HRxor75OB9G"
      },
      "execution_count": 41,
      "outputs": []
    },
    {
      "cell_type": "code",
      "source": [],
      "metadata": {
        "id": "DT80medFOPGN"
      },
      "execution_count": 41,
      "outputs": []
    }
  ]
}