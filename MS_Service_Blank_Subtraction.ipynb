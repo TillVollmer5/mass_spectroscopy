{
  "nbformat": 4,
  "nbformat_minor": 0,
  "metadata": {
    "colab": {
      "provenance": [],
      "authorship_tag": "ABX9TyPhHy/7ttnorvlyHYoZ6X9i",
      "include_colab_link": true
    },
    "kernelspec": {
      "name": "python3",
      "display_name": "Python 3"
    },
    "language_info": {
      "name": "python"
    }
  },
  "cells": [
    {
      "cell_type": "markdown",
      "metadata": {
        "id": "view-in-github",
        "colab_type": "text"
      },
      "source": [
        "<a href=\"https://colab.research.google.com/github/TillVollmer5/mass_spectroscopy/blob/main/MS_Service_Blank_Subtraction.ipynb\" target=\"_parent\"><img src=\"https://colab.research.google.com/assets/colab-badge.svg\" alt=\"Open In Colab\"/></a>"
      ]
    },
    {
      "cell_type": "code",
      "execution_count": 26,
      "metadata": {
        "colab": {
          "base_uri": "https://localhost:8080/"
        },
        "id": "MrhfiWvXAA0c",
        "outputId": "51d52f74-d2cd-4f96-b91b-2ff4fd2c01fe"
      },
      "outputs": [
        {
          "output_type": "stream",
          "name": "stdout",
          "text": [
            "Mounted at /content/drive\n"
          ]
        }
      ],
      "source": [
        "import matplotlib.pyplot as plt\n",
        "import numpy as np\n",
        "from google.colab import drive\n",
        "import pandas as pd\n",
        "\n",
        "drive.mount('/content/drive', force_remount = True)"
      ]
    },
    {
      "cell_type": "code",
      "source": [
        "#Blank_EtOAc = pd.read_csv('/content/drive/My Drive/Reusser_alkene_screening/EtOAC.csv', error_bad_lines=False)\n",
        "DCM = pd.read_csv('/content/drive/My Drive/Reusser_alkene_screening/DCM_new2.csv', error_bad_lines=False)\n",
        "ER_0789a_n = pd.read_csv('/content/drive/My Drive/Reusser_alkene_screening/ER_0789a_n2.csv', error_bad_lines=False)\n",
        "ER_0788a_n = pd.read_csv('/content/drive/My Drive/Reusser_alkene_screening/ER_0788a_n2.csv', error_bad_lines=False)\n",
        "ER_0788b_n = pd.read_csv('/content/drive/My Drive/Reusser_alkene_screening/ER_0788b_n2.csv', error_bad_lines=False)\n",
        "ER_0787a_n = pd.read_csv('/content/drive/My Drive/Reusser_alkene_screening/ER_0787a_n2.csv', error_bad_lines=False)\n",
        "ER_0787b_n = pd.read_csv('/content/drive/My Drive/Reusser_alkene_screening/ER_0787a_n2.csv', error_bad_lines=False)\n",
        "ER_0792a_n = pd.read_csv('/content/drive/My Drive/Reusser_alkene_screening/ER_0792a_n2.csv', error_bad_lines=False)"
      ],
      "metadata": {
        "colab": {
          "base_uri": "https://localhost:8080/"
        },
        "id": "6b6yRL0aAGas",
        "outputId": "0781446d-c51f-4352-8eb7-76dbbf188d0e"
      },
      "execution_count": 27,
      "outputs": [
        {
          "output_type": "stream",
          "name": "stderr",
          "text": [
            "<ipython-input-27-51f3e8f7a8e5>:2: FutureWarning: The error_bad_lines argument has been deprecated and will be removed in a future version. Use on_bad_lines in the future.\n",
            "\n",
            "\n",
            "  DCM = pd.read_csv('/content/drive/My Drive/Reusser_alkene_screening/DCM_new2.csv', error_bad_lines=False)\n",
            "<ipython-input-27-51f3e8f7a8e5>:3: FutureWarning: The error_bad_lines argument has been deprecated and will be removed in a future version. Use on_bad_lines in the future.\n",
            "\n",
            "\n",
            "  ER_0789a_n = pd.read_csv('/content/drive/My Drive/Reusser_alkene_screening/ER_0789a_n2.csv', error_bad_lines=False)\n",
            "<ipython-input-27-51f3e8f7a8e5>:4: FutureWarning: The error_bad_lines argument has been deprecated and will be removed in a future version. Use on_bad_lines in the future.\n",
            "\n",
            "\n",
            "  ER_0788a_n = pd.read_csv('/content/drive/My Drive/Reusser_alkene_screening/ER_0788a_n2.csv', error_bad_lines=False)\n",
            "<ipython-input-27-51f3e8f7a8e5>:5: FutureWarning: The error_bad_lines argument has been deprecated and will be removed in a future version. Use on_bad_lines in the future.\n",
            "\n",
            "\n",
            "  ER_0788b_n = pd.read_csv('/content/drive/My Drive/Reusser_alkene_screening/ER_0788b_n2.csv', error_bad_lines=False)\n",
            "<ipython-input-27-51f3e8f7a8e5>:6: FutureWarning: The error_bad_lines argument has been deprecated and will be removed in a future version. Use on_bad_lines in the future.\n",
            "\n",
            "\n",
            "  ER_0787a_n = pd.read_csv('/content/drive/My Drive/Reusser_alkene_screening/ER_0787a_n2.csv', error_bad_lines=False)\n",
            "<ipython-input-27-51f3e8f7a8e5>:7: FutureWarning: The error_bad_lines argument has been deprecated and will be removed in a future version. Use on_bad_lines in the future.\n",
            "\n",
            "\n",
            "  ER_0787b_n = pd.read_csv('/content/drive/My Drive/Reusser_alkene_screening/ER_0787a_n2.csv', error_bad_lines=False)\n",
            "<ipython-input-27-51f3e8f7a8e5>:8: FutureWarning: The error_bad_lines argument has been deprecated and will be removed in a future version. Use on_bad_lines in the future.\n",
            "\n",
            "\n",
            "  ER_0792a_n = pd.read_csv('/content/drive/My Drive/Reusser_alkene_screening/ER_0792a_n2.csv', error_bad_lines=False)\n"
          ]
        }
      ]
    },
    {
      "cell_type": "code",
      "source": [
        "#Blank_EtOAc.fillna(0, inplace=True)\n",
        "DCM.fillna(0, inplace=True)\n",
        "ER_0789a_n.fillna(0, inplace=True)\n",
        "ER_0788a_n.fillna(0, inplace=True)\n",
        "ER_0788b_n.fillna(0, inplace=True)\n",
        "ER_0787a_n.fillna(0, inplace=True)\n",
        "ER_0787b_n.fillna(0, inplace=True)\n",
        "ER_0792a_n.fillna(0, inplace=True)"
      ],
      "metadata": {
        "id": "54v3t11VBdxQ"
      },
      "execution_count": 28,
      "outputs": []
    },
    {
      "cell_type": "code",
      "source": [
        "#print(Blank_EtOAc.shape)\n",
        "print(DCM.shape)\n",
        "print(ER_0789a_n.shape)\n",
        "print(ER_0788a_n.shape)\n",
        "print(ER_0788b_n.shape)\n",
        "print(ER_0787a_n.shape)\n",
        "print(ER_0787b_n.shape)\n",
        "print(ER_0792a_n.shape)"
      ],
      "metadata": {
        "colab": {
          "base_uri": "https://localhost:8080/"
        },
        "id": "fBK2MVZwCB4W",
        "outputId": "a1926f44-e59c-44d0-8b26-b524ba6849ca"
      },
      "execution_count": 29,
      "outputs": [
        {
          "output_type": "stream",
          "name": "stdout",
          "text": [
            "(74, 21)\n",
            "(210, 21)\n",
            "(208, 21)\n",
            "(223, 21)\n",
            "(122, 21)\n",
            "(122, 21)\n",
            "(203, 21)\n"
          ]
        }
      ]
    },
    {
      "cell_type": "code",
      "source": [
        "def combine_df(df1, df2):\n",
        "    combined_df = pd.concat([df1, df2], ignore_index=True)\n",
        "    return combined_df\n",
        "\n",
        "def exclusion_list(sample_df, blank_df, retention_time_threshold=1):\n",
        "    sample_df_copy = sample_df.copy()\n",
        "    blank_df_copy = blank_df.copy()\n",
        "\n",
        "    exclusion_list = []\n",
        "\n",
        "    for index_sample, row_sample in sample_df_copy.iterrows():\n",
        "        for index_blank, row_blank in blank_df_copy.iterrows():\n",
        "            if row_sample[\"Formula (mol ion)\"] == row_blank[\"Formula (mol ion)\"]:\n",
        "                if abs(row_sample[\"Retention Time\"] - row_blank[\"Retention Time\"]) > retention_time_threshold:\n",
        "                    exclusion_list.append(index_sample)\n",
        "                    break\n",
        "\n",
        "    return exclusion_list\n",
        "\n",
        "def remove_rows(df, exclusion_list):\n",
        "    df_copy = df.copy()\n",
        "\n",
        "    df_copy = df_copy.drop(exclusion_list)\n",
        "\n",
        "    return df_copy\n",
        "\n",
        "def filter_df(df):\n",
        "    rows_to_remove = []\n",
        "\n",
        "    for index, row in df.iterrows():\n",
        "        if row['HRF Score'] < 85 or row['SI'] < 600:\n",
        "            rows_to_remove.append(index)\n",
        "\n",
        "    filtered_df = df.drop(rows_to_remove)\n",
        "\n",
        "    return filtered_df\n",
        "\n",
        "def rm_no_RI(df):\n",
        "    rows_to_remove = []\n",
        "\n",
        "    for index, row in df.iterrows():\n",
        "        if row['Calculated RI'] == 0:\n",
        "            rows_to_remove.append(index)\n",
        "\n",
        "    filtered_df = df.drop(rows_to_remove)\n",
        "\n",
        "    return filtered_df"
      ],
      "metadata": {
        "id": "3oD59S6VDRTL"
      },
      "execution_count": 30,
      "outputs": []
    },
    {
      "cell_type": "code",
      "source": [
        "#Blank_data_df = combine_df(Blank_EtOAc, Blank_DCM)\n",
        "\n",
        "ER_0789a_n_el = exclusion_list(ER_0789a_n, DCM)\n",
        "ER_0789a_n_rr= remove_rows(ER_0789a_n, ER_0789a_n_el)\n",
        "\n",
        "ER_0788a_n_el = exclusion_list(ER_0788a_n, DCM)\n",
        "ER_0788a_n_rr = remove_rows(ER_0788a_n, ER_0788a_n_el)\n",
        "\n",
        "ER_0788b_n_el = exclusion_list(ER_0788b_n, DCM)\n",
        "ER_0788b_n_rr = remove_rows(ER_0788b_n, ER_0788b_n_el)\n",
        "\n",
        "ER_0787a_n_el = exclusion_list(ER_0787a_n, DCM)\n",
        "ER_0787a_n_rr = remove_rows(ER_0787a_n, ER_0787a_n_el)\n",
        "\n",
        "ER_0787b_n_el = exclusion_list(ER_0787b_n, DCM)\n",
        "ER_0787b_n_rr = remove_rows(ER_0787b_n, ER_0787b_n_el)\n",
        "\n",
        "ER_0792a_n_el = exclusion_list(ER_0792a_n, DCM)\n",
        "ER_0792a_n_rr = remove_rows(ER_0792a_n, ER_0792a_n_el)"
      ],
      "metadata": {
        "id": "dR4DPKkTGryd"
      },
      "execution_count": 31,
      "outputs": []
    },
    {
      "cell_type": "code",
      "source": [
        "print(ER_0789a_n_rr.shape)\n",
        "print(ER_0788a_n_rr.shape)\n",
        "print(ER_0788b_n_rr.shape)\n",
        "print(ER_0787a_n_rr.shape)\n",
        "print(ER_0787b_n_rr.shape)\n",
        "print(ER_0792a_n_rr.shape)"
      ],
      "metadata": {
        "colab": {
          "base_uri": "https://localhost:8080/"
        },
        "id": "Hl0HPMVmHTQp",
        "outputId": "ca70eb50-401e-4246-b628-93d38de208ac"
      },
      "execution_count": 32,
      "outputs": [
        {
          "output_type": "stream",
          "name": "stdout",
          "text": [
            "(84, 21)\n",
            "(81, 21)\n",
            "(87, 21)\n",
            "(64, 21)\n",
            "(64, 21)\n",
            "(107, 21)\n"
          ]
        }
      ]
    },
    {
      "cell_type": "code",
      "source": [
        "ER_0789a_n_filtered = filter_df(ER_0789a_n_rr)\n",
        "ER_0788a_n_filtered = filter_df(ER_0788a_n_rr)\n",
        "ER_0788b_n_filtered = filter_df(ER_0788b_n_rr)\n",
        "ER_0787a_n_filtered = filter_df(ER_0787a_n_rr)\n",
        "ER_0787b_n_filtered = filter_df(ER_0787b_n_rr)\n",
        "ER_0792a_n_filtered = filter_df(ER_0792a_n_rr)"
      ],
      "metadata": {
        "id": "6B6wdEc1JlMs"
      },
      "execution_count": 33,
      "outputs": []
    },
    {
      "cell_type": "code",
      "source": [
        "print(ER_0789a_n_filtered.shape)\n",
        "print(ER_0788a_n_filtered.shape)\n",
        "print(ER_0788b_n_filtered.shape)\n",
        "print(ER_0787a_n_filtered.shape)\n",
        "print(ER_0787b_n_filtered.shape)\n",
        "print(ER_0792a_n_filtered.shape)"
      ],
      "metadata": {
        "id": "jtOT6Ku1K1IO",
        "outputId": "c9612b16-2da1-4610-dd1e-f56b8356b18f",
        "colab": {
          "base_uri": "https://localhost:8080/"
        }
      },
      "execution_count": 34,
      "outputs": [
        {
          "output_type": "stream",
          "name": "stdout",
          "text": [
            "(43, 21)\n",
            "(46, 21)\n",
            "(49, 21)\n",
            "(41, 21)\n",
            "(41, 21)\n",
            "(68, 21)\n"
          ]
        }
      ]
    },
    {
      "cell_type": "code",
      "source": [
        "ER_0789a_n_filtered.to_csv('/content/drive/My Drive/Reusser_alkene_screening/ER_0789a_n2_filtered.csv')\n",
        "ER_0788a_n_filtered.to_csv('/content/drive/My Drive/Reusser_alkene_screening/ER_0788a_n2_filtered.csv')\n",
        "ER_0788b_n_filtered.to_csv('/content/drive/My Drive/Reusser_alkene_screening/ER_0788b_n2_filtered.csv')\n",
        "ER_0787a_n_filtered.to_csv('/content/drive/My Drive/Reusser_alkene_screening/ER_0787a_n2_filtered.csv')\n",
        "ER_0787b_n_filtered.to_csv('/content/drive/My Drive/Reusser_alkene_screening/ER_0787b_n2_filtered.csv')\n",
        "ER_0792a_n_filtered.to_csv('/content/drive/My Drive/Reusser_alkene_screening/ER_0792a_n2_filtered.csv')"
      ],
      "metadata": {
        "id": "Bp6ELo5T0Cua"
      },
      "execution_count": 35,
      "outputs": []
    },
    {
      "cell_type": "code",
      "source": [
        "ER_0789a_n_RIR = rm_no_RI(ER_0789a_n_filtered)\n",
        "ER_0788a_n_RIR = rm_no_RI(ER_0788a_n_filtered)\n",
        "ER_0788b_n_RIR = rm_no_RI(ER_0788b_n_filtered)\n",
        "ER_0787a_n_RIR = rm_no_RI(ER_0787a_n_filtered)\n",
        "ER_0787b_n_RIR = rm_no_RI(ER_0787b_n_filtered)\n",
        "ER_0792a_n_RIR = rm_no_RI(ER_0792a_n_filtered)"
      ],
      "metadata": {
        "id": "FryeWDzgLGtV"
      },
      "execution_count": 36,
      "outputs": []
    },
    {
      "cell_type": "code",
      "source": [
        "print(ER_0789a_n_RIR.shape)\n",
        "print(ER_0788a_n_RIR.shape)\n",
        "print(ER_0788b_n_RIR.shape)\n",
        "print(ER_0787a_n_RIR.shape)\n",
        "print(ER_0787b_n_RIR.shape)\n",
        "print(ER_0792a_n_RIR.shape)"
      ],
      "metadata": {
        "id": "RApByCpNNgDh",
        "outputId": "0c3344f8-4055-4362-9500-83bd08a1a32a",
        "colab": {
          "base_uri": "https://localhost:8080/"
        }
      },
      "execution_count": 37,
      "outputs": [
        {
          "output_type": "stream",
          "name": "stdout",
          "text": [
            "(38, 21)\n",
            "(36, 21)\n",
            "(35, 21)\n",
            "(33, 21)\n",
            "(33, 21)\n",
            "(57, 21)\n"
          ]
        }
      ]
    },
    {
      "cell_type": "code",
      "source": [
        "ER_0789a_n_RIR.to_csv('/content/drive/My Drive/Reusser_alkene_screening/ER_0789a_n2_RIR.csv')\n",
        "ER_0788a_n_RIR.to_csv('/content/drive/My Drive/Reusser_alkene_screening/ER_0788a_n2_RIR.csv')\n",
        "ER_0788b_n_RIR.to_csv('/content/drive/My Drive/Reusser_alkene_screening/ER_0788b_n2_RIR.csv')\n",
        "ER_0787a_n_RIR.to_csv('/content/drive/My Drive/Reusser_alkene_screening/ER_0787a_n2_RIR.csv')\n",
        "ER_0787b_n_RIR.to_csv('/content/drive/My Drive/Reusser_alkene_screening/ER_0787b_n2_RIR.csv')\n",
        "ER_0792a_n_RIR.to_csv('/content/drive/My Drive/Reusser_alkene_screening/ER_0792a_n2_RIR.csv')"
      ],
      "metadata": {
        "id": "0HRxor75OB9G"
      },
      "execution_count": 38,
      "outputs": []
    },
    {
      "cell_type": "code",
      "source": [],
      "metadata": {
        "id": "DT80medFOPGN"
      },
      "execution_count": 38,
      "outputs": []
    }
  ]
}