{
  "nbformat": 4,
  "nbformat_minor": 0,
  "metadata": {
    "colab": {
      "provenance": [],
      "authorship_tag": "ABX9TyM+8013/Bi0u+AIOrts4BsB",
      "include_colab_link": true
    },
    "kernelspec": {
      "name": "python3",
      "display_name": "Python 3"
    },
    "language_info": {
      "name": "python"
    }
  },
  "cells": [
    {
      "cell_type": "markdown",
      "metadata": {
        "id": "view-in-github",
        "colab_type": "text"
      },
      "source": [
        "<a href=\"https://colab.research.google.com/github/TillVollmer5/mass_spectroscopy/blob/main/MS_Service_Blank_Subtraction.ipynb\" target=\"_parent\"><img src=\"https://colab.research.google.com/assets/colab-badge.svg\" alt=\"Open In Colab\"/></a>"
      ]
    },
    {
      "cell_type": "code",
      "execution_count": 14,
      "metadata": {
        "colab": {
          "base_uri": "https://localhost:8080/"
        },
        "id": "MrhfiWvXAA0c",
        "outputId": "87db29e4-16bf-4d42-8aeb-057343a4be7f"
      },
      "outputs": [
        {
          "output_type": "stream",
          "name": "stdout",
          "text": [
            "Mounted at /content/drive\n"
          ]
        }
      ],
      "source": [
        "import matplotlib.pyplot as plt\n",
        "import numpy as np\n",
        "from google.colab import drive\n",
        "import pandas as pd\n",
        "\n",
        "drive.mount('/content/drive', force_remount = True)"
      ]
    },
    {
      "cell_type": "code",
      "source": [
        "Blank_EtOAc = pd.read_csv('/content/drive/My Drive/Reusser_alkene_screening/EtOAC.csv', error_bad_lines=False)\n",
        "Blank_DCM = pd.read_csv('/content/drive/My Drive/Reusser_alkene_screening/DCM.csv', error_bad_lines=False)\n",
        "ER_0789a_1 = pd.read_csv('/content/drive/My Drive/Reusser_alkene_screening/ER_0789a_1.csv', error_bad_lines=False)\n",
        "ER_0788a_1 = pd.read_csv('/content/drive/My Drive/Reusser_alkene_screening/ER_0788a_1.csv', error_bad_lines=False)\n",
        "ER_0787a_1 = pd.read_csv('/content/drive/My Drive/Reusser_alkene_screening/ER_0787a_1.csv', error_bad_lines=False)\n",
        "ER_0787b_1 = pd.read_csv('/content/drive/My Drive/Reusser_alkene_screening/ER_0787a_1.csv', error_bad_lines=False)"
      ],
      "metadata": {
        "colab": {
          "base_uri": "https://localhost:8080/"
        },
        "id": "6b6yRL0aAGas",
        "outputId": "0bbfe18b-1c6c-4c3d-b5eb-1bca7d0a243b"
      },
      "execution_count": 15,
      "outputs": [
        {
          "output_type": "stream",
          "name": "stderr",
          "text": [
            "<ipython-input-15-c46f05a3ca8c>:1: FutureWarning: The error_bad_lines argument has been deprecated and will be removed in a future version. Use on_bad_lines in the future.\n",
            "\n",
            "\n",
            "  Blank_EtOAc = pd.read_csv('/content/drive/My Drive/Reusser_alkene_screening/EtOAC.csv', error_bad_lines=False)\n",
            "<ipython-input-15-c46f05a3ca8c>:2: FutureWarning: The error_bad_lines argument has been deprecated and will be removed in a future version. Use on_bad_lines in the future.\n",
            "\n",
            "\n",
            "  Blank_DCM = pd.read_csv('/content/drive/My Drive/Reusser_alkene_screening/DCM.csv', error_bad_lines=False)\n",
            "<ipython-input-15-c46f05a3ca8c>:3: FutureWarning: The error_bad_lines argument has been deprecated and will be removed in a future version. Use on_bad_lines in the future.\n",
            "\n",
            "\n",
            "  ER_0789a_1 = pd.read_csv('/content/drive/My Drive/Reusser_alkene_screening/ER_0789a_1.csv', error_bad_lines=False)\n",
            "<ipython-input-15-c46f05a3ca8c>:4: FutureWarning: The error_bad_lines argument has been deprecated and will be removed in a future version. Use on_bad_lines in the future.\n",
            "\n",
            "\n",
            "  ER_0788a_1 = pd.read_csv('/content/drive/My Drive/Reusser_alkene_screening/ER_0788a_1.csv', error_bad_lines=False)\n",
            "<ipython-input-15-c46f05a3ca8c>:5: FutureWarning: The error_bad_lines argument has been deprecated and will be removed in a future version. Use on_bad_lines in the future.\n",
            "\n",
            "\n",
            "  ER_0787a_1 = pd.read_csv('/content/drive/My Drive/Reusser_alkene_screening/ER_0787a_1.csv', error_bad_lines=False)\n",
            "<ipython-input-15-c46f05a3ca8c>:6: FutureWarning: The error_bad_lines argument has been deprecated and will be removed in a future version. Use on_bad_lines in the future.\n",
            "\n",
            "\n",
            "  ER_0787b_1 = pd.read_csv('/content/drive/My Drive/Reusser_alkene_screening/ER_0787a_1.csv', error_bad_lines=False)\n"
          ]
        }
      ]
    },
    {
      "cell_type": "code",
      "source": [
        "Blank_EtOAc.fillna(0, inplace=True)\n",
        "Blank_DCM.fillna(0, inplace=True)\n",
        "ER_0789a_1.fillna(0, inplace=True)\n",
        "ER_0788a_1.fillna(0, inplace=True)\n",
        "ER_0787a_1.fillna(0, inplace=True)\n",
        "ER_0787b_1.fillna(0, inplace=True)"
      ],
      "metadata": {
        "id": "54v3t11VBdxQ"
      },
      "execution_count": 16,
      "outputs": []
    },
    {
      "cell_type": "code",
      "source": [
        "print(Blank_EtOAc.shape)\n",
        "print(Blank_DCM.shape)\n",
        "print(ER_0789a_1.shape)\n",
        "print(ER_0788a_1.shape)\n",
        "print(ER_0787a_1.shape)\n",
        "print(ER_0787b_1.shape)"
      ],
      "metadata": {
        "colab": {
          "base_uri": "https://localhost:8080/"
        },
        "id": "fBK2MVZwCB4W",
        "outputId": "07f9d544-a466-4277-ee38-d41241d5b7aa"
      },
      "execution_count": 17,
      "outputs": [
        {
          "output_type": "stream",
          "name": "stdout",
          "text": [
            "(44, 21)\n",
            "(25, 21)\n",
            "(147, 21)\n",
            "(175, 21)\n",
            "(104, 21)\n",
            "(104, 21)\n"
          ]
        }
      ]
    },
    {
      "cell_type": "code",
      "source": [
        "def combine_df(df1, df2):\n",
        "    combined_df = pd.concat([df1, df2], ignore_index=True)\n",
        "    return combined_df\n",
        "\n",
        "def exclusion_list(sample_df, blank_df, retention_time_threshold=1):\n",
        "    sample_df_copy = sample_df.copy()\n",
        "    blank_df_copy = blank_df.copy()\n",
        "\n",
        "    exclusion_list = []\n",
        "\n",
        "    for index_sample, row_sample in sample_df_copy.iterrows():\n",
        "        for index_blank, row_blank in blank_df_copy.iterrows():\n",
        "            if row_sample[\"Formula (mol ion)\"] == row_blank[\"Formula (mol ion)\"]:\n",
        "                if abs(row_sample[\"Retention Time\"] - row_blank[\"Retention Time\"]) > retention_time_threshold:\n",
        "                    exclusion_list.append(index_sample)\n",
        "                    break\n",
        "\n",
        "    return exclusion_list\n",
        "\n",
        "def remove_rows(df, exclusion_list):\n",
        "    df_copy = df.copy()\n",
        "\n",
        "    df_copy = df_copy.drop(exclusion_list)\n",
        "\n",
        "    return df_copy\n",
        "\n",
        "def filter_df(df):\n",
        "    rows_to_remove = []\n",
        "\n",
        "    for index, row in df.iterrows():\n",
        "        if row['HRF Score'] < 90 or row['SI'] < 800:\n",
        "            rows_to_remove.append(index)\n",
        "\n",
        "    filtered_df = df.drop(rows_to_remove)\n",
        "\n",
        "    return filtered_df\n",
        "\n",
        "def rm_no_RI(df):\n",
        "    rows_to_remove = []\n",
        "\n",
        "    for index, row in df.iterrows():\n",
        "        if row['Library RI'] == 0 or row['Calculated RI'] == 0:\n",
        "            rows_to_remove.append(index)\n",
        "\n",
        "    filtered_df = df.drop(rows_to_remove)\n",
        "\n",
        "    return filtered_df"
      ],
      "metadata": {
        "id": "3oD59S6VDRTL"
      },
      "execution_count": 18,
      "outputs": []
    },
    {
      "cell_type": "code",
      "source": [
        "Blank_data_df = combine_df(Blank_EtOAc, Blank_DCM)\n",
        "\n",
        "ER_0789a_1_el = exclusion_list(ER_0789a_1, Blank_data_df)\n",
        "ER_0789a_1_rr= remove_rows(ER_0789a_1, ER_0789a_1_el)\n",
        "\n",
        "ER_0788a_1_el = exclusion_list(ER_0788a_1, Blank_data_df)\n",
        "ER_0788a_1_rr = remove_rows(ER_0788a_1, ER_0788a_1_el)\n",
        "\n",
        "ER_0787a_1_el = exclusion_list(ER_0787a_1, Blank_data_df)\n",
        "ER_0787a_1_rr = remove_rows(ER_0787a_1, ER_0787a_1_el)\n",
        "\n",
        "ER_0787b_1_el = exclusion_list(ER_0787b_1, Blank_data_df)\n",
        "ER_0787b_1_rr = remove_rows(ER_0787b_1, ER_0787b_1_el)"
      ],
      "metadata": {
        "id": "dR4DPKkTGryd"
      },
      "execution_count": 19,
      "outputs": []
    },
    {
      "cell_type": "code",
      "source": [
        "print(ER_0789a_1_rr.shape)\n",
        "print(ER_0788a_1_rr.shape)\n",
        "print(ER_0787a_1_rr.shape)\n",
        "print(ER_0787b_1_rr.shape)"
      ],
      "metadata": {
        "colab": {
          "base_uri": "https://localhost:8080/"
        },
        "id": "Hl0HPMVmHTQp",
        "outputId": "4cf29fdd-ba25-4df0-ac08-7cda1a3dc7e9"
      },
      "execution_count": 20,
      "outputs": [
        {
          "output_type": "stream",
          "name": "stdout",
          "text": [
            "(86, 21)\n",
            "(93, 21)\n",
            "(65, 21)\n",
            "(65, 21)\n"
          ]
        }
      ]
    },
    {
      "cell_type": "code",
      "source": [
        "print(ER_0789a_1_el)\n",
        "print(ER_0788a_1_el)\n",
        "print(ER_0787a_1_el)\n",
        "print(ER_0787b_1_el)"
      ],
      "metadata": {
        "colab": {
          "base_uri": "https://localhost:8080/"
        },
        "id": "nEuF1bqLIVyz",
        "outputId": "7ac2a762-8131-4c08-b28f-ad286491a97e"
      },
      "execution_count": 21,
      "outputs": [
        {
          "output_type": "stream",
          "name": "stdout",
          "text": [
            "[1, 26, 29, 30, 43, 47, 49, 50, 51, 52, 53, 55, 59, 60, 61, 64, 69, 71, 72, 73, 74, 76, 77, 78, 79, 80, 83, 87, 88, 90, 91, 93, 94, 95, 98, 99, 100, 101, 102, 104, 105, 106, 109, 111, 114, 115, 119, 121, 122, 123, 124, 125, 128, 131, 132, 133, 134, 135, 139, 142, 145]\n",
            "[1, 8, 9, 11, 15, 30, 46, 47, 50, 53, 54, 57, 60, 62, 63, 65, 66, 68, 74, 75, 76, 77, 78, 80, 83, 84, 85, 86, 89, 90, 91, 92, 94, 97, 98, 99, 101, 102, 103, 104, 105, 108, 109, 113, 114, 116, 118, 119, 121, 123, 124, 127, 128, 129, 130, 132, 133, 134, 135, 136, 137, 138, 139, 142, 143, 144, 145, 146, 148, 150, 151, 153, 156, 157, 159, 160, 168, 169, 171, 172, 173, 174]\n",
            "[24, 32, 33, 35, 36, 37, 39, 41, 42, 46, 47, 49, 51, 55, 56, 57, 60, 65, 66, 68, 69, 71, 73, 74, 75, 77, 79, 81, 83, 84, 86, 89, 90, 94, 95, 97, 99, 101, 103]\n",
            "[24, 32, 33, 35, 36, 37, 39, 41, 42, 46, 47, 49, 51, 55, 56, 57, 60, 65, 66, 68, 69, 71, 73, 74, 75, 77, 79, 81, 83, 84, 86, 89, 90, 94, 95, 97, 99, 101, 103]\n"
          ]
        }
      ]
    },
    {
      "cell_type": "code",
      "source": [
        "ER_0789a_1_filtered = filter_df(ER_0789a_1_rr)\n",
        "ER_0788a_1_filtered = filter_df(ER_0788a_1_rr)\n",
        "ER_0787a_1_filtered = filter_df(ER_0787a_1_rr)\n",
        "ER_0787b_1_filtered = filter_df(ER_0787b_1_rr)"
      ],
      "metadata": {
        "id": "6B6wdEc1JlMs"
      },
      "execution_count": 22,
      "outputs": []
    },
    {
      "cell_type": "code",
      "source": [
        "print(ER_0789a_1_filtered.shape)\n",
        "print(ER_0788a_1_filtered.shape)\n",
        "print(ER_0787a_1_filtered.shape)\n",
        "print(ER_0787b_1_filtered.shape)"
      ],
      "metadata": {
        "id": "jtOT6Ku1K1IO",
        "outputId": "3e24edb2-2db9-4b80-d7a4-b83063c01a24",
        "colab": {
          "base_uri": "https://localhost:8080/"
        }
      },
      "execution_count": 23,
      "outputs": [
        {
          "output_type": "stream",
          "name": "stdout",
          "text": [
            "(25, 21)\n",
            "(19, 21)\n",
            "(21, 21)\n",
            "(21, 21)\n"
          ]
        }
      ]
    },
    {
      "cell_type": "code",
      "source": [
        "ER_0789a_1_filtered.to_csv('/content/drive/My Drive/Reusser_alkene_screening/ER_0789a_1_filtered.csv')\n",
        "ER_0788a_1_filtered.to_csv('/content/drive/My Drive/Reusser_alkene_screening/ER_0788a_1_filtered.csv')\n",
        "ER_0787a_1_filtered.to_csv('/content/drive/My Drive/Reusser_alkene_screening/ER_0787a_1_filtered.csv')\n",
        "ER_0787b_1_filtered.to_csv('/content/drive/My Drive/Reusser_alkene_screening/ER_0787b_1_filtered.csv')"
      ],
      "metadata": {
        "id": "Bp6ELo5T0Cua"
      },
      "execution_count": 24,
      "outputs": []
    },
    {
      "cell_type": "code",
      "source": [
        "ER_0789a_1_RIR = rm_no_RI(ER_0789a_1_filtered)\n",
        "ER_0788a_1_RIR = rm_no_RI(ER_0788a_1_filtered)\n",
        "ER_0787a_1_RIR = rm_no_RI(ER_0787a_1_filtered)\n",
        "ER_0787b_1_RIR = rm_no_RI(ER_0787b_1_filtered)"
      ],
      "metadata": {
        "id": "FryeWDzgLGtV"
      },
      "execution_count": 25,
      "outputs": []
    },
    {
      "cell_type": "code",
      "source": [
        "print(ER_0789a_1_RIR.shape)\n",
        "print(ER_0788a_1_RIR.shape)\n",
        "print(ER_0787a_1_RIR.shape)\n",
        "print(ER_0787b_1_RIR.shape)"
      ],
      "metadata": {
        "id": "RApByCpNNgDh",
        "outputId": "58378e6d-3f47-4eea-a3b9-4754d1f19a5c",
        "colab": {
          "base_uri": "https://localhost:8080/"
        }
      },
      "execution_count": 26,
      "outputs": [
        {
          "output_type": "stream",
          "name": "stdout",
          "text": [
            "(8, 21)\n",
            "(6, 21)\n",
            "(7, 21)\n",
            "(7, 21)\n"
          ]
        }
      ]
    },
    {
      "cell_type": "code",
      "source": [
        "ER_0789a_1_RIR.to_csv('/content/drive/My Drive/Reusser_alkene_screening/ER_0789a_1_RIR.csv')\n",
        "ER_0788a_1_RIR.to_csv('/content/drive/My Drive/Reusser_alkene_screening/ER_0788a_1_RIR.csv')\n",
        "ER_0787a_1_RIR.to_csv('/content/drive/My Drive/Reusser_alkene_screening/ER_0787a_1_RIR.csv')\n",
        "ER_0787b_1_RIR.to_csv('/content/drive/My Drive/Reusser_alkene_screening/ER_0787b_1_RIR.csv')"
      ],
      "metadata": {
        "id": "0HRxor75OB9G"
      },
      "execution_count": 27,
      "outputs": []
    },
    {
      "cell_type": "code",
      "source": [],
      "metadata": {
        "id": "DT80medFOPGN"
      },
      "execution_count": 27,
      "outputs": []
    }
  ]
}