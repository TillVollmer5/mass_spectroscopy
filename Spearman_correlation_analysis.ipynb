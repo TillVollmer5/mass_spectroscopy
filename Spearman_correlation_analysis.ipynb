{
  "nbformat": 4,
  "nbformat_minor": 0,
  "metadata": {
    "colab": {
      "provenance": [],
      "authorship_tag": "ABX9TyPIZHEbPCV6fpynqX40n5P6",
      "include_colab_link": true
    },
    "kernelspec": {
      "name": "python3",
      "display_name": "Python 3"
    },
    "language_info": {
      "name": "python"
    }
  },
  "cells": [
    {
      "cell_type": "markdown",
      "metadata": {
        "id": "view-in-github",
        "colab_type": "text"
      },
      "source": [
        "<a href=\"https://colab.research.google.com/github/TillVollmer5/mass_spectroscopy/blob/main/Spearman_correlation_analysis.ipynb\" target=\"_parent\"><img src=\"https://colab.research.google.com/assets/colab-badge.svg\" alt=\"Open In Colab\"/></a>"
      ]
    },
    {
      "cell_type": "code",
      "execution_count": 18,
      "metadata": {
        "colab": {
          "base_uri": "https://localhost:8080/"
        },
        "id": "hMZMa58TCdf8",
        "outputId": "ef9c5ed1-74c1-4742-ba25-b7a84cfa4af5"
      },
      "outputs": [
        {
          "output_type": "stream",
          "name": "stdout",
          "text": [
            "Mounted at /content/drive\n"
          ]
        }
      ],
      "source": [
        "import matplotlib.pyplot as plt\n",
        "import numpy as np\n",
        "from google.colab import drive\n",
        "import pandas as pd\n",
        "from itertools import combinations\n",
        "from scipy.stats import spearmanr\n",
        "\n",
        "drive.mount('/content/drive', force_remount = True)"
      ]
    },
    {
      "cell_type": "code",
      "source": [
        "Zafira_1_gp_df = pd.read_csv('/content/drive/My Drive/conversion_export/Solvent_100ml_corrected/Sample_63_phthalate_concentration_2023-11-25.csv', header=1) #Blank solvent corrected\n",
        "Zafira_1_pm_df = pd.read_csv('/content/drive/My Drive/conversion_export/Solvent_100ml_corrected/Sample_64_phthalate_concentration_2023-11-25.csv', header=1) #Blank solvent corrected\n",
        "Zafira_2_gp_df = pd.read_csv('/content/drive/My Drive/conversion_export/Solvent_100ml_corrected/Sample_65_phthalate_concentration_2023-11-25.csv', header=1) #Blank solvent corrected\n",
        "Zafira_2_pm_df = pd.read_csv('/content/drive/My Drive/conversion_export/Solvent_100ml_corrected/Sample_66_phthalate_concentration_2023-11-25.csv', header=1) #Blank solvent corrected\n",
        "Auto_1_gp_df = pd.read_csv('/content/drive/My Drive/conversion_export/Solvent_100ml_corrected/Sample_130_phthalate_concentration_2023-11-25.csv', header=1) #Blank solvent corrected\n",
        "Auto_1_pm_df = pd.read_csv('/content/drive/My Drive/conversion_export/Solvent_100ml_corrected/Sample_123_phthalate_concentration_2023-11-25.csv', header=1) #Blank solvent corrected\n",
        "Auto_2_gp_df = pd.read_csv('/content/drive/My Drive/conversion_export/Solvent_100ml_corrected/Sample_144_phthalate_concentration_2023-11-25.csv', header=1) #Blank solvent corrected\n",
        "Auto_2_pm_df = pd.read_csv('/content/drive/My Drive/conversion_export/Solvent_100ml_corrected/Sample_140_phthalate_concentration_2023-11-25.csv', header=1) #Blank solvent corrected\n",
        "Auto_3_gp_df = pd.read_csv('/content/drive/My Drive/conversion_export/Sample_155_phthalate_concentration_2023-11-26.csv', header=1) #QC F4 corrected\n",
        "Auto_3_pm_df = pd.read_csv('/content/drive/My Drive/conversion_export/Sample_162_phthalate_concentration_2023-11-26.csv', header=1) #QC pm corrected\n",
        "Auto_4_gp_df = pd.read_csv('/content/drive/My Drive/conversion_export/Sample_170_phthalate_concentration_2023-11-28.csv', header=1) #QC F4 corrected\n",
        "Auto_4_pm_df = pd.read_csv('/content/drive/My Drive/conversion_export/Sample_177_phthalate_concentration_2023-11-29.csv', header=1) #QC pm corrected\n",
        "Auto_5_pm_df = pd.read_csv('/content/drive/My Drive/conversion_export/Sample_183_phthalate_concentration_2023-12-01.csv', header=1) #QC pm corrected\n",
        "Auto_5_gp_df = pd.read_csv('/content/drive/My Drive/conversion_export/Sample_185_phthalate_concentration_2023-12-05.csv', header=1) #QC pm corrected\n",
        "\n",
        "Zafira_1_gp_df['Concentration [ng/m^3]'] = Zafira_1_gp_df['Concentration [ng/m^3]'].apply(lambda x: max(0, x))\n",
        "Zafira_1_pm_df['Concentration [ng/m^3]'] = Zafira_1_pm_df['Concentration [ng/m^3]'].apply(lambda x: max(0, x))\n",
        "Zafira_2_gp_df['Concentration [ng/m^3]'] = Zafira_2_gp_df['Concentration [ng/m^3]'].apply(lambda x: max(0, x))\n",
        "Zafira_2_pm_df['Concentration [ng/m^3]'] = Zafira_2_pm_df['Concentration [ng/m^3]'].apply(lambda x: max(0, x))\n",
        "Auto_1_gp_df['Concentration [ng/m^3]'] = Auto_1_gp_df['Concentration [ng/m^3]'].apply(lambda x: max(0, x))\n",
        "Auto_1_pm_df['Concentration [ng/m^3]'] = Auto_1_pm_df['Concentration [ng/m^3]'].apply(lambda x: max(0, x))\n",
        "Auto_2_gp_df['Concentration [ng/m^3]'] = Auto_2_gp_df['Concentration [ng/m^3]'].apply(lambda x: max(0, x))\n",
        "Auto_2_pm_df['Concentration [ng/m^3]'] = Auto_2_pm_df['Concentration [ng/m^3]'].apply(lambda x: max(0, x))\n",
        "Auto_3_gp_df['Concentration [ng/m^3]'] = Auto_3_gp_df['Concentration [ng/m^3]'].apply(lambda x: max(0, x))\n",
        "Auto_3_pm_df['Concentration [ng/m^3]'] = Auto_3_pm_df['Concentration [ng/m^3]'].apply(lambda x: max(0, x))\n",
        "Auto_4_gp_df['Concentration [ng/m^3]'] = Auto_4_gp_df['Concentration [ng/m^3]'].apply(lambda x: max(0, x))\n",
        "Auto_4_pm_df['Concentration [ng/m^3]'] = Auto_4_pm_df['Concentration [ng/m^3]'].apply(lambda x: max(0, x))\n",
        "Auto_5_pm_df['Concentration [ng/m^3]'] = Auto_5_pm_df['Concentration [ng/m^3]'].apply(lambda x: max(0, x))\n",
        "Auto_5_gp_df['Concentration [ng/m^3]'] = Auto_5_gp_df['Concentration [ng/m^3]'].apply(lambda x: max(0, x))\n",
        "\n",
        "Zafira_1_gp_df['Option'] = 'gp'\n",
        "Zafira_1_pm_df['Option'] = 'pm'\n",
        "Zafira_2_gp_df['Option'] = 'gp'\n",
        "Zafira_2_pm_df['Option'] = 'pm'\n",
        "Auto_1_gp_df['Option'] = 'gp'\n",
        "Auto_1_pm_df['Option'] = 'pm'\n",
        "Auto_2_gp_df['Option'] = 'gp'\n",
        "Auto_2_pm_df['Option'] = 'pm'\n",
        "Auto_3_gp_df['Option'] = 'gp'\n",
        "Auto_3_pm_df['Option'] = 'pm'\n",
        "Auto_4_gp_df['Option'] = 'gp'\n",
        "Auto_4_pm_df['Option'] = 'pm'\n",
        "Auto_5_pm_df['Option'] = 'pm'\n",
        "Auto_5_gp_df['Option'] = 'gp'\n"
      ],
      "metadata": {
        "id": "rt0yVCU7Cklt"
      },
      "execution_count": 19,
      "outputs": []
    },
    {
      "cell_type": "code",
      "source": [
        "print(Auto_5_gp_df)"
      ],
      "metadata": {
        "colab": {
          "base_uri": "https://localhost:8080/"
        },
        "id": "pzxj-wyXDlN3",
        "outputId": "1a1582d4-78d8-4704-f631-8d9f4c292917"
      },
      "execution_count": 20,
      "outputs": [
        {
          "output_type": "stream",
          "name": "stdout",
          "text": [
            "                     Phthalat:  Concentration [ng/m^3] Option\n",
            "0            Dimethylphthalate                5.182773     gp\n",
            "1             Diethylphthalate               13.769563     gp\n",
            "2             Dibutylphthalate                7.620244     gp\n",
            "3         Benzylbutylphthalate                0.089497     gp\n",
            "4  Bis(2-ethyl-hexyl)phthalate               54.637510     gp\n",
            "5          Di-n-octylphthalate                0.053594     gp\n"
          ]
        }
      ]
    },
    {
      "cell_type": "code",
      "source": [
        "dfs = [Auto_1_gp_df, Auto_2_gp_df, Auto_3_gp_df, Auto_4_gp_df, Auto_5_gp_df]\n",
        "compounds = Auto_5_gp_df['Phthalat:'].tolist()\n",
        "correlation_df_gp = pd.DataFrame(index=compounds, columns=compounds)\n",
        "\n",
        "# Calculate Spearman's rank correlation coefficients\n",
        "for pair in combinations(compounds, 2):\n",
        "    compound1, compound2 = pair\n",
        "\n",
        "    # Combine concentrations for each compound from all DataFrames\n",
        "    concentrations1 = [df[df['Phthalat:'] == compound1]['Concentration [ng/m^3]'].values[0] for df in dfs]\n",
        "    concentrations2 = [df[df['Phthalat:'] == compound2]['Concentration [ng/m^3]'].values[0] for df in dfs]\n",
        "\n",
        "    # Calculate Spearman's rank correlation\n",
        "    correlation_coefficient, _ = spearmanr(concentrations1, concentrations2)\n",
        "\n",
        "    # Fill the correlation matrix\n",
        "    correlation_df_gp.loc[compound1, compound2] = correlation_coefficient\n",
        "    correlation_df_gp.loc[compound2, compound1] = correlation_coefficient\n",
        "\n",
        "# Fill diagonal with 1 since each compound is perfectly correlated with itself\n",
        "correlation_df_gp.values[[range(6)], [range(6)]] = 1\n",
        "\n",
        "correlation_df_gp.to_csv('/content/drive/My Drive/Spearmannc_gasphase.csv')\n",
        "# Print or use correlation_df as needed\n",
        "print(correlation_df_gp)"
      ],
      "metadata": {
        "colab": {
          "base_uri": "https://localhost:8080/"
        },
        "id": "5pYjjbZpESlK",
        "outputId": "ba601041-2056-432c-ecad-13d85568338c"
      },
      "execution_count": 21,
      "outputs": [
        {
          "output_type": "stream",
          "name": "stdout",
          "text": [
            "                            Dimethylphthalate Diethylphthalate  \\\n",
            "Dimethylphthalate                           1              0.7   \n",
            "Diethylphthalate                          0.7                1   \n",
            "Dibutylphthalate                          0.5              0.6   \n",
            "Benzylbutylphthalate                 0.102598         0.718185   \n",
            "Bis(2-ethyl-hexyl)phthalate               0.6              0.5   \n",
            "Di-n-octylphthalate                  0.102598         0.615587   \n",
            "\n",
            "                            Dibutylphthalate Benzylbutylphthalate  \\\n",
            "Dimethylphthalate                        0.5             0.102598   \n",
            "Diethylphthalate                         0.6             0.718185   \n",
            "Dibutylphthalate                           1             0.307794   \n",
            "Benzylbutylphthalate                0.307794                    1   \n",
            "Bis(2-ethyl-hexyl)phthalate              0.3            -0.153897   \n",
            "Di-n-octylphthalate                 0.820783             0.684211   \n",
            "\n",
            "                            Bis(2-ethyl-hexyl)phthalate Di-n-octylphthalate  \n",
            "Dimethylphthalate                                   0.6            0.102598  \n",
            "Diethylphthalate                                    0.5            0.615587  \n",
            "Dibutylphthalate                                    0.3            0.820783  \n",
            "Benzylbutylphthalate                          -0.153897            0.684211  \n",
            "Bis(2-ethyl-hexyl)phthalate                           1            0.051299  \n",
            "Di-n-octylphthalate                            0.051299                   1  \n"
          ]
        }
      ]
    },
    {
      "cell_type": "code",
      "source": [
        "dfs = [Auto_1_pm_df, Auto_2_pm_df, Auto_3_pm_df, Auto_4_pm_df, Auto_5_pm_df]\n",
        "compounds = Auto_5_gp_df['Phthalat:'].tolist()\n",
        "correlation_df_pm = pd.DataFrame(index=compounds, columns=compounds)\n",
        "\n",
        "# Calculate Spearman's rank correlation coefficients\n",
        "for pair in combinations(compounds, 2):\n",
        "    compound1, compound2 = pair\n",
        "\n",
        "    # Combine concentrations for each compound from all DataFrames\n",
        "    concentrations1 = [df[df['Phthalat:'] == compound1]['Concentration [ng/m^3]'].values[0] for df in dfs]\n",
        "    concentrations2 = [df[df['Phthalat:'] == compound2]['Concentration [ng/m^3]'].values[0] for df in dfs]\n",
        "\n",
        "    # Calculate Spearman's rank correlation\n",
        "    correlation_coefficient, _ = spearmanr(concentrations1, concentrations2)\n",
        "\n",
        "    # Fill the correlation matrix\n",
        "    correlation_df_pm.loc[compound1, compound2] = correlation_coefficient\n",
        "    correlation_df_pm.loc[compound2, compound1] = correlation_coefficient\n",
        "\n",
        "# Fill diagonal with 1 since each compound is perfectly correlated with itself\n",
        "correlation_df_pm.values[[range(6)], [range(6)]] = 1\n",
        "\n",
        "correlation_df_pm.to_csv('/content/drive/My Drive/Spearmannc_particlephase.csv')\n",
        "# Print or use correlation_df as needed\n",
        "print(correlation_df_pm)"
      ],
      "metadata": {
        "colab": {
          "base_uri": "https://localhost:8080/"
        },
        "id": "vxYw35BxF4y9",
        "outputId": "e74c887b-2daf-4a27-fa5e-259fa7c7a4ae"
      },
      "execution_count": 22,
      "outputs": [
        {
          "output_type": "stream",
          "name": "stdout",
          "text": [
            "                            Dimethylphthalate Diethylphthalate  \\\n",
            "Dimethylphthalate                           1              0.7   \n",
            "Diethylphthalate                          0.7                1   \n",
            "Dibutylphthalate                          0.2              0.0   \n",
            "Benzylbutylphthalate                      0.3              0.8   \n",
            "Bis(2-ethyl-hexyl)phthalate               0.7              0.7   \n",
            "Di-n-octylphthalate                       0.8              0.5   \n",
            "\n",
            "                            Dibutylphthalate Benzylbutylphthalate  \\\n",
            "Dimethylphthalate                        0.2                  0.3   \n",
            "Diethylphthalate                         0.0                  0.8   \n",
            "Dibutylphthalate                           1                  0.3   \n",
            "Benzylbutylphthalate                     0.3                    1   \n",
            "Bis(2-ethyl-hexyl)phthalate              0.7                  0.7   \n",
            "Di-n-octylphthalate                      0.5                  0.2   \n",
            "\n",
            "                            Bis(2-ethyl-hexyl)phthalate Di-n-octylphthalate  \n",
            "Dimethylphthalate                                   0.7                 0.8  \n",
            "Diethylphthalate                                    0.7                 0.5  \n",
            "Dibutylphthalate                                    0.7                 0.5  \n",
            "Benzylbutylphthalate                                0.7                 0.2  \n",
            "Bis(2-ethyl-hexyl)phthalate                           1                 0.8  \n",
            "Di-n-octylphthalate                                 0.8                   1  \n"
          ]
        }
      ]
    },
    {
      "cell_type": "code",
      "source": [],
      "metadata": {
        "id": "bsEXQVKBGLpM"
      },
      "execution_count": 22,
      "outputs": []
    }
  ]
}