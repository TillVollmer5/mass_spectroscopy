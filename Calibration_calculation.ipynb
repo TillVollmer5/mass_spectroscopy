{
  "nbformat": 4,
  "nbformat_minor": 0,
  "metadata": {
    "colab": {
      "provenance": [],
      "authorship_tag": "ABX9TyPf85lFhDJv/LueKl7p/1Le",
      "include_colab_link": true
    },
    "kernelspec": {
      "name": "python3",
      "display_name": "Python 3"
    },
    "language_info": {
      "name": "python"
    }
  },
  "cells": [
    {
      "cell_type": "markdown",
      "metadata": {
        "id": "view-in-github",
        "colab_type": "text"
      },
      "source": [
        "<a href=\"https://colab.research.google.com/github/TillVollmer5/mass_spectroscopy/blob/main/Calibration_calculation.ipynb\" target=\"_parent\"><img src=\"https://colab.research.google.com/assets/colab-badge.svg\" alt=\"Open In Colab\"/></a>"
      ]
    },
    {
      "cell_type": "markdown",
      "source": [
        "# Calibration calculation\n",
        "This skript aims to allow the calculation and generation of a linear regression to allow the quantivication of phthalates in the environement.\n",
        "\n",
        "nput: The the peak list files (classic structure, header = 6, by thermofisher) are uploaded to the directory titeled *calibration_input*, it is of key importance that the title of the files follows the format: Cal_\"conc.nr\"_\"series.nr\"_\"identification.nr\"_pl.csv Any changes to filename, path or other changes that might impact the file significantly need to be comented and marked extensively."
      ],
      "metadata": {
        "id": "Z8qnAknfh4gQ"
      }
    },
    {
      "cell_type": "markdown",
      "source": [
        "The following code serves to import the librarys and mount the google drive."
      ],
      "metadata": {
        "id": "ZAiV1a2ljKSr"
      }
    },
    {
      "cell_type": "code",
      "execution_count": null,
      "metadata": {
        "id": "dqAOn8YyhrnD"
      },
      "outputs": [],
      "source": [
        "import numpy as np\n",
        "from google.colab import drive\n",
        "import glob\n",
        "import pandas as pd\n",
        "import matplotlib.pyplot as plt\n",
        "\n",
        "# Mount Google Drive\n",
        "drive.mount('/content/drive', force_remount = True)\n",
        "\n",
        "# Set path to the folder containing the CSV files\n",
        "path = '/content/drive/My Drive/calibration_input'"
      ]
    },
    {
      "cell_type": "markdown",
      "source": [
        "This loop aims at importing the various files from the google drive, looping throug the colums and saving them in a new file."
      ],
      "metadata": {
        "id": "60pGfTAYjZtY"
      }
    },
    {
      "cell_type": "code",
      "source": [
        "#First version seems rather unoptimized, hence version 2 seems a lot better, select that one if it seems to work.\n",
        "# Get a list of all CSV files in the current directory\n",
        "files = glob.glob('*.csv')\n",
        "\n",
        "# Loop over each CSV file\n",
        "for file in files:\n",
        "    # Read in the CSV file\n",
        "    df = pd.read_csv(file, header = 6)\n",
        "    \n",
        "    # Loop over each row and save a separate data frame for each row\n",
        "    for i, row in df.iterrows():\n",
        "        row_df = pd.DataFrame(row).T\n",
        "        \n",
        "        # Save the row data frame as a new CSV file\n",
        "        row_df.to_csv(f'row{i+1}_{file}', index=False)\n",
        "        \n",
        "# Get a list of all CSV files with row data\n",
        "row_files = glob.glob('row*_file*.csv')\n",
        "\n",
        "# Create an empty list to store the row data frames\n",
        "row_dfs = []\n",
        "\n",
        "# Loop over each row file, read it into a data frame, and append it to the list\n",
        "for file in row_files:\n",
        "    row_df = pd.read_csv(file)\n",
        "    row_dfs.append(row_df)\n",
        "\n",
        "# Concatenate the row data frames along the rows axis\n",
        "combined_df = pd.concat(row_dfs, axis=0)\n",
        "\n",
        "# Save the combined data frame to a CSV file\n",
        "combined_df.to_csv('combined_rows.csv', index=False)\n"
      ],
      "metadata": {
        "id": "_Au8oaF1jzyB"
      },
      "execution_count": null,
      "outputs": []
    },
    {
      "cell_type": "code",
      "source": [
        "#version 2 which seems to be more optimized than version one\n",
        "# Get a list of all CSV files in the current directory\n",
        "files = glob.glob('Cal_*_pl.csv')\n",
        "\n",
        "# Loop over each row and save a separate data frame for each row\n",
        "for i in range(len(pd.read_csv(files[0]).columns)):\n",
        "    row_dfs = []\n",
        "    for file in files:\n",
        "        # Read in the CSV file\n",
        "        df = pd.read_csv(file)\n",
        "        \n",
        "        # Extract the i'th row of the CSV file and append it to the row data frame list\n",
        "        row = df.iloc[i]\n",
        "        row_dfs.append(row)\n",
        "        \n",
        "    # Concatenate the row data frames along the columns axis and convert to a data frame\n",
        "    combined_df = pd.concat(row_dfs, axis=1).T\n",
        "    \n",
        "    # Save the combined data frame to a CSV file with a name indicating the row number\n",
        "    combined_df.to_csv('/content/drive/My Drive/calibration_output/row{i+1}.csv', index=False)"
      ],
      "metadata": {
        "id": "MtUS_fl6t-X2"
      },
      "execution_count": null,
      "outputs": []
    },
    {
      "cell_type": "markdown",
      "source": [
        "The following lines use the previously created row file and take the average and the standard deviation *(or the error)* and add them to two new files."
      ],
      "metadata": {
        "id": "JapL2sZXv3AB"
      }
    },
    {
      "cell_type": "code",
      "source": [
        "# Get a list of all CSV files in the current directory\n",
        "files = glob.glob('/content/drive/My Drive/calibration_output/row*.csv')\n",
        "#Loop over each dataframe\n",
        "\n",
        "for file in files:\n",
        "  #take the mean of the file and save it in a new data frame\n",
        "  df_mean = pd.mean(file)\n",
        "  #save this dataframe in a new csv document\n",
        "  df_mean.to_csv('/content/drive/My Drive/calibration_output/'file'_mean.csv')\n",
        "  #take the standard deviation of the file and save it in a new data frame\n",
        "  df_std = pd.std(file)\n",
        "  #save this dataframe in a new csv document\n",
        "  df_std.to_csv('/content/drive/My Drive/calibration_output/'file'_std.csv')"
      ],
      "metadata": {
        "id": "3cTOVcyUwM7m"
      },
      "execution_count": null,
      "outputs": []
    }
  ]
}