{
  "nbformat": 4,
  "nbformat_minor": 0,
  "metadata": {
    "colab": {
      "provenance": [],
      "authorship_tag": "ABX9TyM0yLwfarL8B1pWjpje66M2",
      "include_colab_link": true
    },
    "kernelspec": {
      "name": "python3",
      "display_name": "Python 3"
    },
    "language_info": {
      "name": "python"
    }
  },
  "cells": [
    {
      "cell_type": "markdown",
      "metadata": {
        "id": "view-in-github",
        "colab_type": "text"
      },
      "source": [
        "<a href=\"https://colab.research.google.com/github/TillVollmer5/mass_spectroscopy/blob/main/Calibration_calculation.ipynb\" target=\"_parent\"><img src=\"https://colab.research.google.com/assets/colab-badge.svg\" alt=\"Open In Colab\"/></a>"
      ]
    },
    {
      "cell_type": "markdown",
      "source": [
        "# Calibration calculation\n",
        "This skript aims to allow the calculation and generation of a linear regression to allow the quantivication of phthalates in the environement.\n",
        "\n",
        "nput: The the peak list files (classic structure, header = 6, by thermofisher) are uploaded to the directory titeled *calibration_input*, it is of key importance that the title of the files follows the format: Cal_\"conc.nr\"_\"series.nr\"_\"identification.nr\"_pl.csv Any changes to filename, path or other changes that might impact the file significantly need to be comented and marked extensively."
      ],
      "metadata": {
        "id": "Z8qnAknfh4gQ"
      }
    },
    {
      "cell_type": "markdown",
      "source": [
        "The following code serves to import the librarys and mount the google drive."
      ],
      "metadata": {
        "id": "ZAiV1a2ljKSr"
      }
    },
    {
      "cell_type": "code",
      "execution_count": 13,
      "metadata": {
        "id": "dqAOn8YyhrnD",
        "outputId": "059c41ef-c74a-465e-c3ba-39f0211e005a",
        "colab": {
          "base_uri": "https://localhost:8080/"
        }
      },
      "outputs": [
        {
          "output_type": "stream",
          "name": "stdout",
          "text": [
            "Mounted at /content/drive\n"
          ]
        }
      ],
      "source": [
        "import numpy as np\n",
        "from google.colab import drive\n",
        "import glob\n",
        "import pandas as pd\n",
        "import matplotlib.pyplot as plt\n",
        "import os\n",
        "import csv\n",
        "\n",
        "# Mount Google Drive\n",
        "drive.mount('/content/drive', force_remount = True)\n",
        "\n",
        "# Set path to the folder containing the CSV files\n",
        "path = '/content/drive/My Drive/calibration_input'"
      ]
    },
    {
      "cell_type": "markdown",
      "source": [
        "This loop aims at importing the various files from the google drive, looping throug the colums and saving them in a new file."
      ],
      "metadata": {
        "id": "60pGfTAYjZtY"
      }
    },
    {
      "cell_type": "code",
      "source": [
        "# Outer loop to iterate over the number series\n",
        "for n in range(4, 5):  # Adapted to the number of data sets (number of redundant analyses)\n",
        "    files = glob.glob(f'/content/drive/My Drive/calibration_input/Cal_{n}ug*.csv')\n",
        "    \n",
        "    if not files:\n",
        "        print(f'Files matching pattern \"Cal_{n}ug*.csv\" were not found.')\n",
        "        break\n",
        "    \n",
        "    else:\n",
        "        # Loop over each row and save a separate data frame for each\n",
        "        df = pd.read_csv(files[0], header=4)\n",
        "        num_rows = len(df)\n",
        "        \n",
        "        for i in range(num_rows):\n",
        "            row_dfs = []\n",
        "            for file in files:\n",
        "                # Read in the CSV file\n",
        "                df = pd.read_csv(file, header=4, na_values='')\n",
        "\n",
        "                # Extract the i'th row of the CSV file and append it to the row data frame list\n",
        "                row = df.iloc[i, :].dropna().astype(str)\n",
        "                row_dfs.append(row)\n",
        "\n",
        "            # Concatenate the row data frames along the columns axis and convert to a data frame\n",
        "            combined_df = pd.concat(row_dfs, axis=1).T\n",
        "\n",
        "            # Save the combined data frame to a CSV file with a name indicating the row number\n",
        "            combined_df.to_csv(f'/content/drive/My Drive/calibration_output/Cal_{n}ug_row{i+1}.csv', index=False, header=False)  # Corrected file name formatting and removed headers\n",
        "            \n",
        "            # Convert all values to strings before joining and print the row in the desired format\n",
        "            formatted_row = '\\t'.join(map(str, combined_df.values[0]))\n",
        "            print(formatted_row)\n"
      ],
      "metadata": {
        "id": "lHXFRQ3ns077",
        "outputId": "9963b9bc-515c-4cd3-d702-4799049fdefd",
        "colab": {
          "base_uri": "https://localhost:8080/"
        }
      },
      "execution_count": 27,
      "outputs": [
        {
          "output_type": "stream",
          "name": "stdout",
          "text": [
            "4.35\t4.31\t4.39\t65790142350.304\t23.52\t38623269390.338\t25.48\n",
            "6.21\t6.17\t6.23\t22784087462.729\t8.15\t16633771663.194\t10.97\n",
            "7.74\t7.7\t7.77\t31485384232.535\t11.26\t18383070244.296\t12.13\n",
            "13.33\t13.29\t13.4\t43629929619.793\t15.6\t18042749107.326\t11.9\n",
            "18.65\t18.6\t18.69\t33780756994.9\t12.08\t17930008588.157\t11.83\n",
            "20.44\t20.39\t20.54\t39061674749.547\t13.97\t20829965069.204\t13.74\n",
            "22.02\t21.98\t22.23\t43143557380.228\t15.43\t21146814279.364\t13.95\n"
          ]
        }
      ]
    },
    {
      "cell_type": "markdown",
      "source": [
        "The following lines use the previously created row file and take the average and the standard deviation *(or the error)* and add them to two new files."
      ],
      "metadata": {
        "id": "JapL2sZXv3AB"
      }
    },
    {
      "cell_type": "code",
      "source": [],
      "metadata": {
        "id": "ShW_UpfuvE33",
        "outputId": "49f56794-dd1c-4c8c-ab25-fc3e7ba98531",
        "colab": {
          "base_uri": "https://localhost:8080/"
        }
      },
      "execution_count": 35,
      "outputs": [
        {
          "output_type": "stream",
          "name": "stdout",
          "text": [
            "[]\n"
          ]
        }
      ]
    },
    {
      "cell_type": "code",
      "source": [
        "# Get a list of all CSV files in the current directory\n",
        "files = glob.glob('/content/drive/My Drive/calibration_output/Cal_*.csv')\n",
        "\n",
        "# Loop over each file\n",
        "for file in files:\n",
        "    # Load the CSV file into a dataframe\n",
        "    df = pd.read_csv(file)\n",
        "    \n",
        "    # Calculate the mean and standard deviation\n",
        "    df_mean = df.mean(axis=0)\n",
        "    df_std = df.std(axis=0)\n",
        "    \n",
        "    print(df_mean)\n",
        "    print(df_std)\n",
        "    \n",
        "    # Get the file name without the directory path\n",
        "    file_name = os.path.basename(file)\n",
        "    \n",
        "    # Save the mean dataframe to a new CSV file\n",
        "    mean_file_path = '/content/drive/My Drive/calibration_output/' + file_name[:-4] + '_mean.csv'\n",
        "    df_mean.to_csv(mean_file_path)\n",
        "    \n",
        "    # Save the standard deviation dataframe to a new CSV file\n",
        "    std_file_path = '/content/drive/My Drive/calibration_output/' + file_name[:-4] + '_std.csv'\n",
        "    df_std.to_csv(std_file_path)\n"
      ],
      "metadata": {
        "id": "3cTOVcyUwM7m",
        "outputId": "ddcf442c-5340-4c93-ff99-b39349abf1de",
        "colab": {
          "base_uri": "https://localhost:8080/"
        }
      },
      "execution_count": 41,
      "outputs": [
        {
          "output_type": "stream",
          "name": "stdout",
          "text": [
            "4.35               5.286667e+00\n",
            "4.31               5.250000e+00\n",
            "4.39               5.340000e+00\n",
            "65790142350.304    9.134216e+10\n",
            "23.52              2.337000e+01\n",
            "38623269390.338    4.349732e+10\n",
            "25.48              2.094333e+01\n",
            "dtype: float64\n",
            "4.35               1.613702e+00\n",
            "4.31               1.610838e+00\n",
            "4.39               1.628158e+00\n",
            "65790142350.304    2.143269e+10\n",
            "23.52              4.557412e-01\n",
            "38623269390.338    9.348029e+09\n",
            "25.48              5.304247e+00\n",
            "dtype: float64\n",
            "6.21               7.676667e+00\n",
            "6.17               7.650000e+00\n",
            "6.23               7.710000e+00\n",
            "22784087462.729    2.719207e+10\n",
            "8.15               7.106667e+00\n",
            "16633771663.194    1.860622e+10\n",
            "10.97              8.966667e+00\n",
            "dtype: float64\n",
            "6.21               2.531686e+00\n",
            "6.17               2.537459e+00\n",
            "6.23               2.537459e+00\n",
            "22784087462.729    3.451666e+09\n",
            "8.15               9.716138e-01\n",
            "16633771663.194    1.728121e+09\n",
            "10.97              1.816985e+00\n",
            "dtype: float64\n",
            "7.74               9.263333e+00\n",
            "7.7                9.220000e+00\n",
            "7.77               9.303333e+00\n",
            "31485384232.535    4.180846e+10\n",
            "11.26              1.076000e+01\n",
            "18383070244.296    2.737345e+10\n",
            "12.13              1.268000e+01\n",
            "dtype: float64\n",
            "7.74               2.629835e+00\n",
            "7.7                2.632717e+00\n",
            "7.77               2.629835e+00\n",
            "31485384232.535    8.493527e+09\n",
            "11.26              5.074446e-01\n",
            "18383070244.296    7.813493e+09\n",
            "12.13              7.066116e-01\n",
            "dtype: float64\n",
            "13.33              1.429667e+01\n",
            "13.29              1.424667e+01\n",
            "13.4               1.434667e+01\n",
            "43629929619.793    6.120562e+10\n",
            "15.6               1.562667e+01\n",
            "18042749107.326    3.121610e+10\n",
            "11.9               1.412667e+01\n",
            "dtype: float64\n",
            "13.33              1.657025e+00\n",
            "13.29              1.665663e+00\n",
            "13.4               1.648343e+00\n",
            "43629929619.793    1.505829e+10\n",
            "15.6               4.077172e-01\n",
            "18042749107.326    1.339793e+10\n",
            "11.9               3.211796e+00\n",
            "dtype: float64\n",
            "18.65              1.900000e+01\n",
            "18.6               1.894333e+01\n",
            "18.69              1.905667e+01\n",
            "33780756994.9      4.554516e+10\n",
            "12.08              1.169000e+01\n",
            "17930008588.157    2.623766e+10\n",
            "11.83              1.215333e+01\n",
            "dtype: float64\n",
            "18.65              6.148984e-01\n",
            "18.6               6.293118e-01\n",
            "18.69              6.005275e-01\n",
            "33780756994.9      9.895259e+09\n",
            "12.08              3.174902e-01\n",
            "17930008588.157    7.495443e+09\n",
            "11.83              6.676326e-01\n",
            "dtype: float64\n",
            "20.44              2.069000e+01\n",
            "20.39              2.064000e+01\n",
            "20.54              2.080667e+01\n",
            "39061674749.547    5.937967e+10\n",
            "13.97              1.504000e+01\n",
            "20829965069.204    3.416426e+10\n",
            "13.74              1.560667e+01\n",
            "dtype: float64\n",
            "20.44              4.417013e-01\n",
            "20.39              4.417013e-01\n",
            "20.54              4.186088e-01\n",
            "39061674749.547    1.697644e+10\n",
            "13.97              8.580793e-01\n",
            "20829965069.204    1.169992e+10\n",
            "13.74              1.635400e+00\n",
            "dtype: float64\n",
            "22.02              2.223667e+01\n",
            "21.98              2.219667e+01\n",
            "22.23              2.237333e+01\n",
            "43143557380.228    6.480745e+10\n",
            "15.43              1.641000e+01\n",
            "21146814279.364    3.390940e+10\n",
            "13.95              1.553000e+01\n",
            "dtype: float64\n",
            "22.02              3.666515e-01\n",
            "21.98              3.580968e-01\n",
            "22.23              3.544479e-01\n",
            "43143557380.228    1.859170e+10\n",
            "15.43              9.601562e-01\n",
            "21146814279.364    1.125550e+10\n",
            "13.95              1.420845e+00\n",
            "dtype: float64\n",
            "Unnamed: 0    1.491620e+10\n",
            "0             1.926278e+10\n",
            "dtype: float64\n",
            "Unnamed: 0    2.665411e+10\n",
            "0             3.567918e+10\n",
            "dtype: float64\n",
            "Unnamed: 0    1.491620e+10\n",
            "0             4.397246e+09\n",
            "dtype: float64\n",
            "Unnamed: 0    2.665411e+10\n",
            "0             8.280455e+09\n",
            "dtype: float64\n",
            "Unnamed: 0    5.631123e+09\n",
            "0             6.542613e+09\n",
            "dtype: float64\n",
            "Unnamed: 0    9.779487e+09\n",
            "0             1.144523e+10\n",
            "dtype: float64\n",
            "Unnamed: 0    5.631123e+09\n",
            "0             7.399695e+08\n",
            "dtype: float64\n",
            "Unnamed: 0    9.779487e+09\n",
            "0             1.358155e+09\n",
            "dtype: float64\n",
            "Unnamed: 0    7.124065e+09\n",
            "0             9.883130e+09\n",
            "dtype: float64\n",
            "Unnamed: 0    1.274101e+10\n",
            "0             1.738543e+10\n",
            "dtype: float64\n",
            "Unnamed: 0    7.124065e+09\n",
            "0             2.329574e+09\n",
            "dtype: float64\n",
            "Unnamed: 0    1.274101e+10\n",
            "0             3.983346e+09\n",
            "dtype: float64\n",
            "Unnamed: 0    8.810383e+09\n",
            "0             1.320310e+10\n",
            "dtype: float64\n",
            "Unnamed: 0    1.676182e+10\n",
            "0             2.415340e+10\n",
            "dtype: float64\n",
            "Unnamed: 0    8.810383e+09\n",
            "0             4.065174e+09\n",
            "dtype: float64\n",
            "Unnamed: 0    1.676182e+10\n",
            "0             6.959132e+09\n",
            "dtype: float64\n",
            "Unnamed: 0    7.387252e+09\n",
            "0             1.025469e+10\n",
            "dtype: float64\n",
            "Unnamed: 0    1.342028e+10\n",
            "0             1.837873e+10\n",
            "dtype: float64\n",
            "Unnamed: 0    7.387252e+09\n",
            "0             2.484386e+09\n",
            "dtype: float64\n",
            "Unnamed: 0    1.342028e+10\n",
            "0             4.299081e+09\n",
            "dtype: float64\n",
            "Unnamed: 0    8.555949e+09\n",
            "0             1.336342e+10\n",
            "dtype: float64\n",
            "Unnamed: 0    1.553100e+10\n",
            "0             2.395508e+10\n",
            "dtype: float64\n",
            "Unnamed: 0    8.555949e+09\n",
            "0             4.096622e+09\n",
            "dtype: float64\n",
            "Unnamed: 0    1.553100e+10\n",
            "0             7.160206e+09\n",
            "dtype: float64\n",
            "Unnamed: 0    9.184339e+09\n",
            "0             1.410241e+10\n",
            "dtype: float64\n",
            "Unnamed: 0    1.692183e+10\n",
            "0             2.568303e+10\n",
            "dtype: float64\n",
            "Unnamed: 0    9.184339e+09\n",
            "0             4.263885e+09\n",
            "dtype: float64\n",
            "Unnamed: 0    1.692183e+10\n",
            "0             7.583672e+09\n",
            "dtype: float64\n"
          ]
        }
      ]
    },
    {
      "cell_type": "markdown",
      "source": [
        "Two files contain the internal standard signals are used to take the ratio of the various signals and save the values in a new file. The file needs to be specified so that the internal standard signal correlates to the divisor name, so that this leads to the correct ratio. The first one calculates the ratio of the mean and the bottom one being used for the ratio of the standard deviation, although that might be insuficient and should be substituted by an appropriate error calculation (possibly gaussian errorpropagation)."
      ],
      "metadata": {
        "id": "SbhkIbsFjZW7"
      }
    },
    {
      "cell_type": "code",
      "source": [
        "# Read divisor value from the divisor file\n",
        "divisor_file = 'divisor.csv'  # Replace with the name of your divisor file\n",
        "\n",
        "with open(divisor_file, 'r') as file:\n",
        "    reader = csv.reader(file)\n",
        "    divisor = next(reader)[0]  # Assuming the divisor is in the first column\n",
        "\n",
        "# Get a list of CSV files in the directory\n",
        "directory = '/content/drive/My Drive/calibration_output'  # Replace with the actual path to the directory containing the CSV files\n",
        "\n",
        "csv_files = glob.glob(os.path.join(directory, '*_mean.csv'))\n",
        "\n",
        "# Process each CSV file\n",
        "for csv_file in csv_files:\n",
        "    if csv_file == divisor_file:\n",
        "        continue  # Skip the divisor file itself\n",
        "\n",
        "    # Read the contents of the CSV file\n",
        "    with open(csv_file, 'r') as file:\n",
        "        reader = csv.reader(file)\n",
        "        data = list(reader)\n",
        "\n",
        "    # Perform division on the data\n",
        "    divided_data = [[str(float(value) / float(divisor)) for value in row] for row in data]\n",
        "\n",
        "    # Create a new file name with the \"_ratio\" tag\n",
        "    new_file_name = os.path.splitext(csv_file)[0] + '_ratio.csv' #needs to be adapted to fit the final data file name formate\n",
        "\n",
        "    # Write the divided data to the new CSV file\n",
        "     with open(new_file_name, 'w', newline='') as file:\n",
        "        writer = csv.writer(file)\n",
        "        writer.writerows(divided_data)"
      ],
      "metadata": {
        "id": "4ZEmr-SJkcjw"
      },
      "execution_count": null,
      "outputs": []
    },
    {
      "cell_type": "code",
      "source": [
        "# Read divisor value from the divisor file\n",
        "divisor_file = 'divisor.csv'  # Replace with the name of your divisor file\n",
        "\n",
        "with open(divisor_file, 'r') as file:\n",
        "    reader = csv.reader(file)\n",
        "    divisor = next(reader)[0]  # Assuming the divisor is in the first column\n",
        "\n",
        "# Get a list of CSV files in the directory\n",
        "directory = '/content/drive/My Drive/calibration_output'  # Replace with the actual path to the directory containing the CSV files\n",
        "\n",
        "csv_files = glob.glob(os.path.join(directory, '*_std.csv'))\n",
        "\n",
        "# Process each CSV file\n",
        "for csv_file in csv_files:\n",
        "    if csv_file == divisor_file:\n",
        "        continue  # Skip the divisor file itself\n",
        "\n",
        "    # Read the contents of the CSV file\n",
        "    with open(csv_file, 'r') as file:\n",
        "        reader = csv.reader(file)\n",
        "        data = list(reader)\n",
        "\n",
        "    # Perform division on the data\n",
        "    divided_data = [[str(float(value) / float(divisor)) for value in row] for row in data]\n",
        "\n",
        "    # Create a new file name with the \"_ratio\" tag\n",
        "    new_file_name = os.path.splitext(csv_file)[0] + '_ratio.csv' #needs to be adapted to fit the final data file name formate\n",
        "\n",
        "    # Write the divided data to the new CSV file\n",
        "     with open(new_file_name, 'w', newline='') as file:\n",
        "        writer = csv.writer(file)\n",
        "        writer.writerows(divided_data)"
      ],
      "metadata": {
        "id": "zajYhAEJk53e"
      },
      "execution_count": null,
      "outputs": []
    },
    {
      "cell_type": "markdown",
      "source": [
        "The following script creates a plot using the previously optained data. A file containing the concentration will be nescessary to associate the y-axis values with the x-axis values."
      ],
      "metadata": {
        "id": "dBr9ZlOOiqcC"
      }
    },
    {
      "cell_type": "code",
      "source": [],
      "metadata": {
        "id": "Z4RiXPM6jY5t"
      },
      "execution_count": null,
      "outputs": []
    }
  ]
}