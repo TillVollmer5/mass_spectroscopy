{
  "nbformat": 4,
  "nbformat_minor": 0,
  "metadata": {
    "colab": {
      "name": "CodingTask1.ipynb",
      "provenance": [],
      "include_colab_link": true
    },
    "kernelspec": {
      "name": "python3",
      "display_name": "Python 3"
    },
    "language_info": {
      "name": "python"
    }
  },
  "cells": [
    {
      "cell_type": "markdown",
      "metadata": {
        "id": "view-in-github",
        "colab_type": "text"
      },
      "source": [
        "<a href=\"https://colab.research.google.com/github/TillVollmer5/mass_spectroscopy/blob/main/Concentration_calculation.ipynb\" target=\"_parent\"><img src=\"https://colab.research.google.com/assets/colab-badge.svg\" alt=\"Open In Colab\"/></a>"
      ]
    },
    {
      "cell_type": "markdown",
      "source": [
        "#Concentration calculation\n",
        "This notebook is used to calculate the concentration of phtalates in an environemental sample using an internal standard for quantitation. The Calibration_calculation.ipynb notebook, yields severall of the required files nescessary for the calculations in this notebook. The files *Cal_{n}_analyte_linreg.csv* need to be used which is located in the *calibration_output* folder on the google drive. If this notebook is not applied from my machine in connection with my google drive, either the path to the required files needs to be adabted or changed.\n",
        "The following code allows for the calculation of the concentration, by using the linear regression form a calibration series and the ratio of the signal of the analyte with the internal standard (area). All the data regarding the calibration are present on my google drive in the folders: *calibration_input* and *calibration_output*, while a new google drive folder will be used to save the final data in as well as a new input folder.\n",
        "\n",
        "*Google drive folder:*\n",
        "quantitation_input\n",
        "quantitation_output\n",
        "\n",
        "The .csv files containing the peak list from the sample should be saved in the in the input folder. The names should follow a consequent naming sceme:\n",
        "\n",
        "***Sample_{date_of_analysis}_{tag_bonus_info}_{Sample_Nr}_pl.csv***\n",
        "\n",
        "Here the Sample number *(Sample_Nr)* is of key importance and needs to be properly documented in the Labjournal, as it is the main way of differentiation.\n"
      ],
      "metadata": {
        "id": "HlXOz_s2lyh_"
      }
    },
    {
      "cell_type": "markdown",
      "source": [
        "The following code is used to import all the nescessary libraries and mount the google drive."
      ],
      "metadata": {
        "id": "nPldWo5uaB-Z"
      }
    },
    {
      "cell_type": "code",
      "source": [
        "import numpy as np\n",
        "from google.colab import drive\n",
        "import glob\n",
        "import pandas as pd\n",
        "import os\n",
        "import csv\n",
        "from datetime import datetime\n",
        "import re\n",
        "import ast\n",
        "\n",
        "drive.mount('/content/drive', force_remount = True)\n",
        "\n",
        "sample_nr_low = 152 #needs to be adapted to 1 nr in the series\n",
        "sample_nr_high = 153 #needs to be adapted to the last nr of the series"
      ],
      "metadata": {
        "id": "f0Rraq8-lx2k",
        "outputId": "a78819ea-24d7-42d1-927d-5d169ad3f108",
        "colab": {
          "base_uri": "https://localhost:8080/"
        }
      },
      "execution_count": 1,
      "outputs": [
        {
          "output_type": "stream",
          "name": "stdout",
          "text": [
            "Mounted at /content/drive\n"
          ]
        }
      ]
    },
    {
      "cell_type": "markdown",
      "source": [
        "The following code is the addapted code from the Calibration_calculation.ipynb and yields the separated in separated .csv files, which will be used to calculate the ratio in a following code segment.\n",
        "\n",
        "The output file has the following filename and is saved in the quantitation_output folder:\n",
        "\n",
        "***Sample_{n}_row{i+1}.csv***"
      ],
      "metadata": {
        "id": "iRIOk4_na2v0"
      }
    },
    {
      "cell_type": "code",
      "source": [
        "#Loop over all the designated sample files.\n",
        "for n in range(sample_nr_low, sample_nr_high):\n",
        "    files = glob.glob(f'/content/drive/My Drive/quantitation_input/*_{n}_pl.csv')\n",
        "\n",
        "    if not files:\n",
        "        print(f'Files matching pattern Sample Nr. {n} was not found.')\n",
        "        continue\n",
        "\n",
        "    else:\n",
        "        # Loop over each row and save a separate data frame for each\n",
        "        df = pd.read_csv(files[0], header=4)\n",
        "        num_rows = len(df)\n",
        "\n",
        "        for i in range(num_rows):\n",
        "            row_dfs = []\n",
        "            for file in files:\n",
        "                df = pd.read_csv(file, header=4, na_values='')\n",
        "\n",
        "                # Extract the i'th row of the CSV file and append it to the row data frame list\n",
        "                row = df.iloc[i, :].dropna().astype(str)\n",
        "                row_dfs.append(row)\n",
        "\n",
        "            # Concatenate the row data frames along the columns axis and convert to a data frame\n",
        "            combined_df = pd.concat(row_dfs, axis=1).T\n",
        "\n",
        "            # Save the combined data frame to a CSV file with a name indicating the row number\n",
        "            combined_df.to_csv(f'/content/drive/My Drive/quantitation_output/Sample_{n}_row{i+1}.csv', index=False, header=False)\n",
        "\n",
        "            # Convert all values to strings before joining and print the row in the desired format\n",
        "            formatted_row = '\\t'.join(map(str, combined_df.values[0]))\n",
        "            print(formatted_row)"
      ],
      "metadata": {
        "id": "wtrzzQvHa2TP",
        "outputId": "a5604727-ee62-4acd-9bae-6419b95a075b",
        "colab": {
          "base_uri": "https://localhost:8080/"
        }
      },
      "execution_count": 2,
      "outputs": [
        {
          "output_type": "stream",
          "name": "stdout",
          "text": [
            "13.81\t13.77\t13.85\t336208.682\t100.0\t169367.555\t100.0\n",
            "15.29\t15.28\t15.3\t213871.255\t2.69\t232039.464\t5.37\n",
            "18.6\t18.55\t18.64\t10102537852.963\t100.0\t4771555163.555\t100.0\n",
            "20.61\t20.57\t20.66\t3004237.372\t37.78\t1641364.7\t38.01\n",
            "25.64\t25.63\t25.65\t321974.204\t4.05\t334085.201\t7.74\n",
            "26.75\t26.7\t26.8\t4312361.191\t54.23\t1877104.686\t43.47\n",
            "29.3\t29.29\t29.3\t99850.206\t1.26\t234011.711\t5.42\n"
          ]
        }
      ]
    },
    {
      "cell_type": "markdown",
      "source": [
        "The following code allows to calculate the ratio of the analytes with the internal standard. The output is saved as:\n",
        "\n",
        "***Sample_{n}_row*_ratio.csv**"
      ],
      "metadata": {
        "id": "4P-AJhGWfCXY"
      }
    },
    {
      "cell_type": "code",
      "source": [
        "# Loop over all the designated sample files. Currently works but i am not sure if it might be just exactly the same as the first one, it works but not iterative...\n",
        "for n in range(sample_nr_low, sample_nr_high):\n",
        "    divisor_file = f'/content/drive/My Drive/quantitation_output/Sample_{n}_row3.csv'\n",
        "    directory = '/content/drive/My Drive/quantitation_output'\n",
        "\n",
        "    if not os.path.isfile(divisor_file):\n",
        "        print(f\"Divisor file does not exist: {divisor_file}\")\n",
        "        continue  # Skip to the next iteration if the divisor file is missing\n",
        "\n",
        "    divisor_df = pd.read_csv(divisor_file, sep=',', header=None)\n",
        "    csv_files = glob.glob(os.path.join(directory, f'*{n}_row*.csv'))\n",
        "\n",
        "    # Process each CSV file\n",
        "    for csv_file in csv_files:\n",
        "        if csv_file == divisor_file or '_ratio' in csv_file:\n",
        "            continue  # Skip the divisor file itself and ratio files\n",
        "        data_df = pd.read_csv(csv_file, sep=',', header=None)\n",
        "        data_df = data_df.apply(pd.to_numeric, errors='coerce')  # Convert values to numeric\n",
        "        print('divisor_df:', divisor_df)\n",
        "        print('data_df:', data_df)\n",
        "        divided_data_df = pd.DataFrame()\n",
        "\n",
        "        for i in range(len(data_df)):\n",
        "          # Perform division on the data on the complete dataframe\n",
        "          divided_row = data_df.iloc[i] / divisor_df.iloc[i]\n",
        "          divided_data_df = divided_data_df.append(divided_row, ignore_index=True)\n",
        "\n",
        "        # Create a new file name with the \"_ratio\" tag\n",
        "        new_file_name = os.path.splitext(csv_file)[0] + '_ratio.csv'\n",
        "\n",
        "        divided_data_df.to_csv(new_file_name, sep=',', header=False, index=False)\n",
        "        control_import_df = pd.read_csv(new_file_name, sep=',', header=None)\n",
        "\n",
        "        # Compare the recalculated values with the content of the ratio file\n",
        "        \"\"\"if control_import_df.equals(divided_data_df):\n",
        "            print(f\"The files match: {new_file_name}\")\n",
        "        else:\n",
        "            print(f\"The files do not match: {new_file_name}\")\"\"\"\n",
        "\n",
        "        #print(control_import_df)\n",
        "        print(divided_data_df)\n",
        "        print(csv_file)\n",
        "        print('****************************************************')\n",
        "    print('===========================================================')"
      ],
      "metadata": {
        "id": "NJwDWCIpsfed",
        "outputId": "b6389ba8-bfd8-4bd4-d929-4623faa2d2f7",
        "colab": {
          "base_uri": "https://localhost:8080/"
        }
      },
      "execution_count": 3,
      "outputs": [
        {
          "output_type": "stream",
          "name": "stdout",
          "text": [
            "divisor_df:       0      1      2             3      4             5      6\n",
            "0  18.6  18.55  18.64  1.010254e+10  100.0  4.771555e+09  100.0\n",
            "data_df:        0      1      2           3      4           5      6\n",
            "0  13.81  13.77  13.85  336208.682  100.0  169367.555  100.0\n",
            "          0         1         2         3    4         5    6\n",
            "0  0.742473  0.742318  0.743026  0.000033  1.0  0.000035  1.0\n",
            "/content/drive/My Drive/quantitation_output/Sample_152_row1.csv\n",
            "****************************************************\n",
            "divisor_df:       0      1      2             3      4             5      6\n",
            "0  18.6  18.55  18.64  1.010254e+10  100.0  4.771555e+09  100.0\n",
            "data_df:        0      1     2           3     4           5     6\n",
            "0  15.29  15.28  15.3  213871.255  2.69  232039.464  5.37\n"
          ]
        },
        {
          "output_type": "stream",
          "name": "stderr",
          "text": [
            "<ipython-input-3-61a18a55ae68>:26: FutureWarning: The frame.append method is deprecated and will be removed from pandas in a future version. Use pandas.concat instead.\n",
            "  divided_data_df = divided_data_df.append(divided_row, ignore_index=True)\n",
            "<ipython-input-3-61a18a55ae68>:26: FutureWarning: The frame.append method is deprecated and will be removed from pandas in a future version. Use pandas.concat instead.\n",
            "  divided_data_df = divided_data_df.append(divided_row, ignore_index=True)\n"
          ]
        },
        {
          "output_type": "stream",
          "name": "stdout",
          "text": [
            "          0        1         2         3       4         5       6\n",
            "0  0.822043  0.82372  0.820815  0.000021  0.0269  0.000049  0.0537\n",
            "/content/drive/My Drive/quantitation_output/Sample_152_row2.csv\n",
            "****************************************************\n",
            "divisor_df:       0      1      2             3      4             5      6\n",
            "0  18.6  18.55  18.64  1.010254e+10  100.0  4.771555e+09  100.0\n",
            "data_df:        0      1      2            3      4          5      6\n",
            "0  20.61  20.57  20.66  3004237.372  37.78  1641364.7  38.01\n",
            "          0         1         2         3       4         5       6\n",
            "0  1.108065  1.108895  1.108369  0.000297  0.3778  0.000344  0.3801\n",
            "/content/drive/My Drive/quantitation_output/Sample_152_row4.csv\n",
            "****************************************************\n",
            "divisor_df:       0      1      2             3      4             5      6\n",
            "0  18.6  18.55  18.64  1.010254e+10  100.0  4.771555e+09  100.0\n",
            "data_df:        0      1      2           3     4           5     6\n",
            "0  25.64  25.63  25.65  321974.204  4.05  334085.201  7.74\n",
            "          0         1         2         3       4        5       6\n",
            "0  1.378495  1.381671  1.376073  0.000032  0.0405  0.00007  0.0774\n",
            "/content/drive/My Drive/quantitation_output/Sample_152_row5.csv\n",
            "****************************************************\n",
            "divisor_df:       0      1      2             3      4             5      6\n",
            "0  18.6  18.55  18.64  1.010254e+10  100.0  4.771555e+09  100.0\n",
            "data_df:        0     1     2            3      4            5      6\n",
            "0  26.75  26.7  26.8  4312361.191  54.23  1877104.686  43.47\n",
            "          0         1         2         3       4         5       6\n",
            "0  1.438172  1.439353  1.437768  0.000427  0.5423  0.000393  0.4347\n",
            "/content/drive/My Drive/quantitation_output/Sample_152_row6.csv\n",
            "****************************************************\n",
            "divisor_df:       0      1      2             3      4             5      6\n",
            "0  18.6  18.55  18.64  1.010254e+10  100.0  4.771555e+09  100.0\n",
            "data_df:       0      1     2          3     4           5     6\n",
            "0  29.3  29.29  29.3  99850.206  1.26  234011.711  5.42\n",
            "          0         1         2        3       4         5       6\n",
            "0  1.575269  1.578976  1.571888  0.00001  0.0126  0.000049  0.0542\n",
            "/content/drive/My Drive/quantitation_output/Sample_152_row7.csv\n",
            "****************************************************\n",
            "===========================================================\n"
          ]
        },
        {
          "output_type": "stream",
          "name": "stderr",
          "text": [
            "<ipython-input-3-61a18a55ae68>:26: FutureWarning: The frame.append method is deprecated and will be removed from pandas in a future version. Use pandas.concat instead.\n",
            "  divided_data_df = divided_data_df.append(divided_row, ignore_index=True)\n",
            "<ipython-input-3-61a18a55ae68>:26: FutureWarning: The frame.append method is deprecated and will be removed from pandas in a future version. Use pandas.concat instead.\n",
            "  divided_data_df = divided_data_df.append(divided_row, ignore_index=True)\n",
            "<ipython-input-3-61a18a55ae68>:26: FutureWarning: The frame.append method is deprecated and will be removed from pandas in a future version. Use pandas.concat instead.\n",
            "  divided_data_df = divided_data_df.append(divided_row, ignore_index=True)\n",
            "<ipython-input-3-61a18a55ae68>:26: FutureWarning: The frame.append method is deprecated and will be removed from pandas in a future version. Use pandas.concat instead.\n",
            "  divided_data_df = divided_data_df.append(divided_row, ignore_index=True)\n"
          ]
        }
      ]
    },
    {
      "cell_type": "markdown",
      "source": [
        "The following code takes the ratio files as well as the parameters for the linear regression (analyte specific), and yields a final output file that contains all the information, such as the information of the ratio used for the quantitaiton, the parameters for the linear equation as well as other information such as compound id and other general sample information.\n",
        "\n",
        "The final outpur files have the following name format:\n",
        "\n",
        "***Sample_{n}_quantitation_output.csv***\n"
      ],
      "metadata": {
        "id": "8b_QdJRpho9h"
      }
    },
    {
      "cell_type": "code",
      "source": [
        "current_date = datetime.today().strftime('%Y-%m-%d')\n",
        "output_dir = '/content/drive/My Drive/quantitation_export/'\n",
        "#header_row1 = [f'Analysis Nr. {n}', 'Phthalate concentration calculation', 'Concentration_calibration.ipynb', 'Till Vollmer', current_date]\n",
        "header_row2 = ['Analyte', 'Intercept', 'Slope', 'Value', 'Concentration [microg/ml]']\n",
        "\n",
        "row_descriptors = ['place holder','Dimethylphthalate', 'Diethylphthalate', 'Internal standard', 'Dibutylphthalate', 'Benzylbutylphthalate', 'Bis(2-ethyl-hexyl)phthalate', 'Di-n-octylphthalate']\n",
        "file_pattern = '/content/drive/My Drive/quantitation_output/Sample_{}_row{}_ratio.csv'\n",
        "\n",
        "for n in range(sample_nr_low, sample_nr_high):\n",
        "    output_file = output_dir + f'Sample_{n}_concentration_output_{current_date}.csv'\n",
        "    header_row1 = [f'Analysis Nr. {n}', 'Phthalate concentration calculation', 'Concentration_calibration.ipynb', 'Till Vollmer', current_date]\n",
        "\n",
        "    with open(output_file, 'w', newline='') as csvfile:\n",
        "        writer = csv.writer(csvfile)\n",
        "        writer.writerow(header_row1)\n",
        "        writer.writerow(header_row2)\n",
        "\n",
        "        for i in range(1, 8):\n",
        "            if i == 3:\n",
        "                continue\n",
        "            print(f'Sample nr: {n}')\n",
        "            print(f'Compound iteration: {i}')\n",
        "            linreg_df = pd.read_csv(f'/content/drive/My Drive/calibration_export/Cal_{i}_analyte_linreg.csv')\n",
        "            print(f'linear function information: {linreg_df}')\n",
        "            descriptor = row_descriptors[i]\n",
        "            print(f'Descriptor: {descriptor}')\n",
        "            file_path = file_pattern.format(n, i)\n",
        "            if not os.path.isfile(file_path):\n",
        "                print(f\"File not found for Sample {n}, Row {i}\")\n",
        "                continue\n",
        "\n",
        "            sample_df = pd.read_csv(file_path, header=None, delimiter=',')\n",
        "            print(f'Sample dataframe: {sample_df}')\n",
        "\n",
        "            # Extracting the slope value from the linear function information\n",
        "            intercept_str = str(linreg_df['Intercept'].values[0])\n",
        "            slope_str = linreg_df['Slope'].values[0]\n",
        "\n",
        "            # Remove the brackets before using regular expressions\n",
        "            slope_str_cleaned = slope_str.strip('[]')\n",
        "            slope_value = ast.literal_eval(slope_str_cleaned)\n",
        "            if isinstance(slope_value, list):\n",
        "                slope_value = slope_value[0]  # If slope is a list, take the first element\n",
        "\n",
        "            intercept = float(re.findall(r'[-\\d.]+', intercept_str)[0])\n",
        "            slope = float(slope_value)\n",
        "\n",
        "            fourth_column = sample_df.iloc[:, 3]  # Accessing the 4th column\n",
        "            value = float(fourth_column.iloc[0])  # Assuming you want the value from the first row (index 0)\n",
        "            concentration = slope * value + intercept\n",
        "            print(f\"Calculated concentration: {concentration}\")\n",
        "            row_data = [descriptor, intercept, slope, value, concentration]\n",
        "            writer.writerow(row_data)\n",
        "\n",
        "            # Additional print statements for debugging\n",
        "            print(f\"Sample DataFrame shape: {sample_df.shape}\")\n",
        "            print(f\"Linreg DataFrame shape: {linreg_df.shape if linreg_df is not None else None}\")\n",
        "            print(\"------------------------------------------------------------------------\")\n",
        "\n"
      ],
      "metadata": {
        "id": "GEJnOOpfr7iv",
        "outputId": "92b426af-b6a8-41fe-dbfb-f6441c41db6f",
        "colab": {
          "base_uri": "https://localhost:8080/"
        }
      },
      "execution_count": 4,
      "outputs": [
        {
          "output_type": "stream",
          "name": "stdout",
          "text": [
            "Sample nr: 152\n",
            "Compound iteration: 1\n",
            "linear function information:    Intercept         Slope  R2 Value\n",
            "0   0.001358  [0.35667912]  0.999713\n",
            "Descriptor: Dimethylphthalate\n",
            "Sample dataframe:           0         1         2         3    4         5    6\n",
            "0  0.742473  0.742318  0.743026  0.000033  1.0  0.000035  1.0\n",
            "Calculated concentration: 0.0013698012635927825\n",
            "Sample DataFrame shape: (1, 7)\n",
            "Linreg DataFrame shape: (1, 3)\n",
            "------------------------------------------------------------------------\n",
            "Sample nr: 152\n",
            "Compound iteration: 2\n",
            "linear function information:    Intercept         Slope  R2 Value\n",
            "0   0.001323  [0.38786679]  0.999676\n",
            "Descriptor: Diethylphthalate\n",
            "Sample dataframe:           0        1         2         3       4         5       6\n",
            "0  0.822043  0.82372  0.820815  0.000021  0.0269  0.000049  0.0537\n",
            "Calculated concentration: 0.0013314512356542687\n",
            "Sample DataFrame shape: (1, 7)\n",
            "Linreg DataFrame shape: (1, 3)\n",
            "------------------------------------------------------------------------\n",
            "Sample nr: 152\n",
            "Compound iteration: 4\n",
            "linear function information:    Intercept         Slope  R2 Value\n",
            "0   0.002397  [0.65625097]  0.999406\n",
            "Descriptor: Dibutylphthalate\n",
            "Sample dataframe:           0         1         2         3       4         5       6\n",
            "0  1.108065  1.108895  1.108369  0.000297  0.3778  0.000344  0.3801\n",
            "Calculated concentration: 0.0025917198970336155\n",
            "Sample DataFrame shape: (1, 7)\n",
            "Linreg DataFrame shape: (1, 3)\n",
            "------------------------------------------------------------------------\n",
            "Sample nr: 152\n",
            "Compound iteration: 5\n",
            "linear function information:    Intercept         Slope  R2 Value\n",
            "0  -0.000574  [0.27378756]  0.998631\n",
            "Descriptor: Benzylbutylphthalate\n",
            "Sample dataframe:           0         1         2         3       4        5       6\n",
            "0  1.378495  1.381671  1.376073  0.000032  0.0405  0.00007  0.0774\n",
            "Calculated concentration: -0.000565146456097036\n",
            "Sample DataFrame shape: (1, 7)\n",
            "Linreg DataFrame shape: (1, 3)\n",
            "------------------------------------------------------------------------\n",
            "Sample nr: 152\n",
            "Compound iteration: 6\n",
            "linear function information:    Intercept        Slope  R2 Value\n",
            "0  -0.001668  [0.4508151]  0.998266\n",
            "Descriptor: Bis(2-ethyl-hexyl)phthalate\n",
            "Sample dataframe:           0         1         2         3       4         5       6\n",
            "0  1.438172  1.439353  1.437768  0.000427  0.5423  0.000393  0.4347\n",
            "Calculated concentration: -0.0014752797140142348\n",
            "Sample DataFrame shape: (1, 7)\n",
            "Linreg DataFrame shape: (1, 3)\n",
            "------------------------------------------------------------------------\n",
            "Sample nr: 152\n",
            "Compound iteration: 7\n",
            "linear function information:    Intercept         Slope  R2 Value\n",
            "0  -0.006264  [0.49007004]  0.989461\n",
            "Descriptor: Di-n-octylphthalate\n",
            "Sample dataframe:           0         1         2        3       4         5       6\n",
            "0  1.575269  1.578976  1.571888  0.00001  0.0126  0.000049  0.0542\n",
            "Calculated concentration: -0.006259337113755226\n",
            "Sample DataFrame shape: (1, 7)\n",
            "Linreg DataFrame shape: (1, 3)\n",
            "------------------------------------------------------------------------\n"
          ]
        }
      ]
    },
    {
      "cell_type": "code",
      "source": [],
      "metadata": {
        "id": "5oggr-01EsQB"
      },
      "execution_count": null,
      "outputs": []
    }
  ]
}