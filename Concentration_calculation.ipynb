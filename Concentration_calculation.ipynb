{
  "nbformat": 4,
  "nbformat_minor": 0,
  "metadata": {
    "colab": {
      "name": "CodingTask1.ipynb",
      "provenance": [],
      "include_colab_link": true
    },
    "kernelspec": {
      "name": "python3",
      "display_name": "Python 3"
    },
    "language_info": {
      "name": "python"
    }
  },
  "cells": [
    {
      "cell_type": "markdown",
      "metadata": {
        "id": "view-in-github",
        "colab_type": "text"
      },
      "source": [
        "<a href=\"https://colab.research.google.com/github/TillVollmer5/mass_spectroscopy/blob/main/Concentration_calculation.ipynb\" target=\"_parent\"><img src=\"https://colab.research.google.com/assets/colab-badge.svg\" alt=\"Open In Colab\"/></a>"
      ]
    },
    {
      "cell_type": "markdown",
      "source": [
        "#Concentration calculation\n",
        "This notebook is used to calculate the concentration of phtalates in an environemental sample using an internal standard for quantitation. The Calibration_calculation.ipynb notebook, yields severall of the required files nescessary for the calculations in this notebook. The files *Cal_{n}_analyte_linreg.csv* need to be used which is located in the *calibration_output* folder on the google drive. If this notebook is not applied from my machine in connection with my google drive, either the path to the required files needs to be adabted or changed.\n",
        "The following code allows for the calculation of the concentration, by using the linear regression form a calibration series and the ratio of the signal of the analyte with the internal standard (area). All the data regarding the calibration are present on my google drive in the folders: *calibration_input* and *calibration_output*, while a new google drive folder will be used to save the final data in as well as a new input folder.\n",
        "\n",
        "*Google drive folder:*\n",
        "quantitation_input\n",
        "quantitation_output\n",
        "\n",
        "The .csv files containing the peak list from the sample should be saved in the in the input folder. The names should follow a consequent naming sceme:\n",
        "\n",
        "***Sample_{date_of_analysis}_{tag_bonus_info}_{Sample_Nr}_pl.csv***\n",
        "\n",
        "Here the Sample number *(Sample_Nr)* is of key importance and needs to be properly documented in the Labjournal, as it is the main way of differentiation.\n"
      ],
      "metadata": {
        "id": "HlXOz_s2lyh_"
      }
    },
    {
      "cell_type": "markdown",
      "source": [
        "The following code is used to import all the nescessary libraries and mount the google drive."
      ],
      "metadata": {
        "id": "nPldWo5uaB-Z"
      }
    },
    {
      "cell_type": "code",
      "source": [
        "import numpy as np\n",
        "from google.colab import drive\n",
        "import glob\n",
        "import pandas as pd\n",
        "import os\n",
        "import csv\n",
        "from datetime import datetime\n",
        "import re\n",
        "\n",
        "drive.mount('/content/drive', force_remount = True)\n",
        "\n",
        "sample_nr_low = 1 #needs to be addapted to 1 nr in the series\n",
        "sample_nr_high = 3 #needs to be addapted to the last nr of the series"
      ],
      "metadata": {
        "id": "f0Rraq8-lx2k",
        "outputId": "a1c0066b-caa7-48f2-c047-e68f456a0d88",
        "colab": {
          "base_uri": "https://localhost:8080/"
        }
      },
      "execution_count": 11,
      "outputs": [
        {
          "output_type": "stream",
          "name": "stdout",
          "text": [
            "Mounted at /content/drive\n"
          ]
        }
      ]
    },
    {
      "cell_type": "markdown",
      "source": [
        "The following code is the addapted code from the Calibration_calculation.ipynb and yields the separated in separated .csv files, which will be used to calculate the ratio in a following code segment.\n",
        "\n",
        "The output file has the following filename and is saved in the quantitation_output folder:\n",
        "\n",
        "***Sample_{n}_row{i+1}.csv***"
      ],
      "metadata": {
        "id": "iRIOk4_na2v0"
      }
    },
    {
      "cell_type": "code",
      "source": [
        "#Loop over all the designated sample files.\n",
        "for n in range(sample_nr_low, sample_nr_high):\n",
        "    files = glob.glob(f'/content/drive/My Drive/quantitation_input/*_{n}_pl.csv')\n",
        "\n",
        "    if not files:\n",
        "        print(f'Files matching pattern Sample Nr. {n} was not found.')\n",
        "        break\n",
        "\n",
        "    else:\n",
        "        # Loop over each row and save a separate data frame for each\n",
        "        df = pd.read_csv(files[0], header=4)\n",
        "        num_rows = len(df)\n",
        "        \n",
        "        for i in range(num_rows):\n",
        "            row_dfs = []\n",
        "            for file in files:\n",
        "                df = pd.read_csv(file, header=4, na_values='')\n",
        "\n",
        "                # Extract the i'th row of the CSV file and append it to the row data frame list\n",
        "                row = df.iloc[i, :].dropna().astype(str)\n",
        "                row_dfs.append(row)\n",
        "\n",
        "            # Concatenate the row data frames along the columns axis and convert to a data frame\n",
        "            combined_df = pd.concat(row_dfs, axis=1).T\n",
        "\n",
        "            # Save the combined data frame to a CSV file with a name indicating the row number\n",
        "            combined_df.to_csv(f'/content/drive/My Drive/quantitation_output/Sample_{n}_row{i+1}.csv', index=False, header=False)\n",
        "            \n",
        "            # Convert all values to strings before joining and print the row in the desired format\n",
        "            formatted_row = '\\t'.join(map(str, combined_df.values[0]))\n",
        "            print(formatted_row)"
      ],
      "metadata": {
        "id": "wtrzzQvHa2TP",
        "outputId": "fec52684-85e9-4ed5-f381-74d0f818b0c9",
        "colab": {
          "base_uri": "https://localhost:8080/"
        }
      },
      "execution_count": 12,
      "outputs": [
        {
          "output_type": "stream",
          "name": "stdout",
          "text": [
            "14.7\t14.64\t14.76\t8899641679.645\t22.39\t4269043599.688\t22.58\n",
            "17.48\t17.43\t17.53\t11726497950.556\t29.51\t5937387109.376\t31.4\n",
            "20.79\t20.73\t20.86\t12856490362.673\t32.35\t6025451308.624\t31.87\n",
            "23.92\t23.88\t24.0\t4783695940.843\t12.04\t2205044360.583\t11.66\n",
            "29.63\t29.57\t29.81\t1153167025.723\t2.9\t368569331.242\t1.95\n",
            "32.17\t32.13\t32.34\t198929696.131\t0.5\t64452863.573\t0.34\n",
            "34.55\t34.5\t34.7\t121997454.463\t0.31\t38422419.591\t0.2\n",
            "14.7\t14.66\t14.76\t1407707433.936\t4.22\t662761108.09\t4.39\n",
            "17.48\t17.44\t17.53\t2425070998.323\t7.26\t1193992489.789\t7.91\n",
            "20.8\t20.76\t20.84\t25297869276.926\t75.76\t11541377812.285\t76.42\n",
            "23.93\t23.88\t23.99\t2412960836.906\t7.23\t1128758684.271\t7.47\n",
            "29.63\t29.56\t29.76\t697773916.705\t2.09\t245624472.411\t1.63\n",
            "32.17\t32.1\t32.42\t790440027.3\t2.37\t233883837.645\t1.55\n",
            "34.55\t34.51\t34.76\t358231266.88\t1.07\t97023971.385\t0.64\n"
          ]
        }
      ]
    },
    {
      "cell_type": "markdown",
      "source": [
        "The following code allows to calculate the ratio of the analytes with the internal standard. The output is saved as:\n",
        "\n",
        "***Sample_{n}_row*_ratio.csv**"
      ],
      "metadata": {
        "id": "4P-AJhGWfCXY"
      }
    },
    {
      "cell_type": "code",
      "source": [
        "#Loop over all the designated sample files.\n",
        "for n in range(sample_nr_low, sample_nr_high):\n",
        "  divisor_file = f'/content/drive/My Drive/quantitation_output/Sample_{n}_row3.csv'\n",
        "  directory = '/content/drive/My Drive/quantitation_output'\n",
        "    \n",
        "  divisor_row = pd.read_csv(divisor_file, sep=',', header=None)\n",
        "  #print(divisor_row)\n",
        "  csv_files = glob.glob(os.path.join(directory, f'*_row*.csv'))\n",
        "\n",
        "    \n",
        "  # Process each CSV file\n",
        "  for csv_file in csv_files:\n",
        "    if csv_file == divisor_file:\n",
        "      continue  # Skip the divisor file itself\n",
        "\n",
        "    data_df = pd.read_csv(csv_file, sep=',', header=None)\n",
        "    #print(data_df)\n",
        "    data_df = data_df.apply(pd.to_numeric, errors='coerce')  # Convert values to numeric\n",
        "      \n",
        "    # Perform division on the data\n",
        "    divided_data_df = data_df.div(divisor_row, axis='columns')\n",
        "    #print(divided_data_df)\n",
        "    #Create a new file name with the \"_ratio\" tag\n",
        "    new_file_name = os.path.splitext(csv_file)[0] + '_ratio.csv'\n",
        "\n",
        "    divided_data_df.to_csv(new_file_name, sep='\\t', header=False, index=False)\n",
        "    print(new_file_name)"
      ],
      "metadata": {
        "id": "oXCb2CjmfhuM",
        "outputId": "a85ca9d8-ce05-493d-8ac2-e8e7c919bccf",
        "colab": {
          "base_uri": "https://localhost:8080/"
        }
      },
      "execution_count": 13,
      "outputs": [
        {
          "output_type": "stream",
          "name": "stdout",
          "text": [
            "/content/drive/My Drive/quantitation_output/Sample_1_row1_ratio.csv\n",
            "/content/drive/My Drive/quantitation_output/Sample_1_row2_ratio.csv\n",
            "/content/drive/My Drive/quantitation_output/Sample_1_row4_ratio.csv\n",
            "/content/drive/My Drive/quantitation_output/Sample_1_row5_ratio.csv\n",
            "/content/drive/My Drive/quantitation_output/Sample_1_row6_ratio.csv\n",
            "/content/drive/My Drive/quantitation_output/Sample_1_row7_ratio.csv\n",
            "/content/drive/My Drive/quantitation_output/Sample_2_row1_ratio.csv\n",
            "/content/drive/My Drive/quantitation_output/Sample_2_row2_ratio.csv\n",
            "/content/drive/My Drive/quantitation_output/Sample_2_row3_ratio.csv\n",
            "/content/drive/My Drive/quantitation_output/Sample_2_row4_ratio.csv\n",
            "/content/drive/My Drive/quantitation_output/Sample_2_row5_ratio.csv\n",
            "/content/drive/My Drive/quantitation_output/Sample_2_row6_ratio.csv\n",
            "/content/drive/My Drive/quantitation_output/Sample_2_row7_ratio.csv\n",
            "/content/drive/My Drive/quantitation_output/Sample_1_row1_ratio.csv\n",
            "/content/drive/My Drive/quantitation_output/Sample_1_row2_ratio.csv\n",
            "/content/drive/My Drive/quantitation_output/Sample_1_row3_ratio.csv\n",
            "/content/drive/My Drive/quantitation_output/Sample_1_row4_ratio.csv\n",
            "/content/drive/My Drive/quantitation_output/Sample_1_row5_ratio.csv\n",
            "/content/drive/My Drive/quantitation_output/Sample_1_row6_ratio.csv\n",
            "/content/drive/My Drive/quantitation_output/Sample_1_row7_ratio.csv\n",
            "/content/drive/My Drive/quantitation_output/Sample_2_row1_ratio.csv\n",
            "/content/drive/My Drive/quantitation_output/Sample_2_row2_ratio.csv\n",
            "/content/drive/My Drive/quantitation_output/Sample_2_row4_ratio.csv\n",
            "/content/drive/My Drive/quantitation_output/Sample_2_row5_ratio.csv\n",
            "/content/drive/My Drive/quantitation_output/Sample_2_row6_ratio.csv\n",
            "/content/drive/My Drive/quantitation_output/Sample_2_row7_ratio.csv\n",
            "/content/drive/My Drive/quantitation_output/Sample_1_row1_ratio_ratio.csv\n",
            "/content/drive/My Drive/quantitation_output/Sample_1_row2_ratio_ratio.csv\n",
            "/content/drive/My Drive/quantitation_output/Sample_1_row4_ratio_ratio.csv\n",
            "/content/drive/My Drive/quantitation_output/Sample_1_row5_ratio_ratio.csv\n",
            "/content/drive/My Drive/quantitation_output/Sample_1_row6_ratio_ratio.csv\n",
            "/content/drive/My Drive/quantitation_output/Sample_1_row7_ratio_ratio.csv\n",
            "/content/drive/My Drive/quantitation_output/Sample_2_row1_ratio_ratio.csv\n",
            "/content/drive/My Drive/quantitation_output/Sample_2_row2_ratio_ratio.csv\n",
            "/content/drive/My Drive/quantitation_output/Sample_2_row3_ratio_ratio.csv\n",
            "/content/drive/My Drive/quantitation_output/Sample_2_row4_ratio_ratio.csv\n",
            "/content/drive/My Drive/quantitation_output/Sample_2_row5_ratio_ratio.csv\n",
            "/content/drive/My Drive/quantitation_output/Sample_2_row6_ratio_ratio.csv\n",
            "/content/drive/My Drive/quantitation_output/Sample_2_row7_ratio_ratio.csv\n"
          ]
        }
      ]
    },
    {
      "cell_type": "markdown",
      "source": [
        "The following code takes the ratio files as well as the parameters for the linear regression (analyte specific), and yields a final output file that contains all the information, such as the information of the ratio used for the quantitaiton, the parameters for the linear equation as well as other information such as compound id and other general sample information. \n",
        "\n",
        "The final outpur files have the following name format:\n",
        "\n",
        "***Sample_{n}_quantitation_output.csv***\n"
      ],
      "metadata": {
        "id": "8b_QdJRpho9h"
      }
    },
    {
      "cell_type": "code",
      "source": [
        "###PROBLEM: ALL FILES CONTAIN THE SAME OUTPUT, PROBABLY NOT SAVED CORRECTLY\n",
        "\n",
        "current_date = datetime.today().strftime('%Y-%m-%d')\n",
        "output_dir = '/content/drive/My Drive/quantitation_export/'\n",
        "#header_row1 = [f'Analysis Nr. {n}', 'Phthalate concentration calculation', 'Concentration_calibration.ipynb', 'Till Vollmer', current_date]\n",
        "header_row2 = ['Analyte', 'Intercept', 'Slope', 'Value', 'Concentration [microg/ml]']\n",
        "\n",
        "row_descriptors = ['place holder','Dimethylphthalate', 'Diethylphthalate', 'Internal standard', 'Dibutylphthalate', 'Benzylbutylphthalate', 'Bis(2-ethyl-hexyl)phthalate', 'Di-n-octylphthalate']\n",
        "file_pattern = '/content/drive/My Drive/quantitation_output/Sample_{}_row{}_ratio.csv'\n",
        "\n",
        "for n in range(sample_nr_low, sample_nr_high):\n",
        "    output_file = output_dir + f'Sample_{n}_concentration_output.csv'\n",
        "    header_row1 = [f'Analysis Nr. {n}', 'Phthalate concentration calculation', 'Concentration_calibration.ipynb', 'Till Vollmer', current_date]\n",
        "\n",
        "    with open(output_file, 'w', newline='') as csvfile:\n",
        "        writer = csv.writer(csvfile)\n",
        "        writer.writerow(header_row1)\n",
        "        writer.writerow(header_row2)\n",
        "\n",
        "        for i in range(1, 8):\n",
        "          if i == 3:\n",
        "              continue\n",
        "          print(f'Sample nr: {n}')\n",
        "          print(f'Compound iteration: {i}')\n",
        "          linreg_df = pd.read_csv(f'/content/drive/My Drive/calibration_export/Cal_{i}_analyte_linreg.csv')\n",
        "          print(f'linear function information: {linreg_df}')\n",
        "          descriptor = row_descriptors[i]\n",
        "          print(f'Descriptor: {descriptor}')\n",
        "          sample_df = pd.read_csv(file_pattern.format(n, i), header=None, delimiter='\\t')  # Corrected line\n",
        "          print(f'Sample dataframe: {sample_df}')\n",
        "          intercept_str = linreg_df['Intercept'].values[0]\n",
        "          slope_str = linreg_df['Slope'].values[0]\n",
        "          intercept = float(re.findall(r'[-\\d.]+', intercept_str)[0])\n",
        "          slope = float(re.findall(r'[-\\d.]+', slope_str)[0])\n",
        "          fourth_column = sample_df.iloc[:, 3]  # Accessing the 4th column\n",
        "          value = float(fourth_column.iloc[0])  # Assuming you want the value from the first row (index 0)\n",
        "          concentration = slope * value + intercept\n",
        "          print(f\"Calculated concentration: {concentration}\")\n",
        "          row_data = [descriptor, intercept, slope, value, concentration]\n",
        "          writer.writerow(row_data)\n",
        "\n",
        "          # Additional print statements for debugging\n",
        "          print(f\"Sample DataFrame shape: {sample_df.shape}\")\n",
        "          print(f\"Linreg DataFrame shape: {linreg_df.shape if linreg_df is not None else None}\")\n",
        "          print(\"------------------------------------------------------------------------\")\n",
        "        "
      ],
      "metadata": {
        "id": "Zwbpv1Zf28ia",
        "outputId": "4d3404f4-6797-41fb-9816-e0cc74af7874",
        "colab": {
          "base_uri": "https://localhost:8080/"
        }
      },
      "execution_count": 18,
      "outputs": [
        {
          "output_type": "stream",
          "name": "stdout",
          "text": [
            "Sample nr: 1\n",
            "Compound iteration: 1\n",
            "linear function information:       Intercept           Slope  R2 Value\n",
            "0  [0.00196969]  [[0.09175705]]  0.965479\n",
            "Descriptor: Dimethylphthalate\n",
            "Sample dataframe:           0         1         2         3         4        5         6\n",
            "0  0.706731  0.705202  0.708253  0.351794  0.295539  0.36989  0.295472\n",
            "Calculated concentration: 0.03424928072925124\n",
            "Sample DataFrame shape: (1, 7)\n",
            "Linreg DataFrame shape: (1, 3)\n",
            "------------------------------------------------------------------------\n",
            "Sample nr: 1\n",
            "Compound iteration: 2\n",
            "linear function information:       Intercept           Slope  R2 Value\n",
            "0  [0.00091738]  [[0.12280133]]   0.98321\n",
            "Descriptor: Diethylphthalate\n",
            "Sample dataframe:           0         1         2         3        4         5         6\n",
            "0  0.840385  0.839595  0.841171  0.463537  0.38952  0.514444  0.410887\n",
            "Calculated concentration: 0.05784033777194134\n",
            "Sample DataFrame shape: (1, 7)\n",
            "Linreg DataFrame shape: (1, 3)\n",
            "------------------------------------------------------------------------\n",
            "Sample nr: 1\n",
            "Compound iteration: 4\n",
            "linear function information:        Intercept           Slope  R2 Value\n",
            "0  [-0.00189289]  [[0.14515999]]  0.989428\n",
            "Descriptor: Dibutylphthalate\n",
            "Sample dataframe:       0         1         2         3         4         5         6\n",
            "0  1.15  1.150289  1.151631  0.189095  0.158923  0.191056  0.152578\n",
            "Calculated concentration: 0.02555611162675632\n",
            "Sample DataFrame shape: (1, 7)\n",
            "Linreg DataFrame shape: (1, 3)\n",
            "------------------------------------------------------------------------\n",
            "Sample nr: 1\n",
            "Compound iteration: 5\n",
            "linear function information:        Intercept           Slope  R2 Value\n",
            "0  [-0.00098362]  [[0.05510077]]  0.993887\n",
            "Descriptor: Benzylbutylphthalate\n",
            "Sample dataframe:           0         1         2         3         4         5         6\n",
            "0  1.424519  1.424374  1.430422  0.045584  0.038279  0.031935  0.025517\n",
            "Calculated concentration: 0.0015280694375725881\n",
            "Sample DataFrame shape: (1, 7)\n",
            "Linreg DataFrame shape: (1, 3)\n",
            "------------------------------------------------------------------------\n",
            "Sample nr: 1\n",
            "Compound iteration: 6\n",
            "linear function information:        Intercept           Slope  R2 Value\n",
            "0  [-0.00131236]  [[0.05799219]]  0.987005\n",
            "Descriptor: Bis(2-ethyl-hexyl)phthalate\n",
            "Sample dataframe:           0         1         2         3       4         5         6\n",
            "0  1.546635  1.547688  1.551823  0.007863  0.0066  0.005585  0.004449\n",
            "Calculated concentration: -0.0008563386407152742\n",
            "Sample DataFrame shape: (1, 7)\n",
            "Linreg DataFrame shape: (1, 3)\n",
            "------------------------------------------------------------------------\n",
            "Sample nr: 1\n",
            "Compound iteration: 7\n",
            "linear function information:        Intercept           Slope  R2 Value\n",
            "0  [-0.00083343]  [[0.03475454]]  0.989285\n",
            "Descriptor: Di-n-octylphthalate\n",
            "Sample dataframe:           0        1         2         3         4         5         6\n",
            "0  1.661058  1.66185  1.665067  0.004822  0.004092  0.003329  0.002617\n",
            "Calculated concentration: -0.0006658283192173544\n",
            "Sample DataFrame shape: (1, 7)\n",
            "Linreg DataFrame shape: (1, 3)\n",
            "------------------------------------------------------------------------\n",
            "Sample nr: 2\n",
            "Compound iteration: 1\n",
            "linear function information:       Intercept           Slope  R2 Value\n",
            "0  [0.00196969]  [[0.09175705]]  0.965479\n",
            "Descriptor: Dimethylphthalate\n",
            "Sample dataframe:           0         1         2         3         4         5         6\n",
            "0  0.706731  0.706166  0.708253  0.055645  0.055702  0.057425  0.057446\n",
            "Calculated concentration: 0.007075538243071189\n",
            "Sample DataFrame shape: (1, 7)\n",
            "Linreg DataFrame shape: (1, 3)\n",
            "------------------------------------------------------------------------\n",
            "Sample nr: 2\n",
            "Compound iteration: 2\n",
            "linear function information:       Intercept           Slope  R2 Value\n",
            "0  [0.00091738]  [[0.12280133]]   0.98321\n",
            "Descriptor: Diethylphthalate\n",
            "Sample dataframe:           0         1         2         3         4         5         6\n",
            "0  0.840385  0.840077  0.841171  0.095861  0.095829  0.103453  0.103507\n",
            "Calculated concentration: 0.012689199226298048\n",
            "Sample DataFrame shape: (1, 7)\n",
            "Linreg DataFrame shape: (1, 3)\n",
            "------------------------------------------------------------------------\n",
            "Sample nr: 2\n",
            "Compound iteration: 4\n",
            "linear function information:        Intercept           Slope  R2 Value\n",
            "0  [-0.00189289]  [[0.14515999]]  0.989428\n",
            "Descriptor: Dibutylphthalate\n",
            "Sample dataframe:           0         1         2         3         4         5         6\n",
            "0  1.150481  1.150289  1.151152  0.095382  0.095433  0.097801  0.097749\n",
            "Calculated concentration: 0.011952757122350376\n",
            "Sample DataFrame shape: (1, 7)\n",
            "Linreg DataFrame shape: (1, 3)\n",
            "------------------------------------------------------------------------\n",
            "Sample nr: 2\n",
            "Compound iteration: 5\n",
            "linear function information:        Intercept           Slope  R2 Value\n",
            "0  [-0.00098362]  [[0.05510077]]  0.993887\n",
            "Descriptor: Benzylbutylphthalate\n",
            "Sample dataframe:           0         1         2         3         4         5         6\n",
            "0  1.424519  1.423892  1.428023  0.027582  0.027587  0.021282  0.021329\n",
            "Calculated concentration: 0.0005361870507633354\n",
            "Sample DataFrame shape: (1, 7)\n",
            "Linreg DataFrame shape: (1, 3)\n",
            "------------------------------------------------------------------------\n",
            "Sample nr: 2\n",
            "Compound iteration: 6\n",
            "linear function information:        Intercept           Slope  R2 Value\n",
            "0  [-0.00131236]  [[0.05799219]]  0.987005\n",
            "Descriptor: Bis(2-ethyl-hexyl)phthalate\n",
            "Sample dataframe:           0         1         2         3         4         5         6\n",
            "0  1.546635  1.546243  1.555662  0.031245  0.031283  0.020265  0.020283\n",
            "Calculated concentration: 0.0004996245487776498\n",
            "Sample DataFrame shape: (1, 7)\n",
            "Linreg DataFrame shape: (1, 3)\n",
            "------------------------------------------------------------------------\n",
            "Sample nr: 2\n",
            "Compound iteration: 7\n",
            "linear function information:        Intercept           Slope  R2 Value\n",
            "0  [-0.00083343]  [[0.03475454]]  0.989285\n",
            "Descriptor: Di-n-octylphthalate\n",
            "Sample dataframe:           0         1         2         3         4         5         6\n",
            "0  1.661058  1.662331  1.667946  0.014161  0.014124  0.008407  0.008375\n",
            "Calculated concentration: -0.0003412872524134556\n",
            "Sample DataFrame shape: (1, 7)\n",
            "Linreg DataFrame shape: (1, 3)\n",
            "------------------------------------------------------------------------\n"
          ]
        }
      ]
    },
    {
      "cell_type": "code",
      "source": [
        "file_pattern = '/content/drive/My Drive/quantitation_output/Sample_{}_row{}_ratio.csv'\n",
        "linregs = {}\n",
        "\n",
        "for i in range(1, 7):\n",
        "    if i == 3:\n",
        "        continue\n",
        "    linreg = glob.glob(f'/content/drive/My Drive/calibration_export/Cal_{i}_analyte_linreg.csv')\n",
        "    if len(linreg) > 0:\n",
        "        linregs[i] = pd.read_csv(linreg[0])\n",
        "    else:\n",
        "        print(f\"No matching file found for Cal_{i}_analyte_linreg.csv\")\n",
        "    print(linreg)\n",
        "\n",
        "print(linregs)\n",
        "current_date = datetime.today().strftime('%Y-%m-%d')\n",
        "output_dir = '/content/drive/My Drive/quantitation_output/'\n",
        "header_row2 = ['Analyte', 'Intercept', 'Slope', 'Value', 'Concentration [microg/ml]']\n",
        "\n",
        "row_descriptors = ['Dimethylphthalate', 'Diethylphthalate', 'Dibutylphthalate', 'Benzylbutylphthalate', 'Bis(2-ethyl-hexyl)phthalate', 'Di-n-octylphthalate']\n",
        "\n",
        "for n in range(sample_nr_low, sample_nr_high):\n",
        "    output_file = output_dir + f'Sample_{n}_concentration_output.csv'\n",
        "    header_row1 = [f'Analysis Nr. {n}', 'Phthalate concentration calculation', 'Concentration_calibration.ipynb', 'Till Vollmer', current_date]\n",
        "\n",
        "    with open(output_file, 'w', newline='') as csvfile:\n",
        "        writer = csv.writer(csvfile)\n",
        "        writer.writerow(header_row1)\n",
        "        writer.writerow(header_row2)\n",
        "\n",
        "        for i in range(len(row_descriptors)+1):\n",
        "            print(i)\n",
        "            if i == 2:\n",
        "              continue  # Skip iteration for index 2 (Dibutylphthalate)\n",
        "            if i + 1 >= 3:\n",
        "              descriptor = row_descriptors[i-1]\n",
        "            else:\n",
        "              descriptor = row_descriptors[i]\n",
        "            print(descriptor)\n",
        "            files = glob.glob(file_pattern.format(n, i+1))\n",
        "           \n",
        "            for file in files:\n",
        "                sample_df = pd.read_csv(file, header=None, delimiter='\\t')\n",
        "\n",
        "                if sample_df.shape[1] >= 4:\n",
        "                    linreg_df = linregs.get(i+1)\n",
        "                    if linreg_df is not None and linreg_df.shape[0] >= 1:\n",
        "                        intercept_str = linreg_df['Intercept'].values[0]\n",
        "                        slope_str = linreg_df['Slope'].values[0]\n",
        "\n",
        "                        if intercept_str and slope_str:\n",
        "                            intercept = float(re.findall(r'[-\\d.]+', intercept_str)[0])\n",
        "                            slope = float(re.findall(r'[-\\d.]+', slope_str)[0])\n",
        "\n",
        "                            fourth_column = sample_df.iloc[:, 3]  # Accessing the 4th column\n",
        "                            value = float(fourth_column.iloc[0])  # Assuming you want the value from the first row (index 0)\n",
        "                            concentration = slope * value + intercept\n",
        "\n",
        "                            row_data = [descriptor, intercept, slope, value, concentration]\n",
        "                            writer.writerow(row_data)\n",
        "                        else:\n",
        "                            print(f\"Invalid linreg DataFrame structure for {file}\")\n",
        "                    else:\n",
        "                        print(f\"Invalid linreg DataFrame structure for {file}\")\n",
        "                else:\n",
        "                    print(f\"Empty or invalid sample DataFrame for {file}\")\n",
        "\n",
        "                # Additional print statements for debugging\n",
        "                print(f\"File: {file}\")\n",
        "                print(f\"Sample DataFrame shape: {sample_df.shape}\")\n",
        "                print(f\"Linreg DataFrame shape: {linreg_df.shape if linreg_df is not None else None}\")\n",
        "                print(\"---\")"
      ],
      "metadata": {
        "id": "Ix6erLGQvWH8"
      },
      "execution_count": null,
      "outputs": []
    },
    {
      "cell_type": "code",
      "source": [],
      "metadata": {
        "id": "GEJnOOpfr7iv"
      },
      "execution_count": null,
      "outputs": []
    }
  ]
}