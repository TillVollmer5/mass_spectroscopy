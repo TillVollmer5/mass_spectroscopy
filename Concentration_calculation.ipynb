{
  "nbformat": 4,
  "nbformat_minor": 0,
  "metadata": {
    "colab": {
      "name": "CodingTask1.ipynb",
      "provenance": [],
      "include_colab_link": true
    },
    "kernelspec": {
      "name": "python3",
      "display_name": "Python 3"
    },
    "language_info": {
      "name": "python"
    }
  },
  "cells": [
    {
      "cell_type": "markdown",
      "metadata": {
        "id": "view-in-github",
        "colab_type": "text"
      },
      "source": [
        "<a href=\"https://colab.research.google.com/github/TillVollmer5/mass_spectroscopy/blob/main/Concentration_calculation.ipynb\" target=\"_parent\"><img src=\"https://colab.research.google.com/assets/colab-badge.svg\" alt=\"Open In Colab\"/></a>"
      ]
    },
    {
      "cell_type": "markdown",
      "source": [
        "#Concentration calculation\n",
        "This notebook is used to calculate the concentration of phtalates in an environemental sample using an internal standard for quantitation. The Calibration_calculation.ipynb notebook, yields severall of the required files nescessary for the calculations in this notebook. The files *Cal_{n}_analyte_linreg.csv* need to be used which is located in the *calibration_output* folder on the google drive. If this notebook is not applied from my machine in connection with my google drive, either the path to the required files needs to be adabted or changed.\n",
        "The following code allows for the calculation of the concentration, by using the linear regression form a calibration series and the ratio of the signal of the analyte with the internal standard (area). All the data regarding the calibration are present on my google drive in the folders: *calibration_input* and *calibration_output*, while a new google drive folder will be used to save the final data in as well as a new input folder.\n",
        "\n",
        "*Google drive folder:*\n",
        "quantitation_input\n",
        "quantitation_output\n",
        "\n",
        "The .csv files containing the peak list from the sample should be saved in the in the input folder. The names should follow a consequent naming sceme:\n",
        "\n",
        "***Sample_{date_of_analysis}_{tag_bonus_info}_{Sample_Nr}_pl.csv***\n",
        "\n",
        "Here the Sample number *(Sample_Nr)* is of key importance and needs to be properly documented in the Labjournal, as it is the main way of differentiation.\n"
      ],
      "metadata": {
        "id": "HlXOz_s2lyh_"
      }
    },
    {
      "cell_type": "markdown",
      "source": [
        "The following code is used to import all the nescessary libraries and mount the google drive."
      ],
      "metadata": {
        "id": "nPldWo5uaB-Z"
      }
    },
    {
      "cell_type": "code",
      "source": [
        "import numpy as np\n",
        "from google.colab import drive\n",
        "import glob\n",
        "import pandas as pd\n",
        "import os\n",
        "import csv\n",
        "from datetime import datetime\n",
        "import re\n",
        "\n",
        "drive.mount('/content/drive', force_remount = True)\n",
        "\n",
        "sample_nr_low = 1 #needs to be addapted to 1 nr in the series\n",
        "sample_nr_high = 2 #needs to be addapted to the last nr of the series"
      ],
      "metadata": {
        "id": "f0Rraq8-lx2k",
        "outputId": "1d6754b8-411e-4e9d-fb81-46cf92842271",
        "colab": {
          "base_uri": "https://localhost:8080/"
        }
      },
      "execution_count": 1,
      "outputs": [
        {
          "output_type": "stream",
          "name": "stdout",
          "text": [
            "Mounted at /content/drive\n"
          ]
        }
      ]
    },
    {
      "cell_type": "markdown",
      "source": [
        "The following code is the addapted code from the Calibration_calculation.ipynb and yields the separated in separated .csv files, which will be used to calculate the ratio in a following code segment.\n",
        "\n",
        "The output file has the following filename and is saved in the quantitation_output folder:\n",
        "\n",
        "***Sample_{n}_row{i+1}.csv***"
      ],
      "metadata": {
        "id": "iRIOk4_na2v0"
      }
    },
    {
      "cell_type": "code",
      "source": [
        "#Loop over all the designated sample files.\n",
        "for n in range(sample_nr_low, sample_nr_high):\n",
        "    files = glob.glob(f'/content/drive/My Drive/quantitation_input/*_{n}_pl.csv')\n",
        "\n",
        "    if not files:\n",
        "        print(f'Files matching pattern Sample Nr. {n} was not found.')\n",
        "        continue\n",
        "\n",
        "    else:\n",
        "        # Loop over each row and save a separate data frame for each\n",
        "        df = pd.read_csv(files[0], header=4)\n",
        "        num_rows = len(df)\n",
        "\n",
        "        for i in range(num_rows):\n",
        "            row_dfs = []\n",
        "            for file in files:\n",
        "                df = pd.read_csv(file, header=4, na_values='')\n",
        "\n",
        "                # Extract the i'th row of the CSV file and append it to the row data frame list\n",
        "                row = df.iloc[i, :].dropna().astype(str)\n",
        "                row_dfs.append(row)\n",
        "\n",
        "            # Concatenate the row data frames along the columns axis and convert to a data frame\n",
        "            combined_df = pd.concat(row_dfs, axis=1).T\n",
        "\n",
        "            # Save the combined data frame to a CSV file with a name indicating the row number\n",
        "            combined_df.to_csv(f'/content/drive/My Drive/quantitation_output/Sample_{n}_row{i+1}.csv', index=False, header=False)\n",
        "\n",
        "            # Convert all values to strings before joining and print the row in the desired format\n",
        "            formatted_row = '\\t'.join(map(str, combined_df.values[0]))\n",
        "            print(formatted_row)"
      ],
      "metadata": {
        "id": "wtrzzQvHa2TP",
        "outputId": "e6436fd7-de8e-4988-a0a9-7432ca272b4b",
        "colab": {
          "base_uri": "https://localhost:8080/"
        }
      },
      "execution_count": 7,
      "outputs": [
        {
          "output_type": "stream",
          "name": "stdout",
          "text": [
            "14.7\t14.64\t14.77\t5489681148.639\t100.0\t2656951262.793\t100.0\n",
            "17.48\t17.42\t17.54\t6469844114.261\t59.84\t3289498112.0\t63.61\n",
            "20.79\t20.74\t20.87\t12943079734.584\t100.0\t6034264750.996\t100.0\n",
            "23.92\t23.87\t24.03\t3628155886.189\t33.56\t1645675970.227\t31.82\n",
            "29.63\t29.58\t29.9\t498666324.815\t4.61\t165925032.257\t3.21\n",
            "32.17\t32.12\t32.41\t124651834.463\t1.15\t40633104.946\t0.79\n",
            "34.55\t34.5\t34.76\t90363929.442\t0.84\t29846969.497\t0.58\n"
          ]
        }
      ]
    },
    {
      "cell_type": "markdown",
      "source": [
        "The following code allows to calculate the ratio of the analytes with the internal standard. The output is saved as:\n",
        "\n",
        "***Sample_{n}_row*_ratio.csv**"
      ],
      "metadata": {
        "id": "4P-AJhGWfCXY"
      }
    },
    {
      "cell_type": "code",
      "source": [
        "# Loop over all the designated sample files. Currently works but i am not shure if it might be just exactly the same as the first one, it works but not iterative...\n",
        "for n in range(sample_nr_low, sample_nr_high):\n",
        "    divisor_file = f'/content/drive/My Drive/quantitation_output/Sample_{n}_row3.csv'\n",
        "    directory = '/content/drive/My Drive/quantitation_output'\n",
        "\n",
        "    if not os.path.isfile(divisor_file):\n",
        "        print(f\"Divisor file does not exist: {divisor_file}\")\n",
        "        continue  # Skip to the next iteration if the divisor file is missing\n",
        "\n",
        "    divisor_row = pd.read_csv(divisor_file, sep=',', header=None)\n",
        "    csv_files = glob.glob(os.path.join(directory, f'*_row*.csv'))\n",
        "\n",
        "    # Process each CSV file\n",
        "    for csv_file in csv_files:\n",
        "        if csv_file == divisor_file or '_ratio' in csv_file:\n",
        "            continue  # Skip the divisor file itself and ratio files\n",
        "        data_df = pd.read_csv(csv_file, sep=',', header=None)\n",
        "        data_df = data_df.apply(pd.to_numeric, errors='coerce')  # Convert values to numeric\n",
        "\n",
        "        # Perform division on the data\n",
        "        divided_data_df = data_df.div(divisor_row, axis='columns')\n",
        "\n",
        "        # Create a new file name with the \"_ratio\" tag\n",
        "        new_file_name = os.path.splitext(csv_file)[0] + '_ratio.csv'\n",
        "\n",
        "        divided_data_df.to_csv(new_file_name, sep=',', header=False, index=False)\n",
        "        control_import_df = pd.read_csv(new_file_name, sep=',', header=None)\n",
        "\n",
        "        # Compare the recalculated values with the content of the ratio file\n",
        "        if control_import_df.equals(divided_data_df):\n",
        "            print(f\"The files match: {new_file_name}\")\n",
        "        else:\n",
        "            print(f\"The files do not match: {new_file_name}\")\n",
        "\n",
        "        print(control_import_df)\n",
        "        print(divided_data_df)\n",
        "        print('****************************************************')"
      ],
      "metadata": {
        "id": "uBtOq-R2Delp",
        "outputId": "10a879aa-254b-4f9f-f43b-b85e6594ad59",
        "colab": {
          "base_uri": "https://localhost:8080/"
        }
      },
      "execution_count": 8,
      "outputs": [
        {
          "output_type": "stream",
          "name": "stdout",
          "text": [
            "The files do not match: /content/drive/My Drive/quantitation_output/Sample_1_row1_ratio.csv\n",
            "          0         1         2        3    4         5    6\n",
            "0  0.707071  0.705882  0.707714  0.42414  1.0  0.440311  1.0\n",
            "          0         1         2        3    4         5    6\n",
            "0  0.707071  0.705882  0.707714  0.42414  1.0  0.440311  1.0\n",
            "****************************************************\n",
            "The files match: /content/drive/My Drive/quantitation_output/Sample_1_row2_ratio.csv\n",
            "          0         1         2         3       4         5       6\n",
            "0  0.840789  0.839923  0.840441  0.499869  0.5984  0.545137  0.6361\n",
            "          0         1         2         3       4         5       6\n",
            "0  0.840789  0.839923  0.840441  0.499869  0.5984  0.545137  0.6361\n",
            "****************************************************\n",
            "The files do not match: /content/drive/My Drive/quantitation_output/Sample_1_row4_ratio.csv\n",
            "          0         1         2         3       4         5       6\n",
            "0  1.150553  1.150916  1.151414  0.280316  0.3356  0.272722  0.3182\n",
            "          0         1         2         3       4         5       6\n",
            "0  1.150553  1.150916  1.151414  0.280316  0.3356  0.272722  0.3182\n",
            "****************************************************\n",
            "The files do not match: /content/drive/My Drive/quantitation_output/Sample_1_row5_ratio.csv\n",
            "          0        1         2         3       4         5       6\n",
            "0  1.425204  1.42623  1.432678  0.038528  0.0461  0.027497  0.0321\n",
            "          0        1         2         3       4         5       6\n",
            "0  1.425204  1.42623  1.432678  0.038528  0.0461  0.027497  0.0321\n",
            "****************************************************\n",
            "The files do not match: /content/drive/My Drive/quantitation_output/Sample_1_row6_ratio.csv\n",
            "          0         1         2         3       4         5       6\n",
            "0  1.547379  1.548698  1.552947  0.009631  0.0115  0.006734  0.0079\n",
            "          0         1         2         3       4         5       6\n",
            "0  1.547379  1.548698  1.552947  0.009631  0.0115  0.006734  0.0079\n",
            "****************************************************\n",
            "The files do not match: /content/drive/My Drive/quantitation_output/Sample_1_row7_ratio.csv\n",
            "          0         1         2         3       4         5       6\n",
            "0  1.661857  1.663452  1.665549  0.006982  0.0084  0.004946  0.0058\n",
            "          0         1         2         3       4         5       6\n",
            "0  1.661857  1.663452  1.665549  0.006982  0.0084  0.004946  0.0058\n",
            "****************************************************\n"
          ]
        }
      ]
    },
    {
      "cell_type": "markdown",
      "source": [
        "The following code takes the ratio files as well as the parameters for the linear regression (analyte specific), and yields a final output file that contains all the information, such as the information of the ratio used for the quantitaiton, the parameters for the linear equation as well as other information such as compound id and other general sample information.\n",
        "\n",
        "The final outpur files have the following name format:\n",
        "\n",
        "***Sample_{n}_quantitation_output.csv***\n"
      ],
      "metadata": {
        "id": "8b_QdJRpho9h"
      }
    },
    {
      "cell_type": "code",
      "source": [
        "\n",
        "current_date = datetime.today().strftime('%Y-%m-%d')\n",
        "output_dir = '/content/drive/My Drive/quantitation_export/'\n",
        "#header_row1 = [f'Analysis Nr. {n}', 'Phthalate concentration calculation', 'Concentration_calibration.ipynb', 'Till Vollmer', current_date]\n",
        "header_row2 = ['Analyte', 'Intercept', 'Slope', 'Value', 'Concentration [microg/ml]']\n",
        "\n",
        "row_descriptors = ['place holder','Dimethylphthalate', 'Diethylphthalate', 'Internal standard', 'Dibutylphthalate', 'Benzylbutylphthalate', 'Bis(2-ethyl-hexyl)phthalate', 'Di-n-octylphthalate']\n",
        "file_pattern = '/content/drive/My Drive/quantitation_output/Sample_{}_row{}_ratio.csv'\n",
        "\n",
        "for n in range(sample_nr_low, sample_nr_high):\n",
        "    output_file = output_dir + f'Sample_{n}_concentration_output.csv'\n",
        "    header_row1 = [f'Analysis Nr. {n}', 'Phthalate concentration calculation', 'Concentration_calibration.ipynb', 'Till Vollmer', current_date]\n",
        "\n",
        "    with open(output_file, 'w', newline='') as csvfile:\n",
        "        writer = csv.writer(csvfile)\n",
        "        writer.writerow(header_row1)\n",
        "        writer.writerow(header_row2)\n",
        "\n",
        "        for i in range(1, 8):\n",
        "          if i == 3:\n",
        "              continue\n",
        "          print(f'Sample nr: {n}')\n",
        "          print(f'Compound iteration: {i}')\n",
        "          linreg_df = pd.read_csv(f'/content/drive/My Drive/calibration_export/Cal_{i}_analyte_linreg.csv')\n",
        "          print(f'linear function information: {linreg_df}')\n",
        "          descriptor = row_descriptors[i]\n",
        "          print(f'Descriptor: {descriptor}')\n",
        "          file_path = file_pattern.format(n, i)\n",
        "          if not os.path.isfile(file_path):\n",
        "            print(f\"File not found for Sample {n}, Row {i}\")\n",
        "            continue\n",
        "\n",
        "          sample_df = pd.read_csv(file_pattern.format(n, i), header=None, delimiter=',')  # Corrected line\n",
        "          print(f'Sample dataframe: {sample_df}')\n",
        "          intercept_str = linreg_df['Intercept'].values[0]\n",
        "          slope_str = linreg_df['Slope'].values[0]\n",
        "          intercept = float(re.findall(r'[-\\d.]+', intercept_str)[0])\n",
        "          slope = float(re.findall(r'[-\\d.]+', slope_str)[0])\n",
        "          fourth_column = sample_df.iloc[:, 3]  # Accessing the 4th column\n",
        "          value = float(fourth_column.iloc[0])  # Assuming you want the value from the first row (index 0)\n",
        "          concentration = slope * value + intercept\n",
        "          print(f\"Calculated concentration: {concentration}\")\n",
        "          row_data = [descriptor, intercept, slope, value, concentration]\n",
        "          writer.writerow(row_data)\n",
        "\n",
        "          # Additional print statements for debugging\n",
        "          print(f\"Sample DataFrame shape: {sample_df.shape}\")\n",
        "          print(f\"Linreg DataFrame shape: {linreg_df.shape if linreg_df is not None else None}\")\n",
        "          print(\"------------------------------------------------------------------------\")\n"
      ],
      "metadata": {
        "id": "Zwbpv1Zf28ia",
        "outputId": "cabc277a-f465-4995-a710-51e473e067b1",
        "colab": {
          "base_uri": "https://localhost:8080/"
        }
      },
      "execution_count": 9,
      "outputs": [
        {
          "output_type": "stream",
          "name": "stdout",
          "text": [
            "Sample nr: 1\n",
            "Compound iteration: 1\n",
            "linear function information:        Intercept            Slope  R2 Value\n",
            "0  [-0.01726225]  [[16.48584551]]  0.967163\n",
            "Descriptor: Dimethylphthalate\n",
            "Sample dataframe:           0         1         2        3    4         5    6\n",
            "0  0.707071  0.705882  0.707714  0.42414  1.0  0.440311  1.0\n",
            "Calculated concentration: 6.975048480636993\n",
            "Sample DataFrame shape: (1, 7)\n",
            "Linreg DataFrame shape: (1, 3)\n",
            "------------------------------------------------------------------------\n",
            "Sample nr: 1\n",
            "Compound iteration: 2\n",
            "linear function information:        Intercept            Slope  R2 Value\n",
            "0  [-0.00909398]  [[13.87985743]]  0.978623\n",
            "Descriptor: Diethylphthalate\n",
            "Sample dataframe:           0         1         2         3       4         5       6\n",
            "0  0.840789  0.839923  0.840441  0.499869  0.5984  0.545137  0.6361\n",
            "Calculated concentration: 6.929016248921768\n",
            "Sample DataFrame shape: (1, 7)\n",
            "Linreg DataFrame shape: (1, 3)\n",
            "------------------------------------------------------------------------\n",
            "Sample nr: 1\n",
            "Compound iteration: 4\n",
            "linear function information:       Intercept           Slope  R2 Value\n",
            "0  [0.00854215]  [[8.53596503]]  0.991758\n",
            "Descriptor: Dibutylphthalate\n",
            "Sample dataframe:           0         1         2         3       4         5       6\n",
            "0  1.150553  1.150916  1.151414  0.280316  0.3356  0.272722  0.3182\n",
            "Calculated concentration: 2.4013120628010785\n",
            "Sample DataFrame shape: (1, 7)\n",
            "Linreg DataFrame shape: (1, 3)\n",
            "------------------------------------------------------------------------\n",
            "Sample nr: 1\n",
            "Compound iteration: 5\n",
            "linear function information:      Intercept            Slope  R2 Value\n",
            "0  [0.0139589]  [[35.56253024]]  0.995261\n",
            "Descriptor: Benzylbutylphthalate\n",
            "Sample dataframe:           0        1         2         3       4         5       6\n",
            "0  1.425204  1.42623  1.432678  0.038528  0.0461  0.027497  0.0321\n",
            "Calculated concentration: 1.3840992854075114\n",
            "Sample DataFrame shape: (1, 7)\n",
            "Linreg DataFrame shape: (1, 3)\n",
            "------------------------------------------------------------------------\n",
            "Sample nr: 1\n",
            "Compound iteration: 6\n",
            "linear function information:       Intercept           Slope  R2 Value\n",
            "0  [0.02165213]  [[23.2870027]]  0.987122\n",
            "Descriptor: Bis(2-ethyl-hexyl)phthalate\n",
            "Sample dataframe:           0         1         2         3       4         5       6\n",
            "0  1.547379  1.548698  1.552947  0.009631  0.0115  0.006734  0.0079\n",
            "Calculated concentration: 0.24592391579017756\n",
            "Sample DataFrame shape: (1, 7)\n",
            "Linreg DataFrame shape: (1, 3)\n",
            "------------------------------------------------------------------------\n",
            "Sample nr: 1\n",
            "Compound iteration: 7\n",
            "linear function information:       Intercept            Slope  R2 Value\n",
            "0  [0.01805261]  [[34.83275132]]  0.992467\n",
            "Descriptor: Di-n-octylphthalate\n",
            "Sample dataframe:           0         1         2         3       4         5       6\n",
            "0  1.661857  1.663452  1.665549  0.006982  0.0084  0.004946  0.0058\n",
            "Calculated concentration: 0.2612423567293453\n",
            "Sample DataFrame shape: (1, 7)\n",
            "Linreg DataFrame shape: (1, 3)\n",
            "------------------------------------------------------------------------\n"
          ]
        }
      ]
    },
    {
      "cell_type": "code",
      "source": [],
      "metadata": {
        "id": "GEJnOOpfr7iv"
      },
      "execution_count": null,
      "outputs": []
    }
  ]
}