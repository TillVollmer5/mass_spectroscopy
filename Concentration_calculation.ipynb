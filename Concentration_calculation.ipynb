{
  "nbformat": 4,
  "nbformat_minor": 0,
  "metadata": {
    "colab": {
      "name": "CodingTask1.ipynb",
      "provenance": [],
      "include_colab_link": true
    },
    "kernelspec": {
      "name": "python3",
      "display_name": "Python 3"
    },
    "language_info": {
      "name": "python"
    }
  },
  "cells": [
    {
      "cell_type": "markdown",
      "metadata": {
        "id": "view-in-github",
        "colab_type": "text"
      },
      "source": [
        "<a href=\"https://colab.research.google.com/github/TillVollmer5/mass_spectroscopy/blob/main/Concentration_calculation.ipynb\" target=\"_parent\"><img src=\"https://colab.research.google.com/assets/colab-badge.svg\" alt=\"Open In Colab\"/></a>"
      ]
    },
    {
      "cell_type": "markdown",
      "source": [
        "#Concentration calculation\n",
        "This notebook is used to calculate the concentration of phtalates in an environemental sample using an internal standard for quantitation. The Calibration_calculation.ipynb notebook, yields severall of the required files nescessary for the calculations in this notebook. The files *Cal_{n}_analyte_linreg.csv* need to be used which is located in the *calibration_output* folder on the google drive. If this notebook is not applied from my machine in connection with my google drive, either the path to the required files needs to be adabted or changed.\n",
        "The following code allows for the calculation of the concentration, by using the linear regression form a calibration series and the ratio of the signal of the analyte with the internal standard (area). All the data regarding the calibration are present on my google drive in the folders: *calibration_input* and *calibration_output*, while a new google drive folder will be used to save the final data in as well as a new input folder.\n",
        "\n",
        "*Google drive folder:*\n",
        "quantitation_input\n",
        "quantitation_output\n",
        "\n",
        "The .csv files containing the peak list from the sample should be saved in the in the input folder. The names should follow a consequent naming sceme:\n",
        "\n",
        "***Sample_{date_of_analysis}_{tag_bonus_info}_{Sample_Nr}_pl.csv***\n",
        "\n",
        "Here the Sample number *(Sample_Nr)* is of key importance and needs to be properly documented in the Labjournal, as it is the main way of differentiation.\n"
      ],
      "metadata": {
        "id": "HlXOz_s2lyh_"
      }
    },
    {
      "cell_type": "markdown",
      "source": [
        "The following code is used to import all the nescessary libraries and mount the google drive."
      ],
      "metadata": {
        "id": "nPldWo5uaB-Z"
      }
    },
    {
      "cell_type": "code",
      "source": [
        "import numpy as np\n",
        "from google.colab import drive\n",
        "import glob\n",
        "import pandas as pd\n",
        "import os\n",
        "import csv\n",
        "from datetime import datetime\n",
        "import re\n",
        "import ast\n",
        "\n",
        "drive.mount('/content/drive', force_remount = True)\n",
        "\n",
        "sample_nr_low = 83 #needs to be adapted to 1 nr in the series\n",
        "sample_nr_high = 84 #needs to be adapted to the last nr of the series"
      ],
      "metadata": {
        "id": "f0Rraq8-lx2k",
        "outputId": "1d5b822b-6158-4366-a802-49f85d919822",
        "colab": {
          "base_uri": "https://localhost:8080/"
        }
      },
      "execution_count": 1,
      "outputs": [
        {
          "output_type": "stream",
          "name": "stdout",
          "text": [
            "Mounted at /content/drive\n"
          ]
        }
      ]
    },
    {
      "cell_type": "markdown",
      "source": [
        "The following code is the addapted code from the Calibration_calculation.ipynb and yields the separated in separated .csv files, which will be used to calculate the ratio in a following code segment.\n",
        "\n",
        "The output file has the following filename and is saved in the quantitation_output folder:\n",
        "\n",
        "***Sample_{n}_row{i+1}.csv***"
      ],
      "metadata": {
        "id": "iRIOk4_na2v0"
      }
    },
    {
      "cell_type": "code",
      "source": [
        "#Loop over all the designated sample files.\n",
        "for n in range(sample_nr_low, sample_nr_high):\n",
        "    files = glob.glob(f'/content/drive/My Drive/quantitation_input/*_{n}_pl.csv')\n",
        "\n",
        "    if not files:\n",
        "        print(f'Files matching pattern Sample Nr. {n} was not found.')\n",
        "        continue\n",
        "\n",
        "    else:\n",
        "        # Loop over each row and save a separate data frame for each\n",
        "        df = pd.read_csv(files[0], header=4)\n",
        "        num_rows = len(df)\n",
        "\n",
        "        for i in range(num_rows):\n",
        "            row_dfs = []\n",
        "            for file in files:\n",
        "                df = pd.read_csv(file, header=4, na_values='')\n",
        "\n",
        "                # Extract the i'th row of the CSV file and append it to the row data frame list\n",
        "                row = df.iloc[i, :].dropna().astype(str)\n",
        "                row_dfs.append(row)\n",
        "\n",
        "            # Concatenate the row data frames along the columns axis and convert to a data frame\n",
        "            combined_df = pd.concat(row_dfs, axis=1).T\n",
        "\n",
        "            # Save the combined data frame to a CSV file with a name indicating the row number\n",
        "            combined_df.to_csv(f'/content/drive/My Drive/quantitation_output/Sample_{n}_row{i+1}.csv', index=False, header=False)\n",
        "\n",
        "            # Convert all values to strings before joining and print the row in the desired format\n",
        "            formatted_row = '\\t'.join(map(str, combined_df.values[0]))\n",
        "            print(formatted_row)"
      ],
      "metadata": {
        "id": "wtrzzQvHa2TP",
        "outputId": "3a608ff7-a088-4c26-e6fc-e14b02dc5d0d",
        "colab": {
          "base_uri": "https://localhost:8080/"
        }
      },
      "execution_count": 2,
      "outputs": [
        {
          "output_type": "stream",
          "name": "stdout",
          "text": [
            "13.82\t13.78\t13.87\t886927.196\t100.0\t430232.922\t100.0\n",
            "15.75\t15.72\t15.77\t1250310.516\t2.47\t514202.455\t2.84\n",
            "18.61\t18.57\t18.64\t51614811.486\t100.0\t24696861.766\t100.0\n",
            "20.5\t20.45\t20.62\t15918691.521\t31.43\t2676633.698\t14.8\n",
            "25.62\t25.59\t25.64\t4675146.77\t9.23\t2369408.541\t13.1\n",
            "26.76\t26.73\t26.81\t18476073.384\t36.47\t8905108.042\t49.25\n",
            "29.29\t29.25\t29.35\t10334226.692\t20.4\t3617024.794\t20.0\n"
          ]
        }
      ]
    },
    {
      "cell_type": "markdown",
      "source": [
        "The following code allows to calculate the ratio of the analytes with the internal standard. The output is saved as:\n",
        "\n",
        "***Sample_{n}_row*_ratio.csv**"
      ],
      "metadata": {
        "id": "4P-AJhGWfCXY"
      }
    },
    {
      "cell_type": "code",
      "source": [
        "# Loop over all the designated sample files. Currently works but i am not sure if it might be just exactly the same as the first one, it works but not iterative...\n",
        "for n in range(sample_nr_low, sample_nr_high):\n",
        "    divisor_file = f'/content/drive/My Drive/quantitation_output/Sample_{n}_row3.csv'\n",
        "    directory = '/content/drive/My Drive/quantitation_output'\n",
        "\n",
        "    if not os.path.isfile(divisor_file):\n",
        "        print(f\"Divisor file does not exist: {divisor_file}\")\n",
        "        continue  # Skip to the next iteration if the divisor file is missing\n",
        "\n",
        "    divisor_df = pd.read_csv(divisor_file, sep=',', header=None)\n",
        "    csv_files = glob.glob(os.path.join(directory, f'*{n}_row*.csv'))\n",
        "\n",
        "    # Process each CSV file\n",
        "    for csv_file in csv_files:\n",
        "        if csv_file == divisor_file or '_ratio' in csv_file:\n",
        "            continue  # Skip the divisor file itself and ratio files\n",
        "        data_df = pd.read_csv(csv_file, sep=',', header=None)\n",
        "        data_df = data_df.apply(pd.to_numeric, errors='coerce')  # Convert values to numeric\n",
        "        print('divisor_df:', divisor_df)\n",
        "        print('data_df:', data_df)\n",
        "        divided_data_df = pd.DataFrame()\n",
        "\n",
        "        for i in range(len(data_df)):\n",
        "          # Perform division on the data on the complete dataframe\n",
        "          divided_row = data_df.iloc[i] / divisor_df.iloc[i]\n",
        "          divided_data_df = divided_data_df.append(divided_row, ignore_index=True)\n",
        "\n",
        "        # Create a new file name with the \"_ratio\" tag\n",
        "        new_file_name = os.path.splitext(csv_file)[0] + '_ratio.csv'\n",
        "\n",
        "        divided_data_df.to_csv(new_file_name, sep=',', header=False, index=False)\n",
        "        control_import_df = pd.read_csv(new_file_name, sep=',', header=None)\n",
        "\n",
        "        # Compare the recalculated values with the content of the ratio file\n",
        "        \"\"\"if control_import_df.equals(divided_data_df):\n",
        "            print(f\"The files match: {new_file_name}\")\n",
        "        else:\n",
        "            print(f\"The files do not match: {new_file_name}\")\"\"\"\n",
        "\n",
        "        #print(control_import_df)\n",
        "        print(divided_data_df)\n",
        "        print(csv_file)\n",
        "        print('****************************************************')\n",
        "    print('===========================================================')"
      ],
      "metadata": {
        "id": "NJwDWCIpsfed",
        "outputId": "bce61e20-97aa-40c1-af5b-db42d615a92c",
        "colab": {
          "base_uri": "https://localhost:8080/"
        }
      },
      "execution_count": 3,
      "outputs": [
        {
          "output_type": "stream",
          "name": "stdout",
          "text": [
            "divisor_df:        0      1      2             3      4             5      6\n",
            "0  18.61  18.57  18.64  5.161481e+07  100.0  2.469686e+07  100.0\n",
            "data_df:        0      1      2            3      4           5      6\n",
            "0  13.81  13.76  13.86  1385104.042  100.0  664298.845  100.0\n"
          ]
        },
        {
          "output_type": "stream",
          "name": "stderr",
          "text": [
            "<ipython-input-3-61a18a55ae68>:26: FutureWarning: The frame.append method is deprecated and will be removed from pandas in a future version. Use pandas.concat instead.\n",
            "  divided_data_df = divided_data_df.append(divided_row, ignore_index=True)\n"
          ]
        },
        {
          "output_type": "stream",
          "name": "stdout",
          "text": [
            "          0        1         2         3    4         5    6\n",
            "0  0.742074  0.74098  0.743562  0.026835  1.0  0.026898  1.0\n",
            "/content/drive/My Drive/quantitation_output/Sample_183_row1.csv\n",
            "****************************************************\n",
            "divisor_df:        0      1      2             3      4             5      6\n",
            "0  18.61  18.57  18.64  5.161481e+07  100.0  2.469686e+07  100.0\n",
            "data_df:        0     1      2             3     4             5     6\n",
            "0  15.74  15.7  15.81  3.491121e+07  46.6  1.703551e+07  46.9\n"
          ]
        },
        {
          "output_type": "stream",
          "name": "stderr",
          "text": [
            "<ipython-input-3-61a18a55ae68>:26: FutureWarning: The frame.append method is deprecated and will be removed from pandas in a future version. Use pandas.concat instead.\n",
            "  divided_data_df = divided_data_df.append(divided_row, ignore_index=True)\n"
          ]
        },
        {
          "output_type": "stream",
          "name": "stdout",
          "text": [
            "          0        1         2        3      4         5      6\n",
            "0  0.845782  0.84545  0.848176  0.67638  0.466  0.689784  0.469\n",
            "/content/drive/My Drive/quantitation_output/Sample_183_row2.csv\n",
            "****************************************************\n",
            "divisor_df:        0      1      2             3      4             5      6\n",
            "0  18.61  18.57  18.64  5.161481e+07  100.0  2.469686e+07  100.0\n",
            "data_df:        0      1      2             3      4             5      6\n",
            "0  18.59  18.55  18.64  8.739058e+08  100.0  3.935986e+08  100.0\n"
          ]
        },
        {
          "output_type": "stream",
          "name": "stderr",
          "text": [
            "<ipython-input-3-61a18a55ae68>:26: FutureWarning: The frame.append method is deprecated and will be removed from pandas in a future version. Use pandas.concat instead.\n",
            "  divided_data_df = divided_data_df.append(divided_row, ignore_index=True)\n"
          ]
        },
        {
          "output_type": "stream",
          "name": "stdout",
          "text": [
            "          0         1    2          3    4          5    6\n",
            "0  0.998925  0.998923  1.0  16.931299  1.0  15.937191  1.0\n",
            "/content/drive/My Drive/quantitation_output/Sample_183_row3.csv\n",
            "****************************************************\n",
            "divisor_df:        0      1      2             3      4             5      6\n",
            "0  18.61  18.57  18.64  5.161481e+07  100.0  2.469686e+07  100.0\n",
            "data_df:       0      1      2            3      4            5      6\n",
            "0  20.6  20.56  20.65  19966080.81  26.65  9876699.898  27.19\n",
            "          0         1         2         3       4         5       6\n",
            "0  1.106932  1.107162  1.107833  0.386829  0.2665  0.399917  0.2719\n",
            "/content/drive/My Drive/quantitation_output/Sample_183_row4.csv\n",
            "****************************************************\n",
            "divisor_df:        0      1      2             3      4             5      6\n",
            "0  18.61  18.57  18.64  5.161481e+07  100.0  2.469686e+07  100.0\n",
            "data_df:        0     1      2           3     4           5     6\n",
            "0  25.63  25.6  25.64  509726.755  0.68  262447.518  0.72\n",
            "          0         1         2         3       4         5       6\n",
            "0  1.377217  1.378568  1.375536  0.009876  0.0068  0.010627  0.0072\n",
            "/content/drive/My Drive/quantitation_output/Sample_183_row5.csv\n",
            "****************************************************\n",
            "divisor_df:        0      1      2             3      4             5      6\n",
            "0  18.61  18.57  18.64  5.161481e+07  100.0  2.469686e+07  100.0\n",
            "data_df:        0     1      2             3      4            5      6\n",
            "0  26.74  26.7  26.79  1.877946e+07  25.07  8633114.981  23.77\n",
            "          0         1         2         3       4         5       6\n",
            "0  1.436862  1.437803  1.437232  0.363839  0.2507  0.349563  0.2377\n",
            "/content/drive/My Drive/quantitation_output/Sample_183_row6.csv\n",
            "****************************************************\n",
            "divisor_df:        0      1      2             3      4             5      6\n",
            "0  18.61  18.57  18.64  5.161481e+07  100.0  2.469686e+07  100.0\n",
            "data_df:       0     1      2           3     4           5     6\n",
            "0  29.3  29.3  29.33  753896.777  1.01  517032.175  1.42\n",
            "          0         1         2         3       4         5       6\n",
            "0  1.574422  1.577814  1.573498  0.014606  0.0101  0.020935  0.0142\n",
            "/content/drive/My Drive/quantitation_output/Sample_183_row7.csv\n",
            "****************************************************\n",
            "divisor_df:        0      1      2             3      4             5      6\n",
            "0  18.61  18.57  18.64  5.161481e+07  100.0  2.469686e+07  100.0\n",
            "data_df:        0      1      2           3      4           5      6\n",
            "0  13.82  13.78  13.87  886927.196  100.0  430232.922  100.0\n",
            "          0         1         2         3    4         5    6\n",
            "0  0.742611  0.742057  0.744099  0.017184  1.0  0.017421  1.0\n",
            "/content/drive/My Drive/quantitation_output/Sample_83_row1.csv\n",
            "****************************************************\n"
          ]
        },
        {
          "output_type": "stream",
          "name": "stderr",
          "text": [
            "<ipython-input-3-61a18a55ae68>:26: FutureWarning: The frame.append method is deprecated and will be removed from pandas in a future version. Use pandas.concat instead.\n",
            "  divided_data_df = divided_data_df.append(divided_row, ignore_index=True)\n",
            "<ipython-input-3-61a18a55ae68>:26: FutureWarning: The frame.append method is deprecated and will be removed from pandas in a future version. Use pandas.concat instead.\n",
            "  divided_data_df = divided_data_df.append(divided_row, ignore_index=True)\n",
            "<ipython-input-3-61a18a55ae68>:26: FutureWarning: The frame.append method is deprecated and will be removed from pandas in a future version. Use pandas.concat instead.\n",
            "  divided_data_df = divided_data_df.append(divided_row, ignore_index=True)\n",
            "<ipython-input-3-61a18a55ae68>:26: FutureWarning: The frame.append method is deprecated and will be removed from pandas in a future version. Use pandas.concat instead.\n",
            "  divided_data_df = divided_data_df.append(divided_row, ignore_index=True)\n",
            "<ipython-input-3-61a18a55ae68>:26: FutureWarning: The frame.append method is deprecated and will be removed from pandas in a future version. Use pandas.concat instead.\n",
            "  divided_data_df = divided_data_df.append(divided_row, ignore_index=True)\n"
          ]
        },
        {
          "output_type": "stream",
          "name": "stdout",
          "text": [
            "divisor_df:        0      1      2             3      4             5      6\n",
            "0  18.61  18.57  18.64  5.161481e+07  100.0  2.469686e+07  100.0\n",
            "data_df:        0      1      2            3     4           5     6\n",
            "0  15.75  15.72  15.77  1250310.516  2.47  514202.455  2.84\n",
            "          0         1        2         3       4         5       6\n",
            "0  0.846319  0.846527  0.84603  0.024224  0.0247  0.020821  0.0284\n",
            "/content/drive/My Drive/quantitation_output/Sample_83_row2.csv\n",
            "****************************************************\n",
            "divisor_df:        0      1      2             3      4             5      6\n",
            "0  18.61  18.57  18.64  5.161481e+07  100.0  2.469686e+07  100.0\n",
            "data_df:       0      1      2             3      4            5     6\n",
            "0  20.5  20.45  20.62  1.591869e+07  31.43  2676633.698  14.8\n",
            "          0         1         2         3       4        5      6\n",
            "0  1.101558  1.101239  1.106223  0.308413  0.3143  0.10838  0.148\n",
            "/content/drive/My Drive/quantitation_output/Sample_83_row4.csv\n",
            "****************************************************\n",
            "divisor_df:        0      1      2             3      4             5      6\n",
            "0  18.61  18.57  18.64  5.161481e+07  100.0  2.469686e+07  100.0\n",
            "data_df:        0      1      2           3     4            5     6\n",
            "0  25.62  25.59  25.64  4675146.77  9.23  2369408.541  13.1\n",
            "          0         1         2         3       4        5      6\n",
            "0  1.376679  1.378029  1.375536  0.090578  0.0923  0.09594  0.131\n",
            "/content/drive/My Drive/quantitation_output/Sample_83_row5.csv\n",
            "****************************************************\n",
            "divisor_df:        0      1      2             3      4             5      6\n",
            "0  18.61  18.57  18.64  5.161481e+07  100.0  2.469686e+07  100.0\n",
            "data_df:        0      1      2             3      4            5      6\n",
            "0  26.76  26.73  26.81  1.847607e+07  36.47  8905108.042  49.25\n",
            "          0         1         2         3       4         5       6\n",
            "0  1.437937  1.439418  1.438305  0.357961  0.3647  0.360577  0.4925\n",
            "/content/drive/My Drive/quantitation_output/Sample_83_row6.csv"
          ]
        },
        {
          "output_type": "stream",
          "name": "stderr",
          "text": [
            "<ipython-input-3-61a18a55ae68>:26: FutureWarning: The frame.append method is deprecated and will be removed from pandas in a future version. Use pandas.concat instead.\n",
            "  divided_data_df = divided_data_df.append(divided_row, ignore_index=True)\n",
            "<ipython-input-3-61a18a55ae68>:26: FutureWarning: The frame.append method is deprecated and will be removed from pandas in a future version. Use pandas.concat instead.\n",
            "  divided_data_df = divided_data_df.append(divided_row, ignore_index=True)\n",
            "<ipython-input-3-61a18a55ae68>:26: FutureWarning: The frame.append method is deprecated and will be removed from pandas in a future version. Use pandas.concat instead.\n",
            "  divided_data_df = divided_data_df.append(divided_row, ignore_index=True)\n",
            "<ipython-input-3-61a18a55ae68>:26: FutureWarning: The frame.append method is deprecated and will be removed from pandas in a future version. Use pandas.concat instead.\n",
            "  divided_data_df = divided_data_df.append(divided_row, ignore_index=True)\n"
          ]
        },
        {
          "output_type": "stream",
          "name": "stdout",
          "text": [
            "\n",
            "****************************************************\n",
            "divisor_df:        0      1      2             3      4             5      6\n",
            "0  18.61  18.57  18.64  5.161481e+07  100.0  2.469686e+07  100.0\n",
            "data_df:        0      1      2             3     4            5     6\n",
            "0  29.29  29.25  29.35  1.033423e+07  20.4  3617024.794  20.0\n",
            "          0         1         2         3      4         5    6\n",
            "0  1.573885  1.575121  1.574571  0.200218  0.204  0.146457  0.2\n",
            "/content/drive/My Drive/quantitation_output/Sample_83_row7.csv\n",
            "****************************************************\n",
            "===========================================================\n"
          ]
        },
        {
          "output_type": "stream",
          "name": "stderr",
          "text": [
            "<ipython-input-3-61a18a55ae68>:26: FutureWarning: The frame.append method is deprecated and will be removed from pandas in a future version. Use pandas.concat instead.\n",
            "  divided_data_df = divided_data_df.append(divided_row, ignore_index=True)\n"
          ]
        }
      ]
    },
    {
      "cell_type": "markdown",
      "source": [
        "The following code takes the ratio files as well as the parameters for the linear regression (analyte specific), and yields a final output file that contains all the information, such as the information of the ratio used for the quantitaiton, the parameters for the linear equation as well as other information such as compound id and other general sample information.\n",
        "\n",
        "The final outpur files have the following name format:\n",
        "\n",
        "***Sample_{n}_quantitation_output.csv***\n"
      ],
      "metadata": {
        "id": "8b_QdJRpho9h"
      }
    },
    {
      "cell_type": "code",
      "source": [
        "current_date = datetime.today().strftime('%Y-%m-%d')\n",
        "output_dir = '/content/drive/My Drive/quantitation_export/'\n",
        "#header_row1 = [f'Analysis Nr. {n}', 'Phthalate concentration calculation', 'Concentration_calibration.ipynb', 'Till Vollmer', current_date]\n",
        "header_row2 = ['Analyte', 'Intercept', 'Slope', 'Value', 'Concentration [microg/ml]']\n",
        "\n",
        "row_descriptors = ['place holder','Dimethylphthalate', 'Diethylphthalate', 'Internal standard', 'Dibutylphthalate', 'Benzylbutylphthalate', 'Bis(2-ethyl-hexyl)phthalate', 'Di-n-octylphthalate']\n",
        "file_pattern = '/content/drive/My Drive/quantitation_output/Sample_{}_row{}_ratio.csv'\n",
        "\n",
        "for n in range(sample_nr_low, sample_nr_high):\n",
        "    output_file = output_dir + f'Sample_{n}_concentration_output_{current_date}.csv'\n",
        "    header_row1 = [f'Analysis Nr. {n}', 'Phthalate concentration calculation', 'Concentration_calibration.ipynb', 'Till Vollmer', current_date]\n",
        "\n",
        "    with open(output_file, 'w', newline='') as csvfile:\n",
        "        writer = csv.writer(csvfile)\n",
        "        writer.writerow(header_row1)\n",
        "        writer.writerow(header_row2)\n",
        "\n",
        "        for i in range(1, 8):\n",
        "            if i == 3:\n",
        "                continue\n",
        "            print(f'Sample nr: {n}')\n",
        "            print(f'Compound iteration: {i}')\n",
        "            linreg_df = pd.read_csv(f'/content/drive/My Drive/calibration_export/Cal_{i}_analyte_linreg.csv')\n",
        "            print(f'linear function information: {linreg_df}')\n",
        "            descriptor = row_descriptors[i]\n",
        "            print(f'Descriptor: {descriptor}')\n",
        "            file_path = file_pattern.format(n, i)\n",
        "            if not os.path.isfile(file_path):\n",
        "                print(f\"File not found for Sample {n}, Row {i}\")\n",
        "                continue\n",
        "\n",
        "            sample_df = pd.read_csv(file_path, header=None, delimiter=',')\n",
        "            print(f'Sample dataframe: {sample_df}')\n",
        "\n",
        "            # Extracting the slope value from the linear function information\n",
        "            intercept_str = str(linreg_df['Intercept'].values[0])\n",
        "            slope_str = linreg_df['Slope'].values[0]\n",
        "\n",
        "            # Remove the brackets before using regular expressions\n",
        "            slope_str_cleaned = slope_str.strip('[]')\n",
        "            slope_value = ast.literal_eval(slope_str_cleaned)\n",
        "            if isinstance(slope_value, list):\n",
        "                slope_value = slope_value[0]  # If slope is a list, take the first element\n",
        "\n",
        "            intercept = float(re.findall(r'[-\\d.]+', intercept_str)[0])\n",
        "            slope = float(slope_value)\n",
        "\n",
        "            fourth_column = sample_df.iloc[:, 3]  # Accessing the 4th column\n",
        "            value = float(fourth_column.iloc[0])  # Assuming you want the value from the first row (index 0)\n",
        "            concentration = slope * value + intercept\n",
        "            print(f\"Calculated concentration: {concentration}\")\n",
        "            row_data = [descriptor, intercept, slope, value, concentration]\n",
        "            writer.writerow(row_data)\n",
        "\n",
        "            # Additional print statements for debugging\n",
        "            print(f\"Sample DataFrame shape: {sample_df.shape}\")\n",
        "            print(f\"Linreg DataFrame shape: {linreg_df.shape if linreg_df is not None else None}\")\n",
        "            print(\"------------------------------------------------------------------------\")\n",
        "\n"
      ],
      "metadata": {
        "id": "GEJnOOpfr7iv",
        "outputId": "b62bbcf9-dc6b-4867-9b1d-1be4cf01bbc6",
        "colab": {
          "base_uri": "https://localhost:8080/"
        }
      },
      "execution_count": 4,
      "outputs": [
        {
          "output_type": "stream",
          "name": "stdout",
          "text": [
            "Sample nr: 83\n",
            "Compound iteration: 1\n",
            "linear function information:    Intercept         Slope  R2 Value\n",
            "0   0.001358  [0.35667912]  0.999713\n",
            "Descriptor: Dimethylphthalate\n",
            "Sample dataframe:           0         1         2         3    4         5    6\n",
            "0  0.742611  0.742057  0.744099  0.017184  1.0  0.017421  1.0\n",
            "Calculated concentration: 0.007486954988376548\n",
            "Sample DataFrame shape: (1, 7)\n",
            "Linreg DataFrame shape: (1, 3)\n",
            "------------------------------------------------------------------------\n",
            "Sample nr: 83\n",
            "Compound iteration: 2\n",
            "linear function information:    Intercept         Slope  R2 Value\n",
            "0   0.001323  [0.38786679]  0.999676\n",
            "Descriptor: Diethylphthalate\n",
            "Sample dataframe:           0         1        2         3       4         5       6\n",
            "0  0.846319  0.846527  0.84603  0.024224  0.0247  0.020821  0.0284\n",
            "Calculated concentration: 0.010718875017831085\n",
            "Sample DataFrame shape: (1, 7)\n",
            "Linreg DataFrame shape: (1, 3)\n",
            "------------------------------------------------------------------------\n",
            "Sample nr: 83\n",
            "Compound iteration: 4\n",
            "linear function information:    Intercept         Slope  R2 Value\n",
            "0   0.002397  [0.65625097]  0.999406\n",
            "Descriptor: Dibutylphthalate\n",
            "Sample dataframe:           0         1         2         3       4        5      6\n",
            "0  1.101558  1.101239  1.106223  0.308413  0.3143  0.10838  0.148\n",
            "Calculated concentration: 0.20479305903130834\n",
            "Sample DataFrame shape: (1, 7)\n",
            "Linreg DataFrame shape: (1, 3)\n",
            "------------------------------------------------------------------------\n",
            "Sample nr: 83\n",
            "Compound iteration: 5\n",
            "linear function information:    Intercept         Slope  R2 Value\n",
            "0  -0.000574  [0.27378756]  0.998631\n",
            "Descriptor: Benzylbutylphthalate\n",
            "Sample dataframe:           0         1         2         3       4        5      6\n",
            "0  1.376679  1.378029  1.375536  0.090578  0.0923  0.09594  0.131\n",
            "Calculated concentration: 0.02422515327427693\n",
            "Sample DataFrame shape: (1, 7)\n",
            "Linreg DataFrame shape: (1, 3)\n",
            "------------------------------------------------------------------------\n",
            "Sample nr: 83\n",
            "Compound iteration: 6\n",
            "linear function information:    Intercept        Slope  R2 Value\n",
            "0  -0.001668  [0.4508151]  0.998266\n",
            "Descriptor: Bis(2-ethyl-hexyl)phthalate\n",
            "Sample dataframe:           0         1         2         3       4         5       6\n",
            "0  1.437937  1.439418  1.438305  0.357961  0.3647  0.360577  0.4925\n",
            "Calculated concentration: 0.1597063686650914\n",
            "Sample DataFrame shape: (1, 7)\n",
            "Linreg DataFrame shape: (1, 3)\n",
            "------------------------------------------------------------------------\n",
            "Sample nr: 83\n",
            "Compound iteration: 7\n",
            "linear function information:    Intercept         Slope  R2 Value\n",
            "0  -0.006264  [0.49007004]  0.989461\n",
            "Descriptor: Di-n-octylphthalate\n",
            "Sample dataframe:           0         1         2         3      4         5    6\n",
            "0  1.573885  1.575121  1.574571  0.200218  0.204  0.146457  0.2\n",
            "Calculated concentration: 0.09185677987287608\n",
            "Sample DataFrame shape: (1, 7)\n",
            "Linreg DataFrame shape: (1, 3)\n",
            "------------------------------------------------------------------------\n"
          ]
        }
      ]
    },
    {
      "cell_type": "code",
      "source": [],
      "metadata": {
        "id": "5oggr-01EsQB"
      },
      "execution_count": null,
      "outputs": []
    }
  ]
}