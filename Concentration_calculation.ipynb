{
  "nbformat": 4,
  "nbformat_minor": 0,
  "metadata": {
    "colab": {
      "name": "CodingTask1.ipynb",
      "provenance": [],
      "include_colab_link": true
    },
    "kernelspec": {
      "name": "python3",
      "display_name": "Python 3"
    },
    "language_info": {
      "name": "python"
    }
  },
  "cells": [
    {
      "cell_type": "markdown",
      "metadata": {
        "id": "view-in-github",
        "colab_type": "text"
      },
      "source": [
        "<a href=\"https://colab.research.google.com/github/TillVollmer5/mass_spectroscopy/blob/main/Concentration_calculation.ipynb\" target=\"_parent\"><img src=\"https://colab.research.google.com/assets/colab-badge.svg\" alt=\"Open In Colab\"/></a>"
      ]
    },
    {
      "cell_type": "markdown",
      "source": [
        "#Concentration calculation\n",
        "This notebook is used to calculate the concentration of phtalates in an environemental sample using an internal standard for quantitation. The Calibration_calculation.ipynb notebook, yields severall of the required files nescessary for the calculations in this notebook. The files *Cal_{n}_analyte_linreg.csv* need to be used which is located in the *calibration_output* folder on the google drive. If this notebook is not applied from my machine in connection with my google drive, either the path to the required files needs to be adabted or changed.\n",
        "The following code allows for the calculation of the concentration, by using the linear regression form a calibration series and the ratio of the signal of the analyte with the internal standard (area). All the data regarding the calibration are present on my google drive in the folders: *calibration_input* and *calibration_output*, while a new google drive folder will be used to save the final data in as well as a new input folder.\n",
        "\n",
        "*Google drive folder:*\n",
        "quantitation_input\n",
        "quantitation_output\n",
        "\n",
        "The .csv files containing the peak list from the sample should be saved in the in the input folder. The names should follow a consequent naming sceme:\n",
        "\n",
        "***Sample_{date_of_analysis}_{tag_bonus_info}_{Sample_Nr}_pl.csv***\n",
        "\n",
        "Here the Sample number *(Sample_Nr)* is of key importance and needs to be properly documented in the Labjournal, as it is the main way of differentiation.\n"
      ],
      "metadata": {
        "id": "HlXOz_s2lyh_"
      }
    },
    {
      "cell_type": "markdown",
      "source": [
        "The following code is used to import all the nescessary libraries and mount the google drive."
      ],
      "metadata": {
        "id": "nPldWo5uaB-Z"
      }
    },
    {
      "cell_type": "code",
      "source": [
        "import numpy as np\n",
        "from google.colab import drive\n",
        "import glob\n",
        "import pandas as pd\n",
        "import os\n",
        "import csv\n",
        "from datetime import datetime\n",
        "import re\n",
        "\n",
        "drive.mount('/content/drive', force_remount = True)\n",
        "\n",
        "sample_nr_low = 1 #needs to be addapted to 1 nr in the series\n",
        "sample_nr_high = 2 #needs to be addapted to the last nr of the series"
      ],
      "metadata": {
        "id": "f0Rraq8-lx2k",
        "outputId": "9b60b276-c0d0-40ad-a991-a8b1cee65f30",
        "colab": {
          "base_uri": "https://localhost:8080/"
        }
      },
      "execution_count": 81,
      "outputs": [
        {
          "output_type": "stream",
          "name": "stdout",
          "text": [
            "Mounted at /content/drive\n"
          ]
        }
      ]
    },
    {
      "cell_type": "markdown",
      "source": [
        "The following code is the addapted code from the Calibration_calculation.ipynb and yields the separated in separated .csv files, which will be used to calculate the ratio in a following code segment.\n",
        "\n",
        "The output file has the following filename and is saved in the quantitation_output folder:\n",
        "\n",
        "***Sample_{n}_row{i+1}.csv***"
      ],
      "metadata": {
        "id": "iRIOk4_na2v0"
      }
    },
    {
      "cell_type": "code",
      "source": [
        "#Loop over all the designated sample files.\n",
        "for n in range(sample_nr_low, sample_nr_high):\n",
        "    files = glob.glob(f'/content/drive/My Drive/quantitation_input/*_{n}_pl.csv')\n",
        "\n",
        "    if not files:\n",
        "        print(f'Files matching pattern Sample Nr. {n} was not found.')\n",
        "        break\n",
        "\n",
        "    else:\n",
        "        # Loop over each row and save a separate data frame for each\n",
        "        df = pd.read_csv(files[0], header=4)\n",
        "        num_rows = len(df)\n",
        "        \n",
        "        for i in range(num_rows):\n",
        "            row_dfs = []\n",
        "            for file in files:\n",
        "                df = pd.read_csv(file, header=4, na_values='')\n",
        "\n",
        "                # Extract the i'th row of the CSV file and append it to the row data frame list\n",
        "                row = df.iloc[i, :].dropna().astype(str)\n",
        "                row_dfs.append(row)\n",
        "\n",
        "            # Concatenate the row data frames along the columns axis and convert to a data frame\n",
        "            combined_df = pd.concat(row_dfs, axis=1).T\n",
        "\n",
        "            # Save the combined data frame to a CSV file with a name indicating the row number\n",
        "            combined_df.to_csv(f'/content/drive/My Drive/quantitation_output/Sample_{n}_row{i+1}.csv', index=False, header=False)\n",
        "            \n",
        "            # Convert all values to strings before joining and print the row in the desired format\n",
        "            formatted_row = '\\t'.join(map(str, combined_df.values[0]))\n",
        "            print(formatted_row)"
      ],
      "metadata": {
        "id": "wtrzzQvHa2TP",
        "outputId": "d2416afb-e575-4f82-c664-381b2afa69d6",
        "colab": {
          "base_uri": "https://localhost:8080/"
        }
      },
      "execution_count": null,
      "outputs": [
        {
          "output_type": "stream",
          "name": "stdout",
          "text": [
            "14.7\t14.64\t14.76\t8899641679.645\t22.39\t4269043599.688\t22.58\n",
            "17.48\t17.43\t17.53\t11726497950.556\t29.51\t5937387109.376\t31.4\n",
            "20.79\t20.73\t20.86\t12856490362.673\t32.35\t6025451308.624\t31.87\n",
            "23.92\t23.88\t24.0\t4783695940.843\t12.04\t2205044360.583\t11.66\n",
            "29.63\t29.57\t29.81\t1153167025.723\t2.9\t368569331.242\t1.95\n",
            "32.17\t32.13\t32.34\t198929696.131\t0.5\t64452863.573\t0.34\n",
            "34.55\t34.5\t34.7\t121997454.463\t0.31\t38422419.591\t0.2\n"
          ]
        }
      ]
    },
    {
      "cell_type": "markdown",
      "source": [
        "The following code allows to calculate the ratio of the analytes with the internal standard. The output is saved as:\n",
        "\n",
        "***Sample_{n}_row*_ratio.csv**"
      ],
      "metadata": {
        "id": "4P-AJhGWfCXY"
      }
    },
    {
      "cell_type": "code",
      "source": [
        "#Loop over all the designated sample files.\n",
        "for n in range(sample_nr_low, sample_nr_high):\n",
        "  divisor_file = f'/content/drive/My Drive/quantitation_output/Sample_{n}_row3.csv'\n",
        "  directory = '/content/drive/My Drive/quantitation_output'\n",
        "    \n",
        "  divisor_row = pd.read_csv(divisor_file, sep=',', header=None)\n",
        "  #print(divisor_row)\n",
        "  csv_files = glob.glob(os.path.join(directory, f'*_row*.csv'))\n",
        "\n",
        "    \n",
        "  # Process each CSV file\n",
        "  for csv_file in csv_files:\n",
        "    if csv_file == divisor_file:\n",
        "      continue  # Skip the divisor file itself\n",
        "\n",
        "    data_df = pd.read_csv(csv_file, sep=',', header=None)\n",
        "    #print(data_df)\n",
        "    data_df = data_df.apply(pd.to_numeric, errors='coerce')  # Convert values to numeric\n",
        "      \n",
        "    # Perform division on the data\n",
        "    divided_data_df = data_df.div(divisor_row, axis='columns')\n",
        "    #print(divided_data_df)\n",
        "    #Create a new file name with the \"_ratio\" tag\n",
        "    new_file_name = os.path.splitext(csv_file)[0] + '_ratio.csv'\n",
        "\n",
        "    divided_data_df.to_csv(new_file_name, sep='\\t', header=False, index=False)\n",
        "    print(new_file_name)"
      ],
      "metadata": {
        "id": "oXCb2CjmfhuM",
        "outputId": "b8cdf409-508f-42b4-9ef7-941b5fc8e2b0",
        "colab": {
          "base_uri": "https://localhost:8080/"
        }
      },
      "execution_count": null,
      "outputs": [
        {
          "output_type": "stream",
          "name": "stdout",
          "text": [
            "/content/drive/My Drive/quantitation_output/Sample_1_row1_ratio.csv\n",
            "/content/drive/My Drive/quantitation_output/Sample_1_row2_ratio.csv\n",
            "/content/drive/My Drive/quantitation_output/Sample_1_row4_ratio.csv\n",
            "/content/drive/My Drive/quantitation_output/Sample_1_row5_ratio.csv\n",
            "/content/drive/My Drive/quantitation_output/Sample_1_row6_ratio.csv\n",
            "/content/drive/My Drive/quantitation_output/Sample_1_row7_ratio.csv\n"
          ]
        }
      ]
    },
    {
      "cell_type": "markdown",
      "source": [
        "The following code takes the ratio files as well as the parameters for the linear regression (analyte specific), and yields a final output file that contains all the information, such as the information of the ratio used for the quantitaiton, the parameters for the linear equation as well as other information such as compound id and other general sample information. \n",
        "\n",
        "The final outpur files have the following name format:\n",
        "\n",
        "***Sample_{n}_quantitation_output.csv***\n"
      ],
      "metadata": {
        "id": "8b_QdJRpho9h"
      }
    },
    {
      "cell_type": "code",
      "source": [
        "current_date = datetime.today().strftime('%Y-%m-%d')\n",
        "output_dir = '/content/drive/My Drive/quantitation_output/'\n",
        "#header_row1 = [f'Analysis Nr. {n}', 'Phthalate concentration calculation', 'Concentration_calibration.ipynb', 'Till Vollmer', current_date]\n",
        "header_row2 = ['Analyte', 'Intercept', 'Slope', 'Value', 'Concentration [microg/ml]']\n",
        "\n",
        "row_descriptors = ['place holder','Dimethylphthalate', 'Diethylphthalate', 'Internal standard', 'Dibutylphthalate', 'Benzylbutylphthalate', 'Bis(2-ethyl-hexyl)phthalate', 'Di-n-octylphthalate']\n",
        "file_pattern = '/content/drive/My Drive/quantitation_output/Sample_{}_row{}_ratio.csv'\n",
        "\n",
        "for n in range(sample_nr_low, sample_nr_high):\n",
        "    output_file = output_dir + f'Sample_{n}_concentration_output.csv'\n",
        "    header_row1 = [f'Analysis Nr. {n}', 'Phthalate concentration calculation', 'Concentration_calibration.ipynb', 'Till Vollmer', current_date]\n",
        "\n",
        "    with open(output_file, 'w', newline='') as csvfile:\n",
        "        writer = csv.writer(csvfile)\n",
        "        writer.writerow(header_row1)\n",
        "        writer.writerow(header_row2)\n",
        "\n",
        "        for i in range(1, 8):\n",
        "          if i == 3:\n",
        "              continue\n",
        "          print(i)\n",
        "          linreg_df = pd.read_csv(f'/content/drive/My Drive/calibration_export/Cal_{i}_analyte_linreg.csv')\n",
        "          print(linreg_df)\n",
        "          descriptor = row_descriptors[i]\n",
        "          print(descriptor)\n",
        "          sample_df = pd.read_csv(file_pattern.format(n, i), header=None, delimiter='\\t')  # Corrected line\n",
        "          print(sample_df)\n",
        "          intercept_str = linreg_df['Intercept'].values[0]\n",
        "          slope_str = linreg_df['Slope'].values[0]\n",
        "          intercept = float(re.findall(r'[-\\d.]+', intercept_str)[0])\n",
        "          slope = float(re.findall(r'[-\\d.]+', slope_str)[0])\n",
        "          fourth_column = sample_df.iloc[:, 3]  # Accessing the 4th column\n",
        "          value = float(fourth_column.iloc[0])  # Assuming you want the value from the first row (index 0)\n",
        "          concentration = slope * value + intercept\n",
        "          row_data = [descriptor, intercept, slope, value, concentration]\n",
        "          writer.writerow(row_data)\n",
        "\n",
        "          # Additional print statements for debugging\n",
        "          print(f\"Sample DataFrame shape: {sample_df.shape}\")\n",
        "          print(f\"Linreg DataFrame shape: {linreg_df.shape if linreg_df is not None else None}\")\n",
        "          print(\"---\")\n",
        "        "
      ],
      "metadata": {
        "id": "Zwbpv1Zf28ia",
        "outputId": "c7098d38-ac7d-4f16-a0b3-9f67cb14d0fb",
        "colab": {
          "base_uri": "https://localhost:8080/"
        }
      },
      "execution_count": 105,
      "outputs": [
        {
          "output_type": "stream",
          "name": "stdout",
          "text": [
            "1\n",
            "       Intercept           Slope  R2 Value\n",
            "0  [-0.02459418]  [[0.20015848]]   0.98714\n",
            "Dimethylphthalate\n",
            "          0         1         2         3         4         5         6\n",
            "0  0.707071  0.706223  0.707574  0.692229  0.692117  0.708502  0.708503\n",
            "Sample DataFrame shape: (1, 7)\n",
            "Linreg DataFrame shape: (1, 3)\n",
            "---\n",
            "2\n",
            "       Intercept           Slope  R2 Value\n",
            "0  [-0.03101178]  [[0.26080997]]  0.988923\n",
            "Diethylphthalate\n",
            "          0        1         2         3        4         5         6\n",
            "0  0.840789  0.84081  0.840364  0.912107  0.91221  0.985385  0.985253\n",
            "Sample DataFrame shape: (1, 7)\n",
            "Linreg DataFrame shape: (1, 3)\n",
            "---\n",
            "4\n",
            "       Intercept           Slope  R2 Value\n",
            "0  [-0.04441677]  [[0.34518071]]  0.988097\n",
            "Dibutylphthalate\n",
            "          0         1         2         3         4         5         6\n",
            "0  1.150553  1.151954  1.150527  0.372084  0.372179  0.365955  0.365861\n",
            "Sample DataFrame shape: (1, 7)\n",
            "Linreg DataFrame shape: (1, 3)\n",
            "---\n",
            "5\n",
            "       Intercept           Slope  R2 Value\n",
            "0  [-0.03514634]  [[0.19182459]]  0.976946\n",
            "Benzylbutylphthalate\n",
            "          0         1         2         3         4         5         6\n",
            "0  1.425204  1.426435  1.429051  0.089695  0.089645  0.061169  0.061186\n",
            "Sample DataFrame shape: (1, 7)\n",
            "Linreg DataFrame shape: (1, 3)\n",
            "---\n",
            "6\n",
            "       Intercept           Slope  R2 Value\n",
            "0  [-0.04753296]  [[0.24848578]]  0.975333\n",
            "Bis(2-ethyl-hexyl)phthalate\n",
            "          0         1         2         3         4         5         6\n",
            "0  1.547379  1.549928  1.550336  0.015473  0.015456  0.010697  0.010668\n",
            "Sample DataFrame shape: (1, 7)\n",
            "Linreg DataFrame shape: (1, 3)\n",
            "---\n",
            "7\n",
            "       Intercept           Slope  R2 Value\n",
            "0  [-0.03708838]  [[0.17227503]]   0.96491\n",
            "Di-n-octylphthalate\n",
            "          0         1         2         3         4         5         6\n",
            "0  1.661857  1.664255  1.663471  0.009489  0.009583  0.006377  0.006275\n",
            "Sample DataFrame shape: (1, 7)\n",
            "Linreg DataFrame shape: (1, 3)\n",
            "---\n"
          ]
        }
      ]
    },
    {
      "cell_type": "code",
      "source": [
        "file_pattern = '/content/drive/My Drive/quantitation_output/Sample_{}_row{}_ratio.csv'\n",
        "linregs = {}\n",
        "\n",
        "for i in range(1, 7):\n",
        "    if i == 3:\n",
        "        continue\n",
        "    linreg = glob.glob(f'/content/drive/My Drive/calibration_export/Cal_{i}_analyte_linreg.csv')\n",
        "    if len(linreg) > 0:\n",
        "        linregs[i] = pd.read_csv(linreg[0])\n",
        "    else:\n",
        "        print(f\"No matching file found for Cal_{i}_analyte_linreg.csv\")\n",
        "    print(linreg)\n",
        "\n",
        "print(linregs)\n",
        "current_date = datetime.today().strftime('%Y-%m-%d')\n",
        "output_dir = '/content/drive/My Drive/quantitation_output/'\n",
        "header_row2 = ['Analyte', 'Intercept', 'Slope', 'Value', 'Concentration [microg/ml]']\n",
        "\n",
        "row_descriptors = ['Dimethylphthalate', 'Diethylphthalate', 'Dibutylphthalate', 'Benzylbutylphthalate', 'Bis(2-ethyl-hexyl)phthalate', 'Di-n-octylphthalate']\n",
        "\n",
        "for n in range(sample_nr_low, sample_nr_high):\n",
        "    output_file = output_dir + f'Sample_{n}_concentration_output.csv'\n",
        "    header_row1 = [f'Analysis Nr. {n}', 'Phthalate concentration calculation', 'Concentration_calibration.ipynb', 'Till Vollmer', current_date]\n",
        "\n",
        "    with open(output_file, 'w', newline='') as csvfile:\n",
        "        writer = csv.writer(csvfile)\n",
        "        writer.writerow(header_row1)\n",
        "        writer.writerow(header_row2)\n",
        "\n",
        "        for i in range(len(row_descriptors)+1):\n",
        "            print(i)\n",
        "            if i == 2:\n",
        "              continue  # Skip iteration for index 2 (Dibutylphthalate)\n",
        "            if i + 1 >= 3:\n",
        "              descriptor = row_descriptors[i-1]\n",
        "            else:\n",
        "              descriptor = row_descriptors[i]\n",
        "            print(descriptor)\n",
        "            files = glob.glob(file_pattern.format(n, i+1))\n",
        "           \n",
        "            for file in files:\n",
        "                sample_df = pd.read_csv(file, header=None, delimiter='\\t')\n",
        "\n",
        "                if sample_df.shape[1] >= 4:\n",
        "                    linreg_df = linregs.get(i+1)\n",
        "                    if linreg_df is not None and linreg_df.shape[0] >= 1:\n",
        "                        intercept_str = linreg_df['Intercept'].values[0]\n",
        "                        slope_str = linreg_df['Slope'].values[0]\n",
        "\n",
        "                        if intercept_str and slope_str:\n",
        "                            intercept = float(re.findall(r'[-\\d.]+', intercept_str)[0])\n",
        "                            slope = float(re.findall(r'[-\\d.]+', slope_str)[0])\n",
        "\n",
        "                            fourth_column = sample_df.iloc[:, 3]  # Accessing the 4th column\n",
        "                            value = float(fourth_column.iloc[0])  # Assuming you want the value from the first row (index 0)\n",
        "                            concentration = slope * value + intercept\n",
        "\n",
        "                            row_data = [descriptor, intercept, slope, value, concentration]\n",
        "                            writer.writerow(row_data)\n",
        "                        else:\n",
        "                            print(f\"Invalid linreg DataFrame structure for {file}\")\n",
        "                    else:\n",
        "                        print(f\"Invalid linreg DataFrame structure for {file}\")\n",
        "                else:\n",
        "                    print(f\"Empty or invalid sample DataFrame for {file}\")\n",
        "\n",
        "                # Additional print statements for debugging\n",
        "                print(f\"File: {file}\")\n",
        "                print(f\"Sample DataFrame shape: {sample_df.shape}\")\n",
        "                print(f\"Linreg DataFrame shape: {linreg_df.shape if linreg_df is not None else None}\")\n",
        "                print(\"---\")"
      ],
      "metadata": {
        "id": "Ix6erLGQvWH8",
        "outputId": "31f844e1-b57d-43da-f085-96a24226e2fd",
        "colab": {
          "base_uri": "https://localhost:8080/"
        }
      },
      "execution_count": null,
      "outputs": [
        {
          "output_type": "stream",
          "name": "stdout",
          "text": [
            "['/content/drive/My Drive/calibration_export/Cal_1_analyte_linreg.csv']\n",
            "['/content/drive/My Drive/calibration_export/Cal_2_analyte_linreg.csv']\n",
            "['/content/drive/My Drive/calibration_export/Cal_4_analyte_linreg.csv']\n",
            "['/content/drive/My Drive/calibration_export/Cal_5_analyte_linreg.csv']\n",
            "['/content/drive/My Drive/calibration_export/Cal_6_analyte_linreg.csv']\n",
            "{1:        Intercept           Slope  R2 Value\n",
            "0  [-0.02459418]  [[0.20015848]]   0.98714, 2:        Intercept           Slope  R2 Value\n",
            "0  [-0.03101178]  [[0.26080997]]  0.988923, 4:        Intercept           Slope  R2 Value\n",
            "0  [-0.04441677]  [[0.34518071]]  0.988097, 5:        Intercept           Slope  R2 Value\n",
            "0  [-0.03514634]  [[0.19182459]]  0.976946, 6:        Intercept           Slope  R2 Value\n",
            "0  [-0.04753296]  [[0.24848578]]  0.975333}\n",
            "0\n",
            "Dimethylphthalate\n",
            "File: /content/drive/My Drive/quantitation_output/Sample_1_row1_ratio.csv\n",
            "Sample DataFrame shape: (1, 7)\n",
            "Linreg DataFrame shape: (1, 3)\n",
            "---\n",
            "1\n",
            "Diethylphthalate\n",
            "File: /content/drive/My Drive/quantitation_output/Sample_1_row2_ratio.csv\n",
            "Sample DataFrame shape: (1, 7)\n",
            "Linreg DataFrame shape: (1, 3)\n",
            "---\n",
            "2\n",
            "3\n",
            "Dibutylphthalate\n",
            "File: /content/drive/My Drive/quantitation_output/Sample_1_row4_ratio.csv\n",
            "Sample DataFrame shape: (1, 7)\n",
            "Linreg DataFrame shape: (1, 3)\n",
            "---\n",
            "4\n",
            "Benzylbutylphthalate\n",
            "File: /content/drive/My Drive/quantitation_output/Sample_1_row5_ratio.csv\n",
            "Sample DataFrame shape: (1, 7)\n",
            "Linreg DataFrame shape: (1, 3)\n",
            "---\n",
            "5\n",
            "Bis(2-ethyl-hexyl)phthalate\n",
            "File: /content/drive/My Drive/quantitation_output/Sample_1_row6_ratio.csv\n",
            "Sample DataFrame shape: (1, 7)\n",
            "Linreg DataFrame shape: (1, 3)\n",
            "---\n",
            "6\n",
            "Di-n-octylphthalate\n",
            "Invalid linreg DataFrame structure for /content/drive/My Drive/quantitation_output/Sample_1_row7_ratio.csv\n",
            "File: /content/drive/My Drive/quantitation_output/Sample_1_row7_ratio.csv\n",
            "Sample DataFrame shape: (1, 7)\n",
            "Linreg DataFrame shape: None\n",
            "---\n"
          ]
        }
      ]
    },
    {
      "cell_type": "code",
      "source": [],
      "metadata": {
        "id": "GEJnOOpfr7iv"
      },
      "execution_count": null,
      "outputs": []
    }
  ]
}