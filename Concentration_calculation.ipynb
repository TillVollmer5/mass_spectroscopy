{
  "nbformat": 4,
  "nbformat_minor": 0,
  "metadata": {
    "colab": {
      "name": "CodingTask1.ipynb",
      "provenance": [],
      "include_colab_link": true
    },
    "kernelspec": {
      "name": "python3",
      "display_name": "Python 3"
    },
    "language_info": {
      "name": "python"
    }
  },
  "cells": [
    {
      "cell_type": "markdown",
      "metadata": {
        "id": "view-in-github",
        "colab_type": "text"
      },
      "source": [
        "<a href=\"https://colab.research.google.com/github/TillVollmer5/mass_spectroscopy/blob/main/Concentration_calculation.ipynb\" target=\"_parent\"><img src=\"https://colab.research.google.com/assets/colab-badge.svg\" alt=\"Open In Colab\"/></a>"
      ]
    },
    {
      "cell_type": "markdown",
      "source": [
        "#Concentration calculation\n",
        "This notebook is used to calculate the concentration of phtalates in an environemental sample using an internal standard for quantitation. The Calibration_calculation.ipynb notebook, yields severall of the required files nescessary for the calculations in this notebook. The files *Cal_{n}_analyte_linreg.csv* need to be used which is located in the *calibration_output* folder on the google drive. If this notebook is not applied from my machine in connection with my google drive, either the path to the required files needs to be adabted or changed.\n",
        "The following code allows for the calculation of the concentration, by using the linear regression form a calibration series and the ratio of the signal of the analyte with the internal standard (area). All the data regarding the calibration are present on my google drive in the folders: *calibration_input* and *calibration_output*, while a new google drive folder will be used to save the final data in as well as a new input folder.\n",
        "\n",
        "*Google drive folder:*\n",
        "quantitation_input\n",
        "quantitation_output\n",
        "\n",
        "The .csv files containing the peak list from the sample should be saved in the in the input folder. The names should follow a consequent naming sceme:\n",
        "\n",
        "***Sample_{date_of_analysis}_{tag_bonus_info}_{Sample_Nr}_pl.csv***\n",
        "\n",
        "Here the Sample number *(Sample_Nr)* is of key importance and needs to be properly documented in the Labjournal, as it is the main way of differentiation.\n"
      ],
      "metadata": {
        "id": "HlXOz_s2lyh_"
      }
    },
    {
      "cell_type": "markdown",
      "source": [
        "The following code is used to import all the nescessary libraries and mount the google drive."
      ],
      "metadata": {
        "id": "nPldWo5uaB-Z"
      }
    },
    {
      "cell_type": "code",
      "source": [
        "import numpy as np\n",
        "from google.colab import drive\n",
        "import glob\n",
        "import pandas as pd\n",
        "import os\n",
        "import csv\n",
        "from datetime import datetime\n",
        "import re\n",
        "\n",
        "drive.mount('/content/drive', force_remount = True)\n",
        "\n",
        "sample_nr_low = 2 #needs to be addapted to 1 nr in the series\n",
        "sample_nr_high = 3 #needs to be addapted to the last nr of the series"
      ],
      "metadata": {
        "id": "f0Rraq8-lx2k",
        "outputId": "afae04ec-166b-4fc3-aac1-4672ade4b569",
        "colab": {
          "base_uri": "https://localhost:8080/"
        }
      },
      "execution_count": 114,
      "outputs": [
        {
          "output_type": "stream",
          "name": "stdout",
          "text": [
            "Mounted at /content/drive\n"
          ]
        }
      ]
    },
    {
      "cell_type": "markdown",
      "source": [
        "The following code is the addapted code from the Calibration_calculation.ipynb and yields the separated in separated .csv files, which will be used to calculate the ratio in a following code segment.\n",
        "\n",
        "The output file has the following filename and is saved in the quantitation_output folder:\n",
        "\n",
        "***Sample_{n}_row{i+1}.csv***"
      ],
      "metadata": {
        "id": "iRIOk4_na2v0"
      }
    },
    {
      "cell_type": "code",
      "source": [
        "#Loop over all the designated sample files.\n",
        "for n in range(sample_nr_low, sample_nr_high):\n",
        "    files = glob.glob(f'/content/drive/My Drive/quantitation_input/*_{n}_pl.csv')\n",
        "\n",
        "    if not files:\n",
        "        print(f'Files matching pattern Sample Nr. {n} was not found.')\n",
        "        break\n",
        "\n",
        "    else:\n",
        "        # Loop over each row and save a separate data frame for each\n",
        "        df = pd.read_csv(files[0], header=4)\n",
        "        num_rows = len(df)\n",
        "        \n",
        "        for i in range(num_rows):\n",
        "            row_dfs = []\n",
        "            for file in files:\n",
        "                df = pd.read_csv(file, header=4, na_values='')\n",
        "\n",
        "                # Extract the i'th row of the CSV file and append it to the row data frame list\n",
        "                row = df.iloc[i, :].dropna().astype(str)\n",
        "                row_dfs.append(row)\n",
        "\n",
        "            # Concatenate the row data frames along the columns axis and convert to a data frame\n",
        "            combined_df = pd.concat(row_dfs, axis=1).T\n",
        "\n",
        "            # Save the combined data frame to a CSV file with a name indicating the row number\n",
        "            combined_df.to_csv(f'/content/drive/My Drive/quantitation_output/Sample_{n}_row{i+1}.csv', index=False, header=False)\n",
        "            \n",
        "            # Convert all values to strings before joining and print the row in the desired format\n",
        "            formatted_row = '\\t'.join(map(str, combined_df.values[0]))\n",
        "            print(formatted_row)"
      ],
      "metadata": {
        "id": "wtrzzQvHa2TP",
        "outputId": "9a5f13db-eda3-4fb2-f642-96836fbfb5f4",
        "colab": {
          "base_uri": "https://localhost:8080/"
        }
      },
      "execution_count": 115,
      "outputs": [
        {
          "output_type": "stream",
          "name": "stdout",
          "text": [
            "14.7\t14.66\t14.76\t1407707433.936\t4.22\t662761108.09\t4.39\n",
            "17.48\t17.44\t17.53\t2425070998.323\t7.26\t1193992489.789\t7.91\n",
            "20.8\t20.76\t20.84\t25297869276.926\t75.76\t11541377812.285\t76.42\n",
            "23.93\t23.88\t23.99\t2412960836.906\t7.23\t1128758684.271\t7.47\n",
            "29.63\t29.56\t29.76\t697773916.705\t2.09\t245624472.411\t1.63\n",
            "32.17\t32.1\t32.42\t790440027.3\t2.37\t233883837.645\t1.55\n",
            "34.55\t34.51\t34.76\t358231266.88\t1.07\t97023971.385\t0.64\n"
          ]
        }
      ]
    },
    {
      "cell_type": "markdown",
      "source": [
        "The following code allows to calculate the ratio of the analytes with the internal standard. The output is saved as:\n",
        "\n",
        "***Sample_{n}_row*_ratio.csv**"
      ],
      "metadata": {
        "id": "4P-AJhGWfCXY"
      }
    },
    {
      "cell_type": "code",
      "source": [
        "#Loop over all the designated sample files.\n",
        "for n in range(sample_nr_low, sample_nr_high):\n",
        "  divisor_file = f'/content/drive/My Drive/quantitation_output/Sample_{n}_row3.csv'\n",
        "  directory = '/content/drive/My Drive/quantitation_output'\n",
        "    \n",
        "  divisor_row = pd.read_csv(divisor_file, sep=',', header=None)\n",
        "  #print(divisor_row)\n",
        "  csv_files = glob.glob(os.path.join(directory, f'*{n}_row*.csv'))\n",
        "\n",
        "    \n",
        "  # Process each CSV file\n",
        "  for csv_file in csv_files:\n",
        "    #print(csv_file)\n",
        "    if csv_file == divisor_file or '_ratio' in csv_file:\n",
        "      continue  # Skip the divisor file itself\n",
        "    data_df = pd.DataFrame()\n",
        "    data_df = pd.read_csv(csv_file, sep=',', header=None)\n",
        "    data_df = data_df.apply(pd.to_numeric, errors='coerce')  # Convert values to numeric\n",
        "    #print(f'Data df: {data_df.head()}')\n",
        "    #print(data_df.info())\n",
        "    #print(f'Divisor df: {divisor_row.head()}')  \n",
        "    #Perform division on the data\n",
        "    divided_data_df = pd.DataFrame()\n",
        "    divided_data_df = data_df.div(divisor_row, axis='columns')\n",
        "    #print(f'Divided df: {divided_data_df.head()}')\n",
        "    #print(divided_data_df.info()) \n",
        "    #Create a new file name with the \"_ratio\" tag\n",
        "    new_file_name = os.path.splitext(csv_file)[0] + '_ratio.csv'\n",
        "\n",
        "    divided_data_df.to_csv(new_file_name, sep=',', header=False, index=False)\n",
        "    control_import_df = pd.read_csv(new_file_name, sep=',', header=None)\n",
        "    #print(f'Control df: {control_import_df}')\n",
        "    #print(new_file_name)"
      ],
      "metadata": {
        "id": "oXCb2CjmfhuM"
      },
      "execution_count": 116,
      "outputs": []
    },
    {
      "cell_type": "code",
      "source": [
        "# Loop over all the designated sample files. Currently works but i am not shure if it might be just exactly the same as the first one, it works but not iterative...\n",
        "for n in range(sample_nr_low, sample_nr_high):\n",
        "    divisor_file = f'/content/drive/My Drive/quantitation_output/Sample_{n}_row3.csv'\n",
        "    directory = '/content/drive/My Drive/quantitation_output'\n",
        "\n",
        "    if not os.path.isfile(divisor_file):\n",
        "        print(f\"Divisor file does not exist: {divisor_file}\")\n",
        "        continue  # Skip to the next iteration if the divisor file is missing\n",
        "\n",
        "    divisor_row = pd.read_csv(divisor_file, sep=',', header=None)\n",
        "    csv_files = glob.glob(os.path.join(directory, f'*_row*.csv'))\n",
        "\n",
        "    # Process each CSV file\n",
        "    for csv_file in csv_files:\n",
        "        if csv_file == divisor_file or '_ratio' in csv_file:\n",
        "            continue  # Skip the divisor file itself and ratio files\n",
        "        data_df = pd.read_csv(csv_file, sep=',', header=None)\n",
        "        data_df = data_df.apply(pd.to_numeric, errors='coerce')  # Convert values to numeric\n",
        "\n",
        "        # Perform division on the data\n",
        "        divided_data_df = data_df.div(divisor_row, axis='columns')\n",
        "\n",
        "        # Create a new file name with the \"_ratio\" tag\n",
        "        new_file_name = os.path.splitext(csv_file)[0] + '_ratio.csv'\n",
        "\n",
        "        divided_data_df.to_csv(new_file_name, sep=',', header=False, index=False)\n",
        "        control_import_df = pd.read_csv(new_file_name, sep=',', header=None)\n",
        "\n",
        "        # Compare the recalculated values with the content of the ratio file\n",
        "        if control_import_df.equals(divided_data_df):\n",
        "            print(f\"The files match: {new_file_name}\")\n",
        "        else:\n",
        "            print(f\"The files do not match: {new_file_name}\")\n",
        "\n",
        "        print(control_import_df)\n",
        "        print(divided_data_df)\n",
        "        print('****************************************************')"
      ],
      "metadata": {
        "id": "uBtOq-R2Delp",
        "outputId": "8ff087b1-c635-4bd2-d76c-f86d82a4296a",
        "colab": {
          "base_uri": "https://localhost:8080/"
        }
      },
      "execution_count": 117,
      "outputs": [
        {
          "output_type": "stream",
          "name": "stdout",
          "text": [
            "The files do not match: /content/drive/My Drive/quantitation_output/Sample_1_row1_ratio.csv\n",
            "          0         1         2         3         4        5         6\n",
            "0  0.706731  0.705202  0.708253  0.351794  0.295539  0.36989  0.295472\n",
            "          0         1         2         3         4        5         6\n",
            "0  0.706731  0.705202  0.708253  0.351794  0.295539  0.36989  0.295472\n",
            "****************************************************\n",
            "The files do not match: /content/drive/My Drive/quantitation_output/Sample_1_row2_ratio.csv\n",
            "          0         1         2         3        4         5         6\n",
            "0  0.840385  0.839595  0.841171  0.463537  0.38952  0.514444  0.410887\n",
            "          0         1         2         3        4         5         6\n",
            "0  0.840385  0.839595  0.841171  0.463537  0.38952  0.514444  0.410887\n",
            "****************************************************\n",
            "The files do not match: /content/drive/My Drive/quantitation_output/Sample_1_row3_ratio.csv\n",
            "          0         1        2         3         4         5         6\n",
            "0  0.999519  0.998555  1.00096  0.508204  0.427006  0.522074  0.417037\n",
            "          0         1        2         3         4         5         6\n",
            "0  0.999519  0.998555  1.00096  0.508204  0.427006  0.522074  0.417037\n",
            "****************************************************\n",
            "The files do not match: /content/drive/My Drive/quantitation_output/Sample_1_row4_ratio.csv\n",
            "      0         1         2         3         4         5         6\n",
            "0  1.15  1.150289  1.151631  0.189095  0.158923  0.191056  0.152578\n",
            "      0         1         2         3         4         5         6\n",
            "0  1.15  1.150289  1.151631  0.189095  0.158923  0.191056  0.152578\n",
            "****************************************************\n",
            "The files do not match: /content/drive/My Drive/quantitation_output/Sample_1_row5_ratio.csv\n",
            "          0         1         2         3         4         5         6\n",
            "0  1.424519  1.424374  1.430422  0.045584  0.038279  0.031935  0.025517\n",
            "          0         1         2         3         4         5         6\n",
            "0  1.424519  1.424374  1.430422  0.045584  0.038279  0.031935  0.025517\n",
            "****************************************************\n",
            "The files do not match: /content/drive/My Drive/quantitation_output/Sample_1_row6_ratio.csv\n",
            "          0         1         2         3       4         5         6\n",
            "0  1.546635  1.547688  1.551823  0.007863  0.0066  0.005585  0.004449\n",
            "          0         1         2         3       4         5         6\n",
            "0  1.546635  1.547688  1.551823  0.007863  0.0066  0.005585  0.004449\n",
            "****************************************************\n",
            "The files do not match: /content/drive/My Drive/quantitation_output/Sample_1_row7_ratio.csv\n",
            "          0        1         2         3         4         5         6\n",
            "0  1.661058  1.66185  1.665067  0.004822  0.004092  0.003329  0.002617\n",
            "          0        1         2         3         4         5         6\n",
            "0  1.661058  1.66185  1.665067  0.004822  0.004092  0.003329  0.002617\n",
            "****************************************************\n",
            "The files do not match: /content/drive/My Drive/quantitation_output/Sample_2_row1_ratio.csv\n",
            "          0         1         2         3         4         5         6\n",
            "0  0.706731  0.706166  0.708253  0.055645  0.055702  0.057425  0.057446\n",
            "          0         1         2         3         4         5         6\n",
            "0  0.706731  0.706166  0.708253  0.055645  0.055702  0.057425  0.057446\n",
            "****************************************************\n",
            "The files do not match: /content/drive/My Drive/quantitation_output/Sample_2_row2_ratio.csv\n",
            "          0         1         2         3         4         5         6\n",
            "0  0.840385  0.840077  0.841171  0.095861  0.095829  0.103453  0.103507\n",
            "          0         1         2         3         4         5         6\n",
            "0  0.840385  0.840077  0.841171  0.095861  0.095829  0.103453  0.103507\n",
            "****************************************************\n",
            "The files do not match: /content/drive/My Drive/quantitation_output/Sample_2_row4_ratio.csv\n",
            "          0         1         2         3         4         5         6\n",
            "0  1.150481  1.150289  1.151152  0.095382  0.095433  0.097801  0.097749\n",
            "          0         1         2         3         4         5         6\n",
            "0  1.150481  1.150289  1.151152  0.095382  0.095433  0.097801  0.097749\n",
            "****************************************************\n",
            "The files do not match: /content/drive/My Drive/quantitation_output/Sample_2_row5_ratio.csv\n",
            "          0         1         2         3         4         5         6\n",
            "0  1.424519  1.423892  1.428023  0.027582  0.027587  0.021282  0.021329\n",
            "          0         1         2         3         4         5         6\n",
            "0  1.424519  1.423892  1.428023  0.027582  0.027587  0.021282  0.021329\n",
            "****************************************************\n",
            "The files do not match: /content/drive/My Drive/quantitation_output/Sample_2_row6_ratio.csv\n",
            "          0         1         2         3         4         5         6\n",
            "0  1.546635  1.546243  1.555662  0.031245  0.031283  0.020265  0.020283\n",
            "          0         1         2         3         4         5         6\n",
            "0  1.546635  1.546243  1.555662  0.031245  0.031283  0.020265  0.020283\n",
            "****************************************************\n",
            "The files do not match: /content/drive/My Drive/quantitation_output/Sample_2_row7_ratio.csv\n",
            "          0         1         2         3         4         5         6\n",
            "0  1.661058  1.662331  1.667946  0.014161  0.014124  0.008407  0.008375\n",
            "          0         1         2         3         4         5         6\n",
            "0  1.661058  1.662331  1.667946  0.014161  0.014124  0.008407  0.008375\n",
            "****************************************************\n"
          ]
        }
      ]
    },
    {
      "cell_type": "markdown",
      "source": [
        "The following code takes the ratio files as well as the parameters for the linear regression (analyte specific), and yields a final output file that contains all the information, such as the information of the ratio used for the quantitaiton, the parameters for the linear equation as well as other information such as compound id and other general sample information. \n",
        "\n",
        "The final outpur files have the following name format:\n",
        "\n",
        "***Sample_{n}_quantitation_output.csv***\n"
      ],
      "metadata": {
        "id": "8b_QdJRpho9h"
      }
    },
    {
      "cell_type": "code",
      "source": [
        "\n",
        "current_date = datetime.today().strftime('%Y-%m-%d')\n",
        "output_dir = '/content/drive/My Drive/quantitation_export/'\n",
        "#header_row1 = [f'Analysis Nr. {n}', 'Phthalate concentration calculation', 'Concentration_calibration.ipynb', 'Till Vollmer', current_date]\n",
        "header_row2 = ['Analyte', 'Intercept', 'Slope', 'Value', 'Concentration [microg/ml]']\n",
        "\n",
        "row_descriptors = ['place holder','Dimethylphthalate', 'Diethylphthalate', 'Internal standard', 'Dibutylphthalate', 'Benzylbutylphthalate', 'Bis(2-ethyl-hexyl)phthalate', 'Di-n-octylphthalate']\n",
        "file_pattern = '/content/drive/My Drive/quantitation_output/Sample_{}_row{}_ratio.csv'\n",
        "\n",
        "for n in range(sample_nr_low, sample_nr_high):\n",
        "    output_file = output_dir + f'Sample_{n}_concentration_output.csv'\n",
        "    header_row1 = [f'Analysis Nr. {n}', 'Phthalate concentration calculation', 'Concentration_calibration.ipynb', 'Till Vollmer', current_date]\n",
        "\n",
        "    with open(output_file, 'w', newline='') as csvfile:\n",
        "        writer = csv.writer(csvfile)\n",
        "        writer.writerow(header_row1)\n",
        "        writer.writerow(header_row2)\n",
        "\n",
        "        for i in range(1, 8):\n",
        "          if i == 3:\n",
        "              continue\n",
        "          print(f'Sample nr: {n}')\n",
        "          print(f'Compound iteration: {i}')\n",
        "          linreg_df = pd.read_csv(f'/content/drive/My Drive/calibration_export/Cal_{i}_analyte_linreg.csv')\n",
        "          print(f'linear function information: {linreg_df}')\n",
        "          descriptor = row_descriptors[i]\n",
        "          print(f'Descriptor: {descriptor}')\n",
        "          sample_df = pd.read_csv(file_pattern.format(n, i), header=None, delimiter=',')  # Corrected line\n",
        "          print(f'Sample dataframe: {sample_df}')\n",
        "          intercept_str = linreg_df['Intercept'].values[0]\n",
        "          slope_str = linreg_df['Slope'].values[0]\n",
        "          intercept = float(re.findall(r'[-\\d.]+', intercept_str)[0])\n",
        "          slope = float(re.findall(r'[-\\d.]+', slope_str)[0])\n",
        "          fourth_column = sample_df.iloc[:, 3]  # Accessing the 4th column\n",
        "          value = float(fourth_column.iloc[0])  # Assuming you want the value from the first row (index 0)\n",
        "          concentration = slope * value + intercept\n",
        "          print(f\"Calculated concentration: {concentration}\")\n",
        "          row_data = [descriptor, intercept, slope, value, concentration]\n",
        "          writer.writerow(row_data)\n",
        "\n",
        "          # Additional print statements for debugging\n",
        "          print(f\"Sample DataFrame shape: {sample_df.shape}\")\n",
        "          print(f\"Linreg DataFrame shape: {linreg_df.shape if linreg_df is not None else None}\")\n",
        "          print(\"------------------------------------------------------------------------\")\n",
        "        "
      ],
      "metadata": {
        "id": "Zwbpv1Zf28ia",
        "outputId": "30576aca-cb46-4b2c-e565-44bd824886c4",
        "colab": {
          "base_uri": "https://localhost:8080/"
        }
      },
      "execution_count": 118,
      "outputs": [
        {
          "output_type": "stream",
          "name": "stdout",
          "text": [
            "Sample nr: 2\n",
            "Compound iteration: 1\n",
            "linear function information:        Intercept            Slope  R2 Value\n",
            "0  [-0.01506158]  [[10.52211791]]  0.965479\n",
            "Descriptor: Dimethylphthalate\n",
            "Sample dataframe:           0         1         2         3         4         5         6\n",
            "0  0.706731  0.706166  0.708253  0.055645  0.055702  0.057425  0.057446\n",
            "Calculated concentration: 0.5704447897466449\n",
            "Sample DataFrame shape: (1, 7)\n",
            "Linreg DataFrame shape: (1, 3)\n",
            "------------------------------------------------------------------------\n",
            "Sample nr: 2\n",
            "Compound iteration: 2\n",
            "linear function information:       Intercept           Slope  R2 Value\n",
            "0  [-0.0045904]  [[8.00650899]]   0.98321\n",
            "Descriptor: Diethylphthalate\n",
            "Sample dataframe:           0         1         2         3         4         5         6\n",
            "0  0.840385  0.840077  0.841171  0.095861  0.095829  0.103453  0.103507\n",
            "Calculated concentration: 0.7629190110463638\n",
            "Sample DataFrame shape: (1, 7)\n",
            "Linreg DataFrame shape: (1, 3)\n",
            "------------------------------------------------------------------------\n",
            "Sample nr: 2\n",
            "Compound iteration: 4\n",
            "linear function information:       Intercept          Slope  R2 Value\n",
            "0  [0.01463661]  [[6.8161207]]  0.989428\n",
            "Descriptor: Dibutylphthalate\n",
            "Sample dataframe:           0         1         2         3         4         5         6\n",
            "0  1.150481  1.150289  1.151152  0.095382  0.095433  0.097801  0.097749\n",
            "Calculated concentration: 0.6647716916815835\n",
            "Sample DataFrame shape: (1, 7)\n",
            "Linreg DataFrame shape: (1, 3)\n",
            "------------------------------------------------------------------------\n",
            "Sample nr: 2\n",
            "Compound iteration: 5\n",
            "linear function information:       Intercept           Slope  R2 Value\n",
            "0  [0.01874504]  [[18.0376199]]  0.993887\n",
            "Descriptor: Benzylbutylphthalate\n",
            "Sample dataframe:           0         1         2         3         4         5         6\n",
            "0  1.424519  1.423892  1.428023  0.027582  0.027587  0.021282  0.021329\n",
            "Calculated concentration: 0.5162644376964214\n",
            "Sample DataFrame shape: (1, 7)\n",
            "Linreg DataFrame shape: (1, 3)\n",
            "------------------------------------------------------------------------\n",
            "Sample nr: 2\n",
            "Compound iteration: 6\n",
            "linear function information:       Intercept            Slope  R2 Value\n",
            "0  [0.02446797]  [[17.01961345]]  0.987005\n",
            "Descriptor: Bis(2-ethyl-hexyl)phthalate\n",
            "Sample dataframe:           0         1         2         3         4         5         6\n",
            "0  1.546635  1.546243  1.555662  0.031245  0.031283  0.020265  0.020283\n",
            "Calculated concentration: 0.5562512428436066\n",
            "Sample DataFrame shape: (1, 7)\n",
            "Linreg DataFrame shape: (1, 3)\n",
            "------------------------------------------------------------------------\n",
            "Sample nr: 2\n",
            "Compound iteration: 7\n",
            "linear function information:       Intercept            Slope  R2 Value\n",
            "0  [0.02548145]  [[28.46492392]]  0.989285\n",
            "Descriptor: Di-n-octylphthalate\n",
            "Sample dataframe:           0         1         2         3         4         5         6\n",
            "0  1.661058  1.662331  1.667946  0.014161  0.014124  0.008407  0.008375\n",
            "Calculated concentration: 0.4285598929266148\n",
            "Sample DataFrame shape: (1, 7)\n",
            "Linreg DataFrame shape: (1, 3)\n",
            "------------------------------------------------------------------------\n"
          ]
        }
      ]
    },
    {
      "cell_type": "code",
      "source": [],
      "metadata": {
        "id": "GEJnOOpfr7iv"
      },
      "execution_count": null,
      "outputs": []
    }
  ]
}