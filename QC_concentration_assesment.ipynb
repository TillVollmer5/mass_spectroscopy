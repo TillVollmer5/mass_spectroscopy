{
  "nbformat": 4,
  "nbformat_minor": 0,
  "metadata": {
    "colab": {
      "provenance": [],
      "authorship_tag": "ABX9TyPE6on/x2asraG3gTwWXcri",
      "include_colab_link": true
    },
    "kernelspec": {
      "name": "python3",
      "display_name": "Python 3"
    },
    "language_info": {
      "name": "python"
    }
  },
  "cells": [
    {
      "cell_type": "markdown",
      "metadata": {
        "id": "view-in-github",
        "colab_type": "text"
      },
      "source": [
        "<a href=\"https://colab.research.google.com/github/TillVollmer5/mass_spectroscopy/blob/main/QC_concentration_assesment.ipynb\" target=\"_parent\"><img src=\"https://colab.research.google.com/assets/colab-badge.svg\" alt=\"Open In Colab\"/></a>"
      ]
    },
    {
      "cell_type": "code",
      "execution_count": 3,
      "metadata": {
        "colab": {
          "base_uri": "https://localhost:8080/"
        },
        "id": "we103gqXhg8d",
        "outputId": "73c32f85-6da4-414f-9ab0-90e6d873daa1"
      },
      "outputs": [
        {
          "output_type": "stream",
          "name": "stdout",
          "text": [
            "Mounted at /content/drive\n"
          ]
        }
      ],
      "source": [
        "import matplotlib.pyplot as plt\n",
        "import numpy as np\n",
        "from google.colab import drive\n",
        "import pandas as pd\n",
        "import seaborn as sns\n",
        "drive.mount('/content/drive', force_remount = True)"
      ]
    },
    {
      "cell_type": "code",
      "source": [
        "QC_PUF_150 = pd.read_csv('/content/drive/My Drive/quantitation_export/Sample_150_concentration_output_2023-11-17.csv', header=1)\n",
        "QC_PF_152 = pd.read_csv('/content/drive/My Drive/quantitation_export/Sample_152_concentration_output_2023-11-17.csv', header=1)\n",
        "QC_Solvent_100_153 = pd.read_csv('/content/drive/My Drive/quantitation_export/Sample_153_concentration_output_2023-11-17.csv', header=1)\n",
        "QC_Blank_157 = pd.read_csv('/content/drive/My Drive/quantitation_export/Sample_157_concentration_output_2023-11-22.csv', header=1)\n",
        "QC_PUF_159 = pd.read_csv('/content/drive/My Drive/quantitation_export/Sample_159_concentration_output_2023-11-23.csv', header=1)\n",
        "QC_PF_161 = pd.read_csv('/content/drive/My Drive/quantitation_export/Sample_161_concentration_output_2023-11-24.csv', header=1)\n",
        "QC_PUF_176 = pd.read_csv('/content/drive/My Drive/quantitation_export/Sample_176_concentration_output_2023-12-01.csv', header=1)\n",
        "QC_PF_180 = pd.read_csv('/content/drive/My Drive/quantitation_export/Sample_180_concentration_output_2023-12-01.csv', header=1)\n",
        "QC_Solvent_30_182 = pd.read_csv('/content/drive/My Drive/quantitation_export/Sample_182_concentration_output_2023-12-01.csv', header=1)\n",
        "QC_PUF_150['Concentration [microg/m^3]'] = QC_PUF_150['Concentration [ng/m^3]'].apply(lambda x: max(0, x))\n",
        "QC_PF_152['Concentration [ng/m^3]'] = QC_PF_152['Concentration [ng/m^3]'].apply(lambda x: max(0, x))\n",
        "QC_Solvent_100_153['Concentration [ng/m^3]'] = QC_Solvent_100_153['Concentration [ng/m^3]'].apply(lambda x: max(0, x))\n",
        "Zafira_2_pm_df['Concentration [ng/m^3]'] = Zafira_2_pm_df['Concentration [ng/m^3]'].apply(lambda x:\n"
      ],
      "metadata": {
        "colab": {
          "base_uri": "https://localhost:8080/"
        },
        "id": "yMOZR6qRhuN1",
        "outputId": "9a21115e-220a-4ec6-f528-ca5223995120"
      },
      "execution_count": 4,
      "outputs": [
        {
          "output_type": "stream",
          "name": "stdout",
          "text": [
            "                       Analyte  Intercept     Slope     Value  \\\n",
            "0            Dimethylphthalate   0.001358  0.356679  0.001087   \n",
            "1             Diethylphthalate   0.001323  0.387867  0.006408   \n",
            "2             Dibutylphthalate   0.002397  0.656251  0.023225   \n",
            "3         Benzylbutylphthalate  -0.000574  0.273788  0.003163   \n",
            "4  Bis(2-ethyl-hexyl)phthalate  -0.001668  0.450815  0.078285   \n",
            "5          Di-n-octylphthalate  -0.006264  0.490070  0.002273   \n",
            "\n",
            "   Concentration [microg/ml]  \n",
            "0                   0.001746  \n",
            "1                   0.003809  \n",
            "2                   0.017638  \n",
            "3                   0.000292  \n",
            "4                   0.033624  \n",
            "5                  -0.005150  \n"
          ]
        }
      ]
    },
    {
      "cell_type": "code",
      "source": [],
      "metadata": {
        "id": "gt1e78H0losr"
      },
      "execution_count": null,
      "outputs": []
    }
  ]
}