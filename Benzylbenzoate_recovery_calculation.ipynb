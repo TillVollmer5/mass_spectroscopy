{
  "nbformat": 4,
  "nbformat_minor": 0,
  "metadata": {
    "colab": {
      "name": "CodingTask1.ipynb",
      "provenance": [],
      "include_colab_link": true
    },
    "kernelspec": {
      "name": "python3",
      "display_name": "Python 3"
    },
    "language_info": {
      "name": "python"
    }
  },
  "cells": [
    {
      "cell_type": "markdown",
      "metadata": {
        "id": "view-in-github",
        "colab_type": "text"
      },
      "source": [
        "<a href=\"https://colab.research.google.com/github/TillVollmer5/mass_spectroscopy/blob/main/Benzylbenzoate_recovery_calculation.ipynb\" target=\"_parent\"><img src=\"https://colab.research.google.com/assets/colab-badge.svg\" alt=\"Open In Colab\"/></a>"
      ]
    },
    {
      "cell_type": "markdown",
      "source": [
        "#Benzylbenzoate Recovery Analysis\n",
        "This notebook aims at investigating the recovery of the internal standard in the water extraction with n-hexan and a mixture of n-hexan and 5% diethyl ether. This is just a short script to quickly asses the recovery. As the equilibrium state of the benzylbenzoate between the organic phase and the liquid phase leads to a decrease in the signal of the chromatogram and falsifies the concentration calculation of the phthalates.\n",
        "\n",
        "All the input files are added to a google drive folder with the name *Benzylbenzoate_recovery_input*.\n",
        "\n"
      ],
      "metadata": {
        "id": "HlXOz_s2lyh_"
      }
    },
    {
      "cell_type": "code",
      "source": [
        "from google.colab import drive\n",
        "import glob\n",
        "import pandas as pd\n",
        "from datetime import datetime\n",
        "import csv\n",
        "import numpy as np\n",
        "from scipy import stats\n",
        "\n",
        "drive.mount('/content/drive', force_remount = True)"
      ],
      "metadata": {
        "id": "f0Rraq8-lx2k",
        "outputId": "8ad3b5c7-518e-4027-8483-4f30026a3b24",
        "colab": {
          "base_uri": "https://localhost:8080/"
        }
      },
      "execution_count": 22,
      "outputs": [
        {
          "output_type": "stream",
          "name": "stdout",
          "text": [
            "Mounted at /content/drive\n"
          ]
        }
      ]
    },
    {
      "cell_type": "code",
      "source": [
        "unextract_files_list = glob.glob(f'/content/drive/My Drive/Benzylbenzoate_recovery_input/BB_recov_*')\n",
        "unextract_df = pd.DataFrame()\n",
        "\n",
        "for unextract_file_path in unextract_files_list:\n",
        "  unextract_data = pd.read_csv(unextract_file_path, header=4)\n",
        "  unextract_df = unextract_df.append(unextract_data)\n",
        "\n",
        "\n",
        "unextract_df = unextract_df.reset_index(drop=True)\n",
        "\n",
        "print(unextract_df)"
      ],
      "metadata": {
        "id": "h-d5nd-v9zli",
        "outputId": "2e631ee9-8187-433b-e04b-bb0e4db7ce6e",
        "colab": {
          "base_uri": "https://localhost:8080/"
        }
      },
      "execution_count": 3,
      "outputs": [
        {
          "output_type": "stream",
          "name": "stderr",
          "text": [
            "<ipython-input-3-fdb51e625da6>:6: FutureWarning: The frame.append method is deprecated and will be removed from pandas in a future version. Use pandas.concat instead.\n",
            "  unextract_df = unextract_df.append(unextract_data)\n",
            "<ipython-input-3-fdb51e625da6>:6: FutureWarning: The frame.append method is deprecated and will be removed from pandas in a future version. Use pandas.concat instead.\n",
            "  unextract_df = unextract_df.append(unextract_data)\n",
            "<ipython-input-3-fdb51e625da6>:6: FutureWarning: The frame.append method is deprecated and will be removed from pandas in a future version. Use pandas.concat instead.\n",
            "  unextract_df = unextract_df.append(unextract_data)\n",
            "<ipython-input-3-fdb51e625da6>:6: FutureWarning: The frame.append method is deprecated and will be removed from pandas in a future version. Use pandas.concat instead.\n",
            "  unextract_df = unextract_df.append(unextract_data)\n",
            "<ipython-input-3-fdb51e625da6>:6: FutureWarning: The frame.append method is deprecated and will be removed from pandas in a future version. Use pandas.concat instead.\n",
            "  unextract_df = unextract_df.append(unextract_data)\n"
          ]
        },
        {
          "output_type": "stream",
          "name": "stdout",
          "text": [
            "   Apex RT  Start RT  End RT          Area  %Area        Height  %Height\n",
            "0    20.80     20.74   20.85  2.173541e+10    100  9.581892e+09      100\n",
            "1    20.80     20.75   20.85  2.364346e+10    100  1.053549e+10      100\n",
            "2    20.80     20.75   20.85  1.747253e+10    100  8.171063e+09      100\n",
            "3    20.81     20.75   20.89  2.251730e+10    100  1.017443e+10      100\n",
            "4    20.80     20.75   20.86  1.545550e+10    100  7.170586e+09      100\n",
            "5    20.80     20.75   20.86  2.002994e+10    100  9.492307e+09      100\n"
          ]
        },
        {
          "output_type": "stream",
          "name": "stderr",
          "text": [
            "<ipython-input-3-fdb51e625da6>:6: FutureWarning: The frame.append method is deprecated and will be removed from pandas in a future version. Use pandas.concat instead.\n",
            "  unextract_df = unextract_df.append(unextract_data)\n"
          ]
        }
      ]
    },
    {
      "cell_type": "code",
      "source": [
        "extract_files_list = glob.glob(f'/content/drive/My Drive/Benzylbenzoate_recovery_input/Spike_water_*')\n",
        "extract_df = pd.DataFrame()\n",
        "\n",
        "for extract_file_path in extract_files_list:\n",
        "  extract_data = pd.read_csv(extract_file_path, header=4)\n",
        "  mask = extract_data['Apex RT'].isin([20.80, 20.79, 20.81])\n",
        "  extract_rows = extract_data[mask]\n",
        "  extract_df = extract_df.append(extract_rows)\n",
        "\n",
        "\n",
        "extract_df = extract_df.reset_index(drop=True)\n",
        "\n",
        "print(extract_df)"
      ],
      "metadata": {
        "id": "E2yfer8rHUG8",
        "outputId": "5e40f819-d063-44f4-b0d5-919210acce52",
        "colab": {
          "base_uri": "https://localhost:8080/"
        }
      },
      "execution_count": 6,
      "outputs": [
        {
          "output_type": "stream",
          "name": "stdout",
          "text": [
            "   Apex RT  Start RT  End RT          Area  %Area        Height  %Height\n",
            "0    20.79     20.73   20.86  1.285649e+10  32.35  6.025451e+09    31.87\n",
            "1    20.80     20.76   20.84  2.529787e+10  75.76  1.154138e+10    76.42\n",
            "2    20.80     20.75   20.86  1.827266e+10  33.19  8.291809e+09    32.44\n",
            "3    20.81     20.75   20.87  3.612363e+10  78.02  1.529648e+10    77.04\n",
            "4    20.80     20.75   20.88  1.174459e+10  35.51  5.587832e+09    35.40\n",
            "5    20.81     20.75   20.86  2.616546e+10  81.98  1.198183e+10    82.53\n",
            "6    20.80     20.75   20.89  1.137054e+10  36.92  5.423433e+09    36.52\n",
            "7    20.81     20.75   20.90  2.613526e+10  82.41  1.220199e+10    83.46\n"
          ]
        },
        {
          "output_type": "stream",
          "name": "stderr",
          "text": [
            "<ipython-input-6-d1acfae7705d>:8: FutureWarning: The frame.append method is deprecated and will be removed from pandas in a future version. Use pandas.concat instead.\n",
            "  extract_df = extract_df.append(extract_rows)\n",
            "<ipython-input-6-d1acfae7705d>:8: FutureWarning: The frame.append method is deprecated and will be removed from pandas in a future version. Use pandas.concat instead.\n",
            "  extract_df = extract_df.append(extract_rows)\n",
            "<ipython-input-6-d1acfae7705d>:8: FutureWarning: The frame.append method is deprecated and will be removed from pandas in a future version. Use pandas.concat instead.\n",
            "  extract_df = extract_df.append(extract_rows)\n",
            "<ipython-input-6-d1acfae7705d>:8: FutureWarning: The frame.append method is deprecated and will be removed from pandas in a future version. Use pandas.concat instead.\n",
            "  extract_df = extract_df.append(extract_rows)\n",
            "<ipython-input-6-d1acfae7705d>:8: FutureWarning: The frame.append method is deprecated and will be removed from pandas in a future version. Use pandas.concat instead.\n",
            "  extract_df = extract_df.append(extract_rows)\n",
            "<ipython-input-6-d1acfae7705d>:8: FutureWarning: The frame.append method is deprecated and will be removed from pandas in a future version. Use pandas.concat instead.\n",
            "  extract_df = extract_df.append(extract_rows)\n",
            "<ipython-input-6-d1acfae7705d>:8: FutureWarning: The frame.append method is deprecated and will be removed from pandas in a future version. Use pandas.concat instead.\n",
            "  extract_df = extract_df.append(extract_rows)\n",
            "<ipython-input-6-d1acfae7705d>:8: FutureWarning: The frame.append method is deprecated and will be removed from pandas in a future version. Use pandas.concat instead.\n",
            "  extract_df = extract_df.append(extract_rows)\n"
          ]
        }
      ]
    },
    {
      "cell_type": "code",
      "source": [
        "unextract_mean = unextract_df.mean()\n",
        "extract_mean = extract_df.mean()\n",
        "unextract_sem = unextract_df.sem()\n",
        "extract_sem = extract_df.sem()\n",
        "\n",
        "recov =(extract_mean / unextract_mean) * 100\n",
        "\n",
        "error_recov = np.sqrt((((-extract_mean / unextract_mean**2) * unextract_sem)**2) + ((1 / unextract_mean) * extract_sem)**2)\n",
        "\n",
        "print(unextract_mean)\n",
        "print(extract_mean)\n",
        "print(unextract_sem)\n",
        "print(extract_sem)\n",
        "print(recov)\n",
        "print(error_recov )"
      ],
      "metadata": {
        "id": "U6E8vRCw14L6",
        "outputId": "85455c07-5ae9-43ee-ea88-a60653d14bdd",
        "colab": {
          "base_uri": "https://localhost:8080/"
        }
      },
      "execution_count": 31,
      "outputs": [
        {
          "output_type": "stream",
          "name": "stdout",
          "text": [
            "Apex RT     2.080167e+01\n",
            "Start RT    2.074833e+01\n",
            "End RT      2.086000e+01\n",
            "Area        2.014236e+10\n",
            "%Area       1.000000e+02\n",
            "Height      9.187629e+09\n",
            "%Height     1.000000e+02\n",
            "dtype: float64\n",
            "Apex RT     2.080250e+01\n",
            "Start RT    2.074875e+01\n",
            "End RT      2.087000e+01\n",
            "Area        2.099581e+10\n",
            "%Area       5.701750e+01\n",
            "Height      9.543774e+09\n",
            "%Height     5.696000e+01\n",
            "dtype: float64\n",
            "Apex RT     1.666667e-03\n",
            "Start RT    1.666667e-03\n",
            "End RT      6.324555e-03\n",
            "Area        1.285082e+09\n",
            "%Area       0.000000e+00\n",
            "Height      5.209180e+08\n",
            "%Height     0.000000e+00\n",
            "dtype: float64\n",
            "Apex RT     2.500000e-03\n",
            "Start RT    2.950484e-03\n",
            "End RT      6.813851e-03\n",
            "Area        3.140726e+09\n",
            "%Area       8.559674e+00\n",
            "Height      1.313847e+09\n",
            "%Height     8.713022e+00\n",
            "dtype: float64\n",
            "Apex RT     100.004006\n",
            "Start RT    100.002008\n",
            "End RT      100.047939\n",
            "Area        104.237111\n",
            "%Area        57.017500\n",
            "Height      103.876356\n",
            "%Height      56.960000\n",
            "dtype: float64\n",
            "Apex RT     0.000144\n",
            "Start RT    0.000163\n",
            "End RT      0.000446\n",
            "Area        0.169516\n",
            "%Area       0.085597\n",
            "Height      0.154655\n",
            "%Height     0.087130\n",
            "dtype: float64\n"
          ]
        }
      ]
    },
    {
      "cell_type": "code",
      "source": [
        "print(unextract_mean)\n",
        "print(extract_mean)\n",
        "print(recov)\n",
        "\n",
        "current_date = datetime.today().strftime('%Y-%m-%d')\n",
        "row_descriptors = ['Extracted values', 'Unextracted value', 'Recovery [%]']\n",
        "header_row1 = ['', 'Values', 'Error', 'Error%']\n",
        "header_row0 = ['Recovery analysis of Benzylbenzoate:', current_date, 'Till Vollmer']\n",
        "output_dir = '/content/drive/My Drive/Benzylbenzoate_recovery_output/Recovery_analysis_Benzylbenzoate_Data.csv'\n",
        "\n",
        "error_per_e = extract_sem['Area'] / extract_mean['Area']\n",
        "error_per_u = unextract_sem['Area'] / unextract_mean['Area']\n",
        "\n",
        "row_data1 = [row_descriptors[0], extract_mean['Area'], extract_sem['Area'], error_per_e]\n",
        "row_data2 = [row_descriptors[1], unextract_mean['Area'], unextract_sem['Area'], error_per_u]\n",
        "row_data3 = [row_descriptors[2], recov['Area'], error_recov['Area']]\n",
        "\n",
        "with open(output_dir, 'w', newline='') as csvfile:\n",
        "    writer = csv.writer(csvfile)\n",
        "    writer.writerow(header_row0)\n",
        "    writer.writerow(header_row1)\n",
        "    writer.writerow(row_data1)\n",
        "    writer.writerow(row_data2)\n",
        "    writer.writerow(row_data3)"
      ],
      "metadata": {
        "id": "rxe8gwe3v64M",
        "outputId": "c3f922f3-d96d-4ea1-f1e3-692d2f07da8c",
        "colab": {
          "base_uri": "https://localhost:8080/"
        }
      },
      "execution_count": 32,
      "outputs": [
        {
          "output_type": "stream",
          "name": "stdout",
          "text": [
            "Apex RT     2.080167e+01\n",
            "Start RT    2.074833e+01\n",
            "End RT      2.086000e+01\n",
            "Area        2.014236e+10\n",
            "%Area       1.000000e+02\n",
            "Height      9.187629e+09\n",
            "%Height     1.000000e+02\n",
            "dtype: float64\n",
            "Apex RT     2.080250e+01\n",
            "Start RT    2.074875e+01\n",
            "End RT      2.087000e+01\n",
            "Area        2.099581e+10\n",
            "%Area       5.701750e+01\n",
            "Height      9.543774e+09\n",
            "%Height     5.696000e+01\n",
            "dtype: float64\n",
            "Apex RT     100.004006\n",
            "Start RT    100.002008\n",
            "End RT      100.047939\n",
            "Area        104.237111\n",
            "%Area        57.017500\n",
            "Height      103.876356\n",
            "%Height      56.960000\n",
            "dtype: float64\n"
          ]
        }
      ]
    },
    {
      "cell_type": "code",
      "source": [],
      "metadata": {
        "id": "MIFXpMQ6O2Y-"
      },
      "execution_count": null,
      "outputs": []
    }
  ]
}