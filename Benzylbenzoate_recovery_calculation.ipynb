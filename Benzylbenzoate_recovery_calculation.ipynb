{
  "nbformat": 4,
  "nbformat_minor": 0,
  "metadata": {
    "colab": {
      "name": "CodingTask1.ipynb",
      "provenance": [],
      "include_colab_link": true
    },
    "kernelspec": {
      "name": "python3",
      "display_name": "Python 3"
    },
    "language_info": {
      "name": "python"
    }
  },
  "cells": [
    {
      "cell_type": "markdown",
      "metadata": {
        "id": "view-in-github",
        "colab_type": "text"
      },
      "source": [
        "<a href=\"https://colab.research.google.com/github/TillVollmer5/mass_spectroscopy/blob/main/Benzylbenzoate_recovery_calculation.ipynb\" target=\"_parent\"><img src=\"https://colab.research.google.com/assets/colab-badge.svg\" alt=\"Open In Colab\"/></a>"
      ]
    },
    {
      "cell_type": "markdown",
      "source": [
        "#Benzylbenzoate Recovery Analysis\n",
        "This notebook aims at investigating the recovery of the internal standard in the water extraction with n-hexan and a mixture of n-hexan and 5% diethyl ether. This is just a short script to quickly asses the recovery. As the equilibrium state of the benzylbenzoate between the organic phase and the liquid phase leads to a decrease in the signal of the chromatogram and falsifies the concentration calculation of the phthalates.\n",
        "\n",
        "All the input files are added to a google drive folder with the name *Benzylbenzoate_recovery_input*.\n",
        "\n"
      ],
      "metadata": {
        "id": "HlXOz_s2lyh_"
      }
    },
    {
      "cell_type": "code",
      "source": [
        "from google.colab import drive\n",
        "import glob\n",
        "import pandas as pd\n",
        "\n",
        "drive.mount('/content/drive', force_remount = True)"
      ],
      "metadata": {
        "id": "f0Rraq8-lx2k"
      },
      "execution_count": null,
      "outputs": []
    },
    {
      "cell_type": "code",
      "source": [
        "unextract_files_list = glob.glob(f'/content/drive/My Drive/Benzylbenzoate_recovery_input/BB_recov_*')\n",
        "unextract_df = pd.DataFrame()\n",
        "\n",
        "for unextract_file_path in unextract_files_list:\n",
        "  unextract_data = pd.read_csv(unextract_file_path)\n",
        "  unextract_df = unextract_df.appent(unextract_data)\n",
        "\n",
        "\n",
        "unectract_df = unextract_df.reset_index(drop=True)\n",
        "\n",
        "print(unextrac_df)"
      ],
      "metadata": {
        "id": "h-d5nd-v9zli"
      },
      "execution_count": null,
      "outputs": []
    },
    {
      "cell_type": "code",
      "source": [],
      "metadata": {
        "id": "E2yfer8rHUG8"
      },
      "execution_count": null,
      "outputs": []
    }
  ]
}